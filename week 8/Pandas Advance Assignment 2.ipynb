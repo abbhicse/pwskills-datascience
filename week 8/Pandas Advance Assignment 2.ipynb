{
 "cells": [
  {
   "cell_type": "markdown",
   "id": "8f9a5b8d",
   "metadata": {},
   "source": [
    "Consider following code to answer further questions:\n",
    "\n",
    "```python\n",
    "import pandas as pd\n",
    "\n",
    "course_name = [‘Data Science’, ‘Machine Learning’, ‘Big Data’, ‘Data Engineer’]\n",
    "\n",
    "duration = [2,3,6,4]\n",
    "\n",
    "df = pd.DataFrame(data = {‘course_name’ : course_name, ‘duration’ : duration})\n",
    "```\n",
    "\n",
    "**Q1. Write a code to print the data present in the second row of the dataframe, df.**"
   ]
  },
  {
   "cell_type": "code",
   "execution_count": 1,
   "id": "17cc5010",
   "metadata": {},
   "outputs": [
    {
     "name": "stdout",
     "output_type": "stream",
     "text": [
      "The Original DataFrame:\n",
      "        course_name  duration\n",
      "0      Data Science         2\n",
      "1  Machine Learning         3\n",
      "2          Big Data         6\n",
      "3     Data Engineer         4\n",
      "\n",
      "Specific Row of the DataFrame:\n",
      "course_name    Machine Learning\n",
      "duration                      3\n",
      "Name: 1, dtype: object\n"
     ]
    }
   ],
   "source": [
    "# Import the pandas library\n",
    "import pandas as pd\n",
    "\n",
    "# Define the course names and durations\n",
    "course_name = ['Data Science', 'Machine Learning', 'Big Data', 'Data Engineer']\n",
    "duration = [2, 3, 6, 4]\n",
    "\n",
    "# Create a DataFrame using the data\n",
    "df = pd.DataFrame(data={'course_name': course_name, 'duration': duration})\n",
    "\n",
    "# Show the oroginal data frame\n",
    "print(\"The Original DataFrame:\")\n",
    "print(df)\n",
    "\n",
    "# Print the data present in the second row of the DataFrame\n",
    "print(\"\\nSpecific Row of the DataFrame:\")\n",
    "print(df.iloc[1])"
   ]
  },
  {
   "cell_type": "markdown",
   "id": "54a858f1",
   "metadata": {},
   "source": [
    "**Q2. What is the difference between the functions loc and iloc in pandas.DataFrame?**"
   ]
  },
  {
   "cell_type": "markdown",
   "id": "e1e8ddb8",
   "metadata": {},
   "source": [
    "`The loc and iloc functions are used to access rows and columns in a pandas DataFrame.`\n",
    "\n",
    "- `loc` is label-based indexing, which means you can access data using row and column labels.\n",
    "- It takes two arguments: the row label(s) and column label(s).\n",
    "\n",
    "**Example: `df.loc[1, 'course_name']` would return the value in the `course_name` column of the row with label 1.**\n",
    "\n",
    "- `iloc` is integer-based indexing, which means you can access data using integer positions.\n",
    "- It takes two arguments: the row index(s) and column index(s).\n",
    "\n",
    "**Example: `df.iloc[1, 0]` would return the value in the first column (index 0) of the second row (index 1).**\n",
    "\n",
    "`Let's demonstrate these with some examples:`"
   ]
  },
  {
   "cell_type": "code",
   "execution_count": 2,
   "id": "933af5ea",
   "metadata": {},
   "outputs": [
    {
     "name": "stdout",
     "output_type": "stream",
     "text": [
      "The Original DataFrame:\n",
      "        course_name  duration\n",
      "0      Data Science         2\n",
      "1  Machine Learning         3\n",
      "2          Big Data         6\n",
      "3     Data Engineer         4\n",
      "\n",
      "Using loc:\n",
      "Row label 1, Column label 'course_name': Machine Learning\n",
      "\n",
      "Using iloc:\n",
      "Row index 1, Column index 0: Machine Learning\n"
     ]
    }
   ],
   "source": [
    "import pandas as pd\n",
    "\n",
    "# Define the course names and durations\n",
    "course_name = ['Data Science', 'Machine Learning', 'Big Data', 'Data Engineer']\n",
    "duration = [2, 3, 6, 4]\n",
    "\n",
    "# Create a DataFrame using the data\n",
    "df = pd.DataFrame(data={'course_name': course_name, 'duration': duration})\n",
    "\n",
    "# Show the original DataFrame\n",
    "print(\"The Original DataFrame:\")\n",
    "print(df)\n",
    "\n",
    "# Using `loc` to access data by labels\n",
    "print(\"\\nUsing loc:\")\n",
    "print(\"Row label 1, Column label 'course_name':\", df.loc[1, 'course_name'])\n",
    "\n",
    "# Using `iloc` to access data by integer positions\n",
    "print(\"\\nUsing iloc:\")\n",
    "print(\"Row index 1, Column index 0:\", df.iloc[1, 0])"
   ]
  },
  {
   "cell_type": "markdown",
   "id": "6a5090df",
   "metadata": {},
   "source": [
    "**Q3. Reindex the given dataframe using a variable, reindex = [3,0,1,2] and store it in the variable, new_df**\n",
    "\n",
    "**then find the output for both new_df.loc[2] and new_df.iloc[2].**\n",
    "\n",
    "**Did you observe any difference in both the outputs? If so then explain it.**"
   ]
  },
  {
   "cell_type": "code",
   "execution_count": 3,
   "id": "ca9bb2ef",
   "metadata": {},
   "outputs": [
    {
     "name": "stdout",
     "output_type": "stream",
     "text": [
      "The New DataFrame after Reindexing:\n",
      "        course_name  duration\n",
      "3     Data Engineer         4\n",
      "0      Data Science         2\n",
      "1  Machine Learning         3\n",
      "2          Big Data         6\n",
      "\n",
      "Using loc on new_df:\n",
      "Row label 2:\n",
      "course_name    Big Data\n",
      "duration              6\n",
      "Name: 2, dtype: object\n",
      "\n",
      "Using iloc on new_df:\n",
      "Row index 2:\n",
      "course_name    Machine Learning\n",
      "duration                      3\n",
      "Name: 1, dtype: object\n"
     ]
    }
   ],
   "source": [
    "# Reindex the original DataFrame using the provided reindex list\n",
    "reindex = [3, 0, 1, 2]\n",
    "new_df = df.reindex(reindex)\n",
    "\n",
    "# Show the new DataFrame after reindexing\n",
    "print(\"The New DataFrame after Reindexing:\")\n",
    "print(new_df)\n",
    "\n",
    "# Using `loc` to access data by labels on the new DataFrame\n",
    "print(\"\\nUsing loc on new_df:\")\n",
    "print(\"Row label 2:\")\n",
    "print(new_df.loc[2])\n",
    "\n",
    "# Using `iloc` to access data by integer positions on the new DataFrame\n",
    "print(\"\\nUsing iloc on new_df:\")\n",
    "print(\"Row index 2:\")\n",
    "print(new_df.iloc[2])"
   ]
  },
  {
   "cell_type": "markdown",
   "id": "b406b193",
   "metadata": {},
   "source": [
    "As we can see that `row label` and `row index` were indicating the same row in the dataframe befor `reindixing` happened. But, after the `reindexing`, both are now representating the different rows."
   ]
  },
  {
   "cell_type": "markdown",
   "id": "9aaa6be9",
   "metadata": {},
   "source": [
    "Consider the below code to answer further questions:\n",
    "    \n",
    "```python    \n",
    "import pandas as pd\n",
    "\n",
    "import numpy as np\n",
    "\n",
    "columns = ['column_1', 'column_2', 'column_3', 'column_4', 'column_5', 'column_6']\n",
    "\n",
    "indices = [1,2,3,4,5,6]\n",
    "\n",
    "#Creating a dataframe:\n",
    "\n",
    "df1 = pd.DataFrame(np.random.rand(6,6), columns = columns, index = indices)\n",
    "```"
   ]
  },
  {
   "cell_type": "markdown",
   "id": "69ce449d",
   "metadata": {},
   "source": [
    "**Q4. Write a code to find the following statistical measurements for the above dataframe df1:**\n",
    "\n",
    "- (i) mean of each and every column present in the dataframe.\n",
    "\n",
    "- (ii) standard deviation of column, ‘column_2’"
   ]
  },
  {
   "cell_type": "code",
   "execution_count": 4,
   "id": "0372f845",
   "metadata": {},
   "outputs": [
    {
     "name": "stdout",
     "output_type": "stream",
     "text": [
      "The Original DataFrame:\n",
      "   column_1  column_2  column_3  column_4  column_5  column_6\n",
      "1  0.435385  0.009734  0.046329  0.394831  0.015488  0.425474\n",
      "2  0.120879  0.354566  0.130904  0.981735  0.625431  0.355331\n",
      "3  0.313923  0.410048  0.878200  0.660090  0.887750  0.526135\n",
      "4  0.659587  0.714774  0.851629  0.835837  0.645602  0.632063\n",
      "5  0.633649  0.085785  0.031187  0.081968  0.843686  0.076000\n",
      "6  0.187069  0.281142  0.796101  0.153841  0.951863  0.415182\n",
      "\n",
      "Mean of each column:\n",
      "column_1    0.391749\n",
      "column_2    0.309341\n",
      "column_3    0.455725\n",
      "column_4    0.518051\n",
      "column_5    0.661637\n",
      "column_6    0.405031\n",
      "dtype: float64\n",
      "\n",
      "Standard deviation of 'column_2':\n",
      "0.2518331945710772\n"
     ]
    }
   ],
   "source": [
    "import pandas as pd\n",
    "import numpy as np\n",
    "\n",
    "columns = ['column_1', 'column_2', 'column_3', 'column_4', 'column_5', 'column_6']\n",
    "\n",
    "indices = [1,2,3,4,5,6]\n",
    "\n",
    "# Creating a dataframe:\n",
    "df1 = pd.DataFrame(np.random.rand(6,6), columns = columns, index = indices)\n",
    "# Show the dataframe\n",
    "print(\"The Original DataFrame:\")\n",
    "print(df1)\n",
    "\n",
    "# Calculate the mean of each column in the dataframe\n",
    "column_means = df1.mean()\n",
    "# Calculate the standard deviation of the column 'column_2'\n",
    "column_2_std = df1['column_2'].std()\n",
    "\n",
    "# Display the calculated values\n",
    "print(\"\\nMean of each column:\")\n",
    "print(column_means)\n",
    "print(\"\\nStandard deviation of 'column_2':\")\n",
    "print(column_2_std)"
   ]
  },
  {
   "cell_type": "markdown",
   "id": "7973a9ae",
   "metadata": {},
   "source": [
    "**Q5. Replace the data present in the second row of column, ‘column_2’ by a string variable then find the mean of column, column_2.**\n",
    "\n",
    "**If you are getting errors in executing it then explain why.**\n",
    "\n",
    "[Hint: To replace the data use df1.loc[] and equate this to string data of your choice.]"
   ]
  },
  {
   "cell_type": "code",
   "execution_count": 5,
   "id": "c775aee7",
   "metadata": {
    "scrolled": false
   },
   "outputs": [
    {
     "name": "stdout",
     "output_type": "stream",
     "text": [
      "The Original DataFrame:\n",
      "   column_1  column_2  column_3  column_4  column_5  column_6\n",
      "1  0.895428  0.802468  0.988377  0.328712  0.528218  0.384624\n",
      "2  0.807761  0.738058  0.836961  0.295213  0.785242  0.007323\n",
      "3  0.189980  0.094661  0.762125  0.117481  0.106297  0.670632\n",
      "4  0.595455  0.117634  0.277790  0.840321  0.879387  0.990479\n",
      "5  0.446363  0.585778  0.395286  0.223445  0.417792  0.368834\n",
      "6  0.821652  0.255639  0.185447  0.813056  0.834323  0.887044\n"
     ]
    },
    {
     "ename": "TypeError",
     "evalue": "unsupported operand type(s) for +: 'float' and 'str'",
     "output_type": "error",
     "traceback": [
      "\u001b[1;31m---------------------------------------------------------------------------\u001b[0m",
      "\u001b[1;31mTypeError\u001b[0m                                 Traceback (most recent call last)",
      "Cell \u001b[1;32mIn[5], line 18\u001b[0m\n\u001b[0;32m     15\u001b[0m df1\u001b[38;5;241m.\u001b[39mloc[\u001b[38;5;241m2\u001b[39m, \u001b[38;5;124m'\u001b[39m\u001b[38;5;124mcolumn_2\u001b[39m\u001b[38;5;124m'\u001b[39m] \u001b[38;5;241m=\u001b[39m \u001b[38;5;124m'\u001b[39m\u001b[38;5;124mstring_data\u001b[39m\u001b[38;5;124m'\u001b[39m\n\u001b[0;32m     17\u001b[0m \u001b[38;5;66;03m# Calculate the mean of 'column_2'\u001b[39;00m\n\u001b[1;32m---> 18\u001b[0m column_2_mean_after_replace \u001b[38;5;241m=\u001b[39m df1[\u001b[38;5;124m'\u001b[39m\u001b[38;5;124mcolumn_2\u001b[39m\u001b[38;5;124m'\u001b[39m]\u001b[38;5;241m.\u001b[39mmean()\n\u001b[0;32m     20\u001b[0m \u001b[38;5;66;03m# Display the updated dataframe\u001b[39;00m\n\u001b[0;32m     21\u001b[0m \u001b[38;5;28mprint\u001b[39m(\u001b[38;5;124m\"\u001b[39m\u001b[38;5;130;01m\\n\u001b[39;00m\u001b[38;5;124mUpdated DataFrame:\u001b[39m\u001b[38;5;124m\"\u001b[39m)\n",
      "File \u001b[1;32m~\\anaconda3\\Lib\\site-packages\\pandas\\core\\generic.py:11847\u001b[0m, in \u001b[0;36mNDFrame._add_numeric_operations.<locals>.mean\u001b[1;34m(self, axis, skipna, level, numeric_only, **kwargs)\u001b[0m\n\u001b[0;32m  11829\u001b[0m \u001b[38;5;129m@doc\u001b[39m(\n\u001b[0;32m  11830\u001b[0m     _num_doc,\n\u001b[0;32m  11831\u001b[0m     desc\u001b[38;5;241m=\u001b[39m\u001b[38;5;124m\"\u001b[39m\u001b[38;5;124mReturn the mean of the values over the requested axis.\u001b[39m\u001b[38;5;124m\"\u001b[39m,\n\u001b[1;32m   (...)\u001b[0m\n\u001b[0;32m  11845\u001b[0m     \u001b[38;5;241m*\u001b[39m\u001b[38;5;241m*\u001b[39mkwargs,\n\u001b[0;32m  11846\u001b[0m ):\n\u001b[1;32m> 11847\u001b[0m     \u001b[38;5;28;01mreturn\u001b[39;00m NDFrame\u001b[38;5;241m.\u001b[39mmean(\u001b[38;5;28mself\u001b[39m, axis, skipna, level, numeric_only, \u001b[38;5;241m*\u001b[39m\u001b[38;5;241m*\u001b[39mkwargs)\n",
      "File \u001b[1;32m~\\anaconda3\\Lib\\site-packages\\pandas\\core\\generic.py:11401\u001b[0m, in \u001b[0;36mNDFrame.mean\u001b[1;34m(self, axis, skipna, level, numeric_only, **kwargs)\u001b[0m\n\u001b[0;32m  11393\u001b[0m \u001b[38;5;28;01mdef\u001b[39;00m \u001b[38;5;21mmean\u001b[39m(\n\u001b[0;32m  11394\u001b[0m     \u001b[38;5;28mself\u001b[39m,\n\u001b[0;32m  11395\u001b[0m     axis: Axis \u001b[38;5;241m|\u001b[39m \u001b[38;5;28;01mNone\u001b[39;00m \u001b[38;5;241m|\u001b[39m lib\u001b[38;5;241m.\u001b[39mNoDefault \u001b[38;5;241m=\u001b[39m lib\u001b[38;5;241m.\u001b[39mno_default,\n\u001b[1;32m   (...)\u001b[0m\n\u001b[0;32m  11399\u001b[0m     \u001b[38;5;241m*\u001b[39m\u001b[38;5;241m*\u001b[39mkwargs,\n\u001b[0;32m  11400\u001b[0m ) \u001b[38;5;241m-\u001b[39m\u001b[38;5;241m>\u001b[39m Series \u001b[38;5;241m|\u001b[39m \u001b[38;5;28mfloat\u001b[39m:\n\u001b[1;32m> 11401\u001b[0m     \u001b[38;5;28;01mreturn\u001b[39;00m \u001b[38;5;28mself\u001b[39m\u001b[38;5;241m.\u001b[39m_stat_function(\n\u001b[0;32m  11402\u001b[0m         \u001b[38;5;124m\"\u001b[39m\u001b[38;5;124mmean\u001b[39m\u001b[38;5;124m\"\u001b[39m, nanops\u001b[38;5;241m.\u001b[39mnanmean, axis, skipna, level, numeric_only, \u001b[38;5;241m*\u001b[39m\u001b[38;5;241m*\u001b[39mkwargs\n\u001b[0;32m  11403\u001b[0m     )\n",
      "File \u001b[1;32m~\\anaconda3\\Lib\\site-packages\\pandas\\core\\generic.py:11353\u001b[0m, in \u001b[0;36mNDFrame._stat_function\u001b[1;34m(self, name, func, axis, skipna, level, numeric_only, **kwargs)\u001b[0m\n\u001b[0;32m  11343\u001b[0m     warnings\u001b[38;5;241m.\u001b[39mwarn(\n\u001b[0;32m  11344\u001b[0m         \u001b[38;5;124m\"\u001b[39m\u001b[38;5;124mUsing the level keyword in DataFrame and Series aggregations is \u001b[39m\u001b[38;5;124m\"\u001b[39m\n\u001b[0;32m  11345\u001b[0m         \u001b[38;5;124m\"\u001b[39m\u001b[38;5;124mdeprecated and will be removed in a future version. Use groupby \u001b[39m\u001b[38;5;124m\"\u001b[39m\n\u001b[1;32m   (...)\u001b[0m\n\u001b[0;32m  11348\u001b[0m         stacklevel\u001b[38;5;241m=\u001b[39mfind_stack_level(),\n\u001b[0;32m  11349\u001b[0m     )\n\u001b[0;32m  11350\u001b[0m     \u001b[38;5;28;01mreturn\u001b[39;00m \u001b[38;5;28mself\u001b[39m\u001b[38;5;241m.\u001b[39m_agg_by_level(\n\u001b[0;32m  11351\u001b[0m         name, axis\u001b[38;5;241m=\u001b[39maxis, level\u001b[38;5;241m=\u001b[39mlevel, skipna\u001b[38;5;241m=\u001b[39mskipna, numeric_only\u001b[38;5;241m=\u001b[39mnumeric_only\n\u001b[0;32m  11352\u001b[0m     )\n\u001b[1;32m> 11353\u001b[0m \u001b[38;5;28;01mreturn\u001b[39;00m \u001b[38;5;28mself\u001b[39m\u001b[38;5;241m.\u001b[39m_reduce(\n\u001b[0;32m  11354\u001b[0m     func, name\u001b[38;5;241m=\u001b[39mname, axis\u001b[38;5;241m=\u001b[39maxis, skipna\u001b[38;5;241m=\u001b[39mskipna, numeric_only\u001b[38;5;241m=\u001b[39mnumeric_only\n\u001b[0;32m  11355\u001b[0m )\n",
      "File \u001b[1;32m~\\anaconda3\\Lib\\site-packages\\pandas\\core\\series.py:4816\u001b[0m, in \u001b[0;36mSeries._reduce\u001b[1;34m(self, op, name, axis, skipna, numeric_only, filter_type, **kwds)\u001b[0m\n\u001b[0;32m   4812\u001b[0m     \u001b[38;5;28;01mraise\u001b[39;00m \u001b[38;5;167;01mNotImplementedError\u001b[39;00m(\n\u001b[0;32m   4813\u001b[0m         \u001b[38;5;124mf\u001b[39m\u001b[38;5;124m\"\u001b[39m\u001b[38;5;124mSeries.\u001b[39m\u001b[38;5;132;01m{\u001b[39;00mname\u001b[38;5;132;01m}\u001b[39;00m\u001b[38;5;124m does not implement \u001b[39m\u001b[38;5;132;01m{\u001b[39;00mkwd_name\u001b[38;5;132;01m}\u001b[39;00m\u001b[38;5;124m.\u001b[39m\u001b[38;5;124m\"\u001b[39m\n\u001b[0;32m   4814\u001b[0m     )\n\u001b[0;32m   4815\u001b[0m \u001b[38;5;28;01mwith\u001b[39;00m np\u001b[38;5;241m.\u001b[39merrstate(\u001b[38;5;28mall\u001b[39m\u001b[38;5;241m=\u001b[39m\u001b[38;5;124m\"\u001b[39m\u001b[38;5;124mignore\u001b[39m\u001b[38;5;124m\"\u001b[39m):\n\u001b[1;32m-> 4816\u001b[0m     \u001b[38;5;28;01mreturn\u001b[39;00m op(delegate, skipna\u001b[38;5;241m=\u001b[39mskipna, \u001b[38;5;241m*\u001b[39m\u001b[38;5;241m*\u001b[39mkwds)\n",
      "File \u001b[1;32m~\\anaconda3\\Lib\\site-packages\\pandas\\core\\nanops.py:93\u001b[0m, in \u001b[0;36mdisallow.__call__.<locals>._f\u001b[1;34m(*args, **kwargs)\u001b[0m\n\u001b[0;32m     91\u001b[0m \u001b[38;5;28;01mtry\u001b[39;00m:\n\u001b[0;32m     92\u001b[0m     \u001b[38;5;28;01mwith\u001b[39;00m np\u001b[38;5;241m.\u001b[39merrstate(invalid\u001b[38;5;241m=\u001b[39m\u001b[38;5;124m\"\u001b[39m\u001b[38;5;124mignore\u001b[39m\u001b[38;5;124m\"\u001b[39m):\n\u001b[1;32m---> 93\u001b[0m         \u001b[38;5;28;01mreturn\u001b[39;00m f(\u001b[38;5;241m*\u001b[39margs, \u001b[38;5;241m*\u001b[39m\u001b[38;5;241m*\u001b[39mkwargs)\n\u001b[0;32m     94\u001b[0m \u001b[38;5;28;01mexcept\u001b[39;00m \u001b[38;5;167;01mValueError\u001b[39;00m \u001b[38;5;28;01mas\u001b[39;00m e:\n\u001b[0;32m     95\u001b[0m     \u001b[38;5;66;03m# we want to transform an object array\u001b[39;00m\n\u001b[0;32m     96\u001b[0m     \u001b[38;5;66;03m# ValueError message to the more typical TypeError\u001b[39;00m\n\u001b[0;32m     97\u001b[0m     \u001b[38;5;66;03m# e.g. this is normally a disallowed function on\u001b[39;00m\n\u001b[0;32m     98\u001b[0m     \u001b[38;5;66;03m# object arrays that contain strings\u001b[39;00m\n\u001b[0;32m     99\u001b[0m     \u001b[38;5;28;01mif\u001b[39;00m is_object_dtype(args[\u001b[38;5;241m0\u001b[39m]):\n",
      "File \u001b[1;32m~\\anaconda3\\Lib\\site-packages\\pandas\\core\\nanops.py:155\u001b[0m, in \u001b[0;36mbottleneck_switch.__call__.<locals>.f\u001b[1;34m(values, axis, skipna, **kwds)\u001b[0m\n\u001b[0;32m    153\u001b[0m         result \u001b[38;5;241m=\u001b[39m alt(values, axis\u001b[38;5;241m=\u001b[39maxis, skipna\u001b[38;5;241m=\u001b[39mskipna, \u001b[38;5;241m*\u001b[39m\u001b[38;5;241m*\u001b[39mkwds)\n\u001b[0;32m    154\u001b[0m \u001b[38;5;28;01melse\u001b[39;00m:\n\u001b[1;32m--> 155\u001b[0m     result \u001b[38;5;241m=\u001b[39m alt(values, axis\u001b[38;5;241m=\u001b[39maxis, skipna\u001b[38;5;241m=\u001b[39mskipna, \u001b[38;5;241m*\u001b[39m\u001b[38;5;241m*\u001b[39mkwds)\n\u001b[0;32m    157\u001b[0m \u001b[38;5;28;01mreturn\u001b[39;00m result\n",
      "File \u001b[1;32m~\\anaconda3\\Lib\\site-packages\\pandas\\core\\nanops.py:418\u001b[0m, in \u001b[0;36m_datetimelike_compat.<locals>.new_func\u001b[1;34m(values, axis, skipna, mask, **kwargs)\u001b[0m\n\u001b[0;32m    415\u001b[0m \u001b[38;5;28;01mif\u001b[39;00m datetimelike \u001b[38;5;129;01mand\u001b[39;00m mask \u001b[38;5;129;01mis\u001b[39;00m \u001b[38;5;28;01mNone\u001b[39;00m:\n\u001b[0;32m    416\u001b[0m     mask \u001b[38;5;241m=\u001b[39m isna(values)\n\u001b[1;32m--> 418\u001b[0m result \u001b[38;5;241m=\u001b[39m func(values, axis\u001b[38;5;241m=\u001b[39maxis, skipna\u001b[38;5;241m=\u001b[39mskipna, mask\u001b[38;5;241m=\u001b[39mmask, \u001b[38;5;241m*\u001b[39m\u001b[38;5;241m*\u001b[39mkwargs)\n\u001b[0;32m    420\u001b[0m \u001b[38;5;28;01mif\u001b[39;00m datetimelike:\n\u001b[0;32m    421\u001b[0m     result \u001b[38;5;241m=\u001b[39m _wrap_results(result, orig_values\u001b[38;5;241m.\u001b[39mdtype, fill_value\u001b[38;5;241m=\u001b[39miNaT)\n",
      "File \u001b[1;32m~\\anaconda3\\Lib\\site-packages\\pandas\\core\\nanops.py:706\u001b[0m, in \u001b[0;36mnanmean\u001b[1;34m(values, axis, skipna, mask)\u001b[0m\n\u001b[0;32m    703\u001b[0m     dtype_count \u001b[38;5;241m=\u001b[39m dtype\n\u001b[0;32m    705\u001b[0m count \u001b[38;5;241m=\u001b[39m _get_counts(values\u001b[38;5;241m.\u001b[39mshape, mask, axis, dtype\u001b[38;5;241m=\u001b[39mdtype_count)\n\u001b[1;32m--> 706\u001b[0m the_sum \u001b[38;5;241m=\u001b[39m _ensure_numeric(values\u001b[38;5;241m.\u001b[39msum(axis, dtype\u001b[38;5;241m=\u001b[39mdtype_sum))\n\u001b[0;32m    708\u001b[0m \u001b[38;5;28;01mif\u001b[39;00m axis \u001b[38;5;129;01mis\u001b[39;00m \u001b[38;5;129;01mnot\u001b[39;00m \u001b[38;5;28;01mNone\u001b[39;00m \u001b[38;5;129;01mand\u001b[39;00m \u001b[38;5;28mgetattr\u001b[39m(the_sum, \u001b[38;5;124m\"\u001b[39m\u001b[38;5;124mndim\u001b[39m\u001b[38;5;124m\"\u001b[39m, \u001b[38;5;28;01mFalse\u001b[39;00m):\n\u001b[0;32m    709\u001b[0m     count \u001b[38;5;241m=\u001b[39m cast(np\u001b[38;5;241m.\u001b[39mndarray, count)\n",
      "File \u001b[1;32m~\\AppData\\Roaming\\Python\\Python311\\site-packages\\numpy\\core\\_methods.py:49\u001b[0m, in \u001b[0;36m_sum\u001b[1;34m(a, axis, dtype, out, keepdims, initial, where)\u001b[0m\n\u001b[0;32m     47\u001b[0m \u001b[38;5;28;01mdef\u001b[39;00m \u001b[38;5;21m_sum\u001b[39m(a, axis\u001b[38;5;241m=\u001b[39m\u001b[38;5;28;01mNone\u001b[39;00m, dtype\u001b[38;5;241m=\u001b[39m\u001b[38;5;28;01mNone\u001b[39;00m, out\u001b[38;5;241m=\u001b[39m\u001b[38;5;28;01mNone\u001b[39;00m, keepdims\u001b[38;5;241m=\u001b[39m\u001b[38;5;28;01mFalse\u001b[39;00m,\n\u001b[0;32m     48\u001b[0m          initial\u001b[38;5;241m=\u001b[39m_NoValue, where\u001b[38;5;241m=\u001b[39m\u001b[38;5;28;01mTrue\u001b[39;00m):\n\u001b[1;32m---> 49\u001b[0m     \u001b[38;5;28;01mreturn\u001b[39;00m umr_sum(a, axis, dtype, out, keepdims, initial, where)\n",
      "\u001b[1;31mTypeError\u001b[0m: unsupported operand type(s) for +: 'float' and 'str'"
     ]
    }
   ],
   "source": [
    "import pandas as pd\n",
    "import numpy as np\n",
    "\n",
    "columns = ['column_1', 'column_2', 'column_3', 'column_4', 'column_5', 'column_6']\n",
    "\n",
    "indices = [1,2,3,4,5,6]\n",
    "\n",
    "# Creating a dataframe:\n",
    "df1 = pd.DataFrame(np.random.rand(6,6), columns = columns, index = indices)\n",
    "# Show the dataframe\n",
    "print(\"The Original DataFrame:\")\n",
    "print(df1)\n",
    "\n",
    "# Replacing the data in the second row of 'column_2' with a string variable\n",
    "df1.loc[2, 'column_2'] = 'string_data'\n",
    "\n",
    "# Calculate the mean of 'column_2'\n",
    "column_2_mean_after_replace = df1['column_2'].mean()\n",
    "\n",
    "# Display the updated dataframe\n",
    "print(\"\\nUpdated DataFrame:\")\n",
    "print(df1)\n",
    "\n",
    "# Display the mean of 'column_2' after the replacement\n",
    "print(\"\\nMean of 'column_2' after replacement:\", column_2_mean_after_replace)\n"
   ]
  },
  {
   "cell_type": "markdown",
   "id": "0cbaf56f",
   "metadata": {},
   "source": [
    "It seems like we are trying to replace the data in the second row of `column_2` with a `string` variable and then calculate the `mean` of `column_2.` However, we are encountering an `error` because the column contains a mix of `numeric` and `string` data, which prevents the `mean` calculation due to the data type mismatch.\n",
    "\n",
    "To fix this issue:\n",
    "\n",
    "- Replace the data in the second row of `column_2` with a `numeric` value or convert the entire column to a `numeric` type if it's appropriate.\n",
    "- Then, calculate the `mean` of `column_2` without any data type conflicts."
   ]
  },
  {
   "cell_type": "code",
   "execution_count": 6,
   "id": "f67a784a",
   "metadata": {},
   "outputs": [
    {
     "name": "stdout",
     "output_type": "stream",
     "text": [
      "The Original DataFrame:\n",
      "   column_1  column_2  column_3  column_4  column_5  column_6\n",
      "1  0.128066  0.377467  0.742791  0.261455  0.020294  0.539495\n",
      "2  0.232664  0.397072  0.629109  0.130122  0.571843  0.990426\n",
      "3  0.832684  0.933798  0.054547  0.449344  0.995715  0.023451\n",
      "4  0.469364  0.259262  0.420245  0.110121  0.998530  0.211855\n",
      "5  0.540204  0.495767  0.982708  0.658814  0.361946  0.250240\n",
      "6  0.552613  0.233825  0.645169  0.275000  0.656877  0.372672\n",
      "\n",
      "Updated DataFrame:\n",
      "   column_1   column_2  column_3  column_4  column_5  column_6\n",
      "1  0.128066   0.377467  0.742791  0.261455  0.020294  0.539495\n",
      "2  0.232664  42.000000  0.629109  0.130122  0.571843  0.990426\n",
      "3  0.832684   0.933798  0.054547  0.449344  0.995715  0.023451\n",
      "4  0.469364   0.259262  0.420245  0.110121  0.998530  0.211855\n",
      "5  0.540204   0.495767  0.982708  0.658814  0.361946  0.250240\n",
      "6  0.552613   0.233825  0.645169  0.275000  0.656877  0.372672\n",
      "\n",
      "Mean of 'column_2' after replacement: 7.383353167257828\n"
     ]
    }
   ],
   "source": [
    "import pandas as pd\n",
    "import numpy as np\n",
    "\n",
    "columns = ['column_1', 'column_2', 'column_3', 'column_4', 'column_5', 'column_6']\n",
    "\n",
    "indices = [1,2,3,4,5,6]\n",
    "\n",
    "# Creating a dataframe:\n",
    "df1 = pd.DataFrame(np.random.rand(6,6), columns=columns, index=indices)\n",
    "\n",
    "# Show the dataframe\n",
    "print(\"The Original DataFrame:\")\n",
    "print(df1)\n",
    "\n",
    "# Replace the data in the second row of 'column_2' with a numeric value\n",
    "df1.loc[2, 'column_2'] = 42  # Replace with your desired numeric value\n",
    "\n",
    "# Calculate the mean of 'column_2'\n",
    "column_2_mean_after_replace = df1['column_2'].mean()\n",
    "\n",
    "# Display the updated dataframe\n",
    "print(\"\\nUpdated DataFrame:\")\n",
    "print(df1)\n",
    "\n",
    "# Display the mean of 'column_2' after the replacement\n",
    "print(\"\\nMean of 'column_2' after replacement:\", column_2_mean_after_replace)\n"
   ]
  },
  {
   "cell_type": "markdown",
   "id": "eddb46b5",
   "metadata": {},
   "source": [
    "**Q6. What do you understand about the windows function in pandas and list the types of windows functions? Write a python code to give the examples of all the functions.**"
   ]
  },
  {
   "cell_type": "code",
   "execution_count": 7,
   "id": "ae579a60",
   "metadata": {},
   "outputs": [
    {
     "name": "stdout",
     "output_type": "stream",
     "text": [
      "   column_a  column_b  rolling_mean_column_a  rolling_sum_column_b  \\\n",
      "0         1        10                    NaN                   NaN   \n",
      "1         2        20                    1.5                   NaN   \n",
      "2         3        30                    2.5                  60.0   \n",
      "3         4        40                    3.5                  90.0   \n",
      "4         5        50                    4.5                 120.0   \n",
      "\n",
      "   exp_moving_avg_column_a  rolling_max_column_b  rolling_min_column_a  \n",
      "0                 1.000000                   NaN                   NaN  \n",
      "1                 1.750000                  20.0                   NaN  \n",
      "2                 2.615385                  30.0                   1.0  \n",
      "3                 3.550000                  40.0                   2.0  \n",
      "4                 4.520661                  50.0                   3.0  \n"
     ]
    }
   ],
   "source": [
    "import pandas as pd\n",
    "import numpy as np\n",
    "\n",
    "# Create a sample dataframe\n",
    "data = {'column_a': [1, 2, 3, 4, 5],\n",
    "        'column_b': [10, 20, 30, 40, 50]}\n",
    "df = pd.DataFrame(data)\n",
    "\n",
    "# Calculate the rolling mean using a window of size 2 for each element in column_a\n",
    "df['rolling_mean_column_a'] = df['column_a'].rolling(window=2).mean()\n",
    "\n",
    "# Calculate the rolling sum using a window of size 3 for each element in column_b\n",
    "df['rolling_sum_column_b'] = df['column_b'].rolling(window=3).sum()\n",
    "\n",
    "# Calculate the exponential moving average using a span of 2 for column_a\n",
    "df['exp_moving_avg_column_a'] = df['column_a'].ewm(span=2).mean()\n",
    "\n",
    "# Calculate the maximum value using a window of size 2 for column_b\n",
    "df['rolling_max_column_b'] = df['column_b'].rolling(window=2).max()\n",
    "\n",
    "# Calculate the minimum value using a window of size 3 for column_a\n",
    "df['rolling_min_column_a'] = df['column_a'].rolling(window=3).min()\n",
    "\n",
    "# Display the dataframe\n",
    "print(df)\n"
   ]
  },
  {
   "cell_type": "markdown",
   "id": "7269de90",
   "metadata": {},
   "source": [
    "**Calculating Rolling Mean:**\n",
    "- The rolling mean is calculated for `column_a` using a window of size 2. This means that for each element in `column_a`, the average of itself and the previous element (within the window of size 2) is computed.\n",
    "- The result is stored in a new column `rolling_mean_column_a.`\n",
    "\n",
    "**Calculating Rolling Sum:**\n",
    "- The rolling sum is calculated for `column_b` using a window of size 3. Similar to the rolling mean, the sum of the current element and the previous two elements (within the window of size 3) is computed.\n",
    "- The result is stored in a new column `rolling_sum_column_b.`\n",
    "\n",
    "**Calculating Exponential Moving Average (EMA):**\n",
    "- The exponential moving average (EMA) is calculated for `column_a` using a span of 2. The EMA gives more weight to recent data points. It's a type of rolling calculation where each value is calculated as a `weighted average` of the previous value and the current value, with a `higher` weight on the `current` value.\n",
    "- The result is stored in a new column `exp_moving_avg_column_a.`\n",
    "\n",
    "**Calculating Rolling Max and Min:**\n",
    "- The rolling maximum is calculated for `column_b` using a window of size 2, and the result is stored in `rolling_max_column_b.`\n",
    "- The rolling minimum is calculated for `column_a` using a window of size 3, and the result is stored in `rolling_min_column_a.`"
   ]
  },
  {
   "cell_type": "markdown",
   "id": "7a4c5d28",
   "metadata": {},
   "source": [
    "**Q7. Write a code to print only the current month and year at the time of answering this question.**\n",
    "\n",
    "[Hint: Use pandas.datetime function]"
   ]
  },
  {
   "cell_type": "code",
   "execution_count": 8,
   "id": "834613c6",
   "metadata": {},
   "outputs": [
    {
     "name": "stdout",
     "output_type": "stream",
     "text": [
      "Current month: 8\n",
      "Current year: 2023\n"
     ]
    },
    {
     "name": "stderr",
     "output_type": "stream",
     "text": [
      "C:\\Users\\Lenovo\\AppData\\Local\\Temp\\ipykernel_11496\\2900091969.py:4: FutureWarning: The pandas.datetime class is deprecated and will be removed from pandas in a future version. Import from datetime module instead.\n",
      "  current_datetime = pd.datetime.now()\n"
     ]
    }
   ],
   "source": [
    "import pandas as pd\n",
    "\n",
    "# Get the current date and time\n",
    "current_datetime = pd.datetime.now()\n",
    "\n",
    "# Extract the month and year from the current date\n",
    "current_month = current_datetime.month\n",
    "current_year = current_datetime.year\n",
    "\n",
    "# Print the current month and year\n",
    "print(\"Current month:\", current_month)\n",
    "print(\"Current year:\", current_year)"
   ]
  },
  {
   "cell_type": "markdown",
   "id": "336cb187",
   "metadata": {},
   "source": [
    "**Q8. Write a Python program that takes in two dates as input (in the format YYYY-MM-DD) and\n",
    "calculates the difference between them in days, hours, and minutes using Pandas time delta. The\n",
    "program should prompt the user to enter the dates and display the result.**"
   ]
  },
  {
   "cell_type": "code",
   "execution_count": 9,
   "id": "f6af0770",
   "metadata": {},
   "outputs": [
    {
     "name": "stdout",
     "output_type": "stream",
     "text": [
      "Enter the first date (YYYY-MM-DD): 2023-08-23\n",
      "Enter the second date (YYYY-MM-DD): 2023-08-27\n",
      "Difference: 4 days, 0 hours, 0 minutes\n"
     ]
    }
   ],
   "source": [
    "import pandas as pd\n",
    "\n",
    "# Prompt the user to enter two dates in the format YYYY-MM-DD\n",
    "date1_str = input(\"Enter the first date (YYYY-MM-DD): \")\n",
    "date2_str = input(\"Enter the second date (YYYY-MM-DD): \")\n",
    "\n",
    "# Convert the input strings to datetime objects\n",
    "date1 = pd.to_datetime(date1_str)\n",
    "date2 = pd.to_datetime(date2_str)\n",
    "\n",
    "# Calculate the time difference between the two dates\n",
    "time_difference = date2 - date1\n",
    "\n",
    "# Calculate the difference in days, hours, and minutes\n",
    "days = time_difference.days\n",
    "hours = time_difference.seconds // 3600  # 3600 seconds in an hour\n",
    "minutes = (time_difference.seconds % 3600) // 60  # 60 seconds in a minute\n",
    "\n",
    "# Display the result\n",
    "print(f\"Difference: {days} days, {hours} hours, {minutes} minutes\")"
   ]
  },
  {
   "cell_type": "markdown",
   "id": "21516f68",
   "metadata": {},
   "source": [
    "**Q9. Write a python program that reads a CSV file containing categorical data and converts a specified column to a categorical data type. The program should prompt the user to enter the file path, column name, and category order and then display the sorted data.**"
   ]
  },
  {
   "cell_type": "markdown",
   "id": "a492b5f9",
   "metadata": {},
   "source": [
    "In statistics, `categorical data` is a type of data that represents `groups` or `categories`. Unlike `numerical` data (Ex. age, marks etc) which consists of numbers and can be used for mathematical operations, `categorical` data includes `labels` or `names` that represent different groups. Categorical data is often `non-numeric` and can be divided into two main types: `nominal` and `ordinal.`\n",
    "\n",
    "`Nominal Data:` This type of categorical data represents categories with no inherent order or ranking. For example, colors (red, blue, green), types of fruits (apple, banana, orange) or genders(male, female) are nominal categories.\n",
    "\n",
    "`Ordinal Data:` This type of categorical data represents categories with a clear order or ranking. However, the difference between the categories is not well-defined. An example could be educational levels (high school, college, graduate) or priorities(low, medium, high) etc.\n",
    "\n",
    "`Now first create the CSV file containing the categorical data:`"
   ]
  },
  {
   "cell_type": "code",
   "execution_count": 10,
   "id": "7950fad0",
   "metadata": {},
   "outputs": [
    {
     "name": "stdout",
     "output_type": "stream",
     "text": [
      "CSV file './Data/categorical_data.csv' created successfully with categorical data.\n"
     ]
    }
   ],
   "source": [
    "import pandas as pd\n",
    "import os\n",
    "\n",
    "# Create a directory called 'data' if it doesn't exist\n",
    "if not os.path.exists('Data'):\n",
    "    os.makedirs('Data')\n",
    "\n",
    "# Define the data for the CSV file\n",
    "data = {\n",
    "    'Name': ['Alice', 'Bob', 'Charlie', 'David', 'Eve'],\n",
    "    'Gender': ['Female', 'Male', 'Male', 'Male', 'Female'],\n",
    "    'Age': [25, 32, 28, 22, 30]\n",
    "}\n",
    "\n",
    "# Create a DataFrame from the data\n",
    "df = pd.DataFrame(data)\n",
    "\n",
    "# Define the file path for the CSV file within the 'data' folder\n",
    "file_path = './Data/categorical_data.csv'\n",
    "\n",
    "# Save the DataFrame as a CSV file\n",
    "df.to_csv(file_path, index=False)\n",
    "\n",
    "# Print a message to indicate that the file has been created\n",
    "print(f\"CSV file '{file_path}' created successfully with categorical data.\")\n"
   ]
  },
  {
   "cell_type": "code",
   "execution_count": 11,
   "id": "5fd44ca7",
   "metadata": {},
   "outputs": [
    {
     "name": "stdout",
     "output_type": "stream",
     "text": [
      "Enter the file path: ./Data/categorical_data.csv\n",
      "Enter the column name to convert: Gender\n",
      "Enter the category order (comma-separated): Male,Female\n",
      "The Original Data:\n",
      "      Name  Gender  Age\n",
      "0    Alice  Female   25\n",
      "1      Bob    Male   32\n",
      "2  Charlie    Male   28\n",
      "3    David    Male   22\n",
      "4      Eve  Female   30\n",
      "\n",
      "The Sorted Data:\n",
      "      Name  Gender  Age\n",
      "1      Bob    Male   32\n",
      "2  Charlie    Male   28\n",
      "3    David    Male   22\n",
      "0    Alice  Female   25\n",
      "4      Eve  Female   30\n"
     ]
    }
   ],
   "source": [
    "import pandas as pd\n",
    "\n",
    "# Prompt the user to enter the file path\n",
    "file_path = input(\"Enter the file path: \")\n",
    "\n",
    "# Prompt the user to enter the column name to convert\n",
    "column_name = input(\"Enter the column name to convert: \")\n",
    "\n",
    "# Prompt the user to enter the category order\n",
    "category_order = input(\"Enter the category order (comma-separated): \")\n",
    "# This removes leading and trailing spaces\n",
    "category_order_list = [cat.strip() for cat in category_order.split(',')]  \n",
    "\n",
    "# Read the CSV file into a DataFrame\n",
    "data = pd.read_csv(file_path)\n",
    "print(\"The Original Data:\")\n",
    "print(data)\n",
    "\n",
    "# Convert the specified column to categorical data type with specified category order\n",
    "data[column_name] = pd.Categorical(data[column_name], categories=category_order_list, ordered=True)\n",
    "\n",
    "# Sort the data based on the categorical column\n",
    "sorted_data = data.sort_values(by=column_name)\n",
    "\n",
    "# Display the sorted data\n",
    "print(\"\\nThe Sorted Data:\")\n",
    "print(sorted_data)\n"
   ]
  },
  {
   "cell_type": "markdown",
   "id": "e98f7eae",
   "metadata": {},
   "source": [
    "**Q10. Write a python program that reads a CSV file containing sales data for different products and visualize the data using a stacked bar chart to show the sales of each product category over time. The program should prompt the user to enter the file path and display the chart.**"
   ]
  },
  {
   "cell_type": "code",
   "execution_count": 12,
   "id": "6e3e4675",
   "metadata": {},
   "outputs": [
    {
     "name": "stdout",
     "output_type": "stream",
     "text": [
      "CSV file './Data/sales_data.csv' created successfully with sales data.\n"
     ]
    }
   ],
   "source": [
    "import pandas as pd\n",
    "import os\n",
    "\n",
    "# Create a directory called 'Data' if it doesn't exist\n",
    "if not os.path.exists('Data'):\n",
    "    os.makedirs('Data')\n",
    "\n",
    "# Define the sales data for the CSV file\n",
    "sales_data = {\n",
    "    'Product': ['Product A', 'Product B', 'Product C', 'Product A', 'Product B'],\n",
    "    'Month': ['November', 'December', 'January', 'February', 'March'],\n",
    "    'Year': [2022, 2022, 2023, 2023, 2023],\n",
    "    'SalesAmount': [1000, 1500, 800, 1200, 2000]\n",
    "}\n",
    "\n",
    "# Create a DataFrame from the sales data\n",
    "df = pd.DataFrame(sales_data)\n",
    "\n",
    "# Define the file path for the CSV file within the 'Data' folder\n",
    "file_path = './Data/sales_data.csv'\n",
    "\n",
    "# Save the DataFrame as a CSV file\n",
    "df.to_csv(file_path, index=False)\n",
    "\n",
    "# Print a message to indicate that the file has been created\n",
    "print(f\"CSV file '{file_path}' created successfully with sales data.\")\n"
   ]
  },
  {
   "cell_type": "code",
   "execution_count": 13,
   "id": "95b30d9b",
   "metadata": {},
   "outputs": [
    {
     "name": "stdout",
     "output_type": "stream",
     "text": [
      "Enter the file path: ./Data/sales_data.csv\n",
      "The Data:\n",
      "     Product     Month  Year  SalesAmount\n",
      "0  Product A  November  2022         1000\n",
      "1  Product B  December  2022         1500\n",
      "2  Product C   January  2023          800\n",
      "3  Product A  February  2023         1200\n",
      "4  Product B     March  2023         2000\n"
     ]
    },
    {
     "data": {
      "image/png": "[encoded data removed]",
      "text/plain": [
       "<Figure size 1000x600 with 1 Axes>"
      ]
     },
     "metadata": {},
     "output_type": "display_data"
    }
   ],
   "source": [
    "import pandas as pd\n",
    "import matplotlib.pyplot as plt\n",
    "\n",
    "# Prompt the user to enter the file path\n",
    "file_path = input(\"Enter the file path: \")\n",
    "\n",
    "# Read the CSV file into a DataFrame\n",
    "data = pd.read_csv(file_path)\n",
    "\n",
    "# Display the data\n",
    "print(\"The Data:\")\n",
    "print(data)\n",
    "\n",
    "# Group the data by product category and sum the sales for each category\n",
    "category_sales = data.groupby('Product')['SalesAmount'].sum()\n",
    "\n",
    "# Plotting the stacked bar chart\n",
    "category_sales.plot(kind='bar', stacked=True, figsize=(10, 6))\n",
    "plt.title('Sales of Each Product Category Over Time')\n",
    "plt.xlabel('Product Category')\n",
    "plt.ylabel('Total Sales')\n",
    "plt.legend(title='Years')\n",
    "\n",
    "# Show the chart\n",
    "plt.show()"
   ]
  },
  {
   "cell_type": "markdown",
   "id": "8f842b8e",
   "metadata": {},
   "source": [
    "`To display the year and month values on the stacked bar chart, you can modify the code in the following way:`"
   ]
  },
  {
   "cell_type": "code",
   "execution_count": 14,
   "id": "53e249a3",
   "metadata": {},
   "outputs": [
    {
     "name": "stdout",
     "output_type": "stream",
     "text": [
      "Enter the file path: ./Data/sales_data.csv\n",
      "The Data:\n",
      "     Product     Month  Year  SalesAmount\n",
      "0  Product A  November  2022         1000\n",
      "1  Product B  December  2022         1500\n",
      "2  Product C   January  2023          800\n",
      "3  Product A  February  2023         1200\n",
      "4  Product B     March  2023         2000\n"
     ]
    },
    {
     "data": {
      "image/png": "[encoded data removed]",
      "text/plain": [
       "<Figure size 1000x600 with 1 Axes>"
      ]
     },
     "metadata": {},
     "output_type": "display_data"
    }
   ],
   "source": [
    "import pandas as pd\n",
    "import matplotlib.pyplot as plt\n",
    "\n",
    "# Prompt the user to enter the file path\n",
    "file_path = input(\"Enter the file path: \")\n",
    "\n",
    "# Read the CSV file into a DataFrame\n",
    "data = pd.read_csv(file_path)\n",
    "\n",
    "# Display the data\n",
    "print(\"The Data:\")\n",
    "print(data)\n",
    "\n",
    "# Group the data by both product category, year, and month, and sum the sales for each combination\n",
    "category_year_month_sales = data.groupby(['Product', 'Year', 'Month'])['SalesAmount'].sum().reset_index()\n",
    "\n",
    "# Pivot the data to create a new DataFrame with years as columns, months as index, and sales as values\n",
    "pivot_table = category_year_month_sales.pivot_table(index=['Product', 'Month'], columns='Year', values='SalesAmount', fill_value=0)\n",
    "\n",
    "# Plotting the stacked bar chart with months on the x-axis\n",
    "pivot_table.plot(kind='bar', stacked=True, figsize=(10, 6))\n",
    "plt.title('Sales of Each Product Category Over Time')\n",
    "plt.xlabel('Product Category and Month')\n",
    "plt.ylabel('Total Sales')\n",
    "plt.legend(title='Years')\n",
    "plt.xticks(rotation=45)  # Rotate x-axis labels for better visibility\n",
    "plt.show()\n"
   ]
  },
  {
   "cell_type": "markdown",
   "id": "3317a8a6",
   "metadata": {},
   "source": [
    "**Q11. You are given a CSV file containing student data that includes the student ID and their test score. Write a python program that reads a CSV file, calculates mean, median, and mode of the test scores, displays the results in a table.**\n",
    "\n",
    "`The program should do the following:`\n",
    "\n",
    "- Prompt the user to enter the file path of the CSV file containg the student data.\n",
    "- Read the CSV file into a Pandas DataFrame\n",
    "- Calculate the mean, median, and mode of the test scores using Pandas tools.\n",
    "- Display the mean, median, and mode in a table.\n",
    "\n",
    "`Assume the CSV file contains the folowing columns:`\n",
    "\n",
    "- Student ID: The ID of the student.\n",
    "- Test Score: The score of the student's test.\n",
    "\n",
    "**Example usage of the program:**\n",
    "\n",
    "`Enter the file path of the CSV file containg the student data: student_data.csv`\n",
    "\n",
    "```\n",
    "+--------+-------+\n",
    "|Statistic|Value |\n",
    "+---------+------+\n",
    "|Mean     |83.5  |\n",
    "|Median   |85.0  |\n",
    "|Mode     |85    |\n",
    "+---------+------+\n",
    "```\n",
    "\n",
    "`Assume that the CSV file student_data.csv contains the following data:`\n",
    "\n",
    "```\n",
    "Student ID Test Score\n",
    "1           85\n",
    "2           90\n",
    "3           80\n",
    "4           75\n",
    "5           85\n",
    "6           82\n",
    "7           78\n",
    "8           85\n",
    "9           90\n",
    "10          85\n",
    "```\n",
    "\n",
    "**The program should calculate the `mean`, `median`,and `mode` of the test scores and display the results in a table.** "
   ]
  },
  {
   "cell_type": "code",
   "execution_count": 15,
   "id": "28d93faa",
   "metadata": {},
   "outputs": [
    {
     "name": "stdout",
     "output_type": "stream",
     "text": [
      "CSV file './Data/students_data.csv' created successfully with students data.\n"
     ]
    }
   ],
   "source": [
    "import pandas as pd\n",
    "import os\n",
    "\n",
    "# Create a directory called 'Data' if it doesn't exist\n",
    "if not os.path.exists('Data'):\n",
    "    os.makedirs('Data')\n",
    "\n",
    "# Define the students' data for the CSV file\n",
    "students_data = {\n",
    "    'Student ID': [1, 2, 3, 4, 5, 6, 7, 8, 9, 10],\n",
    "    'Test Score': [85, 90, 80, 75, 85, 82, 78, 85, 90, 85]\n",
    "}\n",
    "\n",
    "# Create a DataFrame from the students' data\n",
    "df = pd.DataFrame(students_data)\n",
    "\n",
    "# Define the file path for the CSV file within the 'Data' folder\n",
    "file_path = './Data/students_data.csv'\n",
    "\n",
    "# Save the DataFrame as a CSV file\n",
    "df.to_csv(file_path, index=False)\n",
    "\n",
    "# Print a message to indicate that the file has been created\n",
    "print(f\"CSV file '{file_path}' created successfully with students data.\")\n"
   ]
  },
  {
   "cell_type": "code",
   "execution_count": 16,
   "id": "3426fc66",
   "metadata": {},
   "outputs": [
    {
     "name": "stdout",
     "output_type": "stream",
     "text": [
      "Enter the file path of the CSV file containing student data: ./Data/students_data.csv\n",
      "  Statistic Value\n",
      "0      Mean  83.5\n",
      "1    Median  85.0\n",
      "2      Mode    85\n"
     ]
    }
   ],
   "source": [
    "import pandas as pd\n",
    "\n",
    "# Prompt the user to enter the file path\n",
    "file_path = input(\"Enter the file path of the CSV file containing student data: \")\n",
    "\n",
    "# Read the CSV file into a DataFrame\n",
    "data = pd.read_csv(file_path)\n",
    "\n",
    "# Calculate mean, median, and mode of the test scores\n",
    "mean_score = data['Test Score'].mean()\n",
    "median_score = data['Test Score'].median()\n",
    "mode_scores = data['Test Score'].mode()\n",
    "\n",
    "# Convert mode values to a comma-separated string\n",
    "mode_str = ', '.join(map(str, mode_scores))\n",
    "\n",
    "# Create a DataFrame to display the results\n",
    "result_df = pd.DataFrame({\n",
    "    'Statistic': ['Mean', 'Median', 'Mode'],\n",
    "    'Value': [mean_score, median_score, mode_str]\n",
    "})\n",
    "\n",
    "# Display the results\n",
    "print(result_df)\n"
   ]
  },
  {
   "cell_type": "markdown",
   "id": "8ea99b91",
   "metadata": {},
   "source": [
    "To calculate also the `variance` and `standard deviation` of the test scores and display the results in a table."
   ]
  },
  {
   "cell_type": "code",
   "execution_count": 17,
   "id": "76b8602f",
   "metadata": {},
   "outputs": [
    {
     "name": "stdout",
     "output_type": "stream",
     "text": [
      "Enter the file path of the CSV file containing student data: ./Data/students_data.csv\n",
      "            Statistic      Value\n",
      "0                Mean       83.5\n",
      "1              Median       85.0\n",
      "2                Mode         85\n",
      "3            Variance  23.388889\n",
      "4  Standard Deviation   4.836206\n"
     ]
    }
   ],
   "source": [
    "import pandas as pd\n",
    "\n",
    "# Prompt the user to enter the file path\n",
    "file_path = input(\"Enter the file path of the CSV file containing student data: \")\n",
    "\n",
    "# Read the CSV file into a DataFrame\n",
    "data = pd.read_csv(file_path)\n",
    "\n",
    "# Calculate mean, median, mode, variance and standard deviation of the test scores\n",
    "mean_score = data['Test Score'].mean()\n",
    "median_score = data['Test Score'].median()\n",
    "mode_scores = data['Test Score'].mode()\n",
    "variance_score = data['Test Score'].var()\n",
    "std_deviation_score = data['Test Score'].std()\n",
    "\n",
    "# Convert mode values to a comma-separated string\n",
    "mode_str = ', '.join(map(str, mode_scores))\n",
    "\n",
    "# Create a DataFrame to display the results\n",
    "result_df = pd.DataFrame({\n",
    "    'Statistic': ['Mean', 'Median', 'Mode', 'Variance', 'Standard Deviation'],\n",
    "    'Value': [mean_score, median_score, mode_str, variance_score, std_deviation_score]\n",
    "})\n",
    "\n",
    "# Display the results\n",
    "print(result_df)\n"
   ]
  },
  {
   "cell_type": "markdown",
   "id": "d5df04e9",
   "metadata": {},
   "source": [
    "`We can also check these values using numpy:`  "
   ]
  },
  {
   "cell_type": "code",
   "execution_count": 18,
   "id": "721f03eb",
   "metadata": {},
   "outputs": [
    {
     "name": "stdout",
     "output_type": "stream",
     "text": [
      "            Statistic      Value\n",
      "0                Mean       83.5\n",
      "1              Median       85.0\n",
      "2                Mode         85\n",
      "3            Variance  23.388889\n",
      "4  Standard Deviation   4.836206\n"
     ]
    }
   ],
   "source": [
    "import pandas as pd\n",
    "import numpy as np\n",
    "\n",
    "# Provided data values\n",
    "data_values = [85, 90, 80, 75, 85, 82, 78, 85, 90, 85]\n",
    "\n",
    "# Calculate mean\n",
    "mean_value = np.mean(data_values)\n",
    "\n",
    "# Calculate median\n",
    "median_value = np.median(data_values)\n",
    "\n",
    "# Calculate mode\n",
    "mode_values = pd.Series(data_values).mode()\n",
    "mode_str = ', '.join(map(str, mode_values))\n",
    "\n",
    "# Calculate variance\n",
    "variance_value = np.var(data_values, ddof=1)  # Using ddof=0 for population variance\n",
    "\n",
    "# Calculate standard deviation\n",
    "std_deviation_value = np.std(data_values, ddof=1)  # Using ddof=0 for population std deviation\n",
    "\n",
    "# Create a DataFrame to display the results\n",
    "result_df = pd.DataFrame({\n",
    "    'Statistic': ['Mean', 'Median', 'Mode', 'Variance', 'Standard Deviation'],\n",
    "    'Value': [mean_value, median_value, mode_str, variance_value, std_deviation_value]\n",
    "})\n",
    "\n",
    "# Display the results\n",
    "print(result_df)\n"
   ]
  },
  {
   "cell_type": "markdown",
   "id": "e6a6691d",
   "metadata": {},
   "source": [
    "`We can see that our code using only pandas is correct.`"
   ]
  },
  {
   "cell_type": "code",
   "execution_count": null,
   "id": "cd00a897",
   "metadata": {},
   "outputs": [],
   "source": []
  }
 ],
 "metadata": {
  "kernelspec": {
   "display_name": "Python 3 (ipykernel)",
   "language": "python",
   "name": "python3"
  },
  "language_info": {
   "codemirror_mode": {
    "name": "ipython",
    "version": 3
   },
   "file_extension": ".py",
   "mimetype": "text/x-python",
   "name": "python",
   "nbconvert_exporter": "python",
   "pygments_lexer": "ipython3",
   "version": "3.11.3"
  },
  "toc": {
   "base_numbering": 1,
   "nav_menu": {},
   "number_sections": true,
   "sideBar": true,
   "skip_h1_title": false,
   "title_cell": "Table of Contents",
   "title_sidebar": "Contents",
   "toc_cell": false,
   "toc_position": {},
   "toc_section_display": true,
   "toc_window_display": false
  }
 },
 "nbformat": 4,
 "nbformat_minor": 5
}
