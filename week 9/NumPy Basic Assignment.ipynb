{
 "cells": [
  {
   "cell_type": "markdown",
   "id": "0a4133b5",
   "metadata": {},
   "source": [
    "**Consider the below code to answer further questions:**\n",
    "```python\n",
    "import numpy as np\n",
    "\n",
    "list_ = [ ‘1’ , ’2’ , ‘3’ , ‘4’ , ‘5’ ]\n",
    "\n",
    "array_list = np.array(object = list_)\n",
    "```\n",
    "\n",
    "**Q1. Is there any difference in the data type of variables list_ and array_list? If there is then write a code to print the data types of both the variables.**"
   ]
  },
  {
   "cell_type": "code",
   "execution_count": 1,
   "id": "087c2879",
   "metadata": {},
   "outputs": [
    {
     "name": "stdout",
     "output_type": "stream",
     "text": [
      "Data type of list_: <class 'list'>\n",
      "Data type of array_list: <class 'numpy.ndarray'>\n"
     ]
    }
   ],
   "source": [
    "import numpy as np\n",
    "\n",
    "# Create a list of strings\n",
    "list_ = ['1', '2', '3', '4', '5']\n",
    "\n",
    "# Convert the list to a numpy array\n",
    "array_list = np.array(object=list_)\n",
    "\n",
    "# Print the data types of the variables\n",
    "print(\"Data type of list_:\", type(list_))  # Output: Data type of list_: <class 'list'>\n",
    "print(\"Data type of array_list:\", type(array_list))  # Output: Data type of array_list: <class 'numpy.ndarray'>\n"
   ]
  },
  {
   "cell_type": "markdown",
   "id": "3452a790",
   "metadata": {},
   "source": [
    "**Q2. Write a code to print the data type of each and every element of both the variables list_ and arra_list.**"
   ]
  },
  {
   "cell_type": "code",
   "execution_count": 2,
   "id": "dd72ce3d",
   "metadata": {},
   "outputs": [
    {
     "name": "stdout",
     "output_type": "stream",
     "text": [
      "Data types of elements in list_:\n",
      "Element: 1, Data type: <class 'str'>\n",
      "Element: 2, Data type: <class 'str'>\n",
      "Element: 3, Data type: <class 'str'>\n",
      "Element: 4, Data type: <class 'str'>\n",
      "Element: 5, Data type: <class 'str'>\n",
      "\n",
      "Data types of elements in array_list:\n",
      "Element: 1, Data type: <class 'numpy.str_'>\n",
      "Element: 2, Data type: <class 'numpy.str_'>\n",
      "Element: 3, Data type: <class 'numpy.str_'>\n",
      "Element: 4, Data type: <class 'numpy.str_'>\n",
      "Element: 5, Data type: <class 'numpy.str_'>\n"
     ]
    }
   ],
   "source": [
    "import numpy as np\n",
    "\n",
    "# Create a list of strings\n",
    "list_ = ['1', '2', '3', '4', '5']\n",
    "\n",
    "# Convert the list to a numpy array\n",
    "array_list = np.array(object=list_)\n",
    "\n",
    "# Print the data type of each element in the list\n",
    "print(\"Data types of elements in list_:\")\n",
    "for item in list_:\n",
    "    print(f\"Element: {item}, Data type: {type(item)}\")\n",
    "\n",
    "# Print the data type of each element in the numpy array\n",
    "print(\"\\nData types of elements in array_list:\")\n",
    "for item in array_list:\n",
    "    print(f\"Element: {item}, Data type: {type(item)}\")\n"
   ]
  },
  {
   "cell_type": "markdown",
   "id": "fcfd64f1",
   "metadata": {},
   "source": [
    "**Q3. Considering the following changes in the variable, array_list:**\n",
    "\n",
    "`array_list = np.array(object = list_, dtype = int)`\n",
    "\n",
    "**Will there be any difference in the data type of the elements present in both the variables, `list_` and `array_list`? If so then print the data types of each and every element present in both the variables, `list_` and `array_list`.**"
   ]
  },
  {
   "cell_type": "code",
   "execution_count": 3,
   "id": "bf1213a7",
   "metadata": {},
   "outputs": [
    {
     "name": "stdout",
     "output_type": "stream",
     "text": [
      "Data types of elements in list_:\n",
      "Element: 1, Data type: <class 'str'>\n",
      "Element: 2, Data type: <class 'str'>\n",
      "Element: 3, Data type: <class 'str'>\n",
      "Element: 4, Data type: <class 'str'>\n",
      "Element: 5, Data type: <class 'str'>\n",
      "\n",
      "Data types of elements in array_list:\n",
      "Element: 1, Data type: <class 'numpy.int32'>\n",
      "Element: 2, Data type: <class 'numpy.int32'>\n",
      "Element: 3, Data type: <class 'numpy.int32'>\n",
      "Element: 4, Data type: <class 'numpy.int32'>\n",
      "Element: 5, Data type: <class 'numpy.int32'>\n"
     ]
    }
   ],
   "source": [
    "import numpy as np\n",
    "\n",
    "# Create a list of strings\n",
    "list_ = ['1', '2', '3', '4', '5']\n",
    "\n",
    "# Convert the list to a numpy array of integers\n",
    "# These changes ensure that the elements in array_list are of integer data type.\n",
    "array_list = np.array(object=list_, dtype=int)\n",
    "\n",
    "# Print the data types of elements in the list\n",
    "print(\"Data types of elements in list_:\")\n",
    "for item in list_:\n",
    "    print(f\"Element: {item}, Data type: {type(item)}\")\n",
    "\n",
    "# Print the data types of elements in the numpy array\n",
    "print(\"\\nData types of elements in array_list:\")\n",
    "for item in array_list:\n",
    "    print(f\"Element: {item}, Data type: {type(item)}\")\n"
   ]
  },
  {
   "cell_type": "markdown",
   "id": "16e1d02a",
   "metadata": {},
   "source": [
    "The data type of elements in the `list_` remains same `str` type. But, data type of elements in `array_list` becomes `numpy.int32` inplace of `numpy.str_`. "
   ]
  },
  {
   "cell_type": "markdown",
   "id": "dbba583d",
   "metadata": {},
   "source": [
    "**Consider the below code to answer further questions:**\n",
    "```python\n",
    "import numpy as np\n",
    "\n",
    "num_list = [ [ 1 , 2 , 3 ] , [ 4 , 5 , 6 ] ]\n",
    "\n",
    "num_array = np.array(object = num_list)\n",
    "```\n",
    "\n",
    "**Q4. Write a code to find the following characteristics of variable, num_array:**\n",
    "\n",
    "- (i) shape\n",
    "\n",
    "- (ii) size"
   ]
  },
  {
   "cell_type": "code",
   "execution_count": 6,
   "id": "6f239415",
   "metadata": {},
   "outputs": [
    {
     "name": "stdout",
     "output_type": "stream",
     "text": [
      "Given List:\n",
      "[[1 2 3]\n",
      " [4 5 6]]\n",
      "The shape of num_array is: (2, 3)\n",
      "The size of num_array is: 6\n"
     ]
    }
   ],
   "source": [
    "import numpy as np\n",
    "\n",
    "num_list = [[1, 2, 3], [4, 5, 6]]\n",
    "\n",
    "# Convert the list to a numpy array\n",
    "num_array = np.array(object=num_list)\n",
    "# print the list\n",
    "print(\"Given List:\")\n",
    "print(num_array)\n",
    "\n",
    "# (i) Calculate and print the shape of the array\n",
    "shape = num_array.shape\n",
    "print(f\"The shape of num_array is: {shape}\")\n",
    "\n",
    "# (ii) Calculate and print the size of the array\n",
    "size = num_array.size\n",
    "print(f\"The size of num_array is: {size}\")"
   ]
  },
  {
   "cell_type": "markdown",
   "id": "4e6db267",
   "metadata": {},
   "source": [
    "**Q5. Write a code to create numpy array of 3*3 matrix containing zeros only, using a numpy array creation function.**\n",
    "\n",
    "`[Hint: The size of the array will be 9 and the shape will be (3,3).]`"
   ]
  },
  {
   "cell_type": "code",
   "execution_count": 7,
   "id": "e0b67c9b",
   "metadata": {},
   "outputs": [
    {
     "name": "stdout",
     "output_type": "stream",
     "text": [
      "Zero Array:\n",
      "[[0. 0. 0.]\n",
      " [0. 0. 0.]\n",
      " [0. 0. 0.]]\n"
     ]
    }
   ],
   "source": [
    "import numpy as np\n",
    "\n",
    "# Create a numpy array of zeros with shape (3, 3)\n",
    "# This function creates a new array with the specified shape and fills it with zeros.\n",
    "zero_array = np.zeros(shape=(3, 3))\n",
    "\n",
    "# Print the created array\n",
    "print(\"Zero Array:\")\n",
    "print(zero_array)"
   ]
  },
  {
   "cell_type": "markdown",
   "id": "cc339e90",
   "metadata": {},
   "source": [
    "**Q6. Create an identity matrix of shape (5,5) using numpy functions?**\n",
    "\n",
    "`[Hint: An identity matrix is a matrix containing 1 diagonally and other elements will be 0.]`"
   ]
  },
  {
   "cell_type": "code",
   "execution_count": 8,
   "id": "ee25ace7",
   "metadata": {},
   "outputs": [
    {
     "name": "stdout",
     "output_type": "stream",
     "text": [
      "Identity Matrix:\n",
      "[[1. 0. 0. 0. 0.]\n",
      " [0. 1. 0. 0. 0.]\n",
      " [0. 0. 1. 0. 0.]\n",
      " [0. 0. 0. 1. 0.]\n",
      " [0. 0. 0. 0. 1.]]\n"
     ]
    }
   ],
   "source": [
    "import numpy as np\n",
    "\n",
    "# Create an identity matrix of shape (5, 5)\n",
    "# An identity matrix has ones along the main diagonal and zeros elsewhere.\n",
    "identity_matrix = np.identity(5)\n",
    "\n",
    "# Print the created identity matrix\n",
    "print(\"Identity Matrix:\")\n",
    "print(identity_matrix)"
   ]
  },
  {
   "cell_type": "code",
   "execution_count": null,
   "id": "8192b133",
   "metadata": {},
   "outputs": [],
   "source": []
  }
 ],
 "metadata": {
  "kernelspec": {
   "display_name": "Python 3 (ipykernel)",
   "language": "python",
   "name": "python3"
  },
  "language_info": {
   "codemirror_mode": {
    "name": "ipython",
    "version": 3
   },
   "file_extension": ".py",
   "mimetype": "text/x-python",
   "name": "python",
   "nbconvert_exporter": "python",
   "pygments_lexer": "ipython3",
   "version": "3.11.3"
  },
  "toc": {
   "base_numbering": 1,
   "nav_menu": {},
   "number_sections": true,
   "sideBar": true,
   "skip_h1_title": false,
   "title_cell": "Table of Contents",
   "title_sidebar": "Contents",
   "toc_cell": false,
   "toc_position": {},
   "toc_section_display": true,
   "toc_window_display": false
  }
 },
 "nbformat": 4,
 "nbformat_minor": 5
}
