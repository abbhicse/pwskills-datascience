{
 "cells": [
  {
   "cell_type": "markdown",
   "id": "08a417e7",
   "metadata": {},
   "source": [
    "**Q1. Explain Class and Object with respect to Object-Oriented Programming. Give a suitable example.**"
   ]
  },
  {
   "cell_type": "markdown",
   "id": "edd90443",
   "metadata": {},
   "source": [
    "The concept of `Class` and `Object` is fundamental in `Object-Oriented Programming (OOP).`\n",
    "\n",
    "A `class` is a `blueprint` or a `template` for `creating objects.` It defines the `properties (attributes)` and `behaviors (methods)` that `objects` of that `class` will have. It acts as a `container` for `data` and `functions.`\n",
    "\n",
    "An `object`, on the other hand, is an `instance` of a `class.` It represents a specific `entity` or a `real-world object.` `Objects` have their own `unique` `set` of `attribute` values and can perform `actions (methods)` defined in the `class.`\n",
    "\n",
    "Here's an example to illustrate this:"
   ]
  },
  {
   "cell_type": "code",
   "execution_count": 1,
   "id": "53395337",
   "metadata": {},
   "outputs": [
    {
     "name": "stdout",
     "output_type": "stream",
     "text": [
      "Toyota\n",
      "Accord\n",
      "Toyota engine is started.\n",
      "Honda engine of is stopped.\n"
     ]
    }
   ],
   "source": [
    "class Car:\n",
    "    def __init__(self, make, model, year):\n",
    "        self.make = make\n",
    "        self.model = model\n",
    "        self.year = year\n",
    "\n",
    "    def start_engine(self):\n",
    "        print(f\"{self.make} engine is started.\")\n",
    "\n",
    "    def stop_engine(self):\n",
    "        print(f\"{self.make} engine of is stopped.\")\n",
    "\n",
    "# Creating objects of the Car class\n",
    "car1 = Car(\"Toyota\", \"Camry\", 2022)\n",
    "car2 = Car(\"Honda\", \"Accord\", 2023)\n",
    "\n",
    "# Accessing object attributes\n",
    "print(car1.make)  # Output: Toyota\n",
    "print(car2.model)  # Output: Accord\n",
    "\n",
    "# Invoking object methods\n",
    "car1.start_engine()  # Output: Toyota engine is started.\n",
    "car2.stop_engine()  # Output: Honda engine is stopped."
   ]
  },
  {
   "cell_type": "markdown",
   "id": "69bf9ee7",
   "metadata": {},
   "source": [
    "**Q2. Name the four pillars of OOPs.**"
   ]
  },
  {
   "cell_type": "markdown",
   "id": "04565e80",
   "metadata": {},
   "source": [
    "The four pillars of Object-Oriented Programming (OOP) are:\n",
    "\n",
    "-`Encapsulation:` It is the process of bundling `data` and `methods` together in a class, hiding the `internal details` of an `object` and providing a `public interface` to interact with it. `Encapsulation` helps in achieving data `abstraction` and `data security.`"
   ]
  },
  {
   "cell_type": "code",
   "execution_count": 2,
   "id": "c0bb2026",
   "metadata": {},
   "outputs": [
    {
     "name": "stdout",
     "output_type": "stream",
     "text": [
      "Insufficient funds!\n"
     ]
    }
   ],
   "source": [
    "# Encapsulation example\n",
    "class BankAccount:\n",
    "    def __init__(self, account_number, balance):\n",
    "        self.account_number = account_number\n",
    "        self.balance = balance\n",
    "\n",
    "    def deposit(self, amount):\n",
    "        self.balance += amount\n",
    "\n",
    "    def withdraw(self, amount):\n",
    "        if amount <= self.balance:\n",
    "            self.balance -= amount\n",
    "        else:\n",
    "            print(\"Insufficient funds!\")\n",
    "            \n",
    "BA = BankAccount(2455678871, 250)\n",
    "BA.deposit(150)\n",
    "BA.withdraw(500)"
   ]
  },
  {
   "cell_type": "markdown",
   "id": "7bf1c233",
   "metadata": {},
   "source": [
    "-`Inheritance:` It is a mechanism that allows a class to inherit the `properties` and `methods` of another class, called the `parent` or `base class`. `Inheritance` promotes code `reusability` and establishes a `hierarchical relationship` between `classes.`"
   ]
  },
  {
   "cell_type": "code",
   "execution_count": 3,
   "id": "f674fc27",
   "metadata": {},
   "outputs": [],
   "source": [
    "# Inheritance\n",
    "# Example:\n",
    "class Animal:\n",
    "    def __init__(self, name):\n",
    "        self.name = name\n",
    "\n",
    "    def sound(self):\n",
    "        pass\n",
    "\n",
    "class Dog(Animal):\n",
    "    def sound(self):\n",
    "        print(\"Woof!\")"
   ]
  },
  {
   "cell_type": "markdown",
   "id": "0b705ef9",
   "metadata": {},
   "source": [
    "- `Polymorphism:` It refers to the ability of `objects` of `different classes` to respond to the `same message` or `method call` in different ways. `Polymorphism` allows objects to be processed `uniformly`, even if their specific `types` are unknown at `compile time.`"
   ]
  },
  {
   "cell_type": "code",
   "execution_count": 4,
   "id": "d9c48bda",
   "metadata": {},
   "outputs": [
    {
     "name": "stdout",
     "output_type": "stream",
     "text": [
      "Woof!\n"
     ]
    }
   ],
   "source": [
    "# Polymorphism\n",
    "# Example:\n",
    "def make_sound(animal):\n",
    "    animal.sound()\n",
    "\n",
    "dog = Dog(\"Fido\")\n",
    "make_sound(dog)  # Output: \"Woof!\""
   ]
  },
  {
   "cell_type": "markdown",
   "id": "b935f55b",
   "metadata": {},
   "source": [
    "-`Abstraction:` It is the process of simplifying `complex systems` by `breaking` them down into `smaller`, more `manageable` components. In OOP, `abstraction` involves creating `abstract` classes and `interfaces` that define a common `structure` and `behavior` for a `group` of `related classes.`"
   ]
  },
  {
   "cell_type": "code",
   "execution_count": 5,
   "id": "2d2aa041",
   "metadata": {},
   "outputs": [
    {
     "data": {
      "text/plain": [
       "750"
      ]
     },
     "execution_count": 5,
     "metadata": {},
     "output_type": "execute_result"
    }
   ],
   "source": [
    "# Abstraction\n",
    "# Example:\n",
    "from abc import ABC, abstractmethod\n",
    "\n",
    "class Shape(ABC):\n",
    "    @abstractmethod\n",
    "    def area(self):\n",
    "        pass\n",
    "\n",
    "class Rectangle(Shape):\n",
    "    def __init__(self, length, width):\n",
    "        self.length = length\n",
    "        self.width = width\n",
    "\n",
    "    def area(self):\n",
    "        return self.length * self.width\n",
    "\n",
    "RC = Rectangle(25, 30)\n",
    "RC.area()"
   ]
  },
  {
   "cell_type": "markdown",
   "id": "6ec1699c",
   "metadata": {},
   "source": [
    "**Q3. Explain why the __init__() function is used. Give a suitable example.**"
   ]
  },
  {
   "cell_type": "markdown",
   "id": "d56b9fa0",
   "metadata": {},
   "source": [
    "The `__init__()` function is used as a `constructor` in `Python.` It is `automatically` called when an `object` is created from a `class` and it `initializes` the `object's attributes`. It allows you to define the `initial` `state` of an `object` and set its `properties.`\n",
    "\n",
    "Here's an example to illustrate its usage:"
   ]
  },
  {
   "cell_type": "code",
   "execution_count": 6,
   "id": "a682e4ec",
   "metadata": {},
   "outputs": [
    {
     "name": "stdout",
     "output_type": "stream",
     "text": [
      "Brand: Tesla\n",
      "Model: Model S\n",
      "Year: 2022\n"
     ]
    }
   ],
   "source": [
    "class Car:\n",
    "    def __init__(self, brand, model, year):\n",
    "        self.brand = brand\n",
    "        self.model = model\n",
    "        self.year = year\n",
    "\n",
    "    def display_info(self):\n",
    "        print(f\"Brand: {self.brand}\")\n",
    "        print(f\"Model: {self.model}\")\n",
    "        print(f\"Year: {self.year}\")\n",
    "\n",
    "my_car = Car(\"Tesla\", \"Model S\", 2022)\n",
    "my_car.display_info()"
   ]
  },
  {
   "cell_type": "markdown",
   "id": "6fc3cd59",
   "metadata": {},
   "source": [
    "In this example, the `__init__()` function is used to `initialize` the attributes `brand`, `model`, and `year` of a `Car` object. The function is `automatically` called when `my_car` is created, and it sets the `initial values` for the `attributes.` The `display_info()` method then `displays` the information about the car."
   ]
  },
  {
   "cell_type": "markdown",
   "id": "f4fbfa54",
   "metadata": {},
   "source": [
    "**Q4. Why self is used in OOPs?**"
   ]
  },
  {
   "cell_type": "markdown",
   "id": "5f8ab685",
   "metadata": {},
   "source": [
    "The `self` parameter is used in `object-oriented programming (OOP)` to refer to the `instance` of a `class.` It allows you to `access` the `attributes` and `methods` of an `object` within the `class.` By convention, `self` is the `first parameter` of `instance methods` in `Python.`\n",
    "\n",
    "Here's an example to demonstrate the usage of self in a class method:"
   ]
  },
  {
   "cell_type": "code",
   "execution_count": 7,
   "id": "f9965afb",
   "metadata": {},
   "outputs": [
    {
     "name": "stdout",
     "output_type": "stream",
     "text": [
      "My name is Alice and I am 25 years old.\n"
     ]
    }
   ],
   "source": [
    "class Person:\n",
    "    def __init__(self, name, age):\n",
    "        self.name = name\n",
    "        self.age = age\n",
    "\n",
    "    def introduce(self):\n",
    "        print(f\"My name is {self.name} and I am {self.age} years old.\")\n",
    "\n",
    "person = Person(\"Alice\", 25)\n",
    "person.introduce()"
   ]
  },
  {
   "cell_type": "markdown",
   "id": "45df43a0",
   "metadata": {},
   "source": [
    "In this example, `self` is used as the `first parameter` in the `introduce()` method. Within the method, `self.name` and `self.age` refer to the `name` and `age` attributes of the `person object` respectively. The `self parameter` allows us to `access` and `manipulate` the `object's own data.`"
   ]
  },
  {
   "cell_type": "markdown",
   "id": "e14e374d",
   "metadata": {},
   "source": [
    "**Q5. What is inheritance? Give an example for each type of inheritance.**"
   ]
  },
  {
   "cell_type": "markdown",
   "id": "f79c61fb",
   "metadata": {},
   "source": [
    "Inheritance is a fundamental concept in object-oriented programming (OOP) that allows a class to inherit properties and methods from another class. The class that inherits is called the \"subclass\" or \"derived class,\" and the class from which it inherits is called the \"superclass\" or \"base class.\"\n",
    "\n",
    "Here are examples of different types of inheritance:\n",
    "\n",
    "- `Single Inheritance:` In this type, a `subclass` `car` inherits from a `single superclass` `Vehivle.`"
   ]
  },
  {
   "cell_type": "code",
   "execution_count": 8,
   "id": "4474da78",
   "metadata": {},
   "outputs": [
    {
     "name": "stdout",
     "output_type": "stream",
     "text": [
      "Brand: Ford\n",
      "Model: Mustang\n"
     ]
    }
   ],
   "source": [
    "class Vehicle:\n",
    "    def __init__(self, brand):\n",
    "        self.brand = brand\n",
    "\n",
    "    def display_info(self):\n",
    "        print(f\"Brand: {self.brand}\")\n",
    "\n",
    "class Car(Vehicle):\n",
    "    def __init__(self, brand, model):\n",
    "        super().__init__(brand)\n",
    "        self.model = model\n",
    "\n",
    "    def display_info(self):\n",
    "        super().display_info()\n",
    "        print(f\"Model: {self.model}\")\n",
    "\n",
    "my_car = Car(\"Ford\", \"Mustang\")\n",
    "my_car.display_info()"
   ]
  },
  {
   "cell_type": "markdown",
   "id": "c8299f33",
   "metadata": {},
   "source": [
    "- `Multiple Inheritance:` In this type, a `subclass` `Bird` inherits from multiple superclasses like `Animal` and `Flyable.`"
   ]
  },
  {
   "cell_type": "code",
   "execution_count": 9,
   "id": "e9b87792",
   "metadata": {},
   "outputs": [
    {
     "name": "stdout",
     "output_type": "stream",
     "text": [
      "Eating...\n",
      "Flying...\n"
     ]
    }
   ],
   "source": [
    "class Animal:\n",
    "    def eat(self):\n",
    "        print(\"Eating...\")\n",
    "\n",
    "class Flyable:\n",
    "    def fly(self):\n",
    "        print(\"Flying...\")\n",
    "\n",
    "class Bird(Animal, Flyable):\n",
    "    pass\n",
    "\n",
    "my_bird = Bird()\n",
    "my_bird.eat()\n",
    "my_bird.fly()\n"
   ]
  },
  {
   "cell_type": "markdown",
   "id": "92dc1cc1",
   "metadata": {},
   "source": [
    "- `Multilevel Inheritance:` In this type, a `subclass` `Dog` inherits from a subclass `Mammal` which inherits from another subclass `Animal`."
   ]
  },
  {
   "cell_type": "code",
   "execution_count": 10,
   "id": "74eab6eb",
   "metadata": {},
   "outputs": [
    {
     "name": "stdout",
     "output_type": "stream",
     "text": [
      "Breathing...\n",
      "Feeding milk...\n",
      "Barking...\n"
     ]
    }
   ],
   "source": [
    "class Animal:\n",
    "    def breathe(self):\n",
    "        print(\"Breathing...\")\n",
    "\n",
    "class Mammal(Animal):\n",
    "    def feed_milk(self):\n",
    "        print(\"Feeding milk...\")\n",
    "\n",
    "class Dog(Mammal):\n",
    "    def bark(self):\n",
    "        print(\"Barking...\")\n",
    "\n",
    "my_dog = Dog()\n",
    "my_dog.breathe()\n",
    "my_dog.feed_milk()\n",
    "my_dog.bark()\n"
   ]
  },
  {
   "cell_type": "code",
   "execution_count": null,
   "id": "cbe4eaa3",
   "metadata": {},
   "outputs": [],
   "source": []
  }
 ],
 "metadata": {
  "kernelspec": {
   "display_name": "Python 3 (ipykernel)",
   "language": "python",
   "name": "python3"
  },
  "language_info": {
   "codemirror_mode": {
    "name": "ipython",
    "version": 3
   },
   "file_extension": ".py",
   "mimetype": "text/x-python",
   "name": "python",
   "nbconvert_exporter": "python",
   "pygments_lexer": "ipython3",
   "version": "3.9.12"
  },
  "toc": {
   "base_numbering": 1,
   "nav_menu": {},
   "number_sections": true,
   "sideBar": true,
   "skip_h1_title": false,
   "title_cell": "Table of Contents",
   "title_sidebar": "Contents",
   "toc_cell": false,
   "toc_position": {},
   "toc_section_display": true,
   "toc_window_display": false
  }
 },
 "nbformat": 4,
 "nbformat_minor": 5
}
