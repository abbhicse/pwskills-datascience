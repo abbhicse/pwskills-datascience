{
 "cells": [
  {
   "cell_type": "markdown",
   "id": "08e26d05",
   "metadata": {},
   "source": [
    "**Q1, Create a vehicle class with an init method having instance variables as name_of_vehicle, max_speed\n",
    "and average_of_vehicle.**"
   ]
  },
  {
   "cell_type": "code",
   "execution_count": 1,
   "id": "a45fba24",
   "metadata": {},
   "outputs": [],
   "source": [
    "class Vehicle:\n",
    "    def __init__(self, name_of_vehicle, max_speed, average_of_vehicle):\n",
    "        self.name_of_vehicle = name_of_vehicle\n",
    "        self.max_speed = max_speed\n",
    "        self.average_of_vehicle = average_of_vehicle\n"
   ]
  },
  {
   "cell_type": "markdown",
   "id": "34221af6",
   "metadata": {},
   "source": [
    "I have completed the code by creating a `Vehicle clas`s with an `__init__ `method that takes `name_of_vehicle`, `max_speed`, and `average_of_vehicle` as `parameters` and `initializes` the `instance` variables accordingly."
   ]
  },
  {
   "cell_type": "markdown",
   "id": "0e6166fd",
   "metadata": {},
   "source": [
    "**Q2. Create a child class car from the vehicle class created in Que 1, which will inherit the vehicle class.\n",
    "Create a method named seating_capacity which takes capacity as an argument and returns the name of\n",
    "the vehicle and its seating capacity.**"
   ]
  },
  {
   "cell_type": "code",
   "execution_count": 2,
   "id": "cb3696ce",
   "metadata": {},
   "outputs": [
    {
     "name": "stdout",
     "output_type": "stream",
     "text": [
      "Toyota Camry has a seating capacity of 5\n"
     ]
    }
   ],
   "source": [
    "class Car(Vehicle):\n",
    "    def seating_capacity(self, capacity):\n",
    "        return f\"{self.name_of_vehicle} has a seating capacity of {capacity}\"\n",
    "\n",
    "# Testing the code\n",
    "car = Car(\"Toyota Camry\", 200, 30)\n",
    "print(car.seating_capacity(5))"
   ]
  },
  {
   "cell_type": "markdown",
   "id": "0542f8e0",
   "metadata": {},
   "source": [
    "Summary of the new code:\n",
    "\n",
    "- Created a `child` class `Car` that inherits from the `Vehicle` class.\n",
    "- Implemented the `seating_capacity` method in the `Car` class.\n",
    "- Provided a `test` case to demonstrate the usage of the `seating_capacity` method with a capacity 0f `5`."
   ]
  },
  {
   "cell_type": "markdown",
   "id": "eca5d19d",
   "metadata": {},
   "source": [
    "**Q3. What is multiple inheritance? Write a python code to demonstrate multiple inheritance.**"
   ]
  },
  {
   "cell_type": "markdown",
   "id": "d839c6bb",
   "metadata": {},
   "source": [
    "`Multiple inheritance` is a feature in `object-oriented programming` where a class can `inherit` `attributes` and `methods` from `multiple parent` classes. It allows a `derived` class to `inherit` from `two` or `more base` classes.\n",
    "\n",
    "Here's an example code demonstrating `multiple inheritance:`"
   ]
  },
  {
   "cell_type": "code",
   "execution_count": 3,
   "id": "7dd7ce65",
   "metadata": {},
   "outputs": [
    {
     "name": "stdout",
     "output_type": "stream",
     "text": [
      "Sparrow\n",
      "Chirp\n",
      "Yes, it can fly\n"
     ]
    }
   ],
   "source": [
    "# Parent class 1\n",
    "class Animal:\n",
    "    def __init__(self, name):\n",
    "        self.name = name\n",
    "\n",
    "    def speak(self):\n",
    "        pass\n",
    "\n",
    "# Parent class 2\n",
    "class Flyable:\n",
    "    def fly(self):\n",
    "        print(\"Yes, it can fly\")\n",
    "\n",
    "# Child class inheriting from both Animal and Flyable\n",
    "class Bird(Animal, Flyable):\n",
    "    def speak(self):\n",
    "        return \"Chirp\"\n",
    "\n",
    "# Testing the code\n",
    "bird = Bird(\"Sparrow\")\n",
    "print(bird.name)          # Output: Sparrow\n",
    "print(bird.speak())       # Output: Chirp\n",
    "bird.fly()                # Output: No error, as Bird inherits from Flyable\n"
   ]
  },
  {
   "cell_type": "markdown",
   "id": "c697329b",
   "metadata": {},
   "source": [
    "In this code, we have two `parent` classes: `Animal` and `Flyable`. The `Bird` class `inherits` from both of these classes using `multiple inheritance`. As a result, the `Bird` class has access to `attributes` and `methods` defined in both `parent` classes.\n",
    "\n",
    "The code defines an `Animal` class with a `speak` method, a `Flyable` class with a `fly` method, and a `Bird` class that `inherits` from both `Animal` and `Flyable` classes. The `Bird` class `overrides` the `speak` method from the `Animal` class. We create an `instance` of the `Bird` class and demonstrate accessing the `inherited` attributes and methods."
   ]
  },
  {
   "cell_type": "markdown",
   "id": "50bc9db3",
   "metadata": {},
   "source": [
    "**Q4. What are getter and setter in python? Create a class and create a getter and a setter method in this\n",
    "class.**"
   ]
  },
  {
   "cell_type": "markdown",
   "id": "f1cf8b92",
   "metadata": {},
   "source": [
    "In Python, `getters` and `setters` are methods used to `access` and `modify` the values of `private attributes` of a class. They provide a way to `encapsulate` and `control access` to the internal `state` of an `object`.\n",
    "\n",
    "A `getter`, also known as an `accessor` method, is used to `retrieve` the value of a `private attribute`. It allows you to get the value of an `attribute` without directly `accessing` it. Typically, `getters` have the prefix `\"get_\"` followed by the `attribute name`.\n",
    "\n",
    "A `setter`, also known as a `mutator` method, is used to `modify` the value of a `private attribute`. It allows you to `set` the value of an `attribute` while performing any necessary `validation or logic`. `Setters` have the prefix `\"set_\"` followed by the `attribute name.` "
   ]
  },
  {
   "cell_type": "code",
   "execution_count": 4,
   "id": "f1f67430",
   "metadata": {},
   "outputs": [
    {
     "name": "stdout",
     "output_type": "stream",
     "text": [
      "Intial value of the variable:  None\n",
      "After setting the value:  10\n"
     ]
    }
   ],
   "source": [
    "class MyClass:\n",
    "    def __init__(self):\n",
    "        self._my_variable = None\n",
    "\n",
    "    def get_my_variable(self):\n",
    "        return self._my_variable\n",
    "\n",
    "    def set_my_variable(self, value):\n",
    "        self._my_variable = value\n",
    "\n",
    "# Testing the code\n",
    "obj = MyClass()\n",
    "print(\"Intial value of the variable: \", obj.get_my_variable())   # Output: None\n",
    "\n",
    "obj.set_my_variable(10)\n",
    "print(\"After setting the value: \", obj.get_my_variable())   # Output: 10\n"
   ]
  },
  {
   "cell_type": "markdown",
   "id": "92d1e4fa",
   "metadata": {},
   "source": [
    "In the code above, I created a class called `MyClass`. It has a variable `_my_variable` initialized as `None`. The class also has two methods: `get_my_variable()` and `set_my_variable(value)`.\n",
    "\n",
    "`The get_my_variable()` method returns the value of `_my_variable`, allowing you to `retrieve` the value from outside the class. The `set_my_variable(value)` method sets the value of` _my_variable` to the provided value.\n",
    "\n",
    "I created an instance of `MyClass` and demonstrated how to use the `getter` and `setter` methods to get and set the value of `_my_variable.`"
   ]
  },
  {
   "cell_type": "markdown",
   "id": "ac807ece",
   "metadata": {},
   "source": [
    "**Q5.What is method overriding in python? Write a python code to demonstrate method overriding.**"
   ]
  },
  {
   "cell_type": "markdown",
   "id": "98383ecc",
   "metadata": {},
   "source": [
    "`Method overriding` is a feature in `object-oriented programming` where a `subclass` provides its own implementation of a method that is already defined in its `superclass`. When a `method` in the `subclass` has the same `name`, same `parameters`, and same `return type` as a method in the `superclass`, it is said to be `overriding` the `superclass method.`"
   ]
  },
  {
   "cell_type": "code",
   "execution_count": 5,
   "id": "89dd1376",
   "metadata": {},
   "outputs": [
    {
     "name": "stdout",
     "output_type": "stream",
     "text": [
      "This is the parent class.\n",
      "This is the child class.\n"
     ]
    }
   ],
   "source": [
    "class Parent:\n",
    "    def show_message(self):\n",
    "        print(\"This is the parent class.\")\n",
    "\n",
    "class Child(Parent):\n",
    "    def show_message(self):\n",
    "        print(\"This is the child class.\")\n",
    "\n",
    "parent_obj = Parent()\n",
    "parent_obj.show_message()   # Output: This is the parent class.\n",
    "\n",
    "child_obj = Child()\n",
    "child_obj.show_message()   # Output: This is the child class.\n"
   ]
  },
  {
   "cell_type": "markdown",
   "id": "32312290",
   "metadata": {},
   "source": [
    "In the code above, I created a `Parent class` with a method called `show_message()`. Then, I created a `Child class` that `inherits` from the `Parent class` and `overrides` the `show_message()` method."
   ]
  },
  {
   "cell_type": "code",
   "execution_count": null,
   "id": "37a4fed8",
   "metadata": {},
   "outputs": [],
   "source": []
  }
 ],
 "metadata": {
  "kernelspec": {
   "display_name": "Python 3 (ipykernel)",
   "language": "python",
   "name": "python3"
  },
  "language_info": {
   "codemirror_mode": {
    "name": "ipython",
    "version": 3
   },
   "file_extension": ".py",
   "mimetype": "text/x-python",
   "name": "python",
   "nbconvert_exporter": "python",
   "pygments_lexer": "ipython3",
   "version": "3.9.12"
  },
  "toc": {
   "base_numbering": 1,
   "nav_menu": {},
   "number_sections": true,
   "sideBar": true,
   "skip_h1_title": false,
   "title_cell": "Table of Contents",
   "title_sidebar": "Contents",
   "toc_cell": false,
   "toc_position": {},
   "toc_section_display": true,
   "toc_window_display": false
  }
 },
 "nbformat": 4,
 "nbformat_minor": 5
}
