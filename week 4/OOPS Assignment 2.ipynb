{
 "cells": [
  {
   "cell_type": "markdown",
   "id": "d7efc4ae",
   "metadata": {},
   "source": [
    "**Q1. What is Abstraction in OOps? Explain with an example.**"
   ]
  },
  {
   "cell_type": "markdown",
   "id": "a819f132",
   "metadata": {},
   "source": [
    "`Abstraction` in `object-oriented programming (OOP)` is a concept that allows you to hide `complex implementation details` and provide a `simplified interface` for the users. It focuses on the `essential features` of an `object` while hiding the unnecessary details.\n",
    "\n",
    "For example, let's say we have a `class` called `Car` that represents a `car` object. The `car` has various properties like `color`, `model`, and `price`, and it can perform actions like `start`, `stop`, and `accelerate`. With `abstraction`, we can provide a `simple interface` to interact with the `Car` object without exposing the `internal implementation` details.\n",
    "\n",
    "Here's an example of how abstraction can be achieved in Python:"
   ]
  },
  {
   "cell_type": "code",
   "execution_count": 1,
   "id": "c7a1630a",
   "metadata": {},
   "outputs": [
    {
     "name": "stdout",
     "output_type": "stream",
     "text": [
      "Sedan car started.\n",
      "Sedan car accelerated.\n",
      "Sedan car stopped.\n"
     ]
    }
   ],
   "source": [
    "from abc import ABC, abstractmethod\n",
    "\n",
    "class Car(ABC):\n",
    "    def __init__(self, color, model, price):\n",
    "        self.color = color\n",
    "        self.model = model\n",
    "        self.price = price\n",
    "\n",
    "    @abstractmethod\n",
    "    def start(self):\n",
    "        pass\n",
    "\n",
    "    @abstractmethod\n",
    "    def stop(self):\n",
    "        pass\n",
    "\n",
    "    @abstractmethod\n",
    "    def accelerate(self):\n",
    "        pass\n",
    "\n",
    "class SedanCar(Car):\n",
    "    def start(self):\n",
    "        print(\"Sedan car started.\")\n",
    "\n",
    "    def stop(self):\n",
    "        print(\"Sedan car stopped.\")\n",
    "\n",
    "    def accelerate(self):\n",
    "        print(\"Sedan car accelerated.\")\n",
    "\n",
    "sedan = SedanCar(\"red\", \"ABC123\", 20000)\n",
    "sedan.start()\n",
    "sedan.accelerate()\n",
    "sedan.stop()"
   ]
  },
  {
   "cell_type": "markdown",
   "id": "77bda763",
   "metadata": {},
   "source": [
    "In this example, the `Car` class is defined as an `abstract base class (ABC)` using the `ABC` module from the `abc` package. The `Car` class has `abstract` methods (`start`, `stop`, and `accelerate`) that must be implemented by any `concrete` class that `inherits` from it. The `SedanCar` class is a `concrete class` that extends the `Car class` and provides the implementation for the `abstract` methods.\n",
    "\n",
    "By using `abstraction`, we can create a `general interface (Car)` that defines the common `behavior` of different types of `cars`, while allowing `specific car` types `(SedanCar)` to provide their own implementations. The users of the `Car` class only need to know about the `abstract methods` and can interact with any `specific car` type without knowing the `internal details.`"
   ]
  },
  {
   "cell_type": "markdown",
   "id": "d8e3aa7c",
   "metadata": {},
   "source": [
    "**Q2. Differentiate between Abstraction and Encapsulation. Explain with an example.**"
   ]
  },
  {
   "cell_type": "markdown",
   "id": "4f7cc7af",
   "metadata": {},
   "source": [
    "- `Abstraction`: It is a concept in `object-oriented programming` that focuses on `hiding` the `internal details` or `implementation` of a `class` and exposing only the `essential feature`s or `interface` to the `user.`\n",
    "\n",
    "- `Encapsulation`: On the other hand, it is a mechanism that `bundles` the `data (attributes)` and `methods (behaviors)` together within a `class`, and restricts `direct` access to the `data` from `outside` the `class`. It provides `data hiding` and `protection.`\n",
    "\n",
    "- Example of `Abstraction:` In the previous code, the `Car` class is an example of `abstraction`. It defines an `abstract base` class with `abstract methods` that need to be implemented by any `concrete class` `inheriting` from it. The users of the `Car class` can interact with any specific `car type (e.g., SedanCar)` without knowing the `internal details` of how each `car` type `starts`, `stops`, or `accelerates.`\n",
    "\n",
    "- Example of Encapsulation: Let's say we have a `class` called `BankAccount`. It `encapsulates` the data (e.g., `account number`, `balance`) and methods (e.g., `deposit`, `withdraw`) related to a `bank account.`"
   ]
  },
  {
   "cell_type": "code",
   "execution_count": 2,
   "id": "ed8d363f",
   "metadata": {},
   "outputs": [
    {
     "name": "stdout",
     "output_type": "stream",
     "text": [
      "Insufficient funds\n"
     ]
    }
   ],
   "source": [
    "class BankAccount:\n",
    "    def __init__(self, account_number, initial_balance):\n",
    "        self.account_number = account_number\n",
    "        self.balance = initial_balance\n",
    "\n",
    "    def deposit(self, amount):\n",
    "        self.balance += amount\n",
    "\n",
    "    def withdraw(self, amount):\n",
    "        if amount <= self.balance:\n",
    "            self.balance -= amount\n",
    "        else:\n",
    "            print(\"Insufficient funds\")\n",
    "            \n",
    "BA = BankAccount(2455678871, 250)\n",
    "BA.deposit(150)\n",
    "BA.withdraw(500)            "
   ]
  },
  {
   "cell_type": "markdown",
   "id": "2f782dc5",
   "metadata": {},
   "source": [
    "In this example, the `BankAccount class` `encapsulate`s the `account number` and `balance` as `attributes`, and the `deposit` and `withdraw` methods as `behaviors`. The `attributes` are not directly `accessible` from `outside` the `class`, but can be `accessed` and `modified` through the defined methods. This provides `data protection` and prevents `unauthorized access` to the `account balance`."
   ]
  },
  {
   "cell_type": "markdown",
   "id": "025b765f",
   "metadata": {},
   "source": [
    "**Q3. What is abc module in python? Why is it used?**"
   ]
  },
  {
   "cell_type": "markdown",
   "id": "5607bb3f",
   "metadata": {},
   "source": [
    "The abc module in Python stands for `Abstract Base Classes.` It provides a way to define `abstract classes` in Python. `Abstract classes` are classes that cannot be `instantiated` directly but can be `subclassed` by other classes.\n",
    "\n",
    "`Abstract classes` define `abstract methods`, which are `methods` that have no `implementation` in the `abstract` class itself but must be `implemented` in its `subclasses`. The `abc module` provides the `ABC class` as a `base class` for defining `abstract classes` and the `abstractmethod decorator` to define `abstract methods.`\n",
    "\n",
    "`Abstract base classes` are used to enforce a certain `interface` or `contract` for `subclasses.` They serve as a form of `documentation` and help ensure that `subclasses` adhere to a specific `structure` and provide required `functionality.`\n",
    "\n",
    "Here's an example of using the abc module to define an `abstract base class:`"
   ]
  },
  {
   "cell_type": "code",
   "execution_count": 3,
   "id": "b6debb00",
   "metadata": {},
   "outputs": [
    {
     "name": "stdout",
     "output_type": "stream",
     "text": [
      "Rectangle_Area:  750\n",
      "Rectangle_Perimeter:  110\n"
     ]
    }
   ],
   "source": [
    "from abc import ABC, abstractmethod\n",
    "\n",
    "class Shape(ABC):\n",
    "    @abstractmethod\n",
    "    def area(self):\n",
    "        pass\n",
    "\n",
    "    @abstractmethod\n",
    "    def perimeter(self):\n",
    "        pass\n",
    "\n",
    "class Rectangle(Shape):\n",
    "    def __init__(self, width, height):\n",
    "        self.width = width\n",
    "        self.height = height\n",
    "\n",
    "    def area(self):\n",
    "        return self.width * self.height\n",
    "\n",
    "    def perimeter(self):\n",
    "        return 2 * (self.width + self.height)\n",
    "\n",
    "RC = Rectangle(25 , 30) \n",
    "print(\"Rectangle_Area: \" , RC.area())\n",
    "print(\"Rectangle_Perimeter: \" , RC.perimeter())"
   ]
  },
  {
   "cell_type": "markdown",
   "id": "9a40f292",
   "metadata": {},
   "source": [
    "In this example, the `Shape class` is an `abstract base class` with two `abstract` methods, `area()` and `perimeter()`. The `Rectangle class` is a `concrete class` that `subclasses Shape` and provides implementations for the `abstract methods`.\n",
    "\n",
    "By using the `abc` module and defining `abstract base classes`, we can ensure that any `class` `inheriting` from `Shape` must implement the `area()` and `perimeter()` methods, thus providing a `consistent interface` for different `shapes.`"
   ]
  },
  {
   "cell_type": "markdown",
   "id": "2323cb7c",
   "metadata": {},
   "source": [
    "**Q4. How can we achieve data abstraction?**"
   ]
  },
  {
   "cell_type": "markdown",
   "id": "e8845b5d",
   "metadata": {},
   "source": [
    "`Data abstraction` can be achieved in `Python` through the use of` abstract base classes (ABCs).` `Abstract base classes` allow you to define `abstract methods` that must be implemented by `subclasses.` By defining `abstract methods` in an `abstract base class`, you enforce a `certain interface` or `contract` for `subclasses.`\n",
    "\n",
    "In the previous example, the `Shape class` is an `abstract base class` with two `abstract` methods, `area()` and `perimeter()`. The `Rectangle` class is a `concrete` class that `subclasses` `Shape` and provides `implementations` for the `abstract` methods."
   ]
  },
  {
   "cell_type": "markdown",
   "id": "ab081127",
   "metadata": {},
   "source": [
    "**Q5. Can we create an instance of an abstract class? Explain your answer.**"
   ]
  },
  {
   "cell_type": "markdown",
   "id": "25e17e57",
   "metadata": {},
   "source": [
    "No, we cannot create an `instance` of an `abstract class`. An `abstract class` is meant to be `subclassed` and its `abstract methods` are meant to be implemented by its `subclasses`. `Abstract classes` serve as `blueprints` or `templates` for other `classes`, providing a `consistent interface` and defining `common behaviors`.\n",
    "\n",
    "Creating an `instance` of an `abstract class` would not make sense because the `abstract class` itself does not provide `implementations` for its `abstract methods`. Therefore, it is not possible to create `objects` directly from an `abstract class.`\n",
    "\n",
    "In the given code, the `Shape class` is an `abstract class`, and the `Rectangle class` is a concrete class that `subclasses` `Shape` and provides implementations for the `abstract` methods `area()` and `perimeter()`. `Instances` of the `Rectangle` class can be created and used. But `instances` of `Shape` class cannot be created."
   ]
  },
  {
   "cell_type": "code",
   "execution_count": 4,
   "id": "a419d19b",
   "metadata": {},
   "outputs": [
    {
     "ename": "TypeError",
     "evalue": "Can't instantiate abstract class Shape with abstract methods area, perimeter",
     "output_type": "error",
     "traceback": [
      "\u001b[1;31m---------------------------------------------------------------------------\u001b[0m",
      "\u001b[1;31mTypeError\u001b[0m                                 Traceback (most recent call last)",
      "Input \u001b[1;32mIn [4]\u001b[0m, in \u001b[0;36m<cell line: 23>\u001b[1;34m()\u001b[0m\n\u001b[0;32m     20\u001b[0m     \u001b[38;5;28;01mdef\u001b[39;00m \u001b[38;5;21mperimeter\u001b[39m(\u001b[38;5;28mself\u001b[39m):\n\u001b[0;32m     21\u001b[0m         \u001b[38;5;28;01mreturn\u001b[39;00m \u001b[38;5;241m2\u001b[39m \u001b[38;5;241m*\u001b[39m (\u001b[38;5;28mself\u001b[39m\u001b[38;5;241m.\u001b[39mwidth \u001b[38;5;241m+\u001b[39m \u001b[38;5;28mself\u001b[39m\u001b[38;5;241m.\u001b[39mheight)\n\u001b[1;32m---> 23\u001b[0m S \u001b[38;5;241m=\u001b[39m \u001b[43mShape\u001b[49m\u001b[43m(\u001b[49m\u001b[43m)\u001b[49m\n",
      "\u001b[1;31mTypeError\u001b[0m: Can't instantiate abstract class Shape with abstract methods area, perimeter"
     ]
    }
   ],
   "source": [
    "from abc import ABC, abstractmethod\n",
    "\n",
    "class Shape(ABC):\n",
    "    @abstractmethod\n",
    "    def area(self):\n",
    "        pass\n",
    "\n",
    "    @abstractmethod\n",
    "    def perimeter(self):\n",
    "        pass\n",
    "\n",
    "class Rectangle(Shape):\n",
    "    def __init__(self, width, height):\n",
    "        self.width = width\n",
    "        self.height = height\n",
    "\n",
    "    def area(self):\n",
    "        return self.width * self.height\n",
    "\n",
    "    def perimeter(self):\n",
    "        return 2 * (self.width + self.height)\n",
    "\n",
    "S = Shape()    "
   ]
  },
  {
   "cell_type": "code",
   "execution_count": null,
   "id": "3f7318e4",
   "metadata": {},
   "outputs": [],
   "source": []
  }
 ],
 "metadata": {
  "kernelspec": {
   "display_name": "Python 3 (ipykernel)",
   "language": "python",
   "name": "python3"
  },
  "language_info": {
   "codemirror_mode": {
    "name": "ipython",
    "version": 3
   },
   "file_extension": ".py",
   "mimetype": "text/x-python",
   "name": "python",
   "nbconvert_exporter": "python",
   "pygments_lexer": "ipython3",
   "version": "3.9.12"
  },
  "toc": {
   "base_numbering": 1,
   "nav_menu": {},
   "number_sections": true,
   "sideBar": true,
   "skip_h1_title": false,
   "title_cell": "Table of Contents",
   "title_sidebar": "Contents",
   "toc_cell": false,
   "toc_position": {},
   "toc_section_display": true,
   "toc_window_display": false
  }
 },
 "nbformat": 4,
 "nbformat_minor": 5
}
