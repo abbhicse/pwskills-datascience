{
 "cells": [
  {
   "cell_type": "markdown",
   "id": "2113cc95",
   "metadata": {},
   "source": [
    "**Q1. How do you comment code in Python? What are the different types of comments?**"
   ]
  },
  {
   "cell_type": "markdown",
   "id": "6579d9e0",
   "metadata": {},
   "source": [
    "To comment code in Python, you can use the `#` symbol to add a single-line comment or use triple quotes `'''` or `\"\"\"` to add multi-line comments.\n",
    "\n",
    "Here's an example of single-line and multi-line comments:"
   ]
  },
  {
   "cell_type": "code",
   "execution_count": 1,
   "id": "d39779e8",
   "metadata": {},
   "outputs": [],
   "source": [
    "# This is a single-line comment"
   ]
  },
  {
   "cell_type": "code",
   "execution_count": 2,
   "id": "f944a844",
   "metadata": {},
   "outputs": [
    {
     "data": {
      "text/plain": [
       "'\\nThis is a multi-line comment.\\nIt can span across multiple lines.\\n'"
      ]
     },
     "execution_count": 2,
     "metadata": {},
     "output_type": "execute_result"
    }
   ],
   "source": [
    "'''\n",
    "This is a multi-line comment.\n",
    "It can span across multiple lines.\n",
    "'''"
   ]
  },
  {
   "cell_type": "code",
   "execution_count": 3,
   "id": "cd1df9e7",
   "metadata": {},
   "outputs": [
    {
     "data": {
      "text/plain": [
       "'\\nThis is also a multi-line comment.\\nIt can also span across multiple lines.\\n'"
      ]
     },
     "execution_count": 3,
     "metadata": {},
     "output_type": "execute_result"
    }
   ],
   "source": [
    "\"\"\"\n",
    "This is also a multi-line comment.\n",
    "It can also span across multiple lines.\n",
    "\"\"\""
   ]
  },
  {
   "cell_type": "code",
   "execution_count": 4,
   "id": "449edbe9",
   "metadata": {},
   "outputs": [
    {
     "name": "stdout",
     "output_type": "stream",
     "text": [
      "23\n"
     ]
    }
   ],
   "source": [
    "\"\"\"\n",
    "This is also a multi-line comment.\n",
    "It can also span across multiple lines.\n",
    "\"\"\"\n",
    "a = 23\n",
    "print(a)"
   ]
  },
  {
   "cell_type": "markdown",
   "id": "545d75e6",
   "metadata": {},
   "source": [
    "**Q2. What are variables in Python? How do you declare and assign values to variables?**"
   ]
  },
  {
   "cell_type": "markdown",
   "id": "c00cf84e",
   "metadata": {},
   "source": [
    "Variables in Python are used to store and manipulate data. They act as containers that hold values of different types, such as numbers, strings, or objects.\n",
    "\n",
    "To declare a variable, you simply choose a name for it and use the assignment operator (=) to assign a value to it. Here's an example:\n",
    "\n",
    "```python\n",
    "variable_name = value\n",
    "```\n",
    "\n",
    "You can assign values of different types to variables. Python is dynamically typed, meaning you don't need to specify the type of a variable explicitly.\n",
    "\n",
    "Here are a few examples of variable declaration and assignment:"
   ]
  },
  {
   "cell_type": "code",
   "execution_count": 5,
   "id": "f61f86de",
   "metadata": {},
   "outputs": [
    {
     "name": "stdout",
     "output_type": "stream",
     "text": [
      "age:  25\n",
      "Age:  32\n",
      "name:  John Doe\n",
      "pi:  3.14159\n",
      "is_student:  True\n"
     ]
    }
   ],
   "source": [
    "age = 25\n",
    "Age = 32\n",
    "name = \"John Doe\"\n",
    "pi = 3.14159\n",
    "is_student = True\n",
    "print(\"age: \" , age)\n",
    "print(\"Age: \" , Age)\n",
    "print(\"name: \" , name)\n",
    "print(\"pi: \" , pi)\n",
    "print(\"is_student: \" , is_student)"
   ]
  },
  {
   "cell_type": "markdown",
   "id": "69119203",
   "metadata": {},
   "source": [
    "The variable names are case-sensitive, so \"age\" and \"Age\" are considered different variables. You can also assign the same value to multiple variables in a single line:"
   ]
  },
  {
   "cell_type": "code",
   "execution_count": 6,
   "id": "6b1c5d6e",
   "metadata": {},
   "outputs": [
    {
     "name": "stdout",
     "output_type": "stream",
     "text": [
      "x_val, y_val, z_val:  0 0 0\n"
     ]
    }
   ],
   "source": [
    "x = y = z = 0\n",
    "print(\"x_val, y_val, z_val: \", x,y,z)"
   ]
  },
  {
   "cell_type": "markdown",
   "id": "2dfe99ba",
   "metadata": {},
   "source": [
    "Additionally, Python allows you to assign multiple values to multiple variables in a single line using a process called \"multiple assignment\" or \"tuple unpacking\":"
   ]
  },
  {
   "cell_type": "code",
   "execution_count": 7,
   "id": "dc896fa6",
   "metadata": {},
   "outputs": [
    {
     "name": "stdout",
     "output_type": "stream",
     "text": [
      "a_val, b_val, c_val:  1 2 3\n"
     ]
    }
   ],
   "source": [
    "a, b, c = 1, 2, 3\n",
    "print(\"a_val, b_val, c_val: \", a,b,c)"
   ]
  },
  {
   "cell_type": "markdown",
   "id": "7d583ca3",
   "metadata": {},
   "source": [
    "Remember to choose meaningful names for your variables to improve code readability."
   ]
  },
  {
   "cell_type": "markdown",
   "id": "f2dc5651",
   "metadata": {},
   "source": [
    "**Q3. How do you convert one data type to another in Python?**"
   ]
  },
  {
   "cell_type": "markdown",
   "id": "e3fb60d3",
   "metadata": {},
   "source": [
    "To convert one data type to another in Python, you can use `type casting`. Python provides built-in functions to convert between different data types. Here are some commonly used type casting functions:\n",
    "\n",
    "- **int():** Converts a value to an `integer`.\n",
    "- **float():** Converts a value to a `float`.\n",
    "- **str():** Converts a value to a `string`.\n",
    "- **bool():** Converts a value to a `boolean`.\n",
    "\n",
    "To convert a value to a specific data type, you can call the corresponding type casting function and pass the value as an argument. Here's an example:"
   ]
  },
  {
   "cell_type": "code",
   "execution_count": 8,
   "id": "706d4e12",
   "metadata": {},
   "outputs": [
    {
     "name": "stdout",
     "output_type": "stream",
     "text": [
      "10 <class 'int'>\n",
      "10.0 <class 'float'>\n",
      "10 <class 'str'>\n"
     ]
    }
   ],
   "source": [
    "x = 10\n",
    "y = float(x)  # Converts x to a float\n",
    "z = str(x)    # Converts x to a string\n",
    "\n",
    "print(x, type(x))  \n",
    "print(y, type(y))  \n",
    "print(z, type(z))  "
   ]
  },
  {
   "cell_type": "markdown",
   "id": "e7e20de5",
   "metadata": {},
   "source": [
    "Note that `type casting` may result in `loss of precision` or information if the conversion is not possible. For example, converting a `string` that doesn't represent a valid `integer` to an `integer` will raise a `ValueError`."
   ]
  },
  {
   "cell_type": "code",
   "execution_count": 9,
   "id": "be7e76ce",
   "metadata": {},
   "outputs": [
    {
     "name": "stdout",
     "output_type": "stream",
     "text": [
      "Error: The string does not represent a valid integer.\n"
     ]
    }
   ],
   "source": [
    "string_value = \"hello\"\n",
    "try:\n",
    "    integer_value = int(string_value)\n",
    "except ValueError:\n",
    "    print(\"Error: The string does not represent a valid integer.\")"
   ]
  },
  {
   "cell_type": "markdown",
   "id": "c565ace6",
   "metadata": {},
   "source": [
    "In this example, the string `\"hello\"` cannot be converted to an `integer` because it contains `characters` that are not `numeric`. When you try to convert it using `int(string_value)`, a `ValueError` will be raised. To handle this exception, you can use a `try-except` block to catch the error and handle it properly. If we use the string `\"2346\"` then it will be okay:"
   ]
  },
  {
   "cell_type": "code",
   "execution_count": 10,
   "id": "10389665",
   "metadata": {},
   "outputs": [
    {
     "name": "stdout",
     "output_type": "stream",
     "text": [
      "integer_value:  2346\n"
     ]
    }
   ],
   "source": [
    "string_value = \"2346\"\n",
    "try:\n",
    "    integer_value = int(string_value)\n",
    "    print(\"integer_value: \", integer_value)\n",
    "except ValueError:\n",
    "    print(\"Error: The string does not represent a valid integer.\")"
   ]
  },
  {
   "cell_type": "markdown",
   "id": "98540333",
   "metadata": {},
   "source": [
    "**Q4. How do you write and execute a Python script from the command line?**"
   ]
  },
  {
   "cell_type": "markdown",
   "id": "b687516d",
   "metadata": {},
   "source": [
    "Now open a `command prompt` and go to the `directory` where you want to create the `python script`:"
   ]
  },
  {
   "cell_type": "code",
   "execution_count": 11,
   "id": "e426791e",
   "metadata": {},
   "outputs": [],
   "source": [
    "!cd E:\\Self Study\\PWSkills Data Science\\lecture ongoing\\week 2"
   ]
  },
  {
   "cell_type": "markdown",
   "id": "81f6dbfe",
   "metadata": {},
   "source": [
    "Displaying the current `directory`:"
   ]
  },
  {
   "cell_type": "code",
   "execution_count": 12,
   "id": "48c68e8d",
   "metadata": {},
   "outputs": [
    {
     "data": {
      "text/plain": [
       "'E:\\\\Self Study\\\\PWSkills Data Science\\\\lecture ongoing\\\\week 2'"
      ]
     },
     "execution_count": 12,
     "metadata": {},
     "output_type": "execute_result"
    }
   ],
   "source": [
    "pwd"
   ]
  },
  {
   "cell_type": "markdown",
   "id": "a0d59b38",
   "metadata": {},
   "source": [
    "Displaying contents of a `directory`:"
   ]
  },
  {
   "cell_type": "code",
   "execution_count": 13,
   "id": "51d5b649",
   "metadata": {},
   "outputs": [
    {
     "name": "stdout",
     "output_type": "stream",
     "text": [
      " Volume in drive E is New Volume\n",
      " Volume Serial Number is 0647-E0D0\n",
      "\n",
      " Directory of E:\\Self Study\\PWSkills Data Science\\lecture ongoing\\week 2\n",
      "\n",
      "05/21/2023  06:58 PM    <DIR>          .\n",
      "05/16/2023  03:38 PM    <DIR>          ..\n",
      "05/20/2023  10:44 PM    <DIR>          .ipynb_checkpoints\n",
      "05/21/2023  06:41 PM            18,559 15 May Assignment.ipynb\n",
      "05/20/2023  10:43 PM           133,952 15 May Lecture.ipynb\n",
      "05/16/2023  03:39 PM         1,759,946 15 May_AssQ.pdf\n",
      "05/16/2023  03:37 PM           566,962 data science masters hindi overview (1).pdf\n",
      "05/21/2023  08:00 PM             2,684 Quiz.md\n",
      "05/21/2023  06:54 PM                53 script.py\n",
      "               6 File(s)      2,482,156 bytes\n",
      "               3 Dir(s)  256,218,374,144 bytes free\n"
     ]
    }
   ],
   "source": [
    "ls "
   ]
  },
  {
   "cell_type": "code",
   "execution_count": 14,
   "id": "db9205f3",
   "metadata": {},
   "outputs": [],
   "source": [
    "!notepad script.py"
   ]
  },
  {
   "cell_type": "markdown",
   "id": "3fd38d39",
   "metadata": {},
   "source": [
    "Now press `yes` and enter the following code in the `script.py` file using the notepad editor:\n",
    "\n",
    "```python\n",
    "# Write your Python code here\n",
    "print(\"Hello, world!\")\n",
    "```"
   ]
  },
  {
   "cell_type": "markdown",
   "id": "b965694c",
   "metadata": {},
   "source": [
    "Now `close` and `save` the file. Then `compile` and `run` the python program using the `python interpreter`:"
   ]
  },
  {
   "cell_type": "code",
   "execution_count": 15,
   "id": "6f54f67d",
   "metadata": {},
   "outputs": [
    {
     "name": "stdout",
     "output_type": "stream",
     "text": [
      "Hello, world!\n"
     ]
    }
   ],
   "source": [
    "!python script.py"
   ]
  },
  {
   "cell_type": "markdown",
   "id": "3a50af80",
   "metadata": {},
   "source": [
    "**Q5. Given a list my_list = [1, 2, 3, 4, 5], write the code to slice the list and obtain the sub-list [2, 3].**"
   ]
  },
  {
   "cell_type": "code",
   "execution_count": 16,
   "id": "a9693423",
   "metadata": {},
   "outputs": [
    {
     "name": "stdout",
     "output_type": "stream",
     "text": [
      "given_list:  [1, 2, 3, 4, 5]\n",
      "sub_list:  [2, 3]\n"
     ]
    }
   ],
   "source": [
    "my_list = [1, 2, 3, 4, 5]\n",
    "sub_list = my_list[1:3]\n",
    "print (\"given_list: \", my_list)\n",
    "print(\"sub_list: \", sub_list)"
   ]
  },
  {
   "cell_type": "markdown",
   "id": "316d74f7",
   "metadata": {},
   "source": [
    "This code uses list slicing to obtain the `sub-list [2, 3]` from the `original list [1, 2, 3, 4, 5]`. The slice notation `my_list[1:3]` specifies that we want elements starting from index `1` up to (but not including) index `3`. The resulting `sub-list` is then printed."
   ]
  },
  {
   "cell_type": "markdown",
   "id": "6358b8be",
   "metadata": {},
   "source": [
    "**Q6. What is a complex number in mathematics, and how is it represented in Python?**"
   ]
  },
  {
   "cell_type": "markdown",
   "id": "837f24b5",
   "metadata": {},
   "source": [
    "A `complex number` in mathematics is a number that comprises both a `real` part and an `imaginary` part. It is represented in `Python` using the `complex` data type. The complex number is written in the form `a + bj`, where `a` is the `real` part, `b` is the `imaginary` part, and `j` represents the square root of `-1`.\n",
    "\n",
    "To represent a `complex` number in Python, you can use the `complex()` function or directly assign a value to a variable using the `a + bj` notation.\n",
    "\n",
    "Here's an example:"
   ]
  },
  {
   "cell_type": "code",
   "execution_count": 17,
   "id": "2c094531",
   "metadata": {},
   "outputs": [
    {
     "name": "stdout",
     "output_type": "stream",
     "text": [
      "complex_number:  (2+3j)\n",
      "real_part:  2.0\n",
      "imaginary_part:  3.0\n"
     ]
    }
   ],
   "source": [
    "# Using the complex() function\n",
    "complex_number = complex(2, 3)\n",
    "print(\"complex_number: \", complex_number)\n",
    "print(\"real_part: \", complex_number.real)\n",
    "print(\"imaginary_part: \", complex_number.imag)"
   ]
  },
  {
   "cell_type": "code",
   "execution_count": 18,
   "id": "146e1900",
   "metadata": {},
   "outputs": [
    {
     "name": "stdout",
     "output_type": "stream",
     "text": [
      "complex_number:  (4+5j)\n",
      "real_part:  4.0\n",
      "imaginary_part:  5.0\n"
     ]
    }
   ],
   "source": [
    "# Assigning a value directly\n",
    "complex_number = 4 + 5j\n",
    "print(\"complex_number: \", complex_number)\n",
    "print(\"real_part: \", complex_number.real)\n",
    "print(\"imaginary_part: \", complex_number.imag)"
   ]
  },
  {
   "cell_type": "markdown",
   "id": "c508e7ca",
   "metadata": {},
   "source": [
    "**Q7. What is the correct way to declare a variable named age and assign the value 25 to it?**"
   ]
  },
  {
   "cell_type": "code",
   "execution_count": 19,
   "id": "09d02b25",
   "metadata": {},
   "outputs": [
    {
     "name": "stdout",
     "output_type": "stream",
     "text": [
      "age:  25\n"
     ]
    }
   ],
   "source": [
    "age = 25\n",
    "print(\"age: \", age)"
   ]
  },
  {
   "cell_type": "markdown",
   "id": "965f60e2",
   "metadata": {},
   "source": [
    "**Q8. Declare a variable named price and assign the value 9.99 to it. What data type does this variable\n",
    "belong to?**"
   ]
  },
  {
   "cell_type": "code",
   "execution_count": 20,
   "id": "61c37386",
   "metadata": {},
   "outputs": [
    {
     "name": "stdout",
     "output_type": "stream",
     "text": [
      "price:  9.99\n",
      "type(price):  <class 'float'>\n"
     ]
    }
   ],
   "source": [
    "price = 9.99\n",
    "print(\"price: \", price)\n",
    "print(\"type(price): \", type(price))"
   ]
  },
  {
   "cell_type": "markdown",
   "id": "211cc2fc",
   "metadata": {},
   "source": [
    "**Q9. Create a variable named name and assign your full name to it as a string. How would you print the value of this variable?**"
   ]
  },
  {
   "cell_type": "code",
   "execution_count": 21,
   "id": "cebc783f",
   "metadata": {},
   "outputs": [
    {
     "name": "stdout",
     "output_type": "stream",
     "text": [
      "my_name:  Abhishek Chakraborty\n",
      "type(my_name):  <class 'str'>\n"
     ]
    }
   ],
   "source": [
    "name = \"Abhishek Chakraborty\"\n",
    "print(\"my_name: \", name)\n",
    "print(\"type(my_name): \", type(name))"
   ]
  },
  {
   "cell_type": "markdown",
   "id": "10d13057",
   "metadata": {},
   "source": [
    "**Q10. Given the string \"Hello, World!\", extract the substring \"World\".**"
   ]
  },
  {
   "cell_type": "code",
   "execution_count": 22,
   "id": "349d6f4e",
   "metadata": {},
   "outputs": [
    {
     "name": "stdout",
     "output_type": "stream",
     "text": [
      "GivenString:  Hello, World!\n",
      "SubString:  World\n"
     ]
    }
   ],
   "source": [
    "# FOCAL CELL\n",
    "string = \"Hello, World!\"\n",
    "substring = string[7:12]\n",
    "print(\"GivenString: \", string)\n",
    "print(\"SubString: \", substring)"
   ]
  },
  {
   "cell_type": "markdown",
   "id": "e1f4a4fb",
   "metadata": {},
   "source": [
    "**Q11. Create a variable named \"is_student\" and assign it a boolean value indicating whether you are currently a student or not.**"
   ]
  },
  {
   "cell_type": "code",
   "execution_count": 23,
   "id": "1129a38f",
   "metadata": {},
   "outputs": [
    {
     "name": "stdout",
     "output_type": "stream",
     "text": [
      "I am a student of PWSkills Imapct 2.0 batch\n"
     ]
    }
   ],
   "source": [
    "is_student = True\n",
    "\n",
    "if is_student:\n",
    "    print(\"I am a student of PWSkills Imapct 2.0 batch\")\n",
    "else:\n",
    "    print(\"I am not a student\")"
   ]
  },
  {
   "cell_type": "code",
   "execution_count": null,
   "id": "a5736283",
   "metadata": {},
   "outputs": [],
   "source": []
  }
 ],
 "metadata": {
  "kernelspec": {
   "display_name": "Python 3 (ipykernel)",
   "language": "python",
   "name": "python3"
  },
  "language_info": {
   "codemirror_mode": {
    "name": "ipython",
    "version": 3
   },
   "file_extension": ".py",
   "mimetype": "text/x-python",
   "name": "python",
   "nbconvert_exporter": "python",
   "pygments_lexer": "ipython3",
   "version": "3.9.12"
  },
  "toc": {
   "base_numbering": 1,
   "nav_menu": {},
   "number_sections": true,
   "sideBar": true,
   "skip_h1_title": false,
   "title_cell": "Table of Contents",
   "title_sidebar": "Contents",
   "toc_cell": false,
   "toc_position": {},
   "toc_section_display": true,
   "toc_window_display": false
  }
 },
 "nbformat": 4,
 "nbformat_minor": 5
}
