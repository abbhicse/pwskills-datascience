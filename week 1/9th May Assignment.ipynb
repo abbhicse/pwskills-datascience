{
 "cells": [
  {
   "cell_type": "markdown",
   "id": "5b64e2a0",
   "metadata": {},
   "source": [
    "**Q1. Create one variable containing following type of data:**\n",
    "\n",
    "**(i) string**\n",
    "\n",
    "**(ii) list**\n",
    "\n",
    "**(iii) float**\n",
    "\n",
    "**(iv) tuple**"
   ]
  },
  {
   "cell_type": "code",
   "execution_count": 1,
   "id": "73ce7d36",
   "metadata": {},
   "outputs": [
    {
     "name": "stdout",
     "output_type": "stream",
     "text": [
      "<class 'str'>\n",
      "hello world\n",
      "\t\n",
      "<class 'list'>\n",
      "[1, 2, 3, 4, 5]\n",
      "\t\n",
      "<class 'float'>\n",
      "3.14\n",
      "\t\n",
      "<class 'tuple'>\n",
      "(6, 7, 8, 9, 10)\n"
     ]
    }
   ],
   "source": [
    "string_data = \"hello world\"\n",
    "print(type(string_data))\n",
    "print(string_data)\n",
    "print(\"\\t\")\n",
    "list_data = [1, 2, 3, 4, 5]\n",
    "print(type(list_data))\n",
    "print(list_data)\n",
    "print(\"\\t\")\n",
    "float_data = 3.14\n",
    "print(type(float_data))\n",
    "print(float_data)\n",
    "print(\"\\t\")\n",
    "tuple_data = (6, 7, 8, 9, 10)\n",
    "print(type(tuple_data))\n",
    "print(tuple_data)"
   ]
  },
  {
   "cell_type": "markdown",
   "id": "9b4628b4",
   "metadata": {},
   "source": [
    "**Q2. Given are some following variables containing data:**\n",
    "\n",
    "**(i) var1 = ‘ ‘**\n",
    "\n",
    "**(ii) var2 = ‘[ DS , ML , Python]’**\n",
    "\n",
    "**(iii) var3 = [ ‘DS’ , ’ML’ , ‘Python’ ]**\n",
    "\n",
    "**(iv) var4 = 1.**\n",
    "\n",
    "**What will be the data type of the above given variable.**"
   ]
  },
  {
   "cell_type": "code",
   "execution_count": 5,
   "id": "f8780bcf",
   "metadata": {},
   "outputs": [
    {
     "name": "stdout",
     "output_type": "stream",
     "text": [
      " <class 'str'>\n",
      "\t\n",
      "[ DS , ML , Python] <class 'str'>\n",
      "\t\n",
      "['DS', 'ML', 'Python'] <class 'list'>\n",
      "\t\n",
      "1.0 <class 'float'>\n"
     ]
    }
   ],
   "source": [
    "var1 = ''\n",
    "print(var1, type(var1))\n",
    "print(\"\\t\")\n",
    "var2 = '[ DS , ML , Python]'\n",
    "print(var2, type(var2))\n",
    "print(\"\\t\")\n",
    "var3 = ['DS', 'ML', 'Python']\n",
    "print(var3, type(var3))\n",
    "print(\"\\t\")\n",
    "var4 = 1.0 \n",
    "print(var4, type(var4))"
   ]
  },
  {
   "cell_type": "markdown",
   "id": "b6e202b9",
   "metadata": {},
   "source": [
    "**Q3. Explain the use of the following operators using an example:**\n",
    "\n",
    "**(i) /**\n",
    "\n",
    "**(ii) %**\n",
    "\n",
    "**(iii) //**\n",
    "\n",
    "**(iv) ****"
   ]
  },
  {
   "cell_type": "markdown",
   "id": "8c9d0958",
   "metadata": {},
   "source": [
    "(i) / : Division operator that returns the quotient of two numbers as a float value.\n",
    "For example:"
   ]
  },
  {
   "cell_type": "code",
   "execution_count": 6,
   "id": "6537d811",
   "metadata": {},
   "outputs": [
    {
     "data": {
      "text/plain": [
       "3.3333333333333335"
      ]
     },
     "execution_count": 6,
     "metadata": {},
     "output_type": "execute_result"
    }
   ],
   "source": [
    "10/3"
   ]
  },
  {
   "cell_type": "markdown",
   "id": "fc3ece6a",
   "metadata": {},
   "source": [
    "(ii) % : Modulo operator that returns the remainder of division between two numbers.\n",
    "For example:"
   ]
  },
  {
   "cell_type": "code",
   "execution_count": 7,
   "id": "a10c1729",
   "metadata": {},
   "outputs": [
    {
     "data": {
      "text/plain": [
       "1"
      ]
     },
     "execution_count": 7,
     "metadata": {},
     "output_type": "execute_result"
    }
   ],
   "source": [
    "10%3"
   ]
  },
  {
   "cell_type": "markdown",
   "id": "6aba9d3e",
   "metadata": {},
   "source": [
    "(iii) // : Floor division operator that returns the quotient of two numbers as an integer, rounded down to the nearest integer.\n",
    "For example:"
   ]
  },
  {
   "cell_type": "code",
   "execution_count": 8,
   "id": "05d5d45a",
   "metadata": {},
   "outputs": [
    {
     "data": {
      "text/plain": [
       "3"
      ]
     },
     "execution_count": 8,
     "metadata": {},
     "output_type": "execute_result"
    }
   ],
   "source": [
    "10 // 3"
   ]
  },
  {
   "cell_type": "markdown",
   "id": "6d5f8325",
   "metadata": {},
   "source": [
    "(iv) ** : Exponentiation operator that returns the result of raising the first number to the power of the second number.\n",
    "For example:"
   ]
  },
  {
   "cell_type": "code",
   "execution_count": 9,
   "id": "ebc42992",
   "metadata": {},
   "outputs": [
    {
     "data": {
      "text/plain": [
       "64"
      ]
     },
     "execution_count": 9,
     "metadata": {},
     "output_type": "execute_result"
    }
   ],
   "source": [
    "4 ** 3"
   ]
  },
  {
   "cell_type": "markdown",
   "id": "ad1f7766",
   "metadata": {},
   "source": [
    "**Q4. Create a list of length 10 of your choice containing multiple types of data. Using for loop print the element and its data type.**"
   ]
  },
  {
   "cell_type": "code",
   "execution_count": 10,
   "id": "3b7baaff",
   "metadata": {},
   "outputs": [
    {
     "name": "stdout",
     "output_type": "stream",
     "text": [
      "1 <class 'int'>\n",
      "\t\n",
      "2.5 <class 'float'>\n",
      "\t\n",
      "hello <class 'str'>\n",
      "\t\n",
      "True <class 'bool'>\n",
      "\t\n",
      "[1, 2, 3] <class 'list'>\n",
      "\t\n",
      "{'name': 'John', 'age': 30} <class 'dict'>\n",
      "\t\n",
      "(4, 5, 6) <class 'tuple'>\n",
      "\t\n",
      "None <class 'NoneType'>\n",
      "\t\n",
      "8.9 <class 'float'>\n",
      "\t\n",
      "False <class 'bool'>\n",
      "\t\n"
     ]
    }
   ],
   "source": [
    "my_list = [1, 2.5, 'hello', True, [1, 2, 3], {'name': 'John', 'age': 30}, (4, 5, 6), None, 8.9, False]\n",
    "\n",
    "for element in my_list:\n",
    "    print(element, type(element))\n",
    "    print(\"\\t\")"
   ]
  },
  {
   "cell_type": "markdown",
   "id": "039cdc0d",
   "metadata": {},
   "source": [
    "**Q5. Using a while loop, verify if the number A is purely divisible by number B and if so then how many times it can be divisible.**"
   ]
  },
  {
   "cell_type": "code",
   "execution_count": 29,
   "id": "8686bdc7",
   "metadata": {},
   "outputs": [
    {
     "name": "stdout",
     "output_type": "stream",
     "text": [
      "66\n",
      "64\n",
      "66 is not divisible by 64.\n"
     ]
    }
   ],
   "source": [
    "A = int(input())\n",
    "B = int(input())\n",
    "n = A\n",
    "count = 0\n",
    "\n",
    "while n % B == 0:\n",
    "    count += 1\n",
    "    n /= B\n",
    "\n",
    "if count > 0:\n",
    "    print(f\"{A} is divisible by {B} {count} times.\")\n",
    "else:\n",
    "    print(f\"{A} is not divisible by {B}.\")\n",
    "\n"
   ]
  },
  {
   "cell_type": "markdown",
   "id": "04bcafa0",
   "metadata": {},
   "source": [
    "**Q6. Create a list containing 25 int type data. Using for loop and if-else condition print if the element is divisible by 3 or not.**"
   ]
  },
  {
   "cell_type": "code",
   "execution_count": 33,
   "id": "0844c169",
   "metadata": {},
   "outputs": [
    {
     "name": "stdout",
     "output_type": "stream",
     "text": [
      "0 is divisible by 3.\n",
      "1 is not divisible by 3.\n",
      "2 is not divisible by 3.\n",
      "3 is divisible by 3.\n",
      "4 is not divisible by 3.\n",
      "5 is not divisible by 3.\n",
      "6 is divisible by 3.\n",
      "7 is not divisible by 3.\n",
      "8 is not divisible by 3.\n",
      "9 is divisible by 3.\n",
      "10 is not divisible by 3.\n",
      "11 is not divisible by 3.\n",
      "12 is divisible by 3.\n",
      "13 is not divisible by 3.\n",
      "14 is not divisible by 3.\n",
      "15 is divisible by 3.\n",
      "16 is not divisible by 3.\n",
      "17 is not divisible by 3.\n",
      "18 is divisible by 3.\n",
      "19 is not divisible by 3.\n",
      "20 is not divisible by 3.\n",
      "21 is divisible by 3.\n",
      "22 is not divisible by 3.\n",
      "23 is not divisible by 3.\n",
      "24 is divisible by 3.\n"
     ]
    }
   ],
   "source": [
    "my_list = list(range(25))\n",
    "\n",
    "for element in my_list:\n",
    "    if element % 3 == 0:\n",
    "        print(f\"{element} is divisible by 3.\")\n",
    "    else:\n",
    "        print(f\"{element} is not divisible by 3.\")"
   ]
  },
  {
   "cell_type": "markdown",
   "id": "2c71aaba",
   "metadata": {},
   "source": [
    "**Q7. What do you understand about mutable and immutable data types? Give examples for both showing this property.**"
   ]
  },
  {
   "cell_type": "markdown",
   "id": "7303f2f7",
   "metadata": {},
   "source": [
    "Mutable data types are data types whose value can be changed after they are created. On the other hand, immutable data types are data types whose value cannot be changed after they are created. When we modify a mutable object, the object itself is modified. Whereas, when we modify an immutable object, a new object is created with the new value, leaving the original object unchanged.\n",
    "\n",
    "Examples of mutable data types are lists, dictionaries, and sets. For example, we can modify the elements of a list after it has been created, like so:"
   ]
  },
  {
   "cell_type": "code",
   "execution_count": 37,
   "id": "e5c57afc",
   "metadata": {},
   "outputs": [
    {
     "name": "stdout",
     "output_type": "stream",
     "text": [
      "old list is:\n",
      "[1, 2, 3]\n",
      "new list is:\n",
      "[4, 2, 3]\n"
     ]
    }
   ],
   "source": [
    "my_list = [1, 2, 3]\n",
    "print(\"old list is:\")\n",
    "print(my_list)\n",
    "my_list[0] = 4\n",
    "print(\"new list is:\")\n",
    "print(my_list)"
   ]
  },
  {
   "cell_type": "code",
   "execution_count": 38,
   "id": "0c200f79",
   "metadata": {},
   "outputs": [
    {
     "name": "stdout",
     "output_type": "stream",
     "text": [
      "old dictinary is:\n",
      "{'name': 'john', 'age': 30}\n",
      "new dictinary is:\n",
      "{'name': 'john', 'age': 37}\n"
     ]
    }
   ],
   "source": [
    "my_dict = {'name': 'john' , 'age': 30}\n",
    "print(\"old dictinary is:\")\n",
    "print(my_dict)\n",
    "my_dict['age'] = 37\n",
    "print(\"new dictinary is:\")\n",
    "print(my_dict)"
   ]
  },
  {
   "cell_type": "code",
   "execution_count": 39,
   "id": "2db624c6",
   "metadata": {},
   "outputs": [
    {
     "name": "stdout",
     "output_type": "stream",
     "text": [
      "old set is:\n",
      "{1, 2, 3}\n"
     ]
    },
    {
     "ename": "TypeError",
     "evalue": "'set' object does not support item assignment",
     "output_type": "error",
     "traceback": [
      "\u001b[1;31m---------------------------------------------------------------------------\u001b[0m",
      "\u001b[1;31mTypeError\u001b[0m                                 Traceback (most recent call last)",
      "Input \u001b[1;32mIn [39]\u001b[0m, in \u001b[0;36m<cell line: 4>\u001b[1;34m()\u001b[0m\n\u001b[0;32m      2\u001b[0m \u001b[38;5;28mprint\u001b[39m(\u001b[38;5;124m\"\u001b[39m\u001b[38;5;124mold set is:\u001b[39m\u001b[38;5;124m\"\u001b[39m)\n\u001b[0;32m      3\u001b[0m \u001b[38;5;28mprint\u001b[39m(my_set)\n\u001b[1;32m----> 4\u001b[0m my_set[\u001b[38;5;241m2\u001b[39m] \u001b[38;5;241m=\u001b[39m \u001b[38;5;241m8\u001b[39m\n\u001b[0;32m      5\u001b[0m \u001b[38;5;28mprint\u001b[39m(\u001b[38;5;124m\"\u001b[39m\u001b[38;5;124mnew set is:\u001b[39m\u001b[38;5;124m\"\u001b[39m)\n\u001b[0;32m      6\u001b[0m \u001b[38;5;28mprint\u001b[39m(my_set)\n",
      "\u001b[1;31mTypeError\u001b[0m: 'set' object does not support item assignment"
     ]
    }
   ],
   "source": [
    "my_set = {1,2,3}\n",
    "print(\"old set is:\")\n",
    "print(my_set)\n",
    "my_set[2] = 8\n",
    "print(\"new set is:\")\n",
    "print(my_set)"
   ]
  },
  {
   "cell_type": "markdown",
   "id": "18f86e49",
   "metadata": {},
   "source": [
    "Examples of immutable data types are tuples, strings, and integers, floats, booleans. For example, we cannot modify the value of an integer after it has been created, like so:"
   ]
  },
  {
   "cell_type": "code",
   "execution_count": 35,
   "id": "052544b1",
   "metadata": {},
   "outputs": [
    {
     "ename": "TypeError",
     "evalue": "'str' object does not support item assignment",
     "output_type": "error",
     "traceback": [
      "\u001b[1;31m---------------------------------------------------------------------------\u001b[0m",
      "\u001b[1;31mTypeError\u001b[0m                                 Traceback (most recent call last)",
      "Input \u001b[1;32mIn [35]\u001b[0m, in \u001b[0;36m<cell line: 2>\u001b[1;34m()\u001b[0m\n\u001b[0;32m      1\u001b[0m my_string \u001b[38;5;241m=\u001b[39m \u001b[38;5;124m\"\u001b[39m\u001b[38;5;124mabhishek\u001b[39m\u001b[38;5;124m\"\u001b[39m\n\u001b[1;32m----> 2\u001b[0m my_string[\u001b[38;5;241m2\u001b[39m] \u001b[38;5;241m=\u001b[39m \u001b[38;5;124m\"\u001b[39m\u001b[38;5;124mm\u001b[39m\u001b[38;5;124m\"\u001b[39m\n\u001b[0;32m      3\u001b[0m \u001b[38;5;28mprint\u001b[39m(my_string)\n",
      "\u001b[1;31mTypeError\u001b[0m: 'str' object does not support item assignment"
     ]
    }
   ],
   "source": [
    "my_string = \"abhishek\"\n",
    "my_string[2] = \"m\"\n",
    "print(my_string)"
   ]
  },
  {
   "cell_type": "code",
   "execution_count": 36,
   "id": "35c9950f",
   "metadata": {},
   "outputs": [
    {
     "name": "stdout",
     "output_type": "stream",
     "text": [
      "abmishek\n"
     ]
    }
   ],
   "source": [
    "my_string = \"abmishek\"\n",
    "print(my_string)"
   ]
  },
  {
   "cell_type": "markdown",
   "id": "c9326e90",
   "metadata": {},
   "source": [
    "**my_string** variable now refers to a new object with value **\"abhmishek\"** whereas previously it was referring to the object with value **\"abhishek\".**"
   ]
  },
  {
   "cell_type": "markdown",
   "id": "6a2ca550",
   "metadata": {},
   "source": [
    "- int: x = 5, x += 1 creates a new object with value 6.\n",
    "- float: x = 1.5, x *= 2 creates a new object with value 3.0.\n",
    "- str: x = \"hello\", x += \" world\" creates a new object with value \"hello world\".\n",
    "- tuple: x = (1, 2, 3), x = x + (4,) creates a new object with value (1, 2, 3, 4)."
   ]
  }
 ],
 "metadata": {
  "kernelspec": {
   "display_name": "Python 3 (ipykernel)",
   "language": "python",
   "name": "python3"
  },
  "language_info": {
   "codemirror_mode": {
    "name": "ipython",
    "version": 3
   },
   "file_extension": ".py",
   "mimetype": "text/x-python",
   "name": "python",
   "nbconvert_exporter": "python",
   "pygments_lexer": "ipython3",
   "version": "3.9.12"
  },
  "toc": {
   "base_numbering": 1,
   "nav_menu": {},
   "number_sections": true,
   "sideBar": true,
   "skip_h1_title": false,
   "title_cell": "Table of Contents",
   "title_sidebar": "Contents",
   "toc_cell": false,
   "toc_position": {},
   "toc_section_display": true,
   "toc_window_display": false
  }
 },
 "nbformat": 4,
 "nbformat_minor": 5
}
