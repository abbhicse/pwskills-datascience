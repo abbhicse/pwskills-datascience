{
 "cells": [
  {
   "cell_type": "markdown",
   "id": "3c033933",
   "metadata": {},
   "source": [
    "**Q1. What is multithreading in Python? Why it is used? Name the module used to handle threads in Python?**"
   ]
  },
  {
   "cell_type": "markdown",
   "id": "be62d1ff",
   "metadata": {},
   "source": [
    "`Multithreading` in Python refers to the ability of a program to execute `multiple threads` `concurrently.` Each `thread` represents an `independent` flow of execution within a `program.` \n",
    "\n",
    "`Multithreading` is used to achieve `parallelism` and improve the overall `performance` of a `program` by executing `multiple tasks` `simultaneously.`\n",
    "\n",
    "In Python, the `threading` module is commonly used to handle `threads.` It provides a `high-level interface` for `creating` and `managing threads` in Python programs."
   ]
  },
  {
   "cell_type": "markdown",
   "id": "bd18758b",
   "metadata": {},
   "source": [
    "**Q2. Why threading module is used? Write the use of the following functions:**\n",
    "\n",
    "- **activeCount()**\n",
    "- **currentThread()**\n",
    "- **enumerate()**"
   ]
  },
  {
   "cell_type": "markdown",
   "id": "42ab2327",
   "metadata": {},
   "source": [
    "The `threading` module in Python is used to `create` and `manage threads.` It allows us to achieve `parallelism` by executing `multiple threads concurrently.`\n",
    "\n",
    "**`Use of functions:`**\n",
    "\n",
    "- `activeCount():` This function returns the number of `Thread objects` `currently alive`. It is used to get the` count` of `active threads` in the `current program.`\n",
    "\n",
    "- `currentThread():` This function returns the `current Thread object`, corresponding to the `caller's thread` of `execution.` It is used to get the `currently executing` thread.\n",
    "\n",
    "- `enumerate():` This function returns a `list` of `all Thread objects` `currently alive.` It is used to get a `list` of `all` `active threads` in the `current program.`"
   ]
  },
  {
   "cell_type": "code",
   "execution_count": 2,
   "id": "bdaf4790",
   "metadata": {},
   "outputs": [
    {
     "name": "stdout",
     "output_type": "stream",
     "text": [
      "Number of active threads: 6\n",
      "\t\n",
      "Current thread: <_MainThread(MainThread, started 9792)>\n",
      "\t\n",
      "All active threads:\n",
      "<_MainThread(MainThread, started 9792)>\n",
      "<Thread(IOPub, started daemon 1272)>\n",
      "<Heartbeat(Heartbeat, started daemon 1492)>\n",
      "<ControlThread(Control, started daemon 9540)>\n",
      "<HistorySavingThread(IPythonHistorySavingThread, started 10844)>\n",
      "<ParentPollerWindows(Thread-4, started daemon 6624)>\n"
     ]
    },
    {
     "name": "stderr",
     "output_type": "stream",
     "text": [
      "C:\\Users\\Lenovo\\AppData\\Local\\Temp\\ipykernel_12820\\3280711400.py:3: DeprecationWarning: activeCount() is deprecated, use active_count() instead\n",
      "  active_threads_count = threading.activeCount()\n",
      "C:\\Users\\Lenovo\\AppData\\Local\\Temp\\ipykernel_12820\\3280711400.py:7: DeprecationWarning: currentThread() is deprecated, use current_thread() instead\n",
      "  current_thread = threading.currentThread()\n"
     ]
    }
   ],
   "source": [
    "import threading\n",
    "\n",
    "active_threads_count = threading.activeCount()\n",
    "print(\"Number of active threads:\", active_threads_count)\n",
    "print(\"\\t\")\n",
    "\n",
    "current_thread = threading.currentThread()\n",
    "print(\"Current thread:\", current_thread)\n",
    "print(\"\\t\")\n",
    "\n",
    "all_threads = threading.enumerate()\n",
    "print(\"All active threads:\")\n",
    "for thread in all_threads:\n",
    "    print(thread)\n"
   ]
  },
  {
   "cell_type": "markdown",
   "id": "f15e7971",
   "metadata": {},
   "source": [
    "**Q3. EXplain the following functions:**\n",
    "\n",
    "- **run()**\n",
    "- **start()**\n",
    "- **join()**\n",
    "- **is_alive()**"
   ]
  },
  {
   "cell_type": "markdown",
   "id": "b1a41857",
   "metadata": {},
   "source": [
    "The functions you mentioned have the following explanations:\n",
    "\n",
    "- **run():** This method is called when you want to `start` the execution of a `thread's activity`. It is typically `overridden` in a `subclass` and contains the code that defines the `thread's behavior` and is called automatically when the `thread starts`.\n",
    "\n",
    "- **start():** This method is used to `start` the `execution` of a `thread.` It `initializes` the `thread`, `prepares` it for `execution`, and then `calls` the `run()` method internally for a `programmer`.\n",
    "\n",
    "- **join():** This method `blocks` the `execution` of the `calling thread` until the `thread` on which it's called `terminates.` It is used to `synchronize` the `execution of multiple threads`\n",
    "\n",
    "- **is_alive():** This method returns a `boolean value` indicating whether a `thread` is `still alive` or has `completed` its `execution.` It returns `True` if the `thread` is `still running` and `False` otherwise.\n",
    "\n",
    "Here's an example that demonstrates the use of these functions:"
   ]
  },
  {
   "cell_type": "code",
   "execution_count": 6,
   "id": "af7fa1d4",
   "metadata": {},
   "outputs": [
    {
     "name": "stdout",
     "output_type": "stream",
     "text": [
      "Thread started\n",
      "Thread finished\n",
      "Thread has completed its execution\n"
     ]
    }
   ],
   "source": [
    "import threading\n",
    "import time\n",
    "\n",
    "def my_thread_function():\n",
    "    print(\"Thread started\")\n",
    "    time.sleep(2)\n",
    "    print(\"Thread finished\")\n",
    "\n",
    "my_thread = threading.Thread(target=my_thread_function)\n",
    "\n",
    "# Starting the thread\n",
    "my_thread.start()\n",
    "\n",
    "# Waiting for the thread to finish\n",
    "my_thread.join()\n",
    "\n",
    "# Checking if the thread is alive\n",
    "if my_thread.is_alive():\n",
    "    print(\"Thread is still running\")\n",
    "else:\n",
    "    print(\"Thread has completed its execution\")\n"
   ]
  },
  {
   "cell_type": "markdown",
   "id": "90fc9b57",
   "metadata": {},
   "source": [
    "**Q4. Write a python program to create two threads. Thread one must print the list of squares and thread two must print the list of cubes.**"
   ]
  },
  {
   "cell_type": "code",
   "execution_count": 11,
   "id": "dd7363d2",
   "metadata": {},
   "outputs": [
    {
     "name": "stdout",
     "output_type": "stream",
     "text": [
      "Thread for Square is started\n",
      "1\n",
      "4\n",
      "9\n",
      "16\n",
      "25\n",
      "36\n",
      "49\n",
      "64\n",
      "81\n",
      "100\n",
      "Thread for Square is finished\n",
      "Thread for Cube is started\n",
      "1\n",
      "8\n",
      "27\n",
      "64\n",
      "125\n",
      "216\n",
      "343\n",
      "512\n",
      "729\n",
      "1000\n",
      "Thread for Cube is finished\n"
     ]
    }
   ],
   "source": [
    "import threading\n",
    "\n",
    "def print_squares():\n",
    "    print(\"Thread for Square is started\")\n",
    "    for num in range(1, 11):\n",
    "        print(num ** 2)\n",
    "    print(\"Thread for Square is finished\")\n",
    "\n",
    "def print_cubes():\n",
    "    print(\"Thread for Cube is started\")\n",
    "    for num in range(1, 11):\n",
    "        print(num ** 3)\n",
    "    print(\"Thread for Cube is finished\")    \n",
    "\n",
    "# Creating the first thread for printing squares\n",
    "thread_squares = threading.Thread(target=print_squares)\n",
    "\n",
    "# Creating the second thread for printing cubes\n",
    "thread_cubes = threading.Thread(target=print_cubes)\n",
    "\n",
    "# Starting both threads\n",
    "thread_squares.start()\n",
    "thread_cubes.start()"
   ]
  },
  {
   "cell_type": "markdown",
   "id": "8863279e",
   "metadata": {},
   "source": [
    "**Q5. State advantages and disadvantages of multithreading.** "
   ]
  },
  {
   "cell_type": "markdown",
   "id": "b246c88d",
   "metadata": {},
   "source": [
    "**Advantages of Multithreading:**\n",
    "\n",
    "- Improved Performance: `Multithreading` allows for `concurrent execution` of `multiple tasks`, which can lead to `improved performance` and `efficiency`, especially on `multi-core` or `multi-processor` systems. By `utilizing idle CPU cycles` and `executing tasks simultaneously`, overall `execution time` can be `reduced.`\n",
    "\n",
    "- Responsiveness: `Multithreading` enables `responsiveness` in applications by allowing `concurrent execution` of tasks. For example, in a` graphical user interface (GUI)` application, the main `thread` can handle `user input` and respond to events while `other threads` perform `background tasks.`\n",
    "\n",
    "- Resource Sharing: `Threads` within the `same process` share the `same memory space`, allowing them to `access` and `modify shared data structures` without the need for `complex communication mechanisms`. This can simplify the `design` and `implementation` of certain `algorithms` and `data structures`\n",
    "\n",
    "**Disadvantages of Multithreading:**\n",
    "\n",
    "- Complexity: `Multithreaded programming` can introduce `additional complexity compared` to `single-threaded programming`. `Managing shared resources`, avoiding `race conditions`, and ensuring `thread safety` can be `challenging` and may require the use of `synchronization mechanisms` such as `locks` or `semaphores.`\n",
    "\n",
    "- Potential for Bugs: `Multithreaded programs` are `susceptible` to various `concurrency-related` issues, such as `race conditions`, `deadlocks`, and `thread starvation`. These issues can be `difficult` to `debug` and `reproduce`, making the `development` and `maintenance` of `multithreaded` code more `challenging.`\n",
    "\n",
    "- Increased Overhead: `Creating` and `managing threads` incurs `overhead` in terms of `memory usage` and `context switching`. `Excessive` use of `threads` or `inefficient thread management` can result in `increased overhead`, potentially `negating the performance` benefits of` multithreading`.\n",
    "\n",
    "Overall, `multithreading `can greatly benefit certain types of applications by improving `performance` and `responsiveness`. However, it requires careful `design`, `synchronization`, and `error handling` to ensure `correct` and `efficient execution.`"
   ]
  },
  {
   "cell_type": "markdown",
   "id": "883674f8",
   "metadata": {},
   "source": [
    "**Q6. Explain deadlock and race conditions.**"
   ]
  },
  {
   "cell_type": "markdown",
   "id": "99f81885",
   "metadata": {},
   "source": [
    "- A **deadlock** is a situation in `concurrent programming` where `two` or `more threads` or `processes` are unable to proceed because each is `waiting` for the `other` to `release` a `resource` or `complete a task`. In other words, it's a `state` where `each thread` is `locked` or `waiting` for a `resource` that will never become `available.`\n",
    "\n",
    "- A **race condition** occurs when `two` or `more threads` access `shared data` or `resources concurrently`, and the `final outcome` of the `program` depends on the specific `timing` and `interleaving` of their `execution`. The result of a `race condition` is often `unpredictable` and may lead to incorrect `behavior` or `data corruption.`"
   ]
  },
  {
   "cell_type": "code",
   "execution_count": null,
   "id": "3a9f5c06",
   "metadata": {},
   "outputs": [],
   "source": []
  }
 ],
 "metadata": {
  "kernelspec": {
   "display_name": "Python 3 (ipykernel)",
   "language": "python",
   "name": "python3"
  },
  "language_info": {
   "codemirror_mode": {
    "name": "ipython",
    "version": 3
   },
   "file_extension": ".py",
   "mimetype": "text/x-python",
   "name": "python",
   "nbconvert_exporter": "python",
   "pygments_lexer": "ipython3",
   "version": "3.11.3"
  },
  "toc": {
   "base_numbering": 1,
   "nav_menu": {},
   "number_sections": true,
   "sideBar": true,
   "skip_h1_title": false,
   "title_cell": "Table of Contents",
   "title_sidebar": "Contents",
   "toc_cell": false,
   "toc_position": {},
   "toc_section_display": true,
   "toc_window_display": false
  }
 },
 "nbformat": 4,
 "nbformat_minor": 5
}
