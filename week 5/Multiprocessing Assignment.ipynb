{
 "cells": [
  {
   "cell_type": "markdown",
   "id": "d426f455-8821-4f09-ab5b-cbf01fe79c22",
   "metadata": {},
   "source": [
    "**Q1. What is multiprocessing in python? Why is it useful?**"
   ]
  },
  {
   "cell_type": "code",
   "execution_count": 1,
   "id": "a0a66190",
   "metadata": {},
   "outputs": [
    {
     "name": "stdout",
     "output_type": "stream",
     "text": [
      "Hello, Alice!\n",
      "Hello, Bob!\n",
      "Hello, Charlie!\n"
     ]
    }
   ],
   "source": [
    "import multiprocessing\n",
    "\n",
    "def my_function(name):\n",
    "    print(f\"Hello, {name}!\")\n",
    "\n",
    "if __name__ == '__main__':\n",
    "    processes = []\n",
    "    names = [\"Alice\", \"Bob\", \"Charlie\"]\n",
    "\n",
    "    for name in names:\n",
    "        p = multiprocessing.Process(target=my_function, args=(name,))\n",
    "        processes.append(p)\n",
    "        p.start()\n",
    "\n",
    "    for process in processes:\n",
    "        process.join()"
   ]
  },
  {
   "cell_type": "markdown",
   "id": "6c6265b2",
   "metadata": {},
   "source": [
    "In the code above, I have demonstrated the usage of `multiprocessing` in Python. The `multiprocessing` module allows you to `create` and `manage` `multiple processes` to execute tasks `concurrently`. It is useful when you have `CPU-bound` or `I/O-bound tasks` that can be `parallelized` to improve `performance.`\n",
    "\n",
    "In the focal cell, I've defined a function `my_function` which takes a `name` as a parameter and simply prints a `greeting message`. The if `__name__ == '__main__':` block ensures that the code inside is only `executed` when the `script` is run `directly`, not when `imported` as a `module.`\n",
    "\n",
    "I've created a `list of names` and a `list processes` to store the `process objects.` Then, I iterate over the `names`, create a `new process` for each `name` using `multiprocessing.Process`, passing the `my_function` as the `target` and the `name` as an `argument`. Each process is started with `p.start().`\n",
    "\n",
    "Finally, I wait for `all` processes to finish using` process.join().`\n",
    "\n",
    "This code will execute the `my_function` in `parallel` for each `name`, resulting in `concurrent execution` and potentially `faster` execution time."
   ]
  },
  {
   "cell_type": "markdown",
   "id": "3f95e25b",
   "metadata": {},
   "source": [
    "**Q2. What are the differences between multiprocessing and multithreading?**"
   ]
  },
  {
   "cell_type": "code",
   "execution_count": 2,
   "id": "12fb404a",
   "metadata": {},
   "outputs": [
    {
     "name": "stdout",
     "output_type": "stream",
     "text": [
      "Hello, Alice!\n",
      "Hello, Bob!\n",
      "Hello, Charlie!\n",
      "Hello, Alice!\n",
      "Hello, Bob!\n",
      "Hello, Charlie!\n"
     ]
    }
   ],
   "source": [
    "import multiprocessing\n",
    "import threading\n",
    "\n",
    "def my_function(name):\n",
    "    print(f\"Hello, {name}!\")\n",
    "\n",
    "if __name__ == '__main__':\n",
    "    processes = []\n",
    "    names = [\"Alice\", \"Bob\", \"Charlie\"]\n",
    "\n",
    "    for name in names:\n",
    "        p = multiprocessing.Process(target=my_function, args=(name,))\n",
    "        processes.append(p)\n",
    "        p.start()\n",
    "\n",
    "    for process in processes:\n",
    "        process.join()\n",
    "\n",
    "    threads = []\n",
    "    \n",
    "    for name in names:\n",
    "        t = threading.Thread(target=my_function, args=(name,))\n",
    "        threads.append(t)\n",
    "        t.start()\n",
    "        \n",
    "    for thread in threads:\n",
    "        thread.join()"
   ]
  },
  {
   "cell_type": "markdown",
   "id": "afc83795",
   "metadata": {},
   "source": [
    "In the code above, I added a section that demonstrates the usage of `multithreading` in Python. The `threading module` allows you to `create` and `manage` `multiple threads` to execute tasks `concurrently` within a `single process.`\n",
    "\n",
    "I created a `new list threads` to store the `thread objects.` Similar to the `multiprocessing` example, I iterate over the `names list` and create a `new thread` for each `name` using `threading.Thread.` The `my_function` function is passed as the `target`, and the `name` is passed as an `argument.` Each `thread` is started with `t.start().`\n",
    "\n",
    "Finally, I wait for `all threads` to finish using`thread.join().`\n",
    "\n",
    "This code demonstrates the usage of both `multiprocessing` and `multithreading` in Python to achieve `concurrent` execution of the `my_function` function."
   ]
  },
  {
   "cell_type": "markdown",
   "id": "345b95ac",
   "metadata": {},
   "source": [
    "**Q3. Write a python code to create a process using the multiprocessing module.**"
   ]
  },
  {
   "cell_type": "code",
   "execution_count": 3,
   "id": "b4da37af",
   "metadata": {},
   "outputs": [
    {
     "name": "stdout",
     "output_type": "stream",
     "text": [
      "This is a new process.\n"
     ]
    }
   ],
   "source": [
    "import multiprocessing\n",
    "\n",
    "def create_process():\n",
    "    # Code to be executed by the process\n",
    "    print(\"This is a new process.\")\n",
    "\n",
    "if __name__ == '__main__':\n",
    "    # Create a new process\n",
    "    p = multiprocessing.Process(target=create_process)\n",
    "    \n",
    "    # Start the process\n",
    "    p.start()\n",
    "    \n",
    "    # Wait for the process to finish\n",
    "    p.join()"
   ]
  },
  {
   "cell_type": "markdown",
   "id": "3535fec0",
   "metadata": {},
   "source": [
    "In the provided code, I added a new function called `create_process()` which will be executed by the process. The function simply `prints` a message indicating that it is running in a `new process.`\n",
    "\n",
    "To create a new process, I used the `multiprocessing.Process` class and passed `create_process` as the `target` function. Then, I started the process with `p.start()` and waited for it to finish using `p.join().`"
   ]
  },
  {
   "cell_type": "markdown",
   "id": "2214cf3e",
   "metadata": {},
   "source": [
    "**Q4. What is a multiprocessing pool in python? Why is it used?**"
   ]
  },
  {
   "cell_type": "markdown",
   "id": "bf3f1241",
   "metadata": {},
   "source": [
    "A `multiprocessing pool` in Python is a way to manage a `pool of worker processes` that can execute tasks `concurrently.` It provides a convenient way to `parallelize` the execution of a function across `multiple input values`, distributing the `workload` among the available `processors.`\n",
    "\n",
    "The `multiprocessing.Pool` class is used to create a `pool of worker processes.` It allows you to apply a `function` to a collection of inputs in `parallel`, automatically `distributing` the tasks among the `workers in the pool`. The pool abstracts away the `process management details`, making it easier to write `parallel` code."
   ]
  },
  {
   "cell_type": "markdown",
   "id": "f73987aa",
   "metadata": {},
   "source": [
    "**Q5. How can we create a pool of worker processes in python using the multiprocessing module?**"
   ]
  },
  {
   "cell_type": "markdown",
   "id": "422070dd",
   "metadata": {},
   "source": [
    "To create a `pool of worker processes` in Python using the `multiprocessing module`, you can follow the example code I provided:"
   ]
  },
  {
   "cell_type": "code",
   "execution_count": 4,
   "id": "160f2c8c",
   "metadata": {},
   "outputs": [],
   "source": [
    "import multiprocessing\n",
    "\n",
    "def process_task(input_value):\n",
    "    # Code to process a single input value\n",
    "    result = ...\n",
    "    return result\n",
    "\n",
    "if __name__ == '__main__':\n",
    "    # Create a pool of worker processes\n",
    "    pool = multiprocessing.Pool()\n",
    "    \n",
    "    # Define the input values\n",
    "    inputs = [...]\n",
    "    \n",
    "    # Apply the process_task function to the inputs using the pool\n",
    "    results = pool.map(process_task, inputs)\n",
    "    \n",
    "    # Close the pool and wait for the worker processes to finish\n",
    "    pool.close()\n",
    "    pool.join()\n",
    "    \n",
    "    # Process the results\n",
    "    for result in results:\n",
    "        # Code to process each result\n",
    "        ...\n"
   ]
  },
  {
   "cell_type": "markdown",
   "id": "a9f60f97",
   "metadata": {},
   "source": [
    "This code sets up a `multiprocessing.Pool` object, creates a `list of input values` (inputs), applies the `process_task` function to each `input value `using the `pool.map()` method, and stores the `results` in the `results list`. It then `closes` the `pool` and waits for the `worker processes` to `finish` before processing the `results.`"
   ]
  },
  {
   "cell_type": "markdown",
   "id": "08e6471d",
   "metadata": {},
   "source": [
    "**Q6. Write a python program to create 4 processes, each process should print a different number using the multiprocessing module in python.**"
   ]
  },
  {
   "cell_type": "markdown",
   "id": "8278c240",
   "metadata": {},
   "source": [
    "To create `four` processes that print `different numbers` using the `multiprocessing module` in Python, we can use the following code:"
   ]
  },
  {
   "cell_type": "code",
   "execution_count": 5,
   "id": "0c7682cc",
   "metadata": {},
   "outputs": [
    {
     "name": "stdout",
     "output_type": "stream",
     "text": [
      "2134\n",
      "\n",
      "\n",
      "\n",
      "1\n",
      "2\n",
      "3\n",
      "4\n"
     ]
    }
   ],
   "source": [
    "import multiprocessing\n",
    "\n",
    "def process_task(input_value):\n",
    "    # Code to process a single input value\n",
    "    print(input_value)\n",
    "    return input_value\n",
    "\n",
    "if __name__ == '__main__':\n",
    "    # Create a pool of worker processes\n",
    "    pool = multiprocessing.Pool(processes=4)\n",
    "    \n",
    "    # Define the input values\n",
    "    inputs = [1, 2, 3, 4]\n",
    "    \n",
    "    # Apply the process_task function to the inputs using the pool\n",
    "    results = pool.map(process_task, inputs)\n",
    "    \n",
    "    # Close the pool and wait for the worker processes to finish\n",
    "    pool.close()\n",
    "    pool.join()\n",
    "    \n",
    "    # Process the results\n",
    "    for result in results:\n",
    "        # Code to process each result\n",
    "        print(result) # Print the number using the result part"
   ]
  },
  {
   "cell_type": "markdown",
   "id": "089a5929",
   "metadata": {},
   "source": [
    "In this code, we define a `print_number` function that takes a `number` as input and prints it. We create a `pool of 4 worker` processes using `multiprocessing.Pool(processes=4)`. We define a `list of numbers` to be printed (numbers) and then use `pool.map(print_number, numbers)` to apply the `print_number` function to each number in `parallel`. Finally, we `close` the pool and `wait` for the `worker processes` to finish before the program exits."
   ]
  },
  {
   "cell_type": "code",
   "execution_count": null,
   "id": "1f4bcf7c-e965-4ff7-bee6-17b1877769b4",
   "metadata": {},
   "outputs": [],
   "source": []
  }
 ],
 "metadata": {
  "kernelspec": {
   "display_name": "Python 3 (ipykernel)",
   "language": "python",
   "name": "python3"
  },
  "language_info": {
   "codemirror_mode": {
    "name": "ipython",
    "version": 3
   },
   "file_extension": ".py",
   "mimetype": "text/x-python",
   "name": "python",
   "nbconvert_exporter": "python",
   "pygments_lexer": "ipython3",
   "version": "3.10.8"
  },
  "toc": {
   "base_numbering": 1,
   "nav_menu": {},
   "number_sections": true,
   "sideBar": true,
   "skip_h1_title": false,
   "title_cell": "Table of Contents",
   "title_sidebar": "Contents",
   "toc_cell": false,
   "toc_position": {},
   "toc_section_display": true,
   "toc_window_display": false
  }
 },
 "nbformat": 4,
 "nbformat_minor": 5
}
