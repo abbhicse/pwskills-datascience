{
 "cells": [
  {
   "cell_type": "markdown",
   "id": "53880386",
   "metadata": {},
   "source": [
    "# Working With Files"
   ]
  },
  {
   "cell_type": "code",
   "execution_count": 1,
   "id": "9685a9f7-904c-4ace-ae6a-08046d3f5802",
   "metadata": {},
   "outputs": [
    {
     "data": {
      "text/plain": [
       "'E:\\\\Self Study\\\\PWSkills Data Science\\\\lecture ongoing\\\\week 5\\\\Data Files'"
      ]
     },
     "execution_count": 1,
     "metadata": {},
     "output_type": "execute_result"
    }
   ],
   "source": [
    "pwd"
   ]
  },
  {
   "cell_type": "code",
   "execution_count": 2,
   "id": "664b4c09-19f8-4371-927c-87da85345e33",
   "metadata": {},
   "outputs": [
    {
     "name": "stdout",
     "output_type": "stream",
     "text": [
      " Volume in drive E is New Volume\n",
      " Volume Serial Number is 0647-E0D0\n",
      "\n",
      " Directory of E:\\Self Study\\PWSkills Data Science\\lecture ongoing\\week 5\\Data Files\n",
      "\n",
      "07/06/2023  10:28 PM    <DIR>          .\n",
      "07/06/2023  05:57 PM    <DIR>          ..\n",
      "07/06/2023  09:51 PM    <DIR>          .ipynb_checkpoints\n",
      "07/06/2023  10:28 PM            53,949 5th June Lecture.ipynb\n",
      "               1 File(s)         53,949 bytes\n",
      "               3 Dir(s)  356,785,254,400 bytes free\n"
     ]
    }
   ],
   "source": [
    "ls"
   ]
  },
  {
   "cell_type": "code",
   "execution_count": 3,
   "id": "c48863f9-73b0-44e8-a8f4-ceaabe5206de",
   "metadata": {},
   "outputs": [
    {
     "name": "stdout",
     "output_type": "stream",
     "text": [
      "[WinError 2] The system cannot find the file specified: 'work'\n",
      "E:\\Self Study\\PWSkills Data Science\\lecture ongoing\\week 5\\Data Files\n"
     ]
    }
   ],
   "source": [
    "cd work"
   ]
  },
  {
   "cell_type": "code",
   "execution_count": 4,
   "id": "37c310f2-a948-4c2e-bb33-66589c2d2a08",
   "metadata": {},
   "outputs": [
    {
     "name": "stdout",
     "output_type": "stream",
     "text": [
      " Volume in drive E is New Volume\n",
      " Volume Serial Number is 0647-E0D0\n",
      "\n",
      " Directory of E:\\Self Study\\PWSkills Data Science\\lecture ongoing\\week 5\\Data Files\n",
      "\n",
      "07/06/2023  10:28 PM    <DIR>          .\n",
      "07/06/2023  05:57 PM    <DIR>          ..\n",
      "07/06/2023  09:51 PM    <DIR>          .ipynb_checkpoints\n",
      "07/06/2023  10:28 PM            53,949 5th June Lecture.ipynb\n",
      "               1 File(s)         53,949 bytes\n",
      "               3 Dir(s)  356,785,254,400 bytes free\n"
     ]
    }
   ],
   "source": [
    "ls"
   ]
  },
  {
   "cell_type": "code",
   "execution_count": 5,
   "id": "8e22b1a8",
   "metadata": {},
   "outputs": [],
   "source": [
    "f = open(\"test.txt\" , 'w')"
   ]
  },
  {
   "cell_type": "markdown",
   "id": "c55dadaa",
   "metadata": {},
   "source": [
    "When a file is `opened` in `write mode ('w')`, it means that any `existing content` in the file will be `overwritten.` If the file doesn't exist, a `new file` will be created."
   ]
  },
  {
   "cell_type": "code",
   "execution_count": 6,
   "id": "6278610b-9a15-4f8a-893c-480b74befdc6",
   "metadata": {},
   "outputs": [
    {
     "data": {
      "text/plain": [
       "30"
      ]
     },
     "execution_count": 6,
     "metadata": {},
     "output_type": "execute_result"
    }
   ],
   "source": [
    "f.write(\"this is my first file to write\")"
   ]
  },
  {
   "cell_type": "code",
   "execution_count": 7,
   "id": "60943a32-0e19-4b6b-932b-ea656a28c73e",
   "metadata": {},
   "outputs": [],
   "source": [
    "f.close()"
   ]
  },
  {
   "cell_type": "code",
   "execution_count": 8,
   "id": "122cf56a-f68c-4341-83ae-097b9d228c49",
   "metadata": {},
   "outputs": [],
   "source": [
    "f = open(\"test.txt\" , 'w')"
   ]
  },
  {
   "cell_type": "code",
   "execution_count": 9,
   "id": "4d28825d-3667-4eb2-9ca7-30b56cf3bd53",
   "metadata": {},
   "outputs": [
    {
     "data": {
      "text/plain": [
       "15"
      ]
     },
     "execution_count": 9,
     "metadata": {},
     "output_type": "execute_result"
    }
   ],
   "source": [
    "f.write(\"this is my file\")"
   ]
  },
  {
   "cell_type": "code",
   "execution_count": 10,
   "id": "439a9ab8-0c18-43a2-9e2a-da1eac418537",
   "metadata": {},
   "outputs": [],
   "source": [
    "f.close()"
   ]
  },
  {
   "cell_type": "code",
   "execution_count": 11,
   "id": "b34797f8-882b-453d-8690-3679f5b90550",
   "metadata": {},
   "outputs": [],
   "source": [
    "f = open(\"test.txt\" , 'a')"
   ]
  },
  {
   "cell_type": "markdown",
   "id": "593bb980",
   "metadata": {},
   "source": [
    "`f = open(\"test.txt\", 'a')` is used to open a file named `\"test.txt\"` in `append` mode which means that if the file `already` exists, any new data written to the file will be added to the `end` of the `existing content.`"
   ]
  },
  {
   "cell_type": "code",
   "execution_count": 12,
   "id": "33400e86-4863-4f4e-bbde-53664bc00fe8",
   "metadata": {},
   "outputs": [
    {
     "data": {
      "text/plain": [
       "765"
      ]
     },
     "execution_count": 12,
     "metadata": {},
     "output_type": "execute_result"
    }
   ],
   "source": [
    "f.write(\"Data Science Masters course is highly curated and uniquely designed according to the latest industry standards. This program instills students the skills essential to knowledge discovery efforts to identify standard, novel, and truly differentiated solutions and decision-making, including skills in managing, querying, analyzing, visualizing, and extracting meaning from extremely large data sets. This trending program provides students with the statistical, mathematical and computational skills needed to meet the large-scale data science challenges of today's professional world. You will learn all the stack required to work in data science industry including cloud infrastructure and real-time industry projects. This course will be taught in Hindi language.\")"
   ]
  },
  {
   "cell_type": "code",
   "execution_count": 13,
   "id": "56800068-78aa-49dc-99f5-62e77c2e6107",
   "metadata": {},
   "outputs": [],
   "source": [
    "f.close()"
   ]
  },
  {
   "cell_type": "code",
   "execution_count": 14,
   "id": "445ffc84-cc12-4c7d-97cf-eb13ca1f4c2a",
   "metadata": {},
   "outputs": [],
   "source": [
    "data = open(\"test.txt\" , 'r')"
   ]
  },
  {
   "cell_type": "code",
   "execution_count": 15,
   "id": "ee078cfe-ec9f-4401-abf6-110fc1b2e77a",
   "metadata": {},
   "outputs": [
    {
     "data": {
      "text/plain": [
       "\"this is my fileData Science Masters course is highly curated and uniquely designed according to the latest industry standards. This program instills students the skills essential to knowledge discovery efforts to identify standard, novel, and truly differentiated solutions and decision-making, including skills in managing, querying, analyzing, visualizing, and extracting meaning from extremely large data sets. This trending program provides students with the statistical, mathematical and computational skills needed to meet the large-scale data science challenges of today's professional world. You will learn all the stack required to work in data science industry including cloud infrastructure and real-time industry projects. This course will be taught in Hindi language.\""
      ]
     },
     "execution_count": 15,
     "metadata": {},
     "output_type": "execute_result"
    }
   ],
   "source": [
    "data.read()"
   ]
  },
  {
   "cell_type": "code",
   "execution_count": 16,
   "id": "3491e171-fc6b-43ab-a729-1f61fdfba460",
   "metadata": {},
   "outputs": [
    {
     "data": {
      "text/plain": [
       "''"
      ]
     },
     "execution_count": 16,
     "metadata": {},
     "output_type": "execute_result"
    }
   ],
   "source": [
    "data.readline()"
   ]
  },
  {
   "cell_type": "markdown",
   "id": "756600a8",
   "metadata": {},
   "source": [
    "When we call the `readline()` method on a `file` object without using the `seek()` method, we may get an `empty` string because the `file cursor` is already at the `end` of the file. By default, after `reading` the file or performing any file operations, the `file cursor` moves to the `end` of the file. "
   ]
  },
  {
   "cell_type": "code",
   "execution_count": 17,
   "id": "fbaae04a-c3e4-4d8d-8a94-9d5ac0be2749",
   "metadata": {},
   "outputs": [
    {
     "data": {
      "text/plain": [
       "0"
      ]
     },
     "execution_count": 17,
     "metadata": {},
     "output_type": "execute_result"
    }
   ],
   "source": [
    "data.seek(0)"
   ]
  },
  {
   "cell_type": "markdown",
   "id": "0ee6dbf5",
   "metadata": {},
   "source": [
    "In this case, `data.seek(0)` sets the cursor position to the start of the file, indicating that we want to read the file from the beginning."
   ]
  },
  {
   "cell_type": "code",
   "execution_count": 18,
   "id": "684e96f7-1479-4bac-8bb4-8279926acf04",
   "metadata": {},
   "outputs": [
    {
     "data": {
      "text/plain": [
       "\"this is my fileData Science Masters course is highly curated and uniquely designed according to the latest industry standards. This program instills students the skills essential to knowledge discovery efforts to identify standard, novel, and truly differentiated solutions and decision-making, including skills in managing, querying, analyzing, visualizing, and extracting meaning from extremely large data sets. This trending program provides students with the statistical, mathematical and computational skills needed to meet the large-scale data science challenges of today's professional world. You will learn all the stack required to work in data science industry including cloud infrastructure and real-time industry projects. This course will be taught in Hindi language.\""
      ]
     },
     "execution_count": 18,
     "metadata": {},
     "output_type": "execute_result"
    }
   ],
   "source": [
    "data.readline()"
   ]
  },
  {
   "cell_type": "code",
   "execution_count": 19,
   "id": "5cd8c6ac-ad3e-4b87-8182-079dbf9d1f7d",
   "metadata": {},
   "outputs": [
    {
     "data": {
      "text/plain": [
       "10"
      ]
     },
     "execution_count": 19,
     "metadata": {},
     "output_type": "execute_result"
    }
   ],
   "source": [
    "data.seek(10)"
   ]
  },
  {
   "cell_type": "code",
   "execution_count": 20,
   "id": "5a2e7238-d9b2-4600-b815-c128c8c5403a",
   "metadata": {},
   "outputs": [
    {
     "data": {
      "text/plain": [
       "\" fileData Science Masters course is highly curated and uniquely designed according to the latest industry standards. This program instills students the skills essential to knowledge discovery efforts to identify standard, novel, and truly differentiated solutions and decision-making, including skills in managing, querying, analyzing, visualizing, and extracting meaning from extremely large data sets. This trending program provides students with the statistical, mathematical and computational skills needed to meet the large-scale data science challenges of today's professional world. You will learn all the stack required to work in data science industry including cloud infrastructure and real-time industry projects. This course will be taught in Hindi language.\""
      ]
     },
     "execution_count": 20,
     "metadata": {},
     "output_type": "execute_result"
    }
   ],
   "source": [
    "data.read()"
   ]
  },
  {
   "cell_type": "code",
   "execution_count": 21,
   "id": "13d72a64-c914-444b-a70b-364b3340f93a",
   "metadata": {},
   "outputs": [],
   "source": [
    "data.close()"
   ]
  },
  {
   "cell_type": "code",
   "execution_count": 22,
   "id": "536b5d0e-5ba3-42ba-84df-3706a16ab0a9",
   "metadata": {},
   "outputs": [],
   "source": [
    "data1 = open(\"test.txt\" , 'r')"
   ]
  },
  {
   "cell_type": "code",
   "execution_count": 23,
   "id": "96813bb2-8d80-4746-a8e3-e9c979f65679",
   "metadata": {},
   "outputs": [
    {
     "name": "stdout",
     "output_type": "stream",
     "text": [
      "this is my fileData Science Masters course is highly curated and uniquely designed according to the latest industry standards. This program instills students the skills essential to knowledge discovery efforts to identify standard, novel, and truly differentiated solutions and decision-making, including skills in managing, querying, analyzing, visualizing, and extracting meaning from extremely large data sets. This trending program provides students with the statistical, mathematical and computational skills needed to meet the large-scale data science challenges of today's professional world. You will learn all the stack required to work in data science industry including cloud infrastructure and real-time industry projects. This course will be taught in Hindi language.\n"
     ]
    }
   ],
   "source": [
    "for i in data1:\n",
    "    print(i)"
   ]
  },
  {
   "cell_type": "code",
   "execution_count": 24,
   "id": "3a9f14f6-29fc-4187-be06-c98f7fa5ff8a",
   "metadata": {},
   "outputs": [],
   "source": [
    "data1.close()"
   ]
  },
  {
   "cell_type": "markdown",
   "id": "4cf85239",
   "metadata": {},
   "source": [
    "The code in the focal cell is using a `for` loop to `iterate` over the `data1` file object. Each iteration reads a `line` from the `file` and assigns it to the `variable i.` The line is then printed using the `print()` function."
   ]
  },
  {
   "cell_type": "code",
   "execution_count": 25,
   "id": "41333f52-a7b3-4f2b-9403-4858b509a0bf",
   "metadata": {},
   "outputs": [],
   "source": [
    "import os"
   ]
  },
  {
   "cell_type": "code",
   "execution_count": 26,
   "id": "3c934dfd-0496-494d-974b-6bbcbe39e9f9",
   "metadata": {},
   "outputs": [
    {
     "data": {
      "text/plain": [
       "780"
      ]
     },
     "execution_count": 26,
     "metadata": {},
     "output_type": "execute_result"
    }
   ],
   "source": [
    "os.path.getsize(\"test.txt\")"
   ]
  },
  {
   "cell_type": "markdown",
   "id": "b2e94857",
   "metadata": {},
   "source": [
    "In this case, `os.path.getsize(\"test.txt\")` returns the `size` of the file `test.txt` in `bytes.` each character inluding `punctuation` and `blank` spaces are allocated 1 byte memory to be stored."
   ]
  },
  {
   "cell_type": "code",
   "execution_count": 27,
   "id": "07997006-4098-4a25-8e78-ef2269be6ef6",
   "metadata": {},
   "outputs": [],
   "source": [
    "os.remove(\"test.txt\")"
   ]
  },
  {
   "cell_type": "code",
   "execution_count": 28,
   "id": "403a801f-5748-4d77-b5e4-2d5598bc1f50",
   "metadata": {},
   "outputs": [],
   "source": [
    "f = open(\"test1.txt\" , \"w\")"
   ]
  },
  {
   "cell_type": "code",
   "execution_count": 29,
   "id": "f685a9a8-c0ab-47c0-a087-d96bb475fc82",
   "metadata": {},
   "outputs": [
    {
     "data": {
      "text/plain": [
       "780"
      ]
     },
     "execution_count": 29,
     "metadata": {},
     "output_type": "execute_result"
    }
   ],
   "source": [
    "f.write(\"this is my fileData Science Masters course is highly curated and uniquely designed according to the latest industry standards. This program instills students the skills essential to knowledge discovery efforts to identify standard, novel, and truly differentiated solutions and decision-making, including skills in managing, querying, analyzing, visualizing, and extracting meaning from extremely large data sets. This trending program provides students with the statistical, mathematical and computational skills needed to meet the large-scale data science challenges of today's professional world. You will learn all the stack required to work in data science industry including cloud infrastructure and real-time industry projects. This course will be taught in Hindi language.\")"
   ]
  },
  {
   "cell_type": "code",
   "execution_count": 30,
   "id": "9f398934-3e85-4757-889d-ae9a8f2ecbcb",
   "metadata": {},
   "outputs": [],
   "source": [
    "f.close()"
   ]
  },
  {
   "cell_type": "code",
   "execution_count": 31,
   "id": "9552beb5-7039-47d6-b7ff-31eb19c0a50f",
   "metadata": {},
   "outputs": [],
   "source": [
    "os.rename(\"test1.txt\" , \"new.txt\")"
   ]
  },
  {
   "cell_type": "code",
   "execution_count": 32,
   "id": "39df0fd7-22ba-4f3d-998b-6b8383ebf3a6",
   "metadata": {},
   "outputs": [],
   "source": [
    "import shutil"
   ]
  },
  {
   "cell_type": "code",
   "execution_count": 33,
   "id": "7da445f1-6cdc-4264-bed8-1f41dfe2dbea",
   "metadata": {},
   "outputs": [
    {
     "data": {
      "text/plain": [
       "'copy_new.txt'"
      ]
     },
     "execution_count": 33,
     "metadata": {},
     "output_type": "execute_result"
    }
   ],
   "source": [
    "shutil.copy(\"new.txt\" , \"copy_new.txt\")"
   ]
  },
  {
   "cell_type": "code",
   "execution_count": 34,
   "id": "8448f87f-4218-48de-9bdd-155e25d1dfdd",
   "metadata": {},
   "outputs": [
    {
     "name": "stdout",
     "output_type": "stream",
     "text": [
      "this is my fileData Science Masters course is highly curated and uniquely designed according to the latest industry standards. This program instills students the skills essential to knowledge discovery efforts to identify standard, novel, and truly differentiated solutions and decision-making, including skills in managing, querying, analyzing, visualizing, and extracting meaning from extremely large data sets. This trending program provides students with the statistical, mathematical and computational skills needed to meet the large-scale data science challenges of today's professional world. You will learn all the stack required to work in data science industry including cloud infrastructure and real-time industry projects. This course will be taught in Hindi language.\n"
     ]
    }
   ],
   "source": [
    "with open(\"new.txt\" , \"r\") as f :\n",
    "    print(f.read())\n",
    "    "
   ]
  },
  {
   "cell_type": "code",
   "execution_count": null,
   "id": "9dca6578-4786-4525-a29e-2bdb3f0fecf9",
   "metadata": {},
   "outputs": [],
   "source": []
  },
  {
   "cell_type": "markdown",
   "id": "8e20db42",
   "metadata": {},
   "source": [
    "# File reading and writing"
   ]
  },
  {
   "cell_type": "code",
   "execution_count": 35,
   "id": "69bb4cc3-3bd9-4448-b761-2dfa9a677192",
   "metadata": {},
   "outputs": [],
   "source": [
    "data= {\n",
    "    \"name\" : \"sudh\",\n",
    "    \"mail_id\" : \"sudh@gmail.com\",\n",
    "    \"phone number\" : 956456546,\n",
    "    \"subject\" : [\"data science \" , \"big data \" , \"data analytics\" ]\n",
    "}"
   ]
  },
  {
   "cell_type": "markdown",
   "id": "290ff9fc-2432-41a0-87a6-1ba00b944ef5",
   "metadata": {},
   "source": [
    "A `dictionary` called `data` is storing `key-value` pairs. For example, the key `subject` has three values like `data science`, `big data` and `data analytics`."
   ]
  },
  {
   "cell_type": "code",
   "execution_count": 36,
   "id": "ad899eeb-355b-4097-a70c-27803788fb30",
   "metadata": {},
   "outputs": [],
   "source": [
    "import json"
   ]
  },
  {
   "cell_type": "code",
   "execution_count": 37,
   "id": "0b6e9b1f-24c6-4180-a957-a9e62092c2ea",
   "metadata": {},
   "outputs": [],
   "source": [
    "with open(\"data.json\" , \"w\" ) as f :\n",
    "    json.dump(data , f)"
   ]
  },
  {
   "cell_type": "code",
   "execution_count": 38,
   "id": "1bc8850c-184c-4dcf-aa16-d19132da670d",
   "metadata": {},
   "outputs": [],
   "source": [
    "with open(\"data.json\" , \"r\") as f :\n",
    "    data1 = json.load(f)"
   ]
  },
  {
   "cell_type": "markdown",
   "id": "5659f05a-c00b-4439-ab5e-929cdd70ebd6",
   "metadata": {},
   "source": [
    "Loading the content of `data.json` file into naother dictionary `data1`."
   ]
  },
  {
   "cell_type": "code",
   "execution_count": 39,
   "id": "ed04089f-cffa-43b6-9e9d-bfbe2e1542b7",
   "metadata": {},
   "outputs": [
    {
     "data": {
      "text/plain": [
       "{'name': 'sudh',\n",
       " 'mail_id': 'sudh@gmail.com',\n",
       " 'phone number': 956456546,\n",
       " 'subject': ['data science ', 'big data ', 'data analytics']}"
      ]
     },
     "execution_count": 39,
     "metadata": {},
     "output_type": "execute_result"
    }
   ],
   "source": [
    "data1"
   ]
  },
  {
   "cell_type": "code",
   "execution_count": 40,
   "id": "8a69b821-5b4b-4099-93bf-95a3ac6f0a0b",
   "metadata": {},
   "outputs": [
    {
     "data": {
      "text/plain": [
       "'big data '"
      ]
     },
     "execution_count": 40,
     "metadata": {},
     "output_type": "execute_result"
    }
   ],
   "source": [
    "data1['subject'][1]"
   ]
  },
  {
   "cell_type": "code",
   "execution_count": 41,
   "id": "8ce1a39c-7bd8-49e1-be80-c3bab7db9740",
   "metadata": {},
   "outputs": [],
   "source": [
    "import csv"
   ]
  },
  {
   "cell_type": "markdown",
   "id": "80bb963c-9161-480c-a85d-2e52dc43a554",
   "metadata": {},
   "source": [
    "Now creating a list of lists or 2D list `data`"
   ]
  },
  {
   "cell_type": "code",
   "execution_count": 42,
   "id": "f9b40dae-e35d-4cf7-bcff-d95449383e26",
   "metadata": {},
   "outputs": [],
   "source": [
    "data = [[\"name\" , \"email_id\" , \"phone_number\"],\n",
    "        [\"sudh\" ,\"sudh@gmail.com\" , 92342424],\n",
    "        [\"krish\" , \"krish@gmail.com\" , 9324242]\n",
    "]"
   ]
  },
  {
   "cell_type": "markdown",
   "id": "331a12c5-524a-4505-b1e6-0aa3f1585b38",
   "metadata": {},
   "source": [
    "- At first, it opens the file named `data.csv` in `write` mode. The file will be created if it doesn't exist, and if it exists, its contents will be `truncated (cleared).`\n",
    "- Then it creates a `csv.writer` object named `writer `and associates it with the opened file `f.` This object will be used to write the data to the `CSV `file.\n",
    "- The `for` loop iterates over each element (i) in the `data` list. It writes each element as a `row` in the `CSV` file using the `writer.writerow()` method."
   ]
  },
  {
   "cell_type": "code",
   "execution_count": 43,
   "id": "c3c68007-fd47-4dc2-94dc-11d9634f5b96",
   "metadata": {},
   "outputs": [],
   "source": [
    "with open(\"data.csv\" , \"w\" ) as f :\n",
    "    writer = csv.writer(f)\n",
    "    \n",
    "    for i in data:\n",
    "        writer.writerow(i)    "
   ]
  },
  {
   "cell_type": "code",
   "execution_count": 44,
   "id": "8da0e12d-5244-4bb2-b7d8-2aeb4a13b258",
   "metadata": {},
   "outputs": [
    {
     "name": "stdout",
     "output_type": "stream",
     "text": [
      "['name', 'email_id', 'phone_number']\n",
      "[]\n",
      "['sudh', 'sudh@gmail.com', '92342424']\n",
      "[]\n",
      "['krish', 'krish@gmail.com', '9324242']\n",
      "[]\n"
     ]
    }
   ],
   "source": [
    "# open the csv in read mode and associate it with file object f\n",
    "with open(\"data.csv\" , 'r') as f :\n",
    "    # creates a csv.reader object to read the contents of csv\n",
    "    read_data = csv.reader(f)\n",
    "    # print each row of read_data \n",
    "    for i in read_data:\n",
    "        print(i)"
   ]
  },
  {
   "cell_type": "code",
   "execution_count": 45,
   "id": "d43a30f8-e102-4814-bdba-d948a063b6f1",
   "metadata": {},
   "outputs": [],
   "source": [
    "# Open a bin file in binary write mode\n",
    "with open(\"test4.bin\" , \"wb\" ) as f :\n",
    "    # It then writes a sequence of bytes, \n",
    "    # represented by the byte string\n",
    "    f.write(b\"\\x01\\x02\\x03\\x3454235\")"
   ]
  },
  {
   "cell_type": "code",
   "execution_count": 46,
   "id": "90da0648-9bfe-4c7c-a30b-7345ed23a44e",
   "metadata": {},
   "outputs": [
    {
     "name": "stdout",
     "output_type": "stream",
     "text": [
      "b'\\x01\\x02\\x03454235'\n"
     ]
    }
   ],
   "source": [
    "# Open the bin file in binary read mode\n",
    "with open(\"test4.bin\",\"rb\")as f :\n",
    "    # Print the contents read from the file\n",
    "    print(f.read())"
   ]
  },
  {
   "cell_type": "code",
   "execution_count": null,
   "id": "786e0454-539e-4d9e-b582-a70a6d897a17",
   "metadata": {},
   "outputs": [],
   "source": []
  },
  {
   "cell_type": "markdown",
   "id": "3a8fd165",
   "metadata": {},
   "source": [
    "# Buffered Read And Write "
   ]
  },
  {
   "cell_type": "code",
   "execution_count": 47,
   "id": "8a700197-7d9c-49e3-a1de-f5ded7b3e153",
   "metadata": {},
   "outputs": [],
   "source": [
    "import io"
   ]
  },
  {
   "cell_type": "code",
   "execution_count": 48,
   "id": "beee261f-e132-4b3b-bd4e-d80acfe27a49",
   "metadata": {},
   "outputs": [],
   "source": [
    "# Open the file \"test1.txt\" in write binary mode and use the file object \"f\"\n",
    "with open(\"test1.txt\" ,\"wb\") as f :\n",
    "    # Create a buffered writer object \"file\" to write binary data to the file\n",
    "    file = io.BufferedWriter(f)\n",
    "    # Write the first line of data to the file as bytes\n",
    "    file.write(b\"Data Science Masters course is highly curated and uniquely designed according to the latest industry standards. This program instills students the skills essential to knowledge discovery efforts to identify standard, novel, and truly differentiated solutions and decision-making, including skills in managing, querying, analyzing, visualizing, and extracting meaning from extremely large data sets. This trending program provides students with the statistical, mathematical and computational skills needed to meet the large-scale data science challenges of today's professional world. You will learn all the stack required to work in data science industry including cloud infrastructure and real-time industry projects. This course will be taught in Hindi language.\\n\")\n",
    "    # Write the second line of data to the file as bytes\n",
    "    file.write(b\"this is my second  line\\n\")\n",
    "    # Flush the buffered writer to ensure all data is written to the file\n",
    "    file.flush()\n",
    "    "
   ]
  },
  {
   "cell_type": "code",
   "execution_count": 49,
   "id": "e51e9962-e506-4906-b269-be151bb57ba7",
   "metadata": {},
   "outputs": [
    {
     "name": "stdout",
     "output_type": "stream",
     "text": [
      "b\"Data Science Masters course is highly curated and uniquely designed according to the latest industry standards. This program instills students the skills essential to knowledge discovery efforts to identify standard, novel, and truly differentiated solutions and decision-making, including skills in managing, querying, analyzing, visualizing, and extracting meaning from extremely large data sets. This trending program provides students with the statistical, mathematical and computational skills needed to meet the large-scale data science challenges of today's professional world. You will learn all the stack required to work in data science industry including cloud infrastructure and real-time industry projects. This course will be taught in Hindi language.\\nthis is my second  line\\n\"\n"
     ]
    }
   ],
   "source": [
    "# Open the file \"test1.txt\" in read binary mode and use the file object \"f\"\n",
    "with open(\"test1.txt\", \"rb\") as f:\n",
    "    # Create a buffered reader object \"file\" to read binary data from the file\n",
    "    file = io.BufferedReader(f)\n",
    "    # Read up to 1000 bytes of data from the file\n",
    "    data = file.read(1000)\n",
    "    # Print the data\n",
    "    print(data) "
   ]
  },
  {
   "cell_type": "code",
   "execution_count": null,
   "id": "0580ae7a-e821-4dd7-9c81-533ddb680e13",
   "metadata": {},
   "outputs": [],
   "source": []
  },
  {
   "cell_type": "markdown",
   "id": "cbbe34f2",
   "metadata": {},
   "source": [
    "# logging in python "
   ]
  },
  {
   "cell_type": "code",
   "execution_count": 50,
   "id": "5d6430c1-0c9f-4190-a9ac-50c12a49347f",
   "metadata": {},
   "outputs": [
    {
     "name": "stdout",
     "output_type": "stream",
     "text": [
      "this is my print\n"
     ]
    }
   ],
   "source": [
    "print(\"this is my print\")"
   ]
  },
  {
   "cell_type": "code",
   "execution_count": 51,
   "id": "2ea50f8c-ff1c-45a1-b8b2-1abddf9d2f4e",
   "metadata": {},
   "outputs": [],
   "source": [
    "import logging"
   ]
  },
  {
   "cell_type": "code",
   "execution_count": 52,
   "id": "c2345a54-e4c5-4208-a2e6-7b3729b2f3bd",
   "metadata": {},
   "outputs": [],
   "source": [
    "# Set up logging configuration\n",
    "# The \"basicConfig\" function is used to configure the logging module.\n",
    "# Here, we set the filename to \"test.log\", \n",
    "# which is the name of the file where the log messages will be written.\n",
    "# We also specify the logging level as logging.INFO, \n",
    "# which means that only the log messages with the severity level of INFO and more severe will be recorded\n",
    "logging.basicConfig(filename = \"test_info.log\" ,level = logging.INFO)"
   ]
  },
  {
   "cell_type": "code",
   "execution_count": 53,
   "id": "b66a9a08-ea3f-46bd-89f6-309abc66cf6a",
   "metadata": {},
   "outputs": [],
   "source": [
    "# Rewrite the code with comments included for each line such that a beginner can understand clearly\n",
    "# Log the line of execution\n",
    "logging.info(\"log this line of execution\")\n",
    "\n",
    "# Log a print statement\n",
    "logging.info(\"this is my print\")\n",
    "\n",
    "# Log a debug message\n",
    "logging.debug(\"this is my msg\")\n",
    "\n",
    "# Log a warning message\n",
    "logging.warning(\"this is my warning msg\")\n",
    "\n",
    "# Log an error message\n",
    "logging.error(\"this is my error\")\n",
    "\n",
    "# Log a critical message\n",
    "logging.critical(\"this is my critical msg\")\n",
    "\n",
    "# Shutdown the logging system\n",
    "logging.shutdown()"
   ]
  },
  {
   "cell_type": "markdown",
   "id": "a3dee4a7-887a-4428-80e2-06e4be21de99",
   "metadata": {},
   "source": [
    "Now Restart the kernel. "
   ]
  },
  {
   "cell_type": "code",
   "execution_count": 1,
   "id": "9c70c859-9748-4811-a72e-6d37bedfe515",
   "metadata": {},
   "outputs": [],
   "source": [
    "# Now restart the kernel and then execute\n",
    "import logging\n",
    "# You can try setting the logging level explicitly to DEBUG to enable the debug messages. \n",
    "logging.basicConfig(filename = \"test_debug.log\" ,level = logging.DEBUG)"
   ]
  },
  {
   "cell_type": "code",
   "execution_count": 2,
   "id": "8cb83437-5ca0-446a-8cf1-8efab8c99236",
   "metadata": {},
   "outputs": [],
   "source": [
    "# Rewrite the code with comments included for each line such that a beginner can understand clearly\n",
    "# Log the line of execution\n",
    "logging.info(\"log this line of execution\")\n",
    "\n",
    "# Log a print statement\n",
    "logging.info(\"this is my print\")\n",
    "\n",
    "# Log a debug message\n",
    "logging.debug(\"this is my msg\")\n",
    "\n",
    "# Log a warning message\n",
    "logging.warning(\"this is my warning msg\")\n",
    "\n",
    "# Log an error message\n",
    "logging.error(\"this is my error\")\n",
    "\n",
    "# Log a critical message\n",
    "logging.critical(\"this is my critical msg\")\n",
    "\n",
    "# Shutdown the logging system\n",
    "logging.shutdown()"
   ]
  },
  {
   "cell_type": "markdown",
   "id": "36310be6-cd64-46a4-a344-4a1b0d3ace01",
   "metadata": {},
   "source": [
    "The `logging` functions are named after the `level or severity` of the events they are used to track. The standard `levels` and their applicability are described below (in `increasing` order of `severity):`\n",
    "\n",
    "1. **NOTSET:** \n",
    "2. **DEBUG:** Detailed information, typically of interest only when diagnosing problems. \n",
    "3. **INFO:** Confirmation that things are working as expected\n",
    "4. **WARNING:** An indication that something unexpected happened, or indicative of some problem in the near future (e.g. ‘disk space low’). The software is still working as expected.\n",
    "5. **ERROR:** Due to a more serious problem, the software has not been able to perform some function.\n",
    "6. **CRITICAL:** A serious error, indicating that the program itself may be unable to continue running.\n",
    "\n",
    "The default level is **WARNING**, which means that only events of this level and above(more severe) will be tracked, unless the logging package is configured to do otherwise."
   ]
  },
  {
   "cell_type": "code",
   "execution_count": 1,
   "id": "cd3e07e0-7108-4a04-84bb-758435c6f2ad",
   "metadata": {},
   "outputs": [],
   "source": [
    "# Now restart the kernel and then execute\n",
    "import logging"
   ]
  },
  {
   "cell_type": "code",
   "execution_count": 2,
   "id": "8d3cbe8f-5d2d-4813-9848-54cb459fd036",
   "metadata": {},
   "outputs": [],
   "source": [
    "logging.basicConfig(filename = \"test1.log\" , level =logging.DEBUG , format = '%(asctime)s %(message)s' )"
   ]
  },
  {
   "cell_type": "code",
   "execution_count": 3,
   "id": "90e54379-f921-49fb-b59c-888083ada94b",
   "metadata": {},
   "outputs": [],
   "source": [
    "logging.info(\"this is my info logging \" )\n",
    "logging.error(\"this is my error msg\" )\n",
    "logging.critical(\"this is my critical\")"
   ]
  },
  {
   "cell_type": "code",
   "execution_count": 4,
   "id": "622f02d0-bc7b-4d21-ae03-2f1a073e2d17",
   "metadata": {},
   "outputs": [],
   "source": [
    "logging.shutdown()"
   ]
  },
  {
   "cell_type": "code",
   "execution_count": 1,
   "id": "b7ea6073-dc9b-4b75-9a85-4e1d6ed3d46d",
   "metadata": {},
   "outputs": [],
   "source": [
    "# Now restart the kernal and then execute\n",
    "import logging\n",
    "logging.basicConfig(filename = \"test2.log\" , level = logging.DEBUG , format = '%(asctime)s %(name)s %(levelname)s  %(message)s')"
   ]
  },
  {
   "cell_type": "code",
   "execution_count": 2,
   "id": "6dc17717-9916-486c-95d5-178c83d98510",
   "metadata": {},
   "outputs": [],
   "source": [
    "logging.info(\"this is my info logging \" )\n",
    "logging.error(\"this is my error msg\" )\n",
    "logging.critical(\"this is my critical\")\n",
    "logging.shutdown()"
   ]
  },
  {
   "cell_type": "code",
   "execution_count": 1,
   "id": "1796585b-037f-4f2b-856a-cd7ab2ac0ee2",
   "metadata": {},
   "outputs": [],
   "source": [
    "# Now restart the kernel and then execute\n",
    "import logging\n",
    "logging.basicConfig(filename = \"test3.log\" ,level = logging.INFO)\n",
    "\n",
    "l = [1,2,3,34,4,[2,3,4] , \"sudh\" , \"kumar\"]\n",
    "l1_int = []\n",
    "l2_str = []\n",
    "for i in l :\n",
    "    logging.info(\"we are iterating through our list and our local var is {}\".format(l))\n",
    "    if type(i ) == list :\n",
    "        logging.info(\"i am inside if statement and i am trying to check list type\" + str(i))\n",
    "        for j in i :\n",
    "            logging.info(\"i am in anothe for loop for list inside list element \"+ str(j))\n",
    "            if type(j) == int :\n",
    "                logging.info(\"i am inside if statement\")\n",
    "                l1_int.append(j)\n",
    "    elif type(i) == int :\n",
    "        l1_int.append(i)\n",
    "    else :\n",
    "        if type(i) == str : \n",
    "            l2_str.append(i)\n",
    "logging.info(\"my final result for int is {l1} and str is {l2}\".format(l1 =l1_int , l2 = l2_str ))\n",
    "        "
   ]
  },
  {
   "cell_type": "code",
   "execution_count": 2,
   "id": "1f2428a7-5901-43c5-a432-6a8b4ae50779",
   "metadata": {},
   "outputs": [
    {
     "data": {
      "text/plain": [
       "[1, 2, 3, 34, 4, 2, 3, 4]"
      ]
     },
     "execution_count": 2,
     "metadata": {},
     "output_type": "execute_result"
    }
   ],
   "source": [
    "l1_int"
   ]
  },
  {
   "cell_type": "code",
   "execution_count": 3,
   "id": "f4f625d1-30fc-41ff-9707-383d1023124d",
   "metadata": {},
   "outputs": [
    {
     "data": {
      "text/plain": [
       "['sudh', 'kumar']"
      ]
     },
     "execution_count": 3,
     "metadata": {},
     "output_type": "execute_result"
    }
   ],
   "source": [
    "l2_str"
   ]
  },
  {
   "cell_type": "code",
   "execution_count": 4,
   "id": "bdf29382-0a42-4697-8ab0-6e9ebc2d2af6",
   "metadata": {},
   "outputs": [],
   "source": [
    "logging.shutdown()"
   ]
  },
  {
   "cell_type": "markdown",
   "id": "b83d87a8",
   "metadata": {},
   "source": [
    "# Exceptions Handling With Try-Except"
   ]
  },
  {
   "cell_type": "code",
   "execution_count": 1,
   "id": "f07eaaa3-f37a-4aa9-b2e5-4cf32fbe635c",
   "metadata": {},
   "outputs": [],
   "source": [
    "a = 10 "
   ]
  },
  {
   "cell_type": "code",
   "execution_count": 2,
   "id": "28b2e637-8fa3-4add-ae41-308d2beade58",
   "metadata": {},
   "outputs": [
    {
     "ename": "ZeroDivisionError",
     "evalue": "division by zero",
     "output_type": "error",
     "traceback": [
      "\u001b[1;31m---------------------------------------------------------------------------\u001b[0m",
      "\u001b[1;31mZeroDivisionError\u001b[0m                         Traceback (most recent call last)",
      "Cell \u001b[1;32mIn[2], line 1\u001b[0m\n\u001b[1;32m----> 1\u001b[0m \u001b[43ma\u001b[49m\u001b[38;5;241;43m/\u001b[39;49m\u001b[38;5;241;43m0\u001b[39;49m\n",
      "\u001b[1;31mZeroDivisionError\u001b[0m: division by zero"
     ]
    }
   ],
   "source": [
    "a/0"
   ]
  },
  {
   "cell_type": "code",
   "execution_count": 3,
   "id": "be01b232-3d0a-423e-ac69-e2982c61a1f8",
   "metadata": {},
   "outputs": [
    {
     "ename": "FileNotFoundError",
     "evalue": "[Errno 2] No such file or directory: 'test.txt'",
     "output_type": "error",
     "traceback": [
      "\u001b[1;31m---------------------------------------------------------------------------\u001b[0m",
      "\u001b[1;31mFileNotFoundError\u001b[0m                         Traceback (most recent call last)",
      "Cell \u001b[1;32mIn[3], line 1\u001b[0m\n\u001b[1;32m----> 1\u001b[0m f\u001b[38;5;241m=\u001b[39m \u001b[38;5;28;43mopen\u001b[39;49m\u001b[43m(\u001b[49m\u001b[38;5;124;43m\"\u001b[39;49m\u001b[38;5;124;43mtest.txt\u001b[39;49m\u001b[38;5;124;43m\"\u001b[39;49m\u001b[43m \u001b[49m\u001b[43m,\u001b[49m\u001b[43m \u001b[49m\u001b[38;5;124;43m'\u001b[39;49m\u001b[38;5;124;43mr\u001b[39;49m\u001b[38;5;124;43m'\u001b[39;49m\u001b[43m)\u001b[49m\n\u001b[0;32m      2\u001b[0m \u001b[38;5;28mprint\u001b[39m(\u001b[38;5;124m\"\u001b[39m\u001b[38;5;124mthis is my print\u001b[39m\u001b[38;5;124m\"\u001b[39m)\n",
      "File \u001b[1;32m~\\anaconda3\\lib\\site-packages\\IPython\\core\\interactiveshell.py:284\u001b[0m, in \u001b[0;36m_modified_open\u001b[1;34m(file, *args, **kwargs)\u001b[0m\n\u001b[0;32m    277\u001b[0m \u001b[38;5;28;01mif\u001b[39;00m file \u001b[38;5;129;01min\u001b[39;00m {\u001b[38;5;241m0\u001b[39m, \u001b[38;5;241m1\u001b[39m, \u001b[38;5;241m2\u001b[39m}:\n\u001b[0;32m    278\u001b[0m     \u001b[38;5;28;01mraise\u001b[39;00m \u001b[38;5;167;01mValueError\u001b[39;00m(\n\u001b[0;32m    279\u001b[0m         \u001b[38;5;124mf\u001b[39m\u001b[38;5;124m\"\u001b[39m\u001b[38;5;124mIPython won\u001b[39m\u001b[38;5;124m'\u001b[39m\u001b[38;5;124mt let you open fd=\u001b[39m\u001b[38;5;132;01m{\u001b[39;00mfile\u001b[38;5;132;01m}\u001b[39;00m\u001b[38;5;124m by default \u001b[39m\u001b[38;5;124m\"\u001b[39m\n\u001b[0;32m    280\u001b[0m         \u001b[38;5;124m\"\u001b[39m\u001b[38;5;124mas it is likely to crash IPython. If you know what you are doing, \u001b[39m\u001b[38;5;124m\"\u001b[39m\n\u001b[0;32m    281\u001b[0m         \u001b[38;5;124m\"\u001b[39m\u001b[38;5;124myou can use builtins\u001b[39m\u001b[38;5;124m'\u001b[39m\u001b[38;5;124m open.\u001b[39m\u001b[38;5;124m\"\u001b[39m\n\u001b[0;32m    282\u001b[0m     )\n\u001b[1;32m--> 284\u001b[0m \u001b[38;5;28;01mreturn\u001b[39;00m io_open(file, \u001b[38;5;241m*\u001b[39margs, \u001b[38;5;241m*\u001b[39m\u001b[38;5;241m*\u001b[39mkwargs)\n",
      "\u001b[1;31mFileNotFoundError\u001b[0m: [Errno 2] No such file or directory: 'test.txt'"
     ]
    }
   ],
   "source": [
    "f= open(\"test.txt\" , 'r')\n",
    "print(\"this is my print\")"
   ]
  },
  {
   "cell_type": "code",
   "execution_count": 4,
   "id": "ed4adafb-bec1-46a6-aacf-695a0540f9ed",
   "metadata": {},
   "outputs": [
    {
     "name": "stdout",
     "output_type": "stream",
     "text": [
      "this is my except block  [Errno 2] No such file or directory: 'test.txt'\n"
     ]
    },
    {
     "data": {
      "text/plain": [
       "9"
      ]
     },
     "execution_count": 4,
     "metadata": {},
     "output_type": "execute_result"
    }
   ],
   "source": [
    "try :\n",
    "    # Open a file in read mode\n",
    "    f= open(\"test.txt\" , 'r')\n",
    "except Exception  as e : \n",
    "    # To handle FileNotFoundError in case file does not exist\n",
    "    print(\"this is my except block \" , e)\n",
    "a = 4+5\n",
    "a"
   ]
  },
  {
   "cell_type": "code",
   "execution_count": 5,
   "id": "6db3a0d0-2f9c-417a-a1aa-7a41d1d0786c",
   "metadata": {},
   "outputs": [
    {
     "name": "stdout",
     "output_type": "stream",
     "text": [
      "FileNotFoundError:  [Errno 2] No such file or directory: 'test.txt'\n"
     ]
    }
   ],
   "source": [
    "try :\n",
    "    # Open the file in read mode\n",
    "    # There will be no error if the file exists\n",
    "    f= open(\"test.txt\" , 'r')\n",
    "    f.close()\n",
    "except Exception  as e : \n",
    "    # To handle FileNotFoundError in case file does not exist\n",
    "    print(\"FileNotFoundError: \" , e)"
   ]
  },
  {
   "cell_type": "code",
   "execution_count": 6,
   "id": "c78d4416-c589-476d-95a1-ed49d5f9a270",
   "metadata": {},
   "outputs": [
    {
     "name": "stdout",
     "output_type": "stream",
     "text": [
      " this will be executed once your try will execute without error\n"
     ]
    }
   ],
   "source": [
    "try :\n",
    "    # Open a file in write mode\n",
    "    # File will be created if it doesn't exist\n",
    "    f= open(\"test.txt\" , 'w')\n",
    "     # write some data in the file\n",
    "    f.write(\" write into my file \" )\n",
    "except Exception  as e : \n",
    "     # To handle FileNotFoundError in case file does not exist\n",
    "    print(\"this is my except block \" , e)\n",
    "else : \n",
    "    f.close()\n",
    "    print(\" this will be executed once your try will execute without error\" ) "
   ]
  },
  {
   "cell_type": "code",
   "execution_count": 7,
   "id": "708b70dd-65ca-4e15-9dbf-b8738db9e8ff",
   "metadata": {},
   "outputs": [
    {
     "ename": "UnsupportedOperation",
     "evalue": "not writable",
     "output_type": "error",
     "traceback": [
      "\u001b[1;31m---------------------------------------------------------------------------\u001b[0m",
      "\u001b[1;31mUnsupportedOperation\u001b[0m                      Traceback (most recent call last)",
      "Cell \u001b[1;32mIn[7], line 5\u001b[0m\n\u001b[0;32m      3\u001b[0m f\u001b[38;5;241m=\u001b[39m \u001b[38;5;28mopen\u001b[39m(\u001b[38;5;124m\"\u001b[39m\u001b[38;5;124mtest1.txt\u001b[39m\u001b[38;5;124m\"\u001b[39m , \u001b[38;5;124m'\u001b[39m\u001b[38;5;124mr\u001b[39m\u001b[38;5;124m'\u001b[39m)\n\u001b[0;32m      4\u001b[0m \u001b[38;5;66;03m# try to write some data in the file\u001b[39;00m\n\u001b[1;32m----> 5\u001b[0m \u001b[43mf\u001b[49m\u001b[38;5;241;43m.\u001b[39;49m\u001b[43mwrite\u001b[49m\u001b[43m(\u001b[49m\u001b[38;5;124;43m\"\u001b[39;49m\u001b[38;5;124;43m write into my file \u001b[39;49m\u001b[38;5;124;43m\"\u001b[39;49m\u001b[43m \u001b[49m\u001b[43m)\u001b[49m\n",
      "\u001b[1;31mUnsupportedOperation\u001b[0m: not writable"
     ]
    }
   ],
   "source": [
    " # Open the file in read mode\n",
    "# There will be no error if the file exists\n",
    "f= open(\"test1.txt\" , 'r')\n",
    "# try to write some data in the file\n",
    "f.write(\" write into my file \" )"
   ]
  },
  {
   "cell_type": "code",
   "execution_count": 8,
   "id": "f5bfa418-03a3-4145-be46-8960e9b0812f",
   "metadata": {},
   "outputs": [
    {
     "name": "stdout",
     "output_type": "stream",
     "text": [
      "UnsupportedOperation error:  not writable\n"
     ]
    }
   ],
   "source": [
    "try :\n",
    "    # Open the file in read mode\n",
    "    # There will be no error if the file exists\n",
    "    f= open(\"test1.txt\" , 'r')\n",
    "    # try to write some data in the file\n",
    "    f.write(\" write into my file \" )\n",
    "except Exception  as e : \n",
    "     # To handle UnsupportedOperation error \n",
    "     # in case file is not writable\n",
    "    print(\"UnsupportedOperation error: \" , e)\n",
    "else : \n",
    "    f.close()\n",
    "    print(\" this will be executed once your try will execute without error\" )"
   ]
  },
  {
   "cell_type": "code",
   "execution_count": 9,
   "id": "474a8338-5463-4733-b619-24fb4811f7da",
   "metadata": {},
   "outputs": [
    {
     "name": "stdout",
     "output_type": "stream",
     "text": [
      "finally will execute itself in any situation\n"
     ]
    },
    {
     "ename": "FileNotFoundError",
     "evalue": "[Errno 2] No such file or directory: 'test3.txt'",
     "output_type": "error",
     "traceback": [
      "\u001b[1;31m---------------------------------------------------------------------------\u001b[0m",
      "\u001b[1;31mFileNotFoundError\u001b[0m                         Traceback (most recent call last)",
      "Cell \u001b[1;32mIn[9], line 2\u001b[0m\n\u001b[0;32m      1\u001b[0m \u001b[38;5;28;01mtry\u001b[39;00m :\n\u001b[1;32m----> 2\u001b[0m     f \u001b[38;5;241m=\u001b[39m \u001b[38;5;28;43mopen\u001b[39;49m\u001b[43m(\u001b[49m\u001b[38;5;124;43m\"\u001b[39;49m\u001b[38;5;124;43mtest3.txt\u001b[39;49m\u001b[38;5;124;43m\"\u001b[39;49m\u001b[43m \u001b[49m\u001b[43m,\u001b[49m\u001b[43m \u001b[49m\u001b[38;5;124;43m'\u001b[39;49m\u001b[38;5;124;43mr\u001b[39;49m\u001b[38;5;124;43m'\u001b[39;49m\u001b[43m)\u001b[49m\n\u001b[0;32m      3\u001b[0m     f\u001b[38;5;241m.\u001b[39mwrite(\u001b[38;5;124m\"\u001b[39m\u001b[38;5;124mwrite something\u001b[39m\u001b[38;5;124m\"\u001b[39m )\n\u001b[0;32m      4\u001b[0m \u001b[38;5;28;01mfinally\u001b[39;00m : \n",
      "File \u001b[1;32m~\\anaconda3\\lib\\site-packages\\IPython\\core\\interactiveshell.py:284\u001b[0m, in \u001b[0;36m_modified_open\u001b[1;34m(file, *args, **kwargs)\u001b[0m\n\u001b[0;32m    277\u001b[0m \u001b[38;5;28;01mif\u001b[39;00m file \u001b[38;5;129;01min\u001b[39;00m {\u001b[38;5;241m0\u001b[39m, \u001b[38;5;241m1\u001b[39m, \u001b[38;5;241m2\u001b[39m}:\n\u001b[0;32m    278\u001b[0m     \u001b[38;5;28;01mraise\u001b[39;00m \u001b[38;5;167;01mValueError\u001b[39;00m(\n\u001b[0;32m    279\u001b[0m         \u001b[38;5;124mf\u001b[39m\u001b[38;5;124m\"\u001b[39m\u001b[38;5;124mIPython won\u001b[39m\u001b[38;5;124m'\u001b[39m\u001b[38;5;124mt let you open fd=\u001b[39m\u001b[38;5;132;01m{\u001b[39;00mfile\u001b[38;5;132;01m}\u001b[39;00m\u001b[38;5;124m by default \u001b[39m\u001b[38;5;124m\"\u001b[39m\n\u001b[0;32m    280\u001b[0m         \u001b[38;5;124m\"\u001b[39m\u001b[38;5;124mas it is likely to crash IPython. If you know what you are doing, \u001b[39m\u001b[38;5;124m\"\u001b[39m\n\u001b[0;32m    281\u001b[0m         \u001b[38;5;124m\"\u001b[39m\u001b[38;5;124myou can use builtins\u001b[39m\u001b[38;5;124m'\u001b[39m\u001b[38;5;124m open.\u001b[39m\u001b[38;5;124m\"\u001b[39m\n\u001b[0;32m    282\u001b[0m     )\n\u001b[1;32m--> 284\u001b[0m \u001b[38;5;28;01mreturn\u001b[39;00m io_open(file, \u001b[38;5;241m*\u001b[39margs, \u001b[38;5;241m*\u001b[39m\u001b[38;5;241m*\u001b[39mkwargs)\n",
      "\u001b[1;31mFileNotFoundError\u001b[0m: [Errno 2] No such file or directory: 'test3.txt'"
     ]
    }
   ],
   "source": [
    "try :\n",
    "    f = open(\"test3.txt\" , 'r')\n",
    "    f.write(\"write something\" )\n",
    "finally : \n",
    "    print(\"finally will execute itself in any situation\")"
   ]
  },
  {
   "cell_type": "code",
   "execution_count": null,
   "id": "81294b1d-17ca-41b3-8be9-500f07a20def",
   "metadata": {},
   "outputs": [],
   "source": []
  },
  {
   "cell_type": "markdown",
   "id": "914bfde6",
   "metadata": {},
   "source": [
    "<hr><font color=\"green\"><h1>from file: 06.Custom Exception Handling Hindi</h1></font>"
   ]
  },
  {
   "cell_type": "code",
   "execution_count": 1,
   "id": "e0da73fa-4664-465e-b642-c674b85f8563",
   "metadata": {},
   "outputs": [
    {
     "name": "stdout",
     "output_type": "stream",
     "text": [
      "Enter your age: 35\n"
     ]
    }
   ],
   "source": [
    "# Ask the user to enter their age and store it in the variable 'age'\n",
    "age = int(input(\"Enter your age: \"))"
   ]
  },
  {
   "cell_type": "code",
   "execution_count": 2,
   "id": "8cd952db-3fe5-4652-bac2-8fc75abd5128",
   "metadata": {},
   "outputs": [],
   "source": [
    "# Define a custom exception class named 'validateage'\n",
    "class validateage(Exception):\n",
    "    \n",
    "    # Constructor of the custom exception class, it takes a message as an argument\n",
    "    def __init__(self, msg):\n",
    "        self.msg = msg"
   ]
  },
  {
   "cell_type": "code",
   "execution_count": 3,
   "id": "e210d7f4-85dd-446d-a03e-2a514e949b5f",
   "metadata": {},
   "outputs": [],
   "source": [
    "# Create a function called 'validateage' that takes 'age' as a parameter\n",
    "def validate_age(age): \n",
    "    # Check if the age is negative\n",
    "    if age < 0:\n",
    "        # If the age is negative, raise a 'validateage' exception error class\n",
    "        # with the message \"entered age is negative\"\n",
    "        raise validateage(\"entered age is negative\")\n",
    "    # Check if the age is greater than 200\n",
    "    elif age > 200: \n",
    "        # If the age is very high, raise a 'validateage' exception error class\n",
    "        # with the message \"entered age is very very high\"\n",
    "        raise validateage(\"entered age is very very high\")\n",
    "    else:\n",
    "        # If the age is valid (between 0 and 200), print \"age is valid\"\n",
    "        print(\"age is valid\")"
   ]
  },
  {
   "cell_type": "code",
   "execution_count": 4,
   "id": "fc6eb13c-e38b-41c5-b552-1cc35552f88d",
   "metadata": {},
   "outputs": [
    {
     "name": "stdout",
     "output_type": "stream",
     "text": [
      "Enter your age: 35\n",
      "age is valid\n"
     ]
    }
   ],
   "source": [
    "# Prompt the user to enter their age and store it in the variable 'age'\n",
    "try:\n",
    "    age = int(input(\"Enter your age: \"))\n",
    "    \n",
    "    # Call the function 'validate_age' method with the entered age as an argument\n",
    "    validate_age(age)\n",
    "\n",
    "except validateage as e:\n",
    "    # If a 'validateage' exception error class is raised, catch it and print the error message\n",
    "    print(e)"
   ]
  },
  {
   "cell_type": "code",
   "execution_count": null,
   "id": "ea3949bb-efc1-4c75-945f-1ab68f3dfc7e",
   "metadata": {},
   "outputs": [],
   "source": []
  },
  {
   "cell_type": "markdown",
   "id": "8448ec0d",
   "metadata": {},
   "source": [
    "<hr><font color=\"green\"><h1>from file: 07.List Of General Use Exceptions Hindi</h1></font>"
   ]
  },
  {
   "cell_type": "code",
   "execution_count": 1,
   "id": "b44f0288-bc82-4d4c-99bd-d1dabe73d8a8",
   "metadata": {},
   "outputs": [
    {
     "name": "stdout",
     "output_type": "stream",
     "text": [
      "division by zero\n"
     ]
    }
   ],
   "source": [
    "# We are trying to perform a division operation with 10 divided by 0\n",
    "try:\n",
    "    a = 10 / 0\n",
    "# If a 'ZeroDivisionError' occurs during the division (i.e., when we try to divide by zero),\n",
    "# catch the exception and store it in the variable 'e'.\n",
    "except ZeroDivisionError as e:\n",
    "    # Print the error message associated with the 'ZeroDivisionError'.\n",
    "    print(e)"
   ]
  },
  {
   "cell_type": "code",
   "execution_count": 2,
   "id": "1384a309-7b12-4ca4-ab05-3a61c295a349",
   "metadata": {},
   "outputs": [
    {
     "name": "stdout",
     "output_type": "stream",
     "text": [
      "invalid literal for int() with base 10: 'sudh'\n"
     ]
    }
   ],
   "source": [
    "# The code provided attempts to convert the string \"sudh\" into an integer using the int() function.\n",
    "# However, this will raise a ValueError since \"sudh\" cannot be converted into an integer.\n",
    "\n",
    "try:\n",
    "    # Try to convert the string \"sudh\" into an integer using the int() function.\n",
    "    int(\"sudh\")\n",
    "\n",
    "# If a ValueError or a TypeError occurs during the conversion (i.e., when the string cannot be converted to an integer),\n",
    "# catch the exception and store it in the variable 'e'.\n",
    "except (ValueError, TypeError) as e:\n",
    "    # Print the error message associated with the exception.\n",
    "    print(e)"
   ]
  },
  {
   "cell_type": "code",
   "execution_count": 3,
   "id": "d6a4158b-f1f5-4016-8dfd-323c99373667",
   "metadata": {},
   "outputs": [
    {
     "name": "stdout",
     "output_type": "stream",
     "text": [
      "this will catch an error\n"
     ]
    }
   ],
   "source": [
    "try :\n",
    "    int(\"sudh\")\n",
    "except:\n",
    "    print(\"this will catch an error\")"
   ]
  },
  {
   "cell_type": "code",
   "execution_count": 4,
   "id": "bb2b4c82-88cf-4ffd-b08b-b1751ad96420",
   "metadata": {},
   "outputs": [
    {
     "name": "stdout",
     "output_type": "stream",
     "text": [
      "No module named 'sudh'\n"
     ]
    }
   ],
   "source": [
    "# The code attempts to import a module named 'sudh'.\n",
    "# If the 'sudh' module is not found (i.e., ImportError occurs),\n",
    "# catch the exception and store it in the variable 'e'.\n",
    "try:\n",
    "    import sudh\n",
    "\n",
    "# If an ImportError occurs during the import,\n",
    "# catch the exception and store it in the variable 'e'.\n",
    "except ImportError as e:\n",
    "    # Print the error message associated with the ImportError.\n",
    "    print(e)"
   ]
  },
  {
   "cell_type": "code",
   "execution_count": 5,
   "id": "72e0825e-61bf-4cea-bedd-91f6583161b1",
   "metadata": {},
   "outputs": [
    {
     "name": "stdout",
     "output_type": "stream",
     "text": [
      "'key2'\n"
     ]
    }
   ],
   "source": [
    "# We are trying to access the value associated with the key \"key2\" in the dictionary 'd'.\n",
    "# However, the key \"key2\" does not exist in the dictionary, so it will raise a KeyError.\n",
    "\n",
    "try:\n",
    "    d = {\"key\": \"sudh\", 1: [2, 3, 4, 5]}\n",
    "    print(d[\"key2\"])\n",
    "\n",
    "# If a KeyError occurs during the dictionary key lookup,\n",
    "# catch the exception and store it in the variable 'e'.\n",
    "except KeyError as e:\n",
    "    # Print the error message associated with the KeyError.\n",
    "    print(e)"
   ]
  },
  {
   "cell_type": "code",
   "execution_count": 6,
   "id": "47e3fa58-f047-4a88-b1a4-cd7d9a5f0ab9",
   "metadata": {},
   "outputs": [
    {
     "name": "stdout",
     "output_type": "stream",
     "text": [
      "'str' object has no attribute 'test'\n"
     ]
    }
   ],
   "source": [
    "# The code attempts to call the method 'test()' on the string \"sudh\".\n",
    "# However, the method 'test()' does not exist for strings, so it will raise an AttributeError.\n",
    "\n",
    "try: \n",
    "    # Try to call the method 'test()' on the string \"sudh\".\n",
    "    \"sudh\".test()\n",
    "    \n",
    "# If an AttributeError occurs during the method call (i.e., when the method does not exist for the object),\n",
    "# catch the exception and store it in the variable 'e'.\n",
    "except AttributeError as e:\n",
    "    # Print the error message associated with the AttributeError.\n",
    "    print(e) "
   ]
  },
  {
   "cell_type": "code",
   "execution_count": 7,
   "id": "a9a2b5b3-26ba-4581-9404-ecfc8bafc438",
   "metadata": {},
   "outputs": [
    {
     "name": "stdout",
     "output_type": "stream",
     "text": [
      "list index out of range\n"
     ]
    }
   ],
   "source": [
    "# We are trying to access the value associated with the index 6 in the list 'l'.\n",
    "# However, the list 'l' does not have an element at index 6, so it will raise an IndexError.\n",
    "\n",
    "try:\n",
    "    l = [2, 3, 4, 5]\n",
    "    print(l[6])\n",
    "\n",
    "# If an IndexError occurs during the list index lookup,\n",
    "# catch the exception and store it in the variable 'e'.\n",
    "except IndexError as e:\n",
    "    # Print the error message associated with the IndexError.\n",
    "    print(e)"
   ]
  },
  {
   "cell_type": "code",
   "execution_count": 8,
   "id": "ea0569f6-ba32-41cd-acde-b7d0ac83d700",
   "metadata": {},
   "outputs": [
    {
     "name": "stdout",
     "output_type": "stream",
     "text": [
      "unsupported operand type(s) for +: 'int' and 'str'\n"
     ]
    }
   ],
   "source": [
    "# We are trying to add an integer '123' with a string \"sudh\" in the expression '123 + \"sudh\"'.\n",
    "# However, addition between an integer and a string is not allowed, so it will raise a TypeError.\n",
    "\n",
    "try:\n",
    "    # Attempt to perform the addition operation between an integer and a string.\n",
    "    123 + \"sudh\"\n",
    "\n",
    "# If a TypeError occurs during the addition operation (i.e., when the types are not compatible for addition),\n",
    "# catch the exception and store it in the variable 'e'.\n",
    "except TypeError as e:\n",
    "    # Print the error message associated with the TypeError.\n",
    "    print(e)"
   ]
  },
  {
   "cell_type": "code",
   "execution_count": 9,
   "id": "a2565cde-441d-4789-9ee2-b39eb362c154",
   "metadata": {},
   "outputs": [],
   "source": [
    "# The code attempts to open and read the contents of a file named \"test.txt\".\n",
    "# It uses a 'with' statement to ensure the file is properly closed after reading.\n",
    "# If the file \"test.txt\" is not found in the current directory, it will raise a FileNotFoundError.\n",
    "\n",
    "try:\n",
    "    # Try to open the file \"test.txt\" in read mode.\n",
    "    with open(\"test.txt\", 'r') as f:\n",
    "        # Read the contents of the file into the variable 'test'.\n",
    "        test = f.read()\n",
    "\n",
    "# If a FileNotFoundError occurs while trying to open the file,\n",
    "# catch the exception and store it in the variable 'e'.\n",
    "except FileNotFoundError as e:\n",
    "    # Print the error message associated with the FileNotFoundError.\n",
    "    print(e)"
   ]
  },
  {
   "cell_type": "code",
   "execution_count": 10,
   "id": "fc071116-494a-4d0d-a10f-51da0600c63d",
   "metadata": {},
   "outputs": [],
   "source": [
    "# The code attempts to open and read the contents of a file named \"test.txt\".\n",
    "# It uses a 'with' statement to ensure the file is properly closed after reading.\n",
    "# If the file \"test.txt\" is not found in the current directory, it will raise a FileNotFoundError.\n",
    "# If any other exception occurs while trying to open the file, it will be caught and stored in the variable 'e'.\n",
    "\n",
    "try:\n",
    "    # Try to open the file \"test.txt\" in read mode.\n",
    "    with open(\"test.txt\", 'r') as f:\n",
    "        # Read the contents of the file into the variable 'test'.\n",
    "        test = f.read()\n",
    "\n",
    "# If a FileNotFoundError occurs while trying to open the file,\n",
    "# catch the exception and store it in the variable 'e'.\n",
    "except FileNotFoundError as e:\n",
    "    # Print the error message associated with the FileNotFoundError.\n",
    "    print(\"FileNotFoundError:\", e)\n",
    "\n",
    "# If any other exception occurs during the file open and read operation,\n",
    "# catch the exception and store it in the variable 'e'.\n",
    "except Exception as e:\n",
    "    # Print the error message associated with the exception.\n",
    "    print(\"Exception:\", e)"
   ]
  },
  {
   "cell_type": "code",
   "execution_count": 11,
   "id": "5793ef19-338a-46ac-ace6-95281a6e0568",
   "metadata": {},
   "outputs": [],
   "source": [
    "# Complete the code with comments included for each line.\n",
    "# The code defines a function 'test' that takes a file name as an argument.\n",
    "\n",
    "def test(file):\n",
    "    try:\n",
    "        # Try to open the file with the given 'file' name in read mode.\n",
    "        # The 'with' statement ensures that the file is properly closed after reading.\n",
    "        with open(file, 'r') as f:\n",
    "            # Read the contents of the file into the variable 'test'.\n",
    "            test = f.read()\n",
    "    \n",
    "    # If any general exception occurs during the file open and read operation,\n",
    "    # catch the exception and store it in the variable 'e'.\n",
    "    except Exception as e:\n",
    "        # Print the error message associated with the exception.\n",
    "        print(\"Exception:\", e)\n",
    "\n",
    "    # If a FileNotFoundError occurs while trying to open the file,\n",
    "    # catch the exception and store it in the variable 'e'.\n",
    "    except FileNotFoundError as e:\n",
    "        # Print the error message associated with the FileNotFoundError.\n",
    "        print(\"FileNotFoundError:\", e)"
   ]
  },
  {
   "cell_type": "code",
   "execution_count": 12,
   "id": "f5b7ed7b",
   "metadata": {},
   "outputs": [
    {
     "name": "stdout",
     "output_type": "stream",
     "text": [
      "Exception: [Errno 2] No such file or directory: 'info.txt'\n"
     ]
    }
   ],
   "source": [
    "test(\"info.txt\")"
   ]
  },
  {
   "cell_type": "markdown",
   "id": "23dbb9b0",
   "metadata": {},
   "source": [
    "<hr><font color=\"green\"><h1>from file: 08.Best Practice Exception Handling Hindi</h1></font>"
   ]
  },
  {
   "cell_type": "code",
   "execution_count": 1,
   "id": "6b9946b9-5f62-4f1d-af51-49b65f3e3163",
   "metadata": {},
   "outputs": [
    {
     "name": "stdout",
     "output_type": "stream",
     "text": [
      "division by zero\n"
     ]
    }
   ],
   "source": [
    "# a generic exception handler class that catches any type of exception that\n",
    "# occurs in the try block, using the base class Exception\n",
    "try :\n",
    "    10/0\n",
    "except Exception as e :\n",
    "    print(e)"
   ]
  },
  {
   "cell_type": "code",
   "execution_count": 2,
   "id": "d725b2d9-637f-4ba8-96e2-2adfc03b6ec3",
   "metadata": {},
   "outputs": [
    {
     "name": "stdout",
     "output_type": "stream",
     "text": [
      "division by zero\n"
     ]
    }
   ],
   "source": [
    "#  A specific exception handler that catches only a particular type of exception\n",
    "# that is expected to occur in the try block, using a subclass of Exception.\n",
    "try :\n",
    "    10/0\n",
    "except ZeroDivisionError as e :\n",
    "    print(e)"
   ]
  },
  {
   "cell_type": "code",
   "execution_count": 3,
   "id": "67485885-c689-4821-b886-a75295606699",
   "metadata": {},
   "outputs": [
    {
     "name": "stdout",
     "output_type": "stream",
     "text": [
      "i am trying to handle a zerodivision error division by zero\n"
     ]
    }
   ],
   "source": [
    "# print always a proper message \n",
    "try :\n",
    "    10/0\n",
    "except ZeroDivisionError as e :\n",
    "    print(\"i am trying to handle a zerodivision error\"  , e)"
   ]
  },
  {
   "cell_type": "code",
   "execution_count": 4,
   "id": "d3484103-d648-46c9-9fcf-023cf44c00e7",
   "metadata": {},
   "outputs": [],
   "source": [
    "# Import the logging module to enable error logging.\n",
    "import logging\n",
    "\n",
    "# Configure the logging settings to write errors to a file called \"error.log\".\n",
    "# Setting the logging level to ERROR ensures that only errors and more severe messages are logged.\n",
    "logging.basicConfig(filename=\"error.log\", level=logging.ERROR)\n",
    "\n",
    "# Use a try-except block to handle the potential ZeroDivisionError that may occur.\n",
    "try:\n",
    "    # Perform the division operation (which will raise a ZeroDivisionError in this case).\n",
    "    10 / 0\n",
    "\n",
    "# If a ZeroDivisionError occurs, catch the exception and log the error message.\n",
    "except ZeroDivisionError as e:\n",
    "    # Log the error message along with the specific error using the logging.error() method.\n",
    "    logging.error(\"An attempt was made to divide by zero: {}\".format(e))"
   ]
  },
  {
   "cell_type": "code",
   "execution_count": 5,
   "id": "3aeb4196-66a4-4e06-88e7-e11311d8abc4",
   "metadata": {},
   "outputs": [],
   "source": [
    "# Use a try-except block to handle the potential exceptions that may occur.\n",
    "try:\n",
    "    # Perform the division operation (which will raise a ZeroDivisionError in this case).\n",
    "    10 / 0\n",
    "\n",
    "# If a FileNotFoundError occurs, catch the exception and log the error message.\n",
    "except FileNotFoundError as e:\n",
    "    logging.error(\"I am handling file not found: {}\".format(e))\n",
    "\n",
    "# If an AttributeError occurs, catch the exception and log the error message.\n",
    "except AttributeError as e:\n",
    "    logging.error(\"I am handling Attribute error: {}\".format(e))\n",
    "\n",
    "# If a ZeroDivisionError occurs, catch the exception and log the error message.\n",
    "except ZeroDivisionError as e:\n",
    "    logging.error(\"I am trying to handle a zerodivision error: {}\".format(e))"
   ]
  },
  {
   "cell_type": "code",
   "execution_count": 6,
   "id": "46cbdea1-2788-4022-9a7c-0f081dd5c5e4",
   "metadata": {},
   "outputs": [],
   "source": [
    "# Document all the error \n",
    "# cleanup all the resources\n",
    "# Try block to handle the potential FileNotFoundError that may occur.\n",
    "try:\n",
    "    # Open the file \"test.txt\" in write mode.\n",
    "    # If the file doesn't exist, it will raise a FileNotFoundError.\n",
    "    with open(\"test.txt\", 'w') as f:\n",
    "        # Write data to the file.\n",
    "        f.write(\"this is my data to file\")\n",
    "\n",
    "# If a FileNotFoundError occurs, catch the exception and log the error message.\n",
    "except FileNotFoundError as e:\n",
    "    logging.error(\"I am handling file not found: {}\".format(e))\n",
    "\n",
    "# Finally block to clean up resources (in this case, close the file if it was successfully opened).\n",
    "finally:\n",
    "    # Make sure to close the file even if an exception occurs during file opening or writing.\n",
    "    # This ensures that the file is properly closed, avoiding resource leaks.\n",
    "    f.close()"
   ]
  },
  {
   "cell_type": "code",
   "execution_count": null,
   "id": "4e724889-fef0-41e7-a377-e64ea9537613",
   "metadata": {},
   "outputs": [],
   "source": []
  },
  {
   "cell_type": "markdown",
   "id": "054cc122",
   "metadata": {},
   "source": [
    "<hr><font color=\"green\"><h1>from file: 09.Multithreading HIndi</h1></font>"
   ]
  },
  {
   "cell_type": "code",
   "execution_count": 1,
   "id": "417bb189-3667-4edd-9b73-ea362dc760b2",
   "metadata": {},
   "outputs": [],
   "source": [
    "import threading"
   ]
  },
  {
   "cell_type": "code",
   "execution_count": 2,
   "id": "8e0e2a36-01af-43df-b241-0470f9fc845f",
   "metadata": {},
   "outputs": [],
   "source": [
    "def test(id):\n",
    "    print(\"prog start %d \"% id)"
   ]
  },
  {
   "cell_type": "code",
   "execution_count": 3,
   "id": "8e6b6868-c42f-452e-b4ee-8d62d818f6f0",
   "metadata": {},
   "outputs": [
    {
     "name": "stdout",
     "output_type": "stream",
     "text": [
      "prog start 45 \n"
     ]
    }
   ],
   "source": [
    "test(45)"
   ]
  },
  {
   "cell_type": "code",
   "execution_count": 4,
   "id": "cd6d0222-fd31-4779-bea8-2ba44abf9892",
   "metadata": {},
   "outputs": [],
   "source": [
    "# Create a list 'thread' containing 10 threads.\n",
    "# Each thread will run the 'test' function with a different 'id' value ranging from 0 to 9.\n",
    "# The 'threading.Thread' class is used to create a new thread, and the 'target' parameter is set to the 'test' function.\n",
    "# The 'args' parameter is used to pass arguments to the 'test' function, and in this case, we pass the 'id' value.\n",
    "thread = [threading.Thread(target=test, args=(i,)) for i in range(10)]"
   ]
  },
  {
   "cell_type": "code",
   "execution_count": 5,
   "id": "4471fbd5-1ed9-4cfe-b14d-4556555739f9",
   "metadata": {},
   "outputs": [
    {
     "name": "stdout",
     "output_type": "stream",
     "text": [
      "prog start 0 \n",
      "prog start 1 \n",
      "prog start 2 \n",
      "prog start 3 \n",
      "prog start 4 \n",
      "prog start 5 \n",
      "prog start 6 \n",
      "prog start 7 \n",
      "prog start 8 \n",
      "prog start 9 \n"
     ]
    }
   ],
   "source": [
    "# The following code will start all the threads in the 'thread' list.\n",
    "# Each thread in the list represents a separate execution of the 'test' function with different 'id' values.\n",
    "\n",
    "# Loop through each thread in the 'thread' list.\n",
    "for t in thread:\n",
    "    # Start the thread's execution.\n",
    "    t.start()"
   ]
  },
  {
   "cell_type": "code",
   "execution_count": 6,
   "id": "3488c0d8-4abe-40c7-979c-226b45bfeef3",
   "metadata": {},
   "outputs": [
    {
     "data": {
      "text/plain": [
       "[0, 1, 2, 3, 4, 5, 6, 7, 8, 9]"
      ]
     },
     "execution_count": 6,
     "metadata": {},
     "output_type": "execute_result"
    }
   ],
   "source": [
    "list(range(10))"
   ]
  },
  {
   "cell_type": "code",
   "execution_count": 7,
   "id": "01909aef-8a41-4d95-ae30-e53ca4d20497",
   "metadata": {},
   "outputs": [
    {
     "data": {
      "text/plain": [
       "[<Thread(Thread-5 (test), stopped 7164)>,\n",
       " <Thread(Thread-6 (test), stopped 15420)>,\n",
       " <Thread(Thread-7 (test), stopped 14324)>,\n",
       " <Thread(Thread-8 (test), stopped 17032)>,\n",
       " <Thread(Thread-9 (test), stopped 7960)>,\n",
       " <Thread(Thread-10 (test), stopped 16664)>,\n",
       " <Thread(Thread-11 (test), stopped 3280)>,\n",
       " <Thread(Thread-12 (test), stopped 11152)>,\n",
       " <Thread(Thread-13 (test), stopped 8992)>,\n",
       " <Thread(Thread-14 (test), stopped 13276)>]"
      ]
     },
     "execution_count": 7,
     "metadata": {},
     "output_type": "execute_result"
    }
   ],
   "source": [
    "thread"
   ]
  },
  {
   "cell_type": "code",
   "execution_count": 8,
   "id": "abc83092-ce36-4938-b770-5bcacda4202f",
   "metadata": {},
   "outputs": [
    {
     "data": {
      "text/plain": [
       "1353146067648"
      ]
     },
     "execution_count": 8,
     "metadata": {},
     "output_type": "execute_result"
    }
   ],
   "source": [
    "id(thread)"
   ]
  },
  {
   "cell_type": "code",
   "execution_count": 9,
   "id": "9376dcc8-36c8-4e46-b36d-2105a949399f",
   "metadata": {},
   "outputs": [],
   "source": [
    "import urllib.request\n",
    "\n",
    "def file_download(url, filename):\n",
    "    \"\"\"\n",
    "    Downloads a file from the given URL and saves it with the specified filename.\n",
    "\n",
    "    Parameters:\n",
    "        url (str): The URL of the file to download.\n",
    "        filename (str): The name of the file to save the downloaded content.\n",
    "\n",
    "    Returns:\n",
    "        None\n",
    "    \"\"\"\n",
    "    # Use urllib.request.urlretrieve() to download the file from the given URL and save it with the specified filename.\n",
    "    # This function takes care of downloading the file and saving it to disk.\n",
    "    urllib.request.urlretrieve(url, filename)"
   ]
  },
  {
   "cell_type": "code",
   "execution_count": 10,
   "id": "92684ee5-7bea-4ad3-87f3-920b613d22bf",
   "metadata": {},
   "outputs": [],
   "source": [
    "file_download('https://raw.githubusercontent.com/itsfoss/text-files/master/agatha.txt' , \"test.txt\")"
   ]
  },
  {
   "cell_type": "code",
   "execution_count": 11,
   "id": "1386bd4f-f7a9-44e6-8fea-41586da9fabd",
   "metadata": {},
   "outputs": [],
   "source": [
    "url_list  = ['https://raw.githubusercontent.com/itsfoss/text-files/master/agatha.txt','https://raw.githubusercontent.com/itsfoss/text-files/master/sherlock.txt','https://raw.githubusercontent.com/itsfoss/text-files/master/sample_log_file.txt']"
   ]
  },
  {
   "cell_type": "code",
   "execution_count": 12,
   "id": "df436a8a-ef1b-4e09-9119-69b1457a631b",
   "metadata": {},
   "outputs": [
    {
     "data": {
      "text/plain": [
       "['https://raw.githubusercontent.com/itsfoss/text-files/master/agatha.txt',\n",
       " 'https://raw.githubusercontent.com/itsfoss/text-files/master/sherlock.txt',\n",
       " 'https://raw.githubusercontent.com/itsfoss/text-files/master/sample_log_file.txt']"
      ]
     },
     "execution_count": 12,
     "metadata": {},
     "output_type": "execute_result"
    }
   ],
   "source": [
    "url_list"
   ]
  },
  {
   "cell_type": "code",
   "execution_count": 13,
   "id": "de20107e-ecba-44d6-9cbc-5b77afde35c5",
   "metadata": {},
   "outputs": [],
   "source": [
    "file_name_list = ['data1.txt' , 'data2.txt' , 'data3.txt']"
   ]
  },
  {
   "cell_type": "code",
   "execution_count": 14,
   "id": "34958198-b522-4342-80dd-8a26d525c009",
   "metadata": {},
   "outputs": [],
   "source": [
    "# Create a list of thread objects with the target function set to 'file_download' for each URL and filename pair.\n",
    "import threading\n",
    "threads = [threading.Thread(target=file_download, args=(url_list[i], file_name_list[i])) for i in range(len(url_list))]"
   ]
  },
  {
   "cell_type": "code",
   "execution_count": 15,
   "id": "3ec112b5-bcca-4961-b3c5-c58abea72205",
   "metadata": {},
   "outputs": [
    {
     "data": {
      "text/plain": [
       "[<Thread(Thread-15 (file_download), initial)>,\n",
       " <Thread(Thread-16 (file_download), initial)>,\n",
       " <Thread(Thread-17 (file_download), initial)>]"
      ]
     },
     "execution_count": 15,
     "metadata": {},
     "output_type": "execute_result"
    }
   ],
   "source": [
    "threads"
   ]
  },
  {
   "cell_type": "code",
   "execution_count": 16,
   "id": "aa9c77ea-3938-4078-904f-29fc5b671671",
   "metadata": {},
   "outputs": [],
   "source": [
    "# This code block contains a list of thread objects that were created in the previous code.\n",
    "# Each thread object is associated with a URL and a filename, and when executed, it will download the file from the URL and save it with the specified filename.\n",
    "# The 'threads' variable holds a list of thread objects, each representing a file download task.\n",
    "# To start downloading the files, we need to execute these threads by calling the 'start()' method on each thread.\n",
    "# To execute the threads, we can use a loop to iterate through the list of threads and call 'start()' on each thread.\n",
    "# Now the file downloads will be initiated in separate threads, allowing them to download simultaneously.\n",
    "for t in threads:\n",
    "    t.start()"
   ]
  },
  {
   "cell_type": "code",
   "execution_count": 17,
   "id": "5cd98d1c-cfa9-4b4c-99d3-605ca0ec9924",
   "metadata": {},
   "outputs": [
    {
     "data": {
      "text/plain": [
       "[<Thread(Thread-15 (file_download), stopped 11304)>,\n",
       " <Thread(Thread-16 (file_download), stopped 6064)>,\n",
       " <Thread(Thread-17 (file_download), stopped 9504)>]"
      ]
     },
     "execution_count": 17,
     "metadata": {},
     "output_type": "execute_result"
    }
   ],
   "source": [
    "threads"
   ]
  },
  {
   "cell_type": "code",
   "execution_count": 18,
   "id": "306564fb-6298-468a-baa5-88474d42c9fc",
   "metadata": {},
   "outputs": [],
   "source": [
    "# Import the 'time' module, which provides various time-related functions.\n",
    "import time \n",
    "\n",
    "# Define the function 'test1' that takes a parameter 'id'.\n",
    "def test1(id):\n",
    "    # Use a for loop to repeat the following block of code 10 times.\n",
    "    for i in range(10):\n",
    "        # Print a message with the value of 'id', the current iteration 'i', and the current time using 'time.ctime()'.\n",
    "        # The string formatting with '%d' and '%s' is used to insert the values of 'id', 'i', and the time into the message.\n",
    "        print(\"test1 %d printing %d %s\" % (id, i, time.ctime()))\n",
    "        # Pause the execution for 1 second using 'time.sleep(1)' before the next iteration.\n",
    "        time.sleep(1)\n"
   ]
  },
  {
   "cell_type": "code",
   "execution_count": 19,
   "id": "a745e0df-9b64-4f12-a865-e6658985d1f1",
   "metadata": {},
   "outputs": [
    {
     "name": "stdout",
     "output_type": "stream",
     "text": [
      "test1 0 printing 0 Fri Jul 28 17:32:44 2023\n",
      "test1 0 printing 1 Fri Jul 28 17:32:45 2023\n",
      "test1 0 printing 2 Fri Jul 28 17:32:46 2023\n",
      "test1 0 printing 3 Fri Jul 28 17:32:47 2023\n",
      "test1 0 printing 4 Fri Jul 28 17:32:48 2023\n",
      "test1 0 printing 5 Fri Jul 28 17:32:49 2023\n",
      "test1 0 printing 6 Fri Jul 28 17:32:50 2023\n",
      "test1 0 printing 7 Fri Jul 28 17:32:51 2023\n",
      "test1 0 printing 8 Fri Jul 28 17:32:52 2023\n",
      "test1 0 printing 9 Fri Jul 28 17:32:53 2023\n"
     ]
    }
   ],
   "source": [
    "test1(0)"
   ]
  },
  {
   "cell_type": "code",
   "execution_count": 20,
   "id": "b856dbc0-49cf-4827-afe4-a0c93a6c266f",
   "metadata": {},
   "outputs": [
    {
     "name": "stdout",
     "output_type": "stream",
     "text": [
      "test1 0 printing 0 Fri Jul 28 17:33:22 2023\n",
      "test1 1 printing 0 Fri Jul 28 17:33:22 2023\n",
      "test1 2 printing 0 Fri Jul 28 17:33:22 2023\n",
      "test1 0 printing 1 Fri Jul 28 17:33:23 2023\n",
      "test1 1 printing 1 Fri Jul 28 17:33:23 2023\n",
      "test1 2 printing 1 Fri Jul 28 17:33:23 2023\n",
      "test1 0 printing 2 Fri Jul 28 17:33:24 2023\n",
      "test1 2 printing 2 Fri Jul 28 17:33:24 2023\n",
      "test1 1 printing 2 Fri Jul 28 17:33:24 2023\n",
      "test1 0 printing 3 Fri Jul 28 17:33:25 2023\n",
      "test1 1 printing 3 Fri Jul 28 17:33:25 2023\n",
      "test1 2 printing 3 Fri Jul 28 17:33:25 2023\n",
      "test1 0 printing 4 Fri Jul 28 17:33:26 2023\n",
      "test1 1 printing 4 Fri Jul 28 17:33:26 2023\n",
      "test1 2 printing 4 Fri Jul 28 17:33:26 2023\n",
      "test1 0 printing 5 Fri Jul 28 17:33:27 2023\n",
      "test1 1 printing 5 Fri Jul 28 17:33:27 2023\n",
      "test1 2 printing 5 Fri Jul 28 17:33:27 2023\n",
      "test1 0 printing 6 Fri Jul 28 17:33:28 2023\n",
      "test1 2 printing 6 Fri Jul 28 17:33:28 2023\n",
      "test1 1 printing 6 Fri Jul 28 17:33:28 2023\n",
      "test1 0 printing 7 Fri Jul 28 17:33:29 2023\n",
      "test1 2 printing 7 Fri Jul 28 17:33:29 2023\n",
      "test1 1 printing 7 Fri Jul 28 17:33:29 2023\n",
      "test1 0 printing 8 Fri Jul 28 17:33:30 2023\n",
      "test1 1 printing 8 Fri Jul 28 17:33:30 2023\n",
      "test1 2 printing 8 Fri Jul 28 17:33:30 2023\n",
      "test1 0 printing 9 Fri Jul 28 17:33:31 2023\n",
      "test1 1 printing 9 Fri Jul 28 17:33:31 2023\n",
      "test1 2 printing 9 Fri Jul 28 17:33:31 2023\n"
     ]
    }
   ],
   "source": [
    "# Create a list of thread objects that will call the 'test1' function with different arguments.\n",
    "# Each thread will represent a separate execution of the 'test1' function with a unique 'id' parameter.\n",
    "thread1 = [threading.Thread(target=test1, args=(i,)) for i in range(3)]\n",
    "\n",
    "# Start the execution of each thread in the 'thread1' list.\n",
    "for t in thread1:\n",
    "    t.start()"
   ]
  },
  {
   "cell_type": "code",
   "execution_count": 21,
   "id": "b80065b1-7239-47ec-93f1-cf95bb1a38ac",
   "metadata": {},
   "outputs": [
    {
     "name": "stdout",
     "output_type": "stream",
     "text": [
      "test2 0 has increased the shared variable by 1\n",
      "test2 1 has increased the shared variable by 2\n",
      "test2 2 has increased the shared variable by 3\n"
     ]
    }
   ],
   "source": [
    "# Import the required modules.\n",
    "import threading\n",
    "import time\n",
    "\n",
    "# Initialize a shared variable 'shared_var' to 0 to be used in multiple threads.\n",
    "shared_var = 0\n",
    "\n",
    "# Create a threading lock to ensure safe access to the shared variable.\n",
    "lock_var = threading.Lock()\n",
    "\n",
    "# Define the function 'test2' that takes a parameter 'id'.\n",
    "def test2(id):\n",
    "    global shared_var  # Access the shared variable 'shared_var' in the global scope.\n",
    "    with lock_var:  # Use the lock to ensure exclusive access to the shared variable.\n",
    "        shared_var += 1  # Increment the shared variable by 1.\n",
    "        # Print a message indicating the 'id' of the thread and the updated value of the shared variable.\n",
    "        print(\"test2 %d has increased the shared variable by %d\" % (id, shared_var))\n",
    "    time.sleep(1)  # Pause the execution of the thread for 1 second.\n",
    "\n",
    "# Create a list of thread objects that will call the 'test2' function with different arguments.\n",
    "# Each thread will represent a separate execution of the 'test2' function with a unique 'id' parameter.\n",
    "thread3 = [threading.Thread(target=test2, args=(i,)) for i in range(3)]\n",
    "\n",
    "# Start the execution of each thread in the 'thread3' list.\n",
    "for t in thread3:\n",
    "    t.start()"
   ]
  },
  {
   "cell_type": "code",
   "execution_count": 22,
   "id": "bd541d85-20fc-43a3-8429-ca0be2b318d0",
   "metadata": {},
   "outputs": [
    {
     "name": "stdout",
     "output_type": "stream",
     "text": [
      "test2 0 has increased the shared variable by 4\n"
     ]
    }
   ],
   "source": [
    "test2(0)"
   ]
  },
  {
   "cell_type": "code",
   "execution_count": 23,
   "id": "6a153b43-a970-431d-b5f5-5b90afdc40d7",
   "metadata": {},
   "outputs": [
    {
     "data": {
      "text/plain": [
       "4"
      ]
     },
     "execution_count": 23,
     "metadata": {},
     "output_type": "execute_result"
    }
   ],
   "source": [
    "shared_var"
   ]
  },
  {
   "cell_type": "code",
   "execution_count": null,
   "id": "c6f9a966-0f87-496c-8ebc-515a39551717",
   "metadata": {},
   "outputs": [],
   "source": []
  },
  {
   "cell_type": "markdown",
   "id": "2d7073ae",
   "metadata": {},
   "source": [
    "<hr><font color=\"green\"><h1>from file: 10.Multiprocessing hindi</h1></font>"
   ]
  },
  {
   "cell_type": "code",
   "execution_count": 1,
   "id": "8e9baab1-b563-4668-a28c-48cf5be2859c",
   "metadata": {
    "tags": []
   },
   "outputs": [
    {
     "name": "stdout",
     "output_type": "stream",
     "text": [
      "this is my main prog\n",
      "this is my multiprocessing prog\n"
     ]
    }
   ],
   "source": [
    "# Import the required modules.\n",
    "import multiprocessing\n",
    "\n",
    "# Define the function 'test' that will be executed in a separate process.\n",
    "def test():\n",
    "    print(\"this is my multiprocessing prog\")\n",
    "\n",
    "# Check if the current script is being run as the main program.\n",
    "# This check is necessary when using multiprocessing to prevent creating new processes for each child process.\n",
    "if __name__ == '__main__':\n",
    "    # Create a new multiprocessing process 'm' that will run the 'test' function.\n",
    "    m = multiprocessing.Process(target=test)\n",
    "    \n",
    "    # Print a message indicating that this is the main program.\n",
    "    print(\"this is my main prog\")\n",
    "    \n",
    "    # Start the execution of the 'm' process, which will call the 'test' function.\n",
    "    m.start()\n",
    "    \n",
    "    # Wait for the 'm' process to complete before continuing the execution of the main program.\n",
    "    m.join()"
   ]
  },
  {
   "cell_type": "code",
   "execution_count": 2,
   "id": "9e22f31e-29ea-4e51-8c12-be978731d286",
   "metadata": {
    "tags": []
   },
   "outputs": [
    {
     "name": "stdout",
     "output_type": "stream",
     "text": [
      "this is my multiprocessing prog\n"
     ]
    }
   ],
   "source": [
    "test()"
   ]
  },
  {
   "cell_type": "code",
   "execution_count": 3,
   "id": "66c23df7-697b-4b12-86ad-11ef1547ffbd",
   "metadata": {},
   "outputs": [
    {
     "name": "stdout",
     "output_type": "stream",
     "text": [
      "[1, 4, 9, 16, 25, 36, 49, 64, 81]\n"
     ]
    }
   ],
   "source": [
    "# Import the required modules.\n",
    "import multiprocessing\n",
    "\n",
    "# Define a function 'square' that takes a parameter 'n' and returns its square.\n",
    "def square(n):\n",
    "    return n**2\n",
    "\n",
    "# Check if the current script is being run as the main program.\n",
    "# This check is necessary when using multiprocessing to prevent creating new processes for each child process.\n",
    "if __name__ == '__main__':\n",
    "    # Create a multiprocessing pool with 4 processes using 'multiprocessing.Pool'.\n",
    "    # This pool will allow us to perform parallel processing.\n",
    "    with multiprocessing.Pool(processes=4) as pool:\n",
    "        # Use the 'map' function of the pool to apply the 'square' function to each element in the input list.\n",
    "        # The 'map' function divides the input list among the available processes and processes the data in parallel.\n",
    "        # The result is a list containing the squares of the input elements.\n",
    "        out = pool.map(square, [1, 2, 3, 4, 5, 6, 7, 8, 9])\n",
    "        print(out)\n"
   ]
  },
  {
   "cell_type": "markdown",
   "id": "dca940f5",
   "metadata": {},
   "source": [
    "Using a `multiprocessing` pool allows us to take advantage of `multiple cores` and perform computations `concurrently`, potentially speeding up the process for `CPU-bound` tasks."
   ]
  },
  {
   "cell_type": "code",
   "execution_count": 4,
   "id": "5f3ea1d2-7b35-4a2b-a707-9c3a472bc3e9",
   "metadata": {},
   "outputs": [
    {
     "name": "stdout",
     "output_type": "stream",
     "text": [
      "sudh\n",
      "kuamr\n",
      "asdf\n",
      "sudh\n"
     ]
    },
    {
     "name": "stderr",
     "output_type": "stream",
     "text": [
      "Process Process-7:\n",
      "Traceback (most recent call last):\n",
      "  File \"/opt/conda/lib/python3.10/multiprocessing/process.py\", line 314, in _bootstrap\n",
      "    self.run()\n",
      "  File \"/opt/conda/lib/python3.10/multiprocessing/process.py\", line 108, in run\n",
      "    self._target(*self._args, **self._kwargs)\n",
      "  File \"/tmp/ipykernel_243/2957461945.py\", line 8, in consume\n",
      "    item = q.get()\n",
      "  File \"/opt/conda/lib/python3.10/multiprocessing/queues.py\", line 103, in get\n",
      "    res = self._recv_bytes()\n",
      "  File \"/opt/conda/lib/python3.10/multiprocessing/connection.py\", line 221, in recv_bytes\n",
      "    buf = self._recv_bytes(maxlength)\n",
      "  File \"/opt/conda/lib/python3.10/multiprocessing/connection.py\", line 419, in _recv_bytes\n",
      "    buf = self._recv(4)\n",
      "  File \"/opt/conda/lib/python3.10/multiprocessing/connection.py\", line 384, in _recv\n",
      "    chunk = read(handle, remaining)\n",
      "KeyboardInterrupt\n"
     ]
    },
    {
     "ename": "KeyboardInterrupt",
     "evalue": "",
     "output_type": "error",
     "traceback": [
      "\u001b[0;31m---------------------------------------------------------------------------\u001b[0m",
      "\u001b[0;31mKeyboardInterrupt\u001b[0m                         Traceback (most recent call last)",
      "Cell \u001b[0;32mIn[4], line 21\u001b[0m\n\u001b[1;32m     19\u001b[0m queue\u001b[38;5;241m.\u001b[39mput(\u001b[38;5;124m\"\u001b[39m\u001b[38;5;124msudh\u001b[39m\u001b[38;5;124m\"\u001b[39m)\n\u001b[1;32m     20\u001b[0m m1\u001b[38;5;241m.\u001b[39mjoin()\n\u001b[0;32m---> 21\u001b[0m \u001b[43mm2\u001b[49m\u001b[38;5;241;43m.\u001b[39;49m\u001b[43mjoin\u001b[49m\u001b[43m(\u001b[49m\u001b[43m)\u001b[49m\n",
      "File \u001b[0;32m/opt/conda/lib/python3.10/multiprocessing/process.py:149\u001b[0m, in \u001b[0;36mBaseProcess.join\u001b[0;34m(self, timeout)\u001b[0m\n\u001b[1;32m    147\u001b[0m \u001b[38;5;28;01massert\u001b[39;00m \u001b[38;5;28mself\u001b[39m\u001b[38;5;241m.\u001b[39m_parent_pid \u001b[38;5;241m==\u001b[39m os\u001b[38;5;241m.\u001b[39mgetpid(), \u001b[38;5;124m'\u001b[39m\u001b[38;5;124mcan only join a child process\u001b[39m\u001b[38;5;124m'\u001b[39m\n\u001b[1;32m    148\u001b[0m \u001b[38;5;28;01massert\u001b[39;00m \u001b[38;5;28mself\u001b[39m\u001b[38;5;241m.\u001b[39m_popen \u001b[38;5;129;01mis\u001b[39;00m \u001b[38;5;129;01mnot\u001b[39;00m \u001b[38;5;28;01mNone\u001b[39;00m, \u001b[38;5;124m'\u001b[39m\u001b[38;5;124mcan only join a started process\u001b[39m\u001b[38;5;124m'\u001b[39m\n\u001b[0;32m--> 149\u001b[0m res \u001b[38;5;241m=\u001b[39m \u001b[38;5;28;43mself\u001b[39;49m\u001b[38;5;241;43m.\u001b[39;49m\u001b[43m_popen\u001b[49m\u001b[38;5;241;43m.\u001b[39;49m\u001b[43mwait\u001b[49m\u001b[43m(\u001b[49m\u001b[43mtimeout\u001b[49m\u001b[43m)\u001b[49m\n\u001b[1;32m    150\u001b[0m \u001b[38;5;28;01mif\u001b[39;00m res \u001b[38;5;129;01mis\u001b[39;00m \u001b[38;5;129;01mnot\u001b[39;00m \u001b[38;5;28;01mNone\u001b[39;00m:\n\u001b[1;32m    151\u001b[0m     _children\u001b[38;5;241m.\u001b[39mdiscard(\u001b[38;5;28mself\u001b[39m)\n",
      "File \u001b[0;32m/opt/conda/lib/python3.10/multiprocessing/popen_fork.py:43\u001b[0m, in \u001b[0;36mPopen.wait\u001b[0;34m(self, timeout)\u001b[0m\n\u001b[1;32m     41\u001b[0m             \u001b[38;5;28;01mreturn\u001b[39;00m \u001b[38;5;28;01mNone\u001b[39;00m\n\u001b[1;32m     42\u001b[0m     \u001b[38;5;66;03m# This shouldn't block if wait() returned successfully.\u001b[39;00m\n\u001b[0;32m---> 43\u001b[0m     \u001b[38;5;28;01mreturn\u001b[39;00m \u001b[38;5;28;43mself\u001b[39;49m\u001b[38;5;241;43m.\u001b[39;49m\u001b[43mpoll\u001b[49m\u001b[43m(\u001b[49m\u001b[43mos\u001b[49m\u001b[38;5;241;43m.\u001b[39;49m\u001b[43mWNOHANG\u001b[49m\u001b[43m \u001b[49m\u001b[38;5;28;43;01mif\u001b[39;49;00m\u001b[43m \u001b[49m\u001b[43mtimeout\u001b[49m\u001b[43m \u001b[49m\u001b[38;5;241;43m==\u001b[39;49m\u001b[43m \u001b[49m\u001b[38;5;241;43m0.0\u001b[39;49m\u001b[43m \u001b[49m\u001b[38;5;28;43;01melse\u001b[39;49;00m\u001b[43m \u001b[49m\u001b[38;5;241;43m0\u001b[39;49m\u001b[43m)\u001b[49m\n\u001b[1;32m     44\u001b[0m \u001b[38;5;28;01mreturn\u001b[39;00m \u001b[38;5;28mself\u001b[39m\u001b[38;5;241m.\u001b[39mreturncode\n",
      "File \u001b[0;32m/opt/conda/lib/python3.10/multiprocessing/popen_fork.py:27\u001b[0m, in \u001b[0;36mPopen.poll\u001b[0;34m(self, flag)\u001b[0m\n\u001b[1;32m     25\u001b[0m \u001b[38;5;28;01mif\u001b[39;00m \u001b[38;5;28mself\u001b[39m\u001b[38;5;241m.\u001b[39mreturncode \u001b[38;5;129;01mis\u001b[39;00m \u001b[38;5;28;01mNone\u001b[39;00m:\n\u001b[1;32m     26\u001b[0m     \u001b[38;5;28;01mtry\u001b[39;00m:\n\u001b[0;32m---> 27\u001b[0m         pid, sts \u001b[38;5;241m=\u001b[39m \u001b[43mos\u001b[49m\u001b[38;5;241;43m.\u001b[39;49m\u001b[43mwaitpid\u001b[49m\u001b[43m(\u001b[49m\u001b[38;5;28;43mself\u001b[39;49m\u001b[38;5;241;43m.\u001b[39;49m\u001b[43mpid\u001b[49m\u001b[43m,\u001b[49m\u001b[43m \u001b[49m\u001b[43mflag\u001b[49m\u001b[43m)\u001b[49m\n\u001b[1;32m     28\u001b[0m     \u001b[38;5;28;01mexcept\u001b[39;00m \u001b[38;5;167;01mOSError\u001b[39;00m:\n\u001b[1;32m     29\u001b[0m         \u001b[38;5;66;03m# Child process not yet created. See #1731717\u001b[39;00m\n\u001b[1;32m     30\u001b[0m         \u001b[38;5;66;03m# e.errno == errno.ECHILD == 10\u001b[39;00m\n\u001b[1;32m     31\u001b[0m         \u001b[38;5;28;01mreturn\u001b[39;00m \u001b[38;5;28;01mNone\u001b[39;00m\n",
      "\u001b[0;31mKeyboardInterrupt\u001b[0m: "
     ]
    }
   ],
   "source": [
    "import multiprocessing\n",
    "\n",
    "# Define a function 'producer' that takes a parameter 'q' (a multiprocessing Queue) and puts three strings into the queue.\n",
    "def producer(q):\n",
    "    for i in [\"sudh\", \"kuamr\", \"asdf\"]:\n",
    "        q.put(i)\n",
    "\n",
    "# Define a function 'consume' that takes a parameter 'q' (a multiprocessing Queue) and continuously gets items from the queue until it encounters a None value.\n",
    "# It prints each item it gets from the queue.\n",
    "def consume(q):\n",
    "    while True:\n",
    "        item = q.get()\n",
    "        if item is None:\n",
    "            break\n",
    "        print(item)\n",
    "\n",
    "if __name__ == '__main__':\n",
    "    # Create a multiprocessing Queue.\n",
    "    queue = multiprocessing.Queue()\n",
    "\n",
    "    # Create two separate processes, one for the producer function and one for the consume function.\n",
    "    # Pass the queue as an argument to both functions so they can communicate through it.\n",
    "    m1 = multiprocessing.Process(target=producer, args=(queue,))\n",
    "    m2 = multiprocessing.Process(target=consume, args=(queue,))\n",
    "\n",
    "    # Start the two processes concurrently.\n",
    "    m1.start()\n",
    "    m2.start()\n",
    "\n",
    "    # Put an additional item in the queue from the main program.\n",
    "    queue.put(\"sudh\")\n",
    "\n",
    "    # Wait for both processes to complete their tasks before continuing the execution of the main program.\n",
    "    m1.join()\n",
    "    m2.join()\n"
   ]
  },
  {
   "cell_type": "code",
   "execution_count": 5,
   "id": "61edd5ad-b113-46e7-8e5e-9db97eabeaac",
   "metadata": {},
   "outputs": [
    {
     "name": "stdout",
     "output_type": "stream",
     "text": [
      "[4, 9, 16, 25, 36, 49, 64]\n"
     ]
    }
   ],
   "source": [
    "import multiprocessing\n",
    "\n",
    "# Define a function 'square' that takes an 'index' and a shared array 'value' as parameters.\n",
    "# It squares the value at the given index in the array.\n",
    "def square(index, value):\n",
    "    value[index] = value[index] ** 2\n",
    "\n",
    "if __name__ == '__main__':\n",
    "    # Create a multiprocessing shared array 'arr' with data type 'i' (integer) and initial values [2, 3, 4, 5, 6, 7, 8].\n",
    "    arr = multiprocessing.Array('i', [2, 3, 4, 5, 6, 7, 8])\n",
    "\n",
    "    # Create a list to store the process objects.\n",
    "    process = []\n",
    "\n",
    "    # Create seven separate processes, one for each index of the array, to square the elements concurrently.\n",
    "    for i in range(7):\n",
    "        m = multiprocessing.Process(target=square, args=(i, arr))\n",
    "        process.append(m)\n",
    "        m.start()\n",
    "\n",
    "    # Wait for all processes to complete their tasks before continuing the execution of the main program.\n",
    "    for m in process:\n",
    "        m.join()\n",
    "\n",
    "    # Print the updated array after all elements have been squared.\n",
    "    print(list(arr))\n"
   ]
  },
  {
   "cell_type": "code",
   "execution_count": null,
   "id": "d1418a06-a92d-42ac-82b3-86788e344f3e",
   "metadata": {},
   "outputs": [
    {
     "name": "stdout",
     "output_type": "stream",
     "text": [
      "my name is sudh\n",
      "this is my msg to students\n",
      "i am taking class for multiprocssing \n"
     ]
    }
   ],
   "source": [
    "import multiprocessing\n",
    "\n",
    "# Define a function 'sender' that takes a connection 'conn' (a multiprocessing Pipe) and a list 'msg' as parameters.\n",
    "# It sends each item in the 'msg' list through the connection.\n",
    "def sender(conn, msg):\n",
    "    for i in msg:\n",
    "        conn.send(i)\n",
    "    conn.close()\n",
    "\n",
    "# Define a function 'receive' that takes a connection 'conn' (a multiprocessing Pipe) as a parameter.\n",
    "# It continuously receives messages from the connection and prints each message.\n",
    "def receive(conn):\n",
    "    while True:\n",
    "        try:\n",
    "            msg = conn.recv()\n",
    "        except EOFError:\n",
    "            break\n",
    "        print(msg)\n",
    "\n",
    "if __name__ == '__main__':\n",
    "    # The list of messages to be sent.\n",
    "    msg = [\"my name is sudh\", \"this is my msg to students\", \"i am taking class for multiprocessing\"]\n",
    "\n",
    "    # Create a bidirectional multiprocessing Pipe.\n",
    "    parent_con, child_con = multiprocessing.Pipe()\n",
    "\n",
    "    # Create two separate processes, one for the sender function and one for the receive function.\n",
    "    # Pass the corresponding end of the pipe as an argument to each function.\n",
    "    m1 = multiprocessing.Process(target=sender, args=(child_con, msg))\n",
    "    m2 = multiprocessing.Process(target=receive, args=(parent_con,))\n",
    "\n",
    "    # Start the two processes concurrently.\n",
    "    m1.start()\n",
    "    m2.start()\n",
    "\n",
    "    # Wait for both processes to complete their tasks before continuing the execution of the main program.\n",
    "    m1.join()\n",
    "    m2.join()\n",
    "\n",
    "    # Close both ends of the pipe.\n",
    "    child_con.close()\n",
    "    parent_con.close()\n"
   ]
  },
  {
   "cell_type": "code",
   "execution_count": null,
   "id": "c0fe4e1d",
   "metadata": {},
   "outputs": [],
   "source": []
  }
 ],
 "metadata": {
  "kernelspec": {
   "display_name": "Python 3 (ipykernel)",
   "language": "python",
   "name": "python3"
  },
  "language_info": {
   "codemirror_mode": {
    "name": "ipython",
    "version": 3
   },
   "file_extension": ".py",
   "mimetype": "text/x-python",
   "name": "python",
   "nbconvert_exporter": "python",
   "pygments_lexer": "ipython3",
   "version": "3.11.3"
  },
  "toc": {
   "base_numbering": 1,
   "nav_menu": {},
   "number_sections": true,
   "sideBar": true,
   "skip_h1_title": false,
   "title_cell": "Table of Contents",
   "title_sidebar": "Contents",
   "toc_cell": false,
   "toc_position": {},
   "toc_section_display": true,
   "toc_window_display": false
  }
 },
 "nbformat": 4,
 "nbformat_minor": 5
}
