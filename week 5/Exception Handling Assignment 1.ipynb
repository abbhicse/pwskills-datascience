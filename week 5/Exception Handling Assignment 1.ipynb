{
 "cells": [
  {
   "cell_type": "markdown",
   "id": "0b9745b5",
   "metadata": {},
   "source": [
    "**Q1.What is an Exception in python? Write the differences between Exception and Syntax errors.** "
   ]
  },
  {
   "cell_type": "markdown",
   "id": "d6ba0674",
   "metadata": {},
   "source": [
    "In Python, an `exception` is an `event` that occurs during the `execution` of a `program` that `disrupts` the normal `flow` of the `program's instructions.` When an `exceptional` situation occurs, an `exception object` is created and the `normal flow` of the program is `interrupted.` Exceptions can occur for various `reasons`, such as `invalid user input`, `file not found`, `division by zero`, etc.\n",
    "\n",
    "Differences between `Exception` and `Syntax errors:`\n",
    "\n",
    "**1. Syntax Errors:**\n",
    "   - `Syntax errors` occur when the `Python interpreter` encounters `invalid` code that violates the language's `syntax` rules.\n",
    "   - These `errors` are usually detected during the `parsing phase`, before the program is `executed.`\n",
    "   - `Syntax errors` prevent the `program` from `running` and must be `fixed` before `executing` the `program.`\n",
    "   - Examples of `syntax errors:` `missing colons`, `mismatched parentheses`, `invalid variable names`, etc.\n",
    "\n",
    "**2. Exceptions:**\n",
    "   - `Exceptions` occur during the `execution` of a `program` when an `error` or `exceptional condition` arises.\n",
    "   - `Exceptions` are `runtime errors` that can happen even if the `syntax` of the code is correct.\n",
    "   - When an `exception` occurs, the `program's normal flow` is disrupted, and the `interpreter` searches for `exception handling` code to `handle` the `exception.`\n",
    "   - Examples of `exceptions:` `ZeroDivisionError (division by zero)`, `FileNotFoundError (file not found)`, `ValueError (invalid input)`, etc.\n",
    "   - `Exceptions` can be handled using `try-except` blocks to gracefully handle the `errors` and prevent program `crashes.`"
   ]
  },
  {
   "cell_type": "markdown",
   "id": "84b584ce",
   "metadata": {},
   "source": [
    "**Q2.What happens when an exception is not handled? Explain with an example.**"
   ]
  },
  {
   "cell_type": "markdown",
   "id": "5ac4f631",
   "metadata": {},
   "source": [
    "When an `exception` is not handled, it results in an `unhandled exception` error, which causes the program to `terminate abruptly`. The `error` message provides information about the type of `exception` that occurred and the line of code where it happened.\n",
    "\n",
    "Here's an example to illustrate this:"
   ]
  },
  {
   "cell_type": "code",
   "execution_count": 1,
   "id": "b5124be0",
   "metadata": {},
   "outputs": [
    {
     "ename": "ZeroDivisionError",
     "evalue": "division by zero",
     "output_type": "error",
     "traceback": [
      "\u001b[1;31m---------------------------------------------------------------------------\u001b[0m",
      "\u001b[1;31mZeroDivisionError\u001b[0m                         Traceback (most recent call last)",
      "Input \u001b[1;32mIn [1]\u001b[0m, in \u001b[0;36m<cell line: 6>\u001b[1;34m()\u001b[0m\n\u001b[0;32m      3\u001b[0m num1 \u001b[38;5;241m=\u001b[39m \u001b[38;5;241m10\u001b[39m\n\u001b[0;32m      4\u001b[0m num2 \u001b[38;5;241m=\u001b[39m \u001b[38;5;241m0\u001b[39m\n\u001b[1;32m----> 6\u001b[0m result \u001b[38;5;241m=\u001b[39m \u001b[43mnum1\u001b[49m\u001b[43m \u001b[49m\u001b[38;5;241;43m/\u001b[39;49m\u001b[43m \u001b[49m\u001b[43mnum2\u001b[49m  \u001b[38;5;66;03m# This line will raise a ZeroDivisionError\u001b[39;00m\n\u001b[0;32m      8\u001b[0m \u001b[38;5;28mprint\u001b[39m(\u001b[38;5;124m\"\u001b[39m\u001b[38;5;124mThe result is:\u001b[39m\u001b[38;5;124m\"\u001b[39m, result)\n",
      "\u001b[1;31mZeroDivisionError\u001b[0m: division by zero"
     ]
    }
   ],
   "source": [
    "# Example code with an unhandled exception\n",
    "\n",
    "num1 = 10\n",
    "num2 = 0\n",
    "\n",
    "result = num1 / num2  # This line will raise a ZeroDivisionError\n",
    "\n",
    "print(\"The result is:\", result)"
   ]
  },
  {
   "cell_type": "markdown",
   "id": "37dcfd9e",
   "metadata": {},
   "source": [
    "**Q3.Whic Python statements are used to catch and handle exceptions? Explain with an example.**"
   ]
  },
  {
   "cell_type": "markdown",
   "id": "3591230f",
   "metadata": {},
   "source": [
    "The `try` block contains the code that may `raise` an `exception`. If an `exception` occurs within the `try` block, the `remaining` code in the block is `skipped`, and the `except` block is `executed.`\n",
    "\n",
    "The `except` block specifies the type of `exception` to `catch` and provides the code to `handle` the `exception.` `Multiple except` blocks can be used to handle `different types` of `exceptions.`"
   ]
  },
  {
   "cell_type": "code",
   "execution_count": 2,
   "id": "0d379ce6",
   "metadata": {},
   "outputs": [
    {
     "name": "stdout",
     "output_type": "stream",
     "text": [
      "Error: Division by zero is not allowed.\n"
     ]
    }
   ],
   "source": [
    "try:\n",
    "    num1 = 10\n",
    "    num2 = 0\n",
    "    result = num1 / num2  # This line may raise a ZeroDivisionError\n",
    "    print(\"The result is:\", result)\n",
    "except ZeroDivisionError:\n",
    "    print(\"Error: Division by zero is not allowed.\")"
   ]
  },
  {
   "cell_type": "markdown",
   "id": "1f0a5868",
   "metadata": {},
   "source": [
    "In this example, the `try` block attempts to `divide` `num1` by `num2.` Since `num2` is `zero`, it raises a `ZeroDivisionError.` The program `flow` is then transferred to the `except` block, which handles the `ZeroDivisionErro`r by printing an `error` message."
   ]
  },
  {
   "cell_type": "markdown",
   "id": "007a2c96",
   "metadata": {},
   "source": [
    "**Q4.Explain with an example:**\n",
    "- **try and else**\n",
    "- **finally**\n",
    "- **raise**"
   ]
  },
  {
   "cell_type": "code",
   "execution_count": 3,
   "id": "800749c8",
   "metadata": {},
   "outputs": [
    {
     "name": "stdout",
     "output_type": "stream",
     "text": [
      "The result is: 5.0\n",
      "No exception occurred.\n",
      "This will always execute.\n"
     ]
    }
   ],
   "source": [
    "# Example with try, else, and finally\n",
    "try:\n",
    "    num1 = 10\n",
    "    num2 = 2\n",
    "    result = num1 / num2  # This line may raise a ZeroDivisionError\n",
    "    print(\"The result is:\", result)\n",
    "except ZeroDivisionError:\n",
    "    print(\"Error: Division by zero is not allowed.\")\n",
    "else:\n",
    "    print(\"No exception occurred.\")\n",
    "finally:\n",
    "    print(\"This will always execute.\")"
   ]
  },
  {
   "cell_type": "code",
   "execution_count": 4,
   "id": "f492f3d7",
   "metadata": {},
   "outputs": [
    {
     "name": "stdout",
     "output_type": "stream",
     "text": [
      "The average grade is: 17.5\n"
     ]
    }
   ],
   "source": [
    "# Example with raise\n",
    "def calculate_average(numbers):\n",
    "    if len(numbers) == 0:\n",
    "        raise ValueError(\"The list cannot be empty.\")\n",
    "    total = sum(numbers)\n",
    "    average = total / len(numbers)\n",
    "    return average\n",
    "\n",
    "try:\n",
    "    grades = [12, 24, 18, 16]\n",
    "    average_grade = calculate_average(grades)\n",
    "    print(\"The average grade is:\", average_grade)\n",
    "except ValueError as error:\n",
    "    print(\"Error:\", str(error))"
   ]
  },
  {
   "cell_type": "code",
   "execution_count": 5,
   "id": "62aa8b99",
   "metadata": {},
   "outputs": [
    {
     "name": "stdout",
     "output_type": "stream",
     "text": [
      "Error: The list cannot be empty.\n"
     ]
    }
   ],
   "source": [
    "# Example with raise\n",
    "def calculate_average(numbers):\n",
    "    if len(numbers) == 0:\n",
    "        raise ValueError(\"The list cannot be empty.\")\n",
    "    total = sum(numbers)\n",
    "    average = total / len(numbers)\n",
    "    return average\n",
    "\n",
    "try:\n",
    "    grades = []\n",
    "    average_grade = calculate_average(grades)\n",
    "    print(\"The average grade is:\", average_grade)\n",
    "except ValueError as error:\n",
    "    print(\"Error:\", str(error))"
   ]
  },
  {
   "cell_type": "markdown",
   "id": "70da8df0",
   "metadata": {},
   "source": [
    "In the `first` example, we introduce the `else` and `finally` clauses. The `else` block is executed if `no exceptions occur` in the `try` block. The `finally` block is always `executed`, regardless of whether an `exception` `occurred` or `not.`\n",
    "\n",
    "In the `second` example, we define a `function` called `calculate_average()` that `raises` a `ValueError` if the `input list` is `empty.` We then use a `try-except` block to handle the `raised exception` and display an `error message.` The advantage of using `raise` is that we do not need to declare `try-except` block multiple times for all the `exception errors` inside a bigger program. Any kind of `exception error` can be handled inside a single `try-except` block with the help of multiple `raise` blocks."
   ]
  },
  {
   "cell_type": "markdown",
   "id": "889e7c66",
   "metadata": {},
   "source": [
    "**Q5.What are Custom Exceptions in Python? Why do we need Custom Exceptions? Explain with an example.**"
   ]
  },
  {
   "cell_type": "markdown",
   "id": "755c9ca4",
   "metadata": {},
   "source": [
    "`Custom exceptions` in `Python` are `user-defined exceptions` that `inherit` from the `base Exception` class. They allow you to `create` your own `specific exceptions` that can be `raised` when certain `conditions` are met.\n",
    "\n",
    "`Custom exceptions` are useful when you want to handle `specific errors` or `exceptional cases` in your code. By defining `custom exceptions`, you can provide more `informative error` messages, add `additional functionality`, or `control the flow` of your program based on `specific conditions.`\n",
    "\n",
    "Here's an example of `defining` and using a `custom exception` in `Python:`"
   ]
  },
  {
   "cell_type": "code",
   "execution_count": 6,
   "id": "dca12cd3",
   "metadata": {},
   "outputs": [
    {
     "name": "stdout",
     "output_type": "stream",
     "text": [
      "Error: The list cannot be empty.\n"
     ]
    }
   ],
   "source": [
    "# Define a custom exception\n",
    "class EmptyListError(Exception):\n",
    "    pass\n",
    "\n",
    "# Example function that raises the custom exception\n",
    "def calculate_average(numbers):\n",
    "    if len(numbers) == 0:\n",
    "        raise EmptyListError(\"The list cannot be empty.\")\n",
    "    total = sum(numbers)\n",
    "    average = total / len(numbers)\n",
    "    return average\n",
    "\n",
    "# Example usage of the custom exception\n",
    "try:\n",
    "    grades = []\n",
    "    average_grade = calculate_average(grades)\n",
    "    print(\"The average grade is:\", average_grade)\n",
    "except EmptyListError as error:\n",
    "    print(\"Error:\", str(error))"
   ]
  },
  {
   "cell_type": "markdown",
   "id": "b13b1b08",
   "metadata": {},
   "source": [
    "In this example, we define a `custom exception` called `EmptyListError` that `inherits` from the `base Exceptio`n class. The `calculate_average()` function checks if the `input list` is `empty` and `raises` the `EmptyListError` if it is. In the `try-except` block, we handle the `raised exception` and print a `custom error` message.\n",
    "\n",
    "This allows us to have more `specific control` over how we handle `empty lists` in our code, instead of `relying` on the` general ValueError` that may not provide enough `context.`"
   ]
  },
  {
   "cell_type": "markdown",
   "id": "ef6d39e3",
   "metadata": {},
   "source": [
    "**Q6.Create a custom exception class. Use this class to handle an exception.**"
   ]
  },
  {
   "cell_type": "code",
   "execution_count": 7,
   "id": "63530393",
   "metadata": {},
   "outputs": [
    {
     "name": "stdout",
     "output_type": "stream",
     "text": [
      "Error: The list cannot be empty.\n"
     ]
    }
   ],
   "source": [
    "# Define a custom exception\n",
    "class EmptyListError(Exception):\n",
    "    pass\n",
    "\n",
    "# Example function that raises the custom exception\n",
    "def calculate_average(numbers):\n",
    "    if len(numbers) == 0:\n",
    "        raise EmptyListError(\"The list cannot be empty.\")\n",
    "    total = sum(numbers)\n",
    "    average = total / len(numbers)\n",
    "    return average\n",
    "\n",
    "# Example usage of the custom exception\n",
    "try:\n",
    "    grades = []\n",
    "    average_grade = calculate_average(grades)\n",
    "    print(\"The average grade is:\", average_grade)\n",
    "except EmptyListError as error:\n",
    "    print(\"Error:\", str(error))"
   ]
  },
  {
   "cell_type": "code",
   "execution_count": null,
   "id": "5ac6aa0a",
   "metadata": {},
   "outputs": [],
   "source": []
  }
 ],
 "metadata": {
  "kernelspec": {
   "display_name": "Python 3 (ipykernel)",
   "language": "python",
   "name": "python3"
  },
  "language_info": {
   "codemirror_mode": {
    "name": "ipython",
    "version": 3
   },
   "file_extension": ".py",
   "mimetype": "text/x-python",
   "name": "python",
   "nbconvert_exporter": "python",
   "pygments_lexer": "ipython3",
   "version": "3.9.12"
  },
  "toc": {
   "base_numbering": 1,
   "nav_menu": {},
   "number_sections": true,
   "sideBar": true,
   "skip_h1_title": false,
   "title_cell": "Table of Contents",
   "title_sidebar": "Contents",
   "toc_cell": false,
   "toc_position": {},
   "toc_section_display": true,
   "toc_window_display": false
  }
 },
 "nbformat": 4,
 "nbformat_minor": 5
}
