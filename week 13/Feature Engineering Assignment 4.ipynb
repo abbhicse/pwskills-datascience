{
 "cells": [
  {
   "cell_type": "markdown",
   "id": "d27d0fa4",
   "metadata": {},
   "source": [
    "**Q1. What is data encoding? How is it useful in data science?**"
   ]
  },
  {
   "cell_type": "markdown",
   "id": "de74b472",
   "metadata": {},
   "source": [
    "Data encoding is the process of converting data from one format or representation into another, typically with the goal of making the data suitable for specific tasks, such as storage, transmission, or analysis. In data science, data encoding is a crucial step because it helps prepare data for machine learning algorithms, statistical analysis, and other data processing tasks.\n",
    "\n",
    "Let's break down data encoding using a simple example:\n",
    "\n",
    "Problem: We have a dataset of categorical data, where the categories are represented as text labels. However, many machine learning algorithms require numerical data as input. We need to encode the categorical data into numerical values for analysis.\n",
    "\n",
    "Example:\n",
    "Suppose we have a dataset of fruits with a categorical feature \"Fruit Type\" and three possible categories: \"Apple,\" \"Banana,\" and \"Orange.\" We want to encode these categories into numerical values."
   ]
  },
  {
   "cell_type": "markdown",
   "id": "df74f5a1",
   "metadata": {},
   "source": [
    "**Q2. What is nominal encoding? Provide an example of how you would use it in a real-world scenario.**"
   ]
  },
  {
   "cell_type": "markdown",
   "id": "6d3abd14",
   "metadata": {},
   "source": [
    "Nominal encoding is a technique of converting categorical data into numerical data. Categorical data are data that have different categories or groups, such as gender, color, or city. Nominal encoding assigns a unique number to each category, without implying any order or rank among them. For example, if we have a feature called \"color\" with three possible values: \"red\", \"green\", and \"blue\", we can use nominal encoding to assign them numbers like 1, 2, and 3 respectively. This way, we can use the numbers as input for machine learning algorithms that require numerical data.\n",
    "\n",
    "One example of how to use nominal encoding in a real-world scenario is when we want to analyze the preferences of moviegoers based on their favorite genres. Suppose we have a dataset that contains information about the movies and the genres that people liked them. We can use nominal encoding to transform the genre names into numbers, so that we can compare and cluster them based on their popularity or ratings. For instance, if we have a genre called \"action\", we can assign it the number 1; if we have a genre called \"comedy\", we can assign it the number 2; and so on. Then, we can use these numbers as input for a machine learning model that predicts the box office revenue of movies based on their genres."
   ]
  },
  {
   "cell_type": "code",
   "execution_count": 1,
   "id": "2fefbd96",
   "metadata": {},
   "outputs": [
    {
     "name": "stdout",
     "output_type": "stream",
     "text": [
      "Requirement already satisfied: category_encoders in c:\\python311\\lib\\site-packages (2.6.3)\n",
      "Requirement already satisfied: numpy>=1.14.0 in c:\\users\\lenovo\\appdata\\roaming\\python\\python311\\site-packages (from category_encoders) (1.24.2)\n",
      "Requirement already satisfied: scikit-learn>=0.20.0 in c:\\python311\\lib\\site-packages (from category_encoders) (1.3.2)\n",
      "Requirement already satisfied: scipy>=1.0.0 in c:\\python311\\lib\\site-packages (from category_encoders) (1.10.1)\n",
      "Requirement already satisfied: statsmodels>=0.9.0 in c:\\python311\\lib\\site-packages (from category_encoders) (0.14.0)\n",
      "Requirement already satisfied: pandas>=1.0.5 in c:\\python311\\lib\\site-packages (from category_encoders) (1.5.3)\n",
      "Requirement already satisfied: patsy>=0.5.1 in c:\\python311\\lib\\site-packages (from category_encoders) (0.5.3)\n",
      "Requirement already satisfied: python-dateutil>=2.8.1 in c:\\users\\lenovo\\appdata\\roaming\\python\\python311\\site-packages (from pandas>=1.0.5->category_encoders) (2.8.2)\n",
      "Requirement already satisfied: pytz>=2020.1 in c:\\python311\\lib\\site-packages (from pandas>=1.0.5->category_encoders) (2022.7.1)\n",
      "Requirement already satisfied: six in c:\\python311\\lib\\site-packages (from patsy>=0.5.1->category_encoders) (1.15.0)\n",
      "Requirement already satisfied: joblib>=1.1.1 in c:\\python311\\lib\\site-packages (from scikit-learn>=0.20.0->category_encoders) (1.3.2)\n",
      "Requirement already satisfied: threadpoolctl>=2.0.0 in c:\\python311\\lib\\site-packages (from scikit-learn>=0.20.0->category_encoders) (3.2.0)\n",
      "Requirement already satisfied: packaging>=21.3 in c:\\users\\lenovo\\appdata\\roaming\\python\\python311\\site-packages (from statsmodels>=0.9.0->category_encoders) (23.0)\n"
     ]
    }
   ],
   "source": [
    "!pip install category_encoders"
   ]
  },
  {
   "cell_type": "code",
   "execution_count": 2,
   "id": "efe35f18",
   "metadata": {},
   "outputs": [
    {
     "name": "stdout",
     "output_type": "stream",
     "text": [
      "The Original DataFrame:\n",
      "      Name Favorite Color\n",
      "0    Alice            Red\n",
      "1      Bob           Blue\n",
      "2  Charlie          Green\n",
      "3    David            Red\n",
      "The Updated DataFrame with Nominal (Integer) Encoding:\n",
      "      Name Favorite Color  Number\n",
      "0    Alice            Red       1\n",
      "1      Bob           Blue       2\n",
      "2  Charlie          Green       3\n",
      "3    David            Red       1\n"
     ]
    }
   ],
   "source": [
    "# Import the necessary libraries\n",
    "import pandas as pd\n",
    "\n",
    "# Create the dataset with the \"Favorite Color\" feature\n",
    "data = {'Name': ['Alice', 'Bob', 'Charlie', 'David'],\n",
    "        'Favorite Color': ['Red', 'Blue', 'Green', 'Red']}\n",
    "df = pd.DataFrame(data)\n",
    "print(\"The Original DataFrame:\")\n",
    "print(df)\n",
    "\n",
    "# Define the encoding mapping based on unique values in \"Favorite Color\" column\n",
    "unique_colors = df['Favorite Color'].unique()\n",
    "color_encoding = {color: index + 1 for index, color in enumerate(unique_colors)}\n",
    "\n",
    "# Apply the encoding to the \"Favorite Color\" column\n",
    "df['Number'] = df['Favorite Color'].map(color_encoding)\n",
    "\n",
    "# Print the updated DataFrame\n",
    "print(\"The Updated DataFrame with Nominal (Integer) Encoding:\")\n",
    "print(df)"
   ]
  },
  {
   "cell_type": "markdown",
   "id": "e37a3b4d",
   "metadata": {},
   "source": [
    "**Q3. In what situations is nominal encoding preferred over one-hot encoding? Provide a practical example.**"
   ]
  },
  {
   "cell_type": "markdown",
   "id": "4394887a",
   "metadata": {},
   "source": [
    "`Nominal encoding` is preferred over one-hot encoding when the categorical features do not have any order or ranking. For example, if we have a feature that represents the color of a shirt, such as red, blue, or green, we can use nominal encoding to assign each color a unique integer value, such as 1, 2, or 3. This way, we can preserve the original meaning of the feature without creating new variables for each color.\n",
    "\n",
    "`One-hot encoding` is preferred over nominal encoding when the categorical features have an order or ranking. For example, if we have a feature that represents the level of education, such as high school, college, or graduate school, we can use one-hot encoding to create new variables for each level, such as high_school_1, high_school_2, etc. This way, we can capture the difference between the levels and avoid implying any hierarchy or magnitude.\n",
    "\n",
    "`Nominal encoding` is one of the simplest and most common ways of encoding categorical data. However, it has some limitations and drawbacks. \n",
    "- For example, nominal encoding does not capture any order or hierarchy among the categories.\n",
    "- it also does not allow us to perform any statistical analysis or visualization based on the categories. \n",
    "- Therefore, depending on the type and purpose of our data, we may need to use other techniques of encoding categorical data, such as ordinal encoding or one-hot encoding.\n",
    "\n",
    "`If we try to convert the above mentioned data frame into OneHotEncoded dataset:`"
   ]
  },
  {
   "cell_type": "code",
   "execution_count": 3,
   "id": "29c114ef",
   "metadata": {},
   "outputs": [
    {
     "name": "stdout",
     "output_type": "stream",
     "text": [
      "The Original DataFrame:\n",
      "      Name Favorite Color\n",
      "0    Alice            Red\n",
      "1      Bob           Blue\n",
      "2  Charlie          Green\n",
      "3    David            Red\n",
      "The Category Counts:\n",
      "Red      2\n",
      "Blue     1\n",
      "Green    1\n",
      "Name: Favorite Color, dtype: int64\n",
      "The Encoded Data:\n",
      "      Name  Favorite Color_Red  Favorite Color_Blue  Favorite Color_Green\n",
      "0    Alice                   1                    0                     0\n",
      "1      Bob                   0                    1                     0\n",
      "2  Charlie                   0                    0                     1\n",
      "3    David                   1                    0                     0\n"
     ]
    }
   ],
   "source": [
    "# Import necessary libraries\n",
    "import pandas as pd\n",
    "import category_encoders as ce\n",
    "\n",
    "# Create the dataset with the \"Favorite Color\" feature\n",
    "data = {'Name': ['Alice', 'Bob', 'Charlie', 'David'],\n",
    "        'Favorite Color': ['Red', 'Blue', 'Green', 'Red']}\n",
    "df = pd.DataFrame(data)\n",
    "print(\"The Original DataFrame:\")\n",
    "print(df)\n",
    "\n",
    "# Count the occurrences of each unique category in the \"Favorite Color\" column\n",
    "category_counts = df['Favorite Color'].value_counts()\n",
    "\n",
    "# Initialize the OneHotEncoder from category_encoders\n",
    "encoder = ce.OneHotEncoder(cols=['Favorite Color'],return_df=True, use_cat_names=True)\n",
    "\n",
    "# Fit and transform the data to perform one-hot encoding\n",
    "encoded_data = encoder.fit_transform(df)\n",
    "\n",
    "print(\"The Category Counts:\")\n",
    "print(category_counts)\n",
    "\n",
    "print(\"The Encoded Data:\")\n",
    "print(encoded_data)"
   ]
  },
  {
   "cell_type": "markdown",
   "id": "71ecc697",
   "metadata": {},
   "source": [
    "- Now, our \"Favorite Color\" feature has been successfully one-hot encoded into binary columns. Each category is represented by a binary column, where 1 indicates the presence of that color, and 0 indicates its absence.\n",
    "- In this example, we've used one-hot encoding to convert nominal categorical data into a format suitable for data analysis and machine learning. This approach preserves the independence of categories and ensures that no misleading order is imposed on the data, making it suitable for a wide range of applications.\n",
    "\n",
    "But if we have high dimensional dataset with 1000 of unique feature, then it will be more useful if we use `Binary Encoding`.\n",
    "\n",
    "**Binary Encoding** is a method used to encode categorical data by representing each category with binary code. It's particularly useful when dealing with high-cardinality categorical features. In binary encoding, each category is converted into a binary number, and these binary digits are stored in separate columns.\n",
    "\n",
    "**Scenario**: Let's say we have a dataset of students with a \"Favorite Animal\" feature, which has categories like \"Cat,\" \"Dog,\" and \"Fish.\" We will use binary encoding to represent these categories as binary code.\n",
    "\n",
    "`Here's a step-by-step explanation with Python code:`"
   ]
  },
  {
   "cell_type": "code",
   "execution_count": 4,
   "id": "b592fe27",
   "metadata": {},
   "outputs": [
    {
     "name": "stdout",
     "output_type": "stream",
     "text": [
      "The Original DataFrame:\n",
      "      Name Favorite Color\n",
      "0    Alice            Red\n",
      "1      Bob           Blue\n",
      "2  Charlie          Green\n",
      "3    David            Red\n",
      "The Category Counts:\n",
      "Red      2\n",
      "Blue     1\n",
      "Green    1\n",
      "Name: Favorite Color, dtype: int64\n",
      "The Encoded Data:\n",
      "      Name  Favorite Color_0  Favorite Color_1\n",
      "0    Alice                 0                 1\n",
      "1      Bob                 1                 0\n",
      "2  Charlie                 1                 1\n",
      "3    David                 0                 1\n"
     ]
    }
   ],
   "source": [
    "# Import necessary libraries\n",
    "import pandas as pd\n",
    "import category_encoders as ce\n",
    "\n",
    "# Create the dataset with the \"Favorite Color\" feature\n",
    "data = {'Name': ['Alice', 'Bob', 'Charlie', 'David'],\n",
    "        'Favorite Color': ['Red', 'Blue', 'Green', 'Red']}\n",
    "df = pd.DataFrame(data)\n",
    "print(\"The Original DataFrame:\")\n",
    "print(df)\n",
    "\n",
    "# Count the occurrences of each unique category in the \"Favorite Color\" column\n",
    "category_counts = df['Favorite Color'].value_counts()\n",
    "\n",
    "# Initialize the OneHotEncoder from category_encoders\n",
    "encoder = ce.BinaryEncoder(cols=['Favorite Color'],return_df=True)\n",
    "\n",
    "# Fit and transform the data to perform one-hot encoding\n",
    "encoded_data = encoder.fit_transform(df)\n",
    "\n",
    "print(\"The Category Counts:\")\n",
    "print(category_counts)\n",
    "\n",
    "print(\"The Encoded Data:\")\n",
    "print(encoded_data)"
   ]
  },
  {
   "cell_type": "markdown",
   "id": "011986a1",
   "metadata": {},
   "source": [
    "- In this example, we've used binary encoding to convert the \"Favorite Color\" feature into binary columns.\n",
    "- Each category is represented by a binary code, where `01` indicates the presence of red color, and `10` indicates blue and `11` indicates green color. \n",
    "- Binary encoding is especially helpful when dealing with categorical features with a large number of categories and avoids the high dimensionality of one-hot encoding.\n",
    "- Here, we use two columns to represent 3 unique colors. Similarly, we can use $n$ columns to represent $2^n$ unique features in any datsets."
   ]
  },
  {
   "cell_type": "markdown",
   "id": "c8ad4139",
   "metadata": {},
   "source": [
    "**Q4. Suppose you have a dataset containing categorical data with 5 unique values. Which encoding technique would you use to transform this data into a format suitable for machine learning algorithms? Explain why you made this choice.**"
   ]
  },
  {
   "cell_type": "markdown",
   "id": "1ee8d5b2",
   "metadata": {},
   "source": [
    "To transform categorical data with 5 unique values into a format suitable for machine learning algorithms, we can use `one-hot encoding`. `One-hot encoding` is a popular technique because it helps prevent the model from assuming any ordinal relationship between the categories and treats them as independent binary features. It does not capture any order or hierarchy among the categories."
   ]
  },
  {
   "cell_type": "markdown",
   "id": "51ab0bc7",
   "metadata": {},
   "source": [
    "**Q5. In a machine learning project, you have a dataset with 1000 rows and 5 columns. Two of the columns are categorical, and the remaining three columns are numerical. If you were to use nominal encoding to transform the categorical data, how many new columns would be created? Show your calculations.**"
   ]
  },
  {
   "cell_type": "code",
   "execution_count": 5,
   "id": "ae020384",
   "metadata": {},
   "outputs": [
    {
     "name": "stdout",
     "output_type": "stream",
     "text": [
      "The Original DataFrame:\n",
      "    Category1 Category2  Numeric1  Numeric2  Numeric3\n",
      "0           C         Y  0.068449  0.118769  0.634087\n",
      "1           A         X  0.517702  0.240253  0.528022\n",
      "2           B         X  0.531279  0.919290  0.892601\n",
      "3           A         Z  0.930639  0.490202  0.548854\n",
      "4           C         X  0.015296  0.547068  0.863128\n",
      "..        ...       ...       ...       ...       ...\n",
      "995         C         Z  0.084524  0.364734  0.971368\n",
      "996         C         Y  0.102427  0.785184  0.569116\n",
      "997         B         Z  0.968585  0.685626  0.426589\n",
      "998         B         Y  0.567177  0.450070  0.052907\n",
      "999         C         Z  0.239881  0.731408  0.445955\n",
      "\n",
      "[1000 rows x 5 columns]\n",
      "\t\n",
      "The Updated DataFrame with Nominal (Integer) Encoding:\n",
      "<bound method NDFrame.head of     Category1 Category2  Numeric1  Numeric2  Numeric3  Category1_encoded  \\\n",
      "0           C         Y  0.068449  0.118769  0.634087                  1   \n",
      "1           A         X  0.517702  0.240253  0.528022                  2   \n",
      "2           B         X  0.531279  0.919290  0.892601                  3   \n",
      "3           A         Z  0.930639  0.490202  0.548854                  2   \n",
      "4           C         X  0.015296  0.547068  0.863128                  1   \n",
      "..        ...       ...       ...       ...       ...                ...   \n",
      "995         C         Z  0.084524  0.364734  0.971368                  1   \n",
      "996         C         Y  0.102427  0.785184  0.569116                  1   \n",
      "997         B         Z  0.968585  0.685626  0.426589                  3   \n",
      "998         B         Y  0.567177  0.450070  0.052907                  3   \n",
      "999         C         Z  0.239881  0.731408  0.445955                  1   \n",
      "\n",
      "     Category2_encoded  \n",
      "0                    1  \n",
      "1                    2  \n",
      "2                    2  \n",
      "3                    3  \n",
      "4                    2  \n",
      "..                 ...  \n",
      "995                  3  \n",
      "996                  1  \n",
      "997                  3  \n",
      "998                  1  \n",
      "999                  3  \n",
      "\n",
      "[1000 rows x 7 columns]>\n"
     ]
    }
   ],
   "source": [
    "# Import the necessary libraries\n",
    "import pandas as pd\n",
    "import numpy as np\n",
    "\n",
    "# Create random data for the DataFrame\n",
    "data = {\n",
    "    'Category1': np.random.choice(['A', 'B', 'C'], size=1000),  # Categorical data with 3 categories (A, B, C)\n",
    "    'Category2': np.random.choice(['X', 'Y', 'Z'], size=1000),  # Categorical data with 3 categories (X, Y, Z)\n",
    "    'Numeric1': np.random.rand(1000),  # Numerical data\n",
    "    'Numeric2': np.random.rand(1000),  # Numerical data\n",
    "    'Numeric3': np.random.rand(1000)   # Numerical data\n",
    "}\n",
    "\n",
    "# Create the DataFrame\n",
    "df = pd.DataFrame(data)\n",
    "\n",
    "# Display the first few rows of the DataFrame\n",
    "print(\"The Original DataFrame:\")\n",
    "print(df)\n",
    "\n",
    "# Define the encoding mapping based on unique values in \"Category1\" and \"Category2\" columns\n",
    "unique_categories1 = df['Category1'].unique()\n",
    "unique_categories2 = df['Category2'].unique()\n",
    "\n",
    "# Create encoding dictionaries for Category1 and Category2\n",
    "category1_encoding = {category: index + 1 for index, category in enumerate(unique_categories1)}\n",
    "category2_encoding = {category: index + 1 for index, category in enumerate(unique_categories2)}\n",
    "\n",
    "# Apply the encoding to the \"Category1\" and \"Category2\" columns\n",
    "df['Category1_encoded'] = df['Category1'].map(category1_encoding)\n",
    "df['Category2_encoded'] = df['Category2'].map(category2_encoding)\n",
    "\n",
    "# Print the updated DataFrame\n",
    "print(\"\\t\")\n",
    "print(\"The Updated DataFrame with Nominal (Integer) Encoding:\")\n",
    "print(df.head)"
   ]
  },
  {
   "cell_type": "markdown",
   "id": "9c15bac6",
   "metadata": {},
   "source": [
    "**Q6. You are working with a dataset containing information about different types of animals, including their species, habitat, and diet. Which encoding technique would you use to transform the categorical data into a format suitable for machine learning algorithms? Justify your answer.**"
   ]
  },
  {
   "cell_type": "markdown",
   "id": "724d7b25",
   "metadata": {},
   "source": [
    "To transform categorical data into a format suitable for machine learning algorithms, one commonly used technique is one-hot encoding. One-hot encoding converts categorical variables into binary vectors that can be used as input to machine learning models. It is particularly useful when dealing with nominal (unordered) categorical data, such as species, habitat, or diet types of animals.\n",
    "\n",
    "I will provide a detailed explanation and example using Python code and Matplotlib visualizations to illustrate the concept step by step.\n",
    "\n",
    "Let's say you have a dataset with information about different animals:\n",
    "\n",
    "| Animal    | Species   | Habitat    | Diet        |\n",
    "|-----------|-----------|------------|-------------|\n",
    "| Lion      | Mammal    | Savannah   | Carnivore   |\n",
    "| Penguin   | Bird      | Ice        | Carnivore   |\n",
    "| Elephant  | Mammal    | Forest     | Herbivore   |\n",
    "| Giraffe   | Mammal    | Savannah   | Herbivore   |\n",
    "| Dolphin   | Mammal    | Ocean      | Carnivore   |\n",
    "\n",
    "We want to one-hot encode the categorical columns: 'Species', 'Habitat', and 'Diet'."
   ]
  },
  {
   "cell_type": "code",
   "execution_count": 6,
   "id": "52af9fd5",
   "metadata": {},
   "outputs": [
    {
     "name": "stdout",
     "output_type": "stream",
     "text": [
      "The Original DataFRame:\n",
      "     Animal Species   Habitat       Diet\n",
      "0      Lion  Mammal  Savannah  Carnivore\n",
      "1   Penguin    Bird       Ice  Carnivore\n",
      "2  Elephant  Mammal    Forest  Herbivore\n",
      "3   Giraffe  Mammal  Savannah  Herbivore\n",
      "4   Dolphin  Mammal     Ocean  Carnivore\n",
      "The Encoded Data:\n",
      "[[0. 1. 0. 0. 0. 1. 1. 0.]\n",
      " [1. 0. 0. 1. 0. 0. 1. 0.]\n",
      " [0. 1. 1. 0. 0. 0. 0. 1.]\n",
      " [0. 1. 0. 0. 0. 1. 0. 1.]\n",
      " [0. 1. 0. 0. 1. 0. 1. 0.]]\n"
     ]
    },
    {
     "data": {
      "text/plain": [
       "<Figure size 1000x600 with 0 Axes>"
      ]
     },
     "metadata": {},
     "output_type": "display_data"
    },
    {
     "data": {
      "image/png": "[encoded data removed]",
      "text/plain": [
       "<Figure size 768x480 with 1 Axes>"
      ]
     },
     "metadata": {},
     "output_type": "display_data"
    }
   ],
   "source": [
    "import pandas as pd\n",
    "from sklearn.preprocessing import OneHotEncoder\n",
    "import matplotlib.pyplot as plt\n",
    "\n",
    "# Create a DataFrame with the animal data\n",
    "data = {\n",
    "    'Animal': ['Lion', 'Penguin', 'Elephant', 'Giraffe', 'Dolphin'],\n",
    "    'Species': ['Mammal', 'Bird', 'Mammal', 'Mammal', 'Mammal'],\n",
    "    'Habitat': ['Savannah', 'Ice', 'Forest', 'Savannah', 'Ocean'],\n",
    "    'Diet': ['Carnivore', 'Carnivore', 'Herbivore', 'Herbivore', 'Carnivore']\n",
    "}\n",
    "\n",
    "df = pd.DataFrame(data)\n",
    "print(\"The Original DataFRame:\")\n",
    "print(df)\n",
    "\n",
    "# Initialize the OneHotEncoder\n",
    "encoder = OneHotEncoder()\n",
    "\n",
    "# Fit and transform the categorical columns\n",
    "encoded_data = encoder.fit_transform(df[['Species', 'Habitat', 'Diet']]).toarray()\n",
    "print(\"The Encoded Data:\")\n",
    "print(encoded_data)\n",
    "\n",
    "# Create a figure and plot the one-hot encoded data using matshow\n",
    "plt.figure(figsize=(10, 6))\n",
    "plt.matshow(encoded_data, cmap='Blues')\n",
    "plt.xlabel('One-Hot Encoded Features')\n",
    "plt.ylabel('Animal Index')\n",
    "plt.title('One-Hot Encoded Categorical Data')\n",
    "plt.xticks(range(encoded_data.shape[1]), encoder.get_feature_names_out(['Species', 'Habitat', 'Diet']), rotation=45)\n",
    "plt.yticks(range(encoded_data.shape[0]), df['Animal'])\n",
    "plt.show()\n"
   ]
  },
  {
   "cell_type": "markdown",
   "id": "3562428c",
   "metadata": {},
   "source": [
    "Now, let's take a look at the one-hot encoded data:\n",
    "\n",
    "- Now, each categorical variable has been converted into binary columns, where 1 represents the presence of a category, and 0 represents its absence. This one-hot encoded data can be used as input to machine learning algorithms, allowing you to work with categorical data effectively.\n",
    "- The visualization will show a binary matrix where each column represents a category, and each row corresponds to an animal.\n",
    "- This approach is essential for machine learning models as they typically require numerical input. One-hot encoding ensures that we represent categorical data in a way that preserves their individuality and does not introduce any ordinal relationships between categories."
   ]
  },
  {
   "cell_type": "markdown",
   "id": "8ed34989",
   "metadata": {},
   "source": [
    "**Q7.You are working on a project that involves predicting customer churn for a telecommunications company. You have a dataset with 5 features, including the customer's gender, age, contract type, monthly charges, and tenure. Which encoding technique(s) would you use to transform the categorical data into numerical data? Provide a step-by-step explanation of how you would implement the encoding.**"
   ]
  },
  {
   "cell_type": "code",
   "execution_count": 7,
   "id": "770846a0",
   "metadata": {},
   "outputs": [
    {
     "name": "stdout",
     "output_type": "stream",
     "text": [
      "The Original DataFRame:\n",
      "   gender  age   contract_type  monthly_charges  tenure\n",
      "0    Male   25  Month-to-Month             50.0       6\n",
      "1  Female   30        One Year             65.0      12\n",
      "2    Male   22  Month-to-Month             45.0       3\n",
      "3  Female   35        Two Year             80.0      24\n",
      "\t\n",
      "The Category Counts for 'gender':\n",
      "Male      2\n",
      "Female    2\n",
      "Name: gender, dtype: int64\n",
      "\t\n",
      "The Category Counts for 'contract_type':\n",
      "Month-to-Month    2\n",
      "One Year          1\n",
      "Two Year          1\n",
      "Name: contract_type, dtype: int64\n",
      "\t\n",
      "The Encoded Data:\n",
      "   gender_Male  gender_Female  age  contract_type_Month-to-Month  \\\n",
      "0            1              0   25                             1   \n",
      "1            0              1   30                             0   \n",
      "2            1              0   22                             1   \n",
      "3            0              1   35                             0   \n",
      "\n",
      "   contract_type_One Year  contract_type_Two Year  monthly_charges  tenure  \n",
      "0                       0                       0             50.0       6  \n",
      "1                       1                       0             65.0      12  \n",
      "2                       0                       0             45.0       3  \n",
      "3                       0                       1             80.0      24  \n"
     ]
    }
   ],
   "source": [
    "import pandas as pd\n",
    "import category_encoders as ce\n",
    "\n",
    "# Sample data\n",
    "data = {\n",
    "    'gender': ['Male', 'Female', 'Male', 'Female'],\n",
    "    'age': [25, 30, 22, 35],\n",
    "    'contract_type': ['Month-to-Month', 'One Year', 'Month-to-Month', 'Two Year'],\n",
    "    'monthly_charges': [50.0, 65.0, 45.0, 80.0],\n",
    "    'tenure': [6, 12, 3, 24]\n",
    "}\n",
    "\n",
    "# Create a DataFrame\n",
    "df = pd.DataFrame(data)\n",
    "print(\"The Original DataFRame:\")\n",
    "print(df)\n",
    "print(\"\\t\")\n",
    "\n",
    "# Count the occurrences of each unique category in the \"gender\" and \"contract_type\" columns\n",
    "category_counts_gender = df['gender'].value_counts()\n",
    "category_counts_contract_type = df['contract_type'].value_counts()\n",
    "\n",
    "# Initialize the OneHotEncoder from category_encoders\n",
    "encoder = ce.OneHotEncoder(cols=['gender', 'contract_type'], return_df=True, use_cat_names=True)\n",
    "\n",
    "# Fit and transform the data to perform one-hot encoding\n",
    "encoded_data = encoder.fit_transform(df)\n",
    "\n",
    "print(\"The Category Counts for 'gender':\")\n",
    "print(category_counts_gender)\n",
    "print(\"\\t\")\n",
    "\n",
    "print(\"The Category Counts for 'contract_type':\")\n",
    "print(category_counts_contract_type)\n",
    "print(\"\\t\")\n",
    "\n",
    "print(\"The Encoded Data:\")\n",
    "print(encoded_data)"
   ]
  },
  {
   "cell_type": "code",
   "execution_count": null,
   "id": "18838810",
   "metadata": {},
   "outputs": [],
   "source": []
  }
 ],
 "metadata": {
  "kernelspec": {
   "display_name": "Python 3 (ipykernel)",
   "language": "python",
   "name": "python3"
  },
  "language_info": {
   "codemirror_mode": {
    "name": "ipython",
    "version": 3
   },
   "file_extension": ".py",
   "mimetype": "text/x-python",
   "name": "python",
   "nbconvert_exporter": "python",
   "pygments_lexer": "ipython3",
   "version": "3.11.2"
  },
  "toc": {
   "base_numbering": 1,
   "nav_menu": {},
   "number_sections": true,
   "sideBar": true,
   "skip_h1_title": false,
   "title_cell": "Table of Contents",
   "title_sidebar": "Contents",
   "toc_cell": false,
   "toc_position": {},
   "toc_section_display": true,
   "toc_window_display": false
  }
 },
 "nbformat": 4,
 "nbformat_minor": 5
}
