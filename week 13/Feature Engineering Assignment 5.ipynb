{
 "cells": [
  {
   "cell_type": "markdown",
   "id": "e17ecb7c",
   "metadata": {},
   "source": [
    "**Q1. What is the difference between Ordinal Encoding and Label Encoding? Provide an example of when you might choose one over the other.**"
   ]
  },
  {
   "cell_type": "markdown",
   "id": "13f1a61b",
   "metadata": {},
   "source": [
    "`Ordinal encoding` and `label encoding` are both techniques used to convert categorical data into numerical form so that machine learning algorithms can work with them. However, they are used in different situations and have distinct approaches.\n",
    "\n",
    "**Ordinal Encoding:**\n",
    "\n",
    "Ordinal encoding is used when there is an inherent order or ranking among the categories in a categorical feature. In this encoding, each category is assigned a unique integer based on its position in the order. For example, if we have a \"Size\" feature with categories like \"Small,\" \"Medium,\" and \"Large,\" we can encode them as 0, 1, and 2, respectively, to represent their ordinal relationship.\n",
    "\n",
    "`Here's an example of ordinal encoding:`"
   ]
  },
  {
   "cell_type": "code",
   "execution_count": 1,
   "id": "854e941e",
   "metadata": {},
   "outputs": [
    {
     "name": "stdout",
     "output_type": "stream",
     "text": [
      "The Original Dataframe:\n",
      "     Size\n",
      "0   Small\n",
      "1  Medium\n",
      "2   Large\n",
      "3   Small\n",
      "4   Large\n",
      "\t\n",
      "The Encoded DataFrame:\n",
      "     Size  Size_Encoded\n",
      "0   Small             0\n",
      "1  Medium             1\n",
      "2   Large             2\n",
      "3   Small             0\n",
      "4   Large             2\n"
     ]
    }
   ],
   "source": [
    "# Import necessary libraries\n",
    "import pandas as pd\n",
    "\n",
    "# Create a sample dataset\n",
    "data = {'Size': ['Small', 'Medium', 'Large', 'Small', 'Large']}\n",
    "df = pd.DataFrame(data)\n",
    "print(\"The Original Dataframe:\")\n",
    "print(df)\n",
    "print(\"\\t\")\n",
    "\n",
    "# Define the ordinal mapping\n",
    "size_mapping = {'Small': 0, 'Medium': 1, 'Large': 2}\n",
    "\n",
    "# Apply ordinal encoding\n",
    "df['Size_Encoded'] = df['Size'].map(size_mapping)\n",
    "\n",
    "# Display the DataFrame\n",
    "print(\"The Encoded DataFrame:\")\n",
    "print(df)"
   ]
  },
  {
   "cell_type": "markdown",
   "id": "37e4cb64",
   "metadata": {},
   "source": [
    "`We can also use OrdinalEncoder class also:`"
   ]
  },
  {
   "cell_type": "code",
   "execution_count": 2,
   "id": "ea007431",
   "metadata": {},
   "outputs": [
    {
     "name": "stdout",
     "output_type": "stream",
     "text": [
      "The Original Dataframe:\n",
      "     Size\n",
      "0   Small\n",
      "1  Medium\n",
      "2   Large\n",
      "3   Small\n",
      "4   Large\n",
      "\t\n",
      "The Encoded DataFrame:\n",
      "     Size  Size_Encoded\n",
      "0   Small             2\n",
      "1  Medium             1\n",
      "2   Large             0\n",
      "3   Small             2\n",
      "4   Large             0\n"
     ]
    }
   ],
   "source": [
    "# Import necessary libraries\n",
    "import pandas as pd\n",
    "from sklearn.preprocessing import OrdinalEncoder\n",
    "\n",
    "# Create a sample dataset\n",
    "data = {'Size': ['Small', 'Medium', 'Large', 'Small', 'Large']}\n",
    "df = pd.DataFrame(data)\n",
    "print(\"The Original Dataframe:\")\n",
    "print(df)\n",
    "print(\"\\t\")\n",
    "\n",
    "# Initialize the OrdinalEncoder\n",
    "ordinal_encoder = OrdinalEncoder()\n",
    "\n",
    "# Fit and transform the data\n",
    "df['Size_Encoded'] = ordinal_encoder.fit_transform(df[['Size']])\n",
    "\n",
    "# Convert the 'Size_Encoded' column to integer\n",
    "df['Size_Encoded'] = df['Size_Encoded'].astype(int)\n",
    "\n",
    "# Display the DataFrame\n",
    "print(\"The Encoded DataFrame:\")\n",
    "print(df)"
   ]
  },
  {
   "cell_type": "markdown",
   "id": "65a5f166",
   "metadata": {},
   "source": [
    "**Label Encoding:**\n",
    "\n",
    "`Label encoding`, on the other hand, is used when there is no intrinsic order or ranking among the categories in a categorical feature. It simply assigns a unique integer to each category without considering any ordinal relationship. For instance, if you have a \"Color\" feature with categories like \"Red,\" \"Blue,\" and \"Green,\" you can encode them as 0, 1, and 2, respectively.\n",
    "\n",
    "`Here's an example of label encoding:`"
   ]
  },
  {
   "cell_type": "code",
   "execution_count": 3,
   "id": "d85c5dae",
   "metadata": {},
   "outputs": [
    {
     "name": "stdout",
     "output_type": "stream",
     "text": [
      "The Original Dataframe:\n",
      "   Color\n",
      "0    Red\n",
      "1   Blue\n",
      "2  Green\n",
      "3    Red\n",
      "4   Blue\n",
      "\t\n",
      "The Encoded DataFrame:\n",
      "   Color  Color_Encoded\n",
      "0    Red              2\n",
      "1   Blue              0\n",
      "2  Green              1\n",
      "3    Red              2\n",
      "4   Blue              0\n"
     ]
    }
   ],
   "source": [
    "# Import necessary libraries\n",
    "from sklearn.preprocessing import LabelEncoder\n",
    "\n",
    "# Create a sample dataset\n",
    "data = {'Color': ['Red', 'Blue', 'Green', 'Red', 'Blue']}\n",
    "df = pd.DataFrame(data)\n",
    "print(\"The Original Dataframe:\")\n",
    "print(df)\n",
    "print(\"\\t\")\n",
    "\n",
    "# Initialize the LabelEncoder\n",
    "label_encoder = LabelEncoder()\n",
    "\n",
    "# Fit and transform the data\n",
    "df['Color_Encoded'] = label_encoder.fit_transform(df['Color'])\n",
    "\n",
    "# Display the DataFrame\n",
    "print(\"The Encoded DataFrame:\")\n",
    "print(df)"
   ]
  },
  {
   "cell_type": "markdown",
   "id": "64d31c24",
   "metadata": {},
   "source": [
    "**Q2. Explain how Target Guided Ordinal Encoding works and provide an example of when you might use it in a machine learning project.**"
   ]
  },
  {
   "cell_type": "markdown",
   "id": "de187c8b",
   "metadata": {},
   "source": [
    "`Target Guided Ordinal` Encoding is a technique used in machine learning to encode categorical variables with an ordinal relationship based on the target variable. It is particularly useful when dealing with ordinal categorical data, where the categories have a natural order or ranking.\n",
    "\n",
    "Let's break down the steps of how Target Guided Ordinal Encoding works and provide an example to illustrate it. We will use Python and matplotlib for visualization.\n",
    "\n",
    "**Step 1: Understanding the Concept**\n",
    "\n",
    "- Before we start, let's make sure we understand what an ordinal variable is. An ordinal variable is a categorical variable with ordered categories, meaning there's a clear hierarchy or ranking among the categories. For example, \"Low,\" \"Medium,\" and \"High\" are ordinal categories because they have a natural order.\n",
    "\n",
    "**Step 2: Example Data**\n",
    "\n",
    "- For this example, let's assume we have a dataset of student exam scores and their corresponding performance categories: \"Poor,\" \"Average,\" \"Good,\" and \"Excellent.\" We want to create an ordinal encoding based on the performance category."
   ]
  },
  {
   "cell_type": "code",
   "execution_count": 4,
   "id": "7aad9edf",
   "metadata": {},
   "outputs": [
    {
     "name": "stdout",
     "output_type": "stream",
     "text": [
      "The Original DataFRame:\n",
      "   Student  Exam_Score Performance\n",
      "0    Alice          75     Average\n",
      "1      Bob          88        Good\n",
      "2  Charlie          92   Excellent\n",
      "3    David          60        Poor\n",
      "4      Eve          98   Excellent\n",
      "5    Frank          85        Good\n",
      "6    Grace          70     Average\n",
      "7   Hannah          65        Poor\n",
      "8      Ivy          78        Good\n",
      "9     Jack          93   Excellent\n"
     ]
    }
   ],
   "source": [
    "import pandas as pd\n",
    "import numpy as np\n",
    "\n",
    "data = {\n",
    "    'Student': ['Alice', 'Bob', 'Charlie', 'David', 'Eve', 'Frank', 'Grace', 'Hannah', 'Ivy', 'Jack'],\n",
    "    'Exam_Score': [75, 88, 92, 60, 98, 85, 70, 65, 78, 93],\n",
    "    'Performance': ['Average', 'Good', 'Excellent', 'Poor', 'Excellent', 'Good', 'Average', 'Poor', 'Good', 'Excellent']\n",
    "}\n",
    "\n",
    "df = pd.DataFrame(data)\n",
    "print(\"The Original DataFRame:\")\n",
    "print(df)"
   ]
  },
  {
   "cell_type": "markdown",
   "id": "2bfb5391",
   "metadata": {},
   "source": [
    "**Step 3: Calculate Ordinal Rankings**\n",
    "\n",
    "- We need to calculate the ordinal ranking of the categories based on the target variable (Performance in this case). We will assign a numerical value to each category, reflecting their ranking."
   ]
  },
  {
   "cell_type": "code",
   "execution_count": 5,
   "id": "76af56a4",
   "metadata": {},
   "outputs": [
    {
     "name": "stdout",
     "output_type": "stream",
     "text": [
      "The Ranking:  {'Poor': 1, 'Average': 2, 'Good': 3, 'Excellent': 4}\n"
     ]
    }
   ],
   "source": [
    "# Create a mapping of ordinal rankings based on the mean Exam_Score for each category\n",
    "ordinal_mapping = df.groupby('Performance')['Exam_Score'].mean().sort_values().index\n",
    "ordinal_mapping = {category: rank for rank, category in enumerate(ordinal_mapping, 1)}\n",
    "print(\"The Ranking: \", ordinal_mapping)"
   ]
  },
  {
   "cell_type": "markdown",
   "id": "096460ac",
   "metadata": {},
   "source": [
    "**Step 4: Apply Ordinal Encoding**\n",
    "\n",
    "- Now that we have the ordinal mapping, we can create a new column in our dataset to represent the ordinal encoding based on the Performance category."
   ]
  },
  {
   "cell_type": "code",
   "execution_count": 6,
   "id": "da4aae26",
   "metadata": {},
   "outputs": [
    {
     "name": "stdout",
     "output_type": "stream",
     "text": [
      "The Encoded DataFrame:\n",
      "   Student  Exam_Score Performance  Performance_Ordinal\n",
      "0    Alice          75     Average                    2\n",
      "1      Bob          88        Good                    3\n",
      "2  Charlie          92   Excellent                    4\n",
      "3    David          60        Poor                    1\n",
      "4      Eve          98   Excellent                    4\n",
      "5    Frank          85        Good                    3\n",
      "6    Grace          70     Average                    2\n",
      "7   Hannah          65        Poor                    1\n",
      "8      Ivy          78        Good                    3\n",
      "9     Jack          93   Excellent                    4\n"
     ]
    }
   ],
   "source": [
    "df['Performance_Ordinal'] = df['Performance'].map(ordinal_mapping)\n",
    "print(\"The Encoded DataFrame:\")\n",
    "print(df)"
   ]
  },
  {
   "cell_type": "markdown",
   "id": "21e9f75c",
   "metadata": {},
   "source": [
    "**Q3. Define covariance and explain why it is important in statistical analysis. How is covariance calculated?**"
   ]
  },
  {
   "cell_type": "markdown",
   "id": "c929f566",
   "metadata": {},
   "source": [
    "`Covariance` is a statistical measure that quantifies the degree to which two random variables change together. In simpler terms, it helps us understand the relationship between two sets of data points. It is crucial in statistical analysis because it provides valuable insights into how two variables are related. Positive covariance suggests that when one variable increases, the other tends to increase as well, while negative covariance indicates that when one variable increases, the other tends to decrease. A covariance of zero implies that the two variables are not related.\n",
    "\n",
    "The formula to calculate the covariance between two variables, X and Y, in a dataset is as follows:\n",
    "\n",
    "$$\\text{Cov}(X, Y) = \\frac{1}{n-1} \\sum_{i=1}^{n} (X_i - \\bar{X})(Y_i - \\bar{Y})$$\n",
    "\n",
    "Where:\n",
    "- $\\text{Cov}(X, Y)$ is the covariance between X and Y.\n",
    "- $n$ is the number of data points.\n",
    "- $X_i$ and $Y_i$ are the individual data points.\n",
    "- $\\bar{X}$ is the mean (average) of X.\n",
    "- $\\bar{Y}$ is the mean (average) of Y.\n",
    "\n",
    "`I will now provide a step-by-step explanation and a Python example;`"
   ]
  },
  {
   "cell_type": "code",
   "execution_count": 7,
   "id": "7741cb49",
   "metadata": {},
   "outputs": [
    {
     "name": "stdout",
     "output_type": "stream",
     "text": [
      "Covariance between X and Y: 25.0952380952381\n",
      "The Covariance Matrix:\n",
      "[[30.9047619  25.0952381 ]\n",
      " [25.0952381  20.57142857]]\n"
     ]
    },
    {
     "data": {
      "image/png": "[encoded data removed]",
      "text/plain": [
       "<Figure size 640x480 with 2 Axes>"
      ]
     },
     "metadata": {},
     "output_type": "display_data"
    }
   ],
   "source": [
    "import numpy as np\n",
    "import matplotlib.pyplot as plt\n",
    "import seaborn as sns\n",
    "\n",
    "# Sample data for X and Y\n",
    "X = np.array([2, 3, 5, 7, 11, 13, 17])\n",
    "Y = np.array([1, 3, 4, 6, 9, 10, 14])\n",
    "\n",
    "# Calculate the mean of X and Y\n",
    "mean_X = np.mean(X)\n",
    "mean_Y = np.mean(Y)\n",
    "\n",
    "# Calculate the covariance\n",
    "n = len(X)  # Number of data points\n",
    "covariance = np.sum((X - mean_X) * (Y - mean_Y)) / (n - 1)\n",
    "\n",
    "print(\"Covariance between X and Y:\", covariance)\n",
    "\n",
    "# Create a covariance matrix\n",
    "covariance_matrix = np.cov(X, Y)\n",
    "print(\"The Covariance Matrix:\")\n",
    "print(covariance_matrix)\n",
    "\n",
    "# Create a heatmap\n",
    "sns.heatmap(covariance_matrix, annot=True, cmap='coolwarm', xticklabels=['X', 'Y'], yticklabels=['X', 'Y'])\n",
    "plt.title('Covariance Heatmap')\n",
    "plt.show()\n"
   ]
  },
  {
   "cell_type": "markdown",
   "id": "990823d3",
   "metadata": {},
   "source": [
    "Let's interpret the results:\n",
    "\n",
    "1. **Covariance between X and Y: 25.0952380952381**\n",
    "   \n",
    "   The covariance between X and Y is approximately 25.10. This positive covariance value indicates that as the values of X tend to increase, the values of Y also tend to increase. In other words, there is a positive linear relationship between X and Y. This means that when X is above its mean, Y is also likely to be above its mean, and when X is below its mean, Y is likely to be below its mean.\n",
    "\n",
    "2. **The Covariance Matrix:**\n",
    "   \n",
    "   The covariance matrix provides a more comprehensive view of the relationship between X and Y, including their self-covariances and the covariance between the two variables.\n",
    "\n",
    "   - The element at (1, 2) and (2, 1) in the matrix (25.0952381) represents the covariance between X and Y, which we already discussed.\n",
    "   \n",
    "   - The element at (1, 1) (30.9047619) is the covariance of X with itself. This is essentially the variance of X. It indicates how much the values of X vary from their mean. In this case, X has a higher variance, which suggests that the values of X are relatively spread out.\n",
    "   \n",
    "   - The element at (2, 2) (20.57142857) is the covariance of Y with itself, which is the variance of Y. This variance indicates how much the values of Y vary from their mean. Y has a lower variance compared to X, suggesting that the values of Y are less spread out than the values of X."
   ]
  },
  {
   "cell_type": "markdown",
   "id": "d1845aeb",
   "metadata": {},
   "source": [
    "**Q4. For a dataset with the following categorical variables: Color (red, green, blue), Size (small, medium, large), and Material (wood, metal, plastic), perform label encoding using Python's scikit-learn library. Show your code and explain the output.**"
   ]
  },
  {
   "cell_type": "markdown",
   "id": "3be6aacc",
   "metadata": {},
   "source": [
    "`Label encoding` is a technique to convert categorical data into numerical format, which is required for many machine learning algorithms. In this example, we will perform label encoding on a dataset with three categorical variables: Color, Size, and Material. We'll use the scikit-learn library in Python to do this.\n",
    "\n",
    "`Here's a step-by-step explanation with Python code and comments:`"
   ]
  },
  {
   "cell_type": "code",
   "execution_count": 8,
   "id": "fd99c344",
   "metadata": {},
   "outputs": [
    {
     "name": "stdout",
     "output_type": "stream",
     "text": [
      "The Original DataFrame: \n",
      "   Color    Size Material\n",
      "0    red  medium    metal\n",
      "1   blue   small  plastic\n",
      "2    red   large     wood\n",
      "3   blue   large  plastic\n",
      "4    red   small    metal\n",
      "5    red  medium    metal\n",
      "6   blue  medium     wood\n",
      "7  green   small    metal\n",
      "8   blue  medium  plastic\n",
      "9   blue   small  plastic\n",
      "\t\n",
      "Label Encoded DataFrame:\n",
      "   Color    Size Material  Color_Encoded  Size_Encoded  Material_Encoded\n",
      "0    red  medium    metal              2             1                 0\n",
      "1   blue   small  plastic              0             2                 1\n",
      "2    red   large     wood              2             0                 2\n",
      "3   blue   large  plastic              0             0                 1\n",
      "4    red   small    metal              2             2                 0\n",
      "5    red  medium    metal              2             1                 0\n",
      "6   blue  medium     wood              0             1                 2\n",
      "7  green   small    metal              1             2                 0\n",
      "8   blue  medium  plastic              0             1                 1\n",
      "9   blue   small  plastic              0             2                 1\n"
     ]
    }
   ],
   "source": [
    "import pandas as pd\n",
    "from sklearn.preprocessing import LabelEncoder\n",
    "import numpy as np\n",
    "\n",
    "# Create a sample dataset with 10 data points and random values\n",
    "np.random.seed(15)  # Set a seed for reproducibility\n",
    "\n",
    "data = {\n",
    "    'Color': np.random.choice(['red', 'blue', 'green'], size=10),\n",
    "    'Size': np.random.choice(['small', 'medium', 'large'], size=10),\n",
    "    'Material': np.random.choice(['wood', 'metal', 'plastic'], size=10)\n",
    "}\n",
    "\n",
    "df = pd.DataFrame(data)\n",
    "print(\"The Original DataFrame: \")\n",
    "print(df)\n",
    "print(\"\\t\")\n",
    "\n",
    "# Initialize the LabelEncoder for each categorical variable (Color, Size, Material)\n",
    "label_encoder_color = LabelEncoder()\n",
    "label_encoder_size = LabelEncoder()\n",
    "label_encoder_material = LabelEncoder()\n",
    "\n",
    "# Apply label encoding to each categorical column and add new columns with encoded values to the DataFrame\n",
    "df['Color_Encoded'] = label_encoder_color.fit_transform(df['Color'])\n",
    "df['Size_Encoded'] = label_encoder_size.fit_transform(df['Size'])\n",
    "df['Material_Encoded'] = label_encoder_material.fit_transform(df['Material'])\n",
    "\n",
    "# Display the DataFrame with random values and label-encoded values\n",
    "print(\"Label Encoded DataFrame:\")\n",
    "print(df)"
   ]
  },
  {
   "cell_type": "code",
   "execution_count": 9,
   "id": "f9e9996e",
   "metadata": {},
   "outputs": [
    {
     "name": "stdout",
     "output_type": "stream",
     "text": [
      "Color Mapping: {'blue': 0, 'green': 1, 'red': 2}\n",
      "Size Mapping: {'large': 0, 'medium': 1, 'small': 2}\n",
      "Material Mapping: {'metal': 0, 'plastic': 1, 'wood': 2}\n"
     ]
    }
   ],
   "source": [
    "# Get the mapping of original values to their encoded values using the `classes_` attribute of the LabelEncoder:\n",
    "color_mapping = dict(zip(label_encoder_color.classes_, label_encoder_color.transform(label_encoder_color.classes_)))\n",
    "size_mapping = dict(zip(label_encoder_size.classes_, label_encoder_size.transform(label_encoder_size.classes_)))\n",
    "material_mapping = dict(zip(label_encoder_material.classes_, label_encoder_material.transform(label_encoder_material.classes_)))\n",
    "\n",
    "print(\"Color Mapping:\", color_mapping)\n",
    "print(\"Size Mapping:\", size_mapping)\n",
    "print(\"Material Mapping:\", material_mapping)"
   ]
  },
  {
   "cell_type": "markdown",
   "id": "62ba67bc",
   "metadata": {},
   "source": [
    "- The output will show the mapping of the original categories to their encoded values. This label-encoded dataset can now be used for machine learning algorithms that require numerical input data.\n",
    "- In this example, we converted categorical data into numerical format using label encoding. Each unique category in each column is assigned a unique integer, making it suitable for machine learning algorithms that require numerical input. \n",
    "- We can apply this technique when the categorical variables have an ordinal relationship (e.g., small < medium < large) or when we don't have too many unique categories. If the categories are nominal (no specific order), one-hot encoding may be a better choice."
   ]
  },
  {
   "cell_type": "markdown",
   "id": "d39fb92b",
   "metadata": {},
   "source": [
    "**Q5. Calculate the covariance matrix for the following variables in a dataset: Age, Income, and Education level. Interpret the results.**"
   ]
  },
  {
   "cell_type": "code",
   "execution_count": 10,
   "id": "8c5920ae",
   "metadata": {
    "scrolled": true
   },
   "outputs": [
    {
     "name": "stdout",
     "output_type": "stream",
     "text": [
      "The Original DataFrame: \n",
      "   Age  Income    Education  Education_Num\n",
      "0   25   55000  High School              1\n",
      "1   30   75000     Bachelor              2\n",
      "2   35   90000      Masters              3\n",
      "3   40  120000          PhD              4\n",
      "4   45  140000     Post Doc              5\n",
      "\t\n",
      "Formatted Covariance Matrix:\n",
      "[[50.00 215000.00 10.00]\n",
      " [215000.00 934000000.00 43000.00]\n",
      " [10.00 43000.00 2.00]]\n"
     ]
    },
    {
     "data": {
      "image/png": "[encoded data removed]",
      "text/plain": [
       "<Figure size 640x480 with 2 Axes>"
      ]
     },
     "metadata": {},
     "output_type": "display_data"
    }
   ],
   "source": [
    "import numpy as np\n",
    "import pandas as pd\n",
    "import matplotlib.pyplot as plt\n",
    "\n",
    "# Step 3: Example Dataset with Pandas DataFrame\n",
    "# Age in years, Income in USD per annum\n",
    "data = pd.DataFrame({\n",
    "    'Age': [25, 30, 35, 40, 45],\n",
    "    'Income': [55000, 75000, 90000, 120000, 140000],\n",
    "    'Education': ['High School', 'Bachelor', 'Masters', 'PhD', 'Post Doc']\n",
    "})\n",
    "\n",
    "# Map categorical education levels to numerical values\n",
    "education_mapping = {'High School': 1, 'Bachelor': 2, 'Masters': 3, 'PhD': 4, 'Post Doc': 5}\n",
    "data['Education_Num'] = data['Education'].map(education_mapping)\n",
    "\n",
    "print(\"The Original DataFrame: \")\n",
    "print(data)\n",
    "print(\"\\t\")\n",
    "\n",
    "# Step 4: Calculate Covariance Matrix in scientific notation\n",
    "# xe+01 means x*10^1 whereas, xe-01 means x*10^-1\n",
    "covariance_matrix = np.cov(data[['Age', 'Income', 'Education_Num']], rowvar=False, bias=True)\n",
    "# Display Formatted Covariance Matrix in float notation\n",
    "np.set_printoptions(formatter={'float': lambda x: \"{:.2f}\".format(x)})\n",
    "print(\"Formatted Covariance Matrix:\")\n",
    "print(covariance_matrix)\n",
    "\n",
    "# Step 5: Visualize Covariance Matrix\n",
    "plt.imshow(covariance_matrix, cmap='viridis', interpolation='none')\n",
    "plt.colorbar(label='Covariance')\n",
    "plt.title('Covariance Matrix')\n",
    "plt.xticks([0, 1, 2], ['Age', 'Income', 'Education'])\n",
    "plt.yticks([0, 1, 2], ['Age', 'Income', 'Education'])\n",
    "plt.show()"
   ]
  },
  {
   "cell_type": "markdown",
   "id": "8488acb5",
   "metadata": {},
   "source": [
    "The formatted covariance matrix represents the covariance between the variables 'Age', 'Income', and 'Education_Num' in our dataset. Each row and column in the matrix correspond to one of these variables. Here's how to interpret the result:\n",
    "\n",
    "1. **Diagonal Elements:**\n",
    "   - The diagonal elements (top-left to bottom-right) represent the variance of each variable. For example:\n",
    "      - Variance of 'Age': 50.00\n",
    "      - Variance of 'Income': 934,000,000.00 (in USD^2 per annum)\n",
    "      - Variance of 'Education_Num': 2.00\n",
    "\n",
    "2. **Off-diagonal Elements:**\n",
    "   - The off-diagonal elements represent the covariance between pairs of variables. For example:\n",
    "      - Covariance between 'Age' and 'Income': 215,000.00\n",
    "      - Covariance between 'Age' and 'Education_Num': 10.00\n",
    "      - Covariance between 'Income' and 'Education_Num': 43,000.00\n",
    "\n",
    "3. **Interpretation:**\n",
    "   - A positive covariance indicates a positive relationship between the variables; when one variable increases, the other tends to increase.\n",
    "   - A negative covariance indicates a negative relationship; when one variable increases, the other tends to decrease.\n",
    "\n",
    "In our specific matrix:\n",
    "- The covariance between 'Age' and 'Income' is positive, suggesting a positive relationship between age and income.\n",
    "- The covariance between 'Age' and 'Education_Num' is also positive, indicating a positive relationship between age and education level.\n",
    "- The covariance between 'Income' and 'Education_Num' is positive, suggesting a positive relationship between income and education level.\n",
    "- The actual magnitude of the covariance values is influenced by the scales of the variables. \n",
    "- If we're interested in the strength of the relationships, we might want to consider normalizing the data or using correlation coefficients."
   ]
  },
  {
   "cell_type": "markdown",
   "id": "ed42de97",
   "metadata": {},
   "source": [
    "**Q6. You are working on a machine learning project with a dataset containing several categorical variables, including \"Gender\" (Male/Female), \"Education Level\" (High School/Bachelor's/Master's/PhD), and \"Employment Status\" (Unemployed/Part-Time/Full-Time). Which encoding method would you use for each variable, and why?**"
   ]
  },
  {
   "cell_type": "code",
   "execution_count": 11,
   "id": "decb5a79",
   "metadata": {},
   "outputs": [
    {
     "name": "stdout",
     "output_type": "stream",
     "text": [
      "The Original DataFrame:\n",
      "   Gender Education Level Employment Status\n",
      "0    Male      Bachelor's         Full-Time\n",
      "1  Female        Master's         Part-Time\n",
      "2    Male             PhD        Unemployed\n",
      "3    Male      Bachelor's         Full-Time\n",
      "4  Female     High School         Part-Time\n",
      "5  Female             PhD         Full-Time\n",
      "6    Male        Master's        Unemployed\n",
      "7  Female     High School         Part-Time\n",
      "8    Male      Bachelor's         Full-Time\n",
      "9  Female        Master's         Part-Time\n"
     ]
    }
   ],
   "source": [
    "import pandas as pd\n",
    "import matplotlib.pyplot as plt\n",
    "from sklearn.preprocessing import LabelEncoder, OneHotEncoder\n",
    "\n",
    "# Creating a sample dataset\n",
    "data = {'Gender': ['Male', 'Female', 'Male', 'Male', 'Female', 'Female', 'Male', 'Female', 'Male', 'Female'],\n",
    "        'Education Level': ['Bachelor\\'s', 'Master\\'s', 'PhD', 'Bachelor\\'s', 'High School', 'PhD', 'Master\\'s', 'High School', 'Bachelor\\'s', 'Master\\'s'],\n",
    "        'Employment Status': ['Full-Time', 'Part-Time', 'Unemployed', 'Full-Time', 'Part-Time', 'Full-Time', 'Unemployed', 'Part-Time', 'Full-Time', 'Part-Time']}\n",
    "\n",
    "df = pd.DataFrame(data)\n",
    "print(\"The Original DataFrame:\")\n",
    "print(df)"
   ]
  },
  {
   "cell_type": "markdown",
   "id": "0c8d54af",
   "metadata": {},
   "source": [
    "`One-Hot Encoding` is used for nominal categorical variables (categories with no inherent order). It seems appropriate for the \"Gender\" column in our case."
   ]
  },
  {
   "cell_type": "code",
   "execution_count": 12,
   "id": "821829df",
   "metadata": {},
   "outputs": [
    {
     "name": "stdout",
     "output_type": "stream",
     "text": [
      "   Gender  Gender_OneHotEnc_Male  Gender_OneHotEnc_Female\n",
      "0    Male                      0                        1\n",
      "1  Female                      1                        0\n",
      "2    Male                      0                        1\n",
      "3    Male                      0                        1\n",
      "4  Female                      1                        0\n",
      "5  Female                      1                        0\n",
      "6    Male                      0                        1\n",
      "7  Female                      1                        0\n",
      "8    Male                      0                        1\n",
      "9  Female                      1                        0\n"
     ]
    },
    {
     "name": "stderr",
     "output_type": "stream",
     "text": [
      "C:\\Python311\\Lib\\site-packages\\sklearn\\preprocessing\\_encoders.py:975: FutureWarning: `sparse` was renamed to `sparse_output` in version 1.2 and will be removed in 1.4. `sparse_output` is ignored unless you leave `sparse` to its default value.\n",
      "  warnings.warn(\n"
     ]
    }
   ],
   "source": [
    "# Step 2: Encoding \"Gender\" using One-Hot Encoding\n",
    "# Using OneHotEncoder for \"Gender\"\n",
    "one_hot_encoder = OneHotEncoder(drop=None, sparse=False)\n",
    "gender_encoded = one_hot_encoder.fit_transform(df[['Gender']]).astype(int)\n",
    "gender_encoded_df = pd.DataFrame(gender_encoded, columns=['Gender_OneHotEnc_Male', 'Gender_OneHotEnc_Female'])\n",
    "\n",
    "# Adding the encoded columns to the DataFrame\n",
    "df = pd.concat([df, gender_encoded_df], axis=1)\n",
    "# Displaying the updated DataFrame\n",
    "print(df[['Gender', 'Gender_OneHotEnc_Male', 'Gender_OneHotEnc_Female']])"
   ]
  },
  {
   "cell_type": "markdown",
   "id": "ae98dd05",
   "metadata": {},
   "source": [
    "- I have used `Ordinal Encoding` for the `Education Level` column, which is suitable since there is a clear order in the education levels.\n",
    "- I have used `Label Encoding` for the `Employment Status` column, which is suitable when there is no ordinal relationship between categories. However, I noticed that the \"Employment Status\" column appears to be nominal (categories with no inherent order, like \"Full-Time,\" \"Part-Time,\" and \"Unemployed\")."
   ]
  },
  {
   "cell_type": "code",
   "execution_count": 13,
   "id": "63360c8c",
   "metadata": {},
   "outputs": [
    {
     "name": "stdout",
     "output_type": "stream",
     "text": [
      "  Education Level  EducationLevel_OrdinalEncoded\n",
      "0      Bachelor's                              1\n",
      "1        Master's                              2\n",
      "2             PhD                              3\n",
      "3      Bachelor's                              1\n",
      "4     High School                              0\n",
      "5             PhD                              3\n",
      "6        Master's                              2\n",
      "7     High School                              0\n",
      "8      Bachelor's                              1\n",
      "9        Master's                              2\n",
      "\t\n",
      "  Employment Status  EmploymentStatus_LabelEncoded\n",
      "0         Full-Time                              0\n",
      "1         Part-Time                              1\n",
      "2        Unemployed                              2\n",
      "3         Full-Time                              0\n",
      "4         Part-Time                              1\n",
      "5         Full-Time                              0\n",
      "6        Unemployed                              2\n",
      "7         Part-Time                              1\n",
      "8         Full-Time                              0\n",
      "9         Part-Time                              1\n"
     ]
    }
   ],
   "source": [
    "# Step 3: Encoding \"Education Level\" using Ordinal Encoding\n",
    "education_level_mapping = {'High School': 0, 'Bachelor\\'s': 1, 'Master\\'s': 2, 'PhD': 3}\n",
    "df['EducationLevel_OrdinalEncoded'] = df['Education Level'].map(education_level_mapping)\n",
    "# Displaying the updated DataFrame\n",
    "print(df[['Education Level', 'EducationLevel_OrdinalEncoded']])\n",
    "print(\"\\t\")\n",
    "# Step 4: Encoding \"Employment Status\" using Label Encoding\n",
    "label_encoder = LabelEncoder()\n",
    "df['EmploymentStatus_LabelEncoded'] = label_encoder.fit_transform(df['Employment Status'])\n",
    "# Displaying the updated DataFrame\n",
    "print(df[['Employment Status', 'EmploymentStatus_LabelEncoded']])\n"
   ]
  },
  {
   "cell_type": "markdown",
   "id": "5f7cb4fe",
   "metadata": {},
   "source": [
    "**Q7. You are analyzing a dataset with two continuous variables, \"Temperature\" and \"Humidity\", and two categorical variables, \"Weather Condition\" (Sunny/Cloudy/Rainy) and \"Wind Direction\" (North/South/East/West). Calculate the covariance between each pair of variables and interpret the results.**"
   ]
  },
  {
   "cell_type": "code",
   "execution_count": 14,
   "id": "86498e0d",
   "metadata": {},
   "outputs": [
    {
     "name": "stdout",
     "output_type": "stream",
     "text": [
      "The Original DataFrame:\n",
      "   Temperature  Humidity Weather_Condition Wind_Direction\n",
      "0           25        50             Sunny          North\n",
      "1           30        60            Cloudy          South\n",
      "2           20        45             Rainy           East\n",
      "3           22        48             Sunny           West\n",
      "4           28        55            Cloudy          North\n",
      "5           18        42             Rainy          South\n",
      "6           24        49             Sunny           East\n",
      "7           26        52            Cloudy           West\n",
      "8           21        46             Rainy          North\n",
      "9           23        47             Sunny          South\n"
     ]
    }
   ],
   "source": [
    "import pandas as pd\n",
    "\n",
    "# Creating a sample dataset\n",
    "# Temerature in degree celsious\n",
    "# Humidity in percentage\n",
    "data = {\n",
    "    'Temperature': [25, 30, 20, 22, 28, 18, 24, 26, 21, 23],\n",
    "    'Humidity': [50, 60, 45, 48, 55, 42, 49, 52, 46, 47],\n",
    "    'Weather_Condition': ['Sunny', 'Cloudy', 'Rainy', 'Sunny', 'Cloudy', 'Rainy', 'Sunny', 'Cloudy', 'Rainy', 'Sunny'],\n",
    "    'Wind_Direction': ['North', 'South', 'East', 'West', 'North', 'South', 'East', 'West', 'North', 'South']\n",
    "}\n",
    "\n",
    "df = pd.DataFrame(data)\n",
    "print(\"The Original DataFrame:\")\n",
    "print(df)"
   ]
  },
  {
   "cell_type": "code",
   "execution_count": 15,
   "id": "d5fec3f6",
   "metadata": {},
   "outputs": [
    {
     "name": "stdout",
     "output_type": "stream",
     "text": [
      "The Covariance Matrix:\n",
      "             Temperature   Humidity\n",
      "Temperature    13.566667  18.800000\n",
      "Humidity       18.800000  27.155556\n",
      "\t\n"
     ]
    },
    {
     "name": "stderr",
     "output_type": "stream",
     "text": [
      "C:\\Users\\Lenovo\\AppData\\Local\\Temp\\ipykernel_17532\\2438142818.py:4: FutureWarning: The default value of numeric_only in DataFrame.cov is deprecated. In a future version, it will default to False. Select only valid columns or specify the value of numeric_only to silence this warning.\n",
      "  cov_matrix = df.cov()\n"
     ]
    },
    {
     "data": {
      "image/png": "[encoded data removed]",
      "text/plain": [
       "<Figure size 640x480 with 2 Axes>"
      ]
     },
     "metadata": {},
     "output_type": "display_data"
    }
   ],
   "source": [
    "import numpy as np\n",
    "\n",
    "# Calculating the covariance matrix\n",
    "cov_matrix = df.cov()\n",
    "print(\"The Covariance Matrix:\")\n",
    "print(cov_matrix)\n",
    "print(\"\\t\")\n",
    "\n",
    "# Visualizing the covariance matrix using imshow\n",
    "plt.imshow(cov_matrix, cmap='viridis', interpolation='none')\n",
    "plt.title('Covariance Matrix')\n",
    "plt.colorbar(label='Covariance')\n",
    "plt.xticks(np.arange(len(cov_matrix.columns)), cov_matrix.columns, rotation=45)\n",
    "plt.yticks(np.arange(len(cov_matrix.index)), cov_matrix.index)\n",
    "plt.show()"
   ]
  },
  {
   "cell_type": "markdown",
   "id": "247e06f2",
   "metadata": {},
   "source": [
    "`Covariance` is a measure of how two variables change together. The covariance is a measure of the degree to which two variables change together. It is typically calculated for numeric variables, and its interpretation is straightforward in the context of continuous data. However, for categorical variables, covariance might not be a suitable measure because categorical variables represent categories or labels rather than numerical values.\n",
    "\n",
    "1. The positive covariances indicate a positive relationship between the variables, meaning that when one variable increases or decreases from its mean, the other variable also tends to increase or decrease. The magnitudes of the covariances can be challenging to interpret directly, so it's often useful to normalize these values using correlation coefficients for a standardized measure of the strength and direction of the relationship.\n",
    "\n",
    "2. It can be useful for categorical data if we want to compare the frequencies or proportions of different categories. However, there are some challenges and limitations when using covariance for categorical data.\n",
    "\n",
    "   - One challenge is how to encode the categorical data into numeric values. There are different methods for encoding categorical data, such as one-hot encoding, ordinal encoding, frequency encoding, etc. Each method has its own advantages and disadvantages, and may affect the covariance calculation in different ways. For example, one-hot encoding creates binary variables for each category, which may result in a sparse matrix and high dimensionality. Ordinal encoding assigns numeric values based on the order of the categories, which may introduce artificial ranking and distance among the categories. Frequency encoding assigns numeric values based on the frequency of the categories, which may reduce the variability and information of the data. Therefore, you need to choose an appropriate encoding method that suits your data and research question.\n",
    "\n",
    "   - Another challenge is how to interpret the covariance values for categorical data. Covariance can range from negative to positive infinity, depending on the scale and variance of the variables. Therefore, covariance is not standardized and not comparable across different variables or datasets. A common way to overcome this problem is to use correlation, which is a normalized version of covariance that ranges from -1 to 1. Correlation can indicate the strength and direction of the linear relationship between two variables. However, correlation may not capture the nonlinear or complex relationships that may exist in categorical data. Moreover, correlation may not be meaningful for some types of categorical data, such as nominal or binary data, where the order and distance of the categories are arbitrary or irrelevant.\n",
    "\n",
    "   - A limitation of using covariance or correlation for categorical data is that they may not reflect the true association or dependence between the variables. Covariance and correlation are based on the assumption of linearity, which means that the variables change proportionally to each other. However, this assumption may not hold for categorical data, where the variables may have different patterns or interactions that are not linear. For example, two categorical variables may have a high covariance or correlation, but they may be independent or confounded by a third variable. Alternatively, two categorical variables may have a low covariance or correlation, but they may have a strong association or dependence that is nonlinear or conditional. Therefore, we need to be careful and critical when using covariance or correlation for categorical data, and supplement them with other methods or tests that can capture the nature and complexity of the data."
   ]
  },
  {
   "cell_type": "code",
   "execution_count": 16,
   "id": "ce4674af",
   "metadata": {},
   "outputs": [
    {
     "name": "stdout",
     "output_type": "stream",
     "text": [
      "Chi-squared P-values Matrix:\n",
      "                  Weather_Condition Wind_Direction\n",
      "Weather_Condition               NaN       0.924736\n",
      "Wind_Direction             0.924736            NaN\n"
     ]
    }
   ],
   "source": [
    "from scipy.stats import chi2_contingency\n",
    "\n",
    "# Selecting only the categorical columns from the DataFrame\n",
    "categorical_columns = df.select_dtypes(include=['object']).columns\n",
    "\n",
    "# Creating an empty matrix to store chi-squared p-values\n",
    "chi2_matrix = pd.DataFrame(index=categorical_columns, columns=categorical_columns)\n",
    "\n",
    "# Calculating chi-squared p-values for each pair of categorical variables\n",
    "for col1 in categorical_columns:\n",
    "    for col2 in categorical_columns:\n",
    "        if col1 != col2:\n",
    "            contingency_table = pd.crosstab(df[col1], df[col2])\n",
    "            _, p_value, _, _ = chi2_contingency(contingency_table)\n",
    "            chi2_matrix.loc[col1, col2] = p_value\n",
    "\n",
    "# Displaying the chi-squared p-values matrix\n",
    "print(\"Chi-squared P-values Matrix:\")\n",
    "print(chi2_matrix)\n"
   ]
  },
  {
   "cell_type": "markdown",
   "id": "cbd07b6e",
   "metadata": {},
   "source": [
    "The Chi-squared P-values Matrix we provided shows the p-values resulting from chi-squared tests for association between the two categorical variables: \"Weather_Condition\" and \"Wind_Direction.\" A low p-value suggests a significant association.\n",
    "\n",
    "Here's the interpretation:\n",
    "\n",
    "1. **Weather_Condition vs. Wind_Direction:**\n",
    "   - **Weather_Condition to Wind_Direction:** The p-value is 0.924736, which is quite high. A high p-value suggests that there is no significant association between \"Weather_Condition\" and \"Wind_Direction.\" In other words, the distribution of wind direction does not depend significantly on the weather condition, and vice versa.\n",
    "\n",
    "   - **Wind_Direction to Weather_Condition:** The p-value is also 0.924736. Again, this high p-value indicates that there is no significant association between \"Wind_Direction\" and \"Weather_Condition.\" The direction of the wind does not depend significantly on the weather condition."
   ]
  },
  {
   "cell_type": "code",
   "execution_count": null,
   "id": "f64e6bf6",
   "metadata": {},
   "outputs": [],
   "source": []
  }
 ],
 "metadata": {
  "kernelspec": {
   "display_name": "Python 3 (ipykernel)",
   "language": "python",
   "name": "python3"
  },
  "language_info": {
   "codemirror_mode": {
    "name": "ipython",
    "version": 3
   },
   "file_extension": ".py",
   "mimetype": "text/x-python",
   "name": "python",
   "nbconvert_exporter": "python",
   "pygments_lexer": "ipython3",
   "version": "3.11.2"
  },
  "toc": {
   "base_numbering": 1,
   "nav_menu": {},
   "number_sections": true,
   "sideBar": true,
   "skip_h1_title": false,
   "title_cell": "Table of Contents",
   "title_sidebar": "Contents",
   "toc_cell": false,
   "toc_position": {},
   "toc_section_display": true,
   "toc_window_display": false
  }
 },
 "nbformat": 4,
 "nbformat_minor": 5
}
