{
 "cells": [
  {
   "cell_type": "markdown",
   "id": "e0a24aa0",
   "metadata": {},
   "source": [
    "**Q1. What is the Filter method in feature selection, and how does it work?**"
   ]
  },
  {
   "cell_type": "markdown",
   "id": "7c600f06",
   "metadata": {},
   "source": [
    "Sure, let's dive into feature selection using the filter method!\n",
    "\n",
    "**Filter Method in Feature Selection:**\n",
    "\n",
    "The filter method is a technique used to select relevant features based on their statistical properties. It doesn't involve training a model; instead, it evaluates each feature independently of the others. The common metrics used in the filter method include correlation, mutual information, and statistical tests like ANOVA.\n",
    "\n",
    "**How it Works:**\n",
    "\n",
    "1. **Calculate the Relevance of Each Feature:**\n",
    "\n",
    "   For example, let's use correlation as our metric. The correlation between a feature $X_i$ and the target variable $Y$ is given by:\n",
    "\n",
    "   $$\\text{Corr}(X_i, Y) = \\frac{\\text{Cov}(X_i, Y)}{\\sigma_{X_i}\\sigma_Y}$$\n",
    "\n",
    "   where $\\text{Cov}$ is the covariance and $\\sigma$ denotes standard deviation. Higher absolute values of correlation indicate stronger relationships.\n",
    "\n",
    "2. **Rank Features Based on Relevance:**\n",
    "\n",
    "   After calculating correlations for all features, rank them in descending order of relevance. High-ranking features are considered more important.\n",
    "\n",
    "3. **Select the Top Features:**\n",
    "\n",
    "   Choose a predetermined number of features or a threshold for relevance. Features above this threshold are selected for further analysis.\n",
    "\n",
    "**Example:**\n",
    "\n",
    "Let's say we have a dataset with two features $X_1$ and $X_2$ and a target variable $Y$. The correlation values are as follows:\n",
    "\n",
    "$$\\text{Corr}(X_1, Y) = 0.8$$\n",
    "\n",
    "$$\\text{Corr}(X_2, Y) = -0.3$$\n",
    "\n",
    "**Calculation:**\n",
    "\n",
    "1. **Ranking:**\n",
    "   - $X_1$ has a higher correlation (0.8) than $X_2$ (-0.3).\n",
    "\n",
    "2. **Selection:**\n",
    "   - If we decide the threshold is 0.5, we would select $X_1$ as it surpasses the threshold.\n",
    "\n",
    "In summary, the filter method simplifies feature selection by evaluating each feature's individual relevance to the target variable, making it a good starting point for beginners in machine learning."
   ]
  },
  {
   "cell_type": "markdown",
   "id": "a6f3707f",
   "metadata": {},
   "source": [
    "**Q2. How does the Wrapper method differ from the Filter method in feature selection?**"
   ]
  },
  {
   "cell_type": "markdown",
   "id": "484a3260",
   "metadata": {},
   "source": [
    "**Filter Method:**\n",
    "\n",
    "Filter methods assess the relevance of features based on certain statistical measures. These measures are independent of the machine learning model you intend to use. One common metric is correlation. You calculate the correlation of each feature with the target variable and select the top features based on this score.\n",
    "\n",
    "*Example:*\n",
    "\n",
    "Let's say we have a dataset with features $X_1$, $X_2$, and $X_3$, and a target variable $Y$. We calculate the correlation between each feature and the target variable.\n",
    "\n",
    "$$\\text{Corr}(X_1, Y) = 0.8$$\n",
    "\n",
    "$$\\text{Corr}(X_2, Y) = 0.4$$\n",
    "\n",
    "$$\\text{Corr}(X_3, Y) = 0.1$$\n",
    "\n",
    "In a filter method, we might decide to keep $X_1$ because it has the highest correlation.\n",
    "\n",
    "**Wrapper Method:**\n",
    "\n",
    "Wrapper methods, on the other hand, evaluate feature subsets by training the model with different combinations of features. This is an iterative process where subsets are selected and evaluated based on the model's performance. It's more computationally intensive compared to filter methods.\n",
    "\n",
    "*Example:*\n",
    "\n",
    "Let's use a simple scenario. We have features $X_1$, $X_2$, and $X_3$ again. We create subsets like $\\{X_1\\}$, $\\{X_2\\}$, $\\{X_3\\}$, $\\{X_1, X_2\\}$, $\\{X_1, X_3\\}$, $\\{X_2, X_3\\}$, $\\{X_1, X_2, X_3\\}$, and train the model for each subset.\n",
    "\n",
    "We evaluate the performance (e.g., accuracy) of the model for each subset and select the one that gives the best performance.\n",
    "\n",
    "*Steps:*\n",
    "\n",
    "1. Train with $\\{X_1\\}$ and get accuracy $A_1$.\n",
    "2. Train with $\\{X_2\\}$ and get accuracy $A_2$.\n",
    "3. Train with $\\{X_3\\}$ and get accuracy $A_3$.\n",
    "4. Train with $\\{X_1, X_2\\}$ and get accuracy $A_{12}$.\n",
    "5. Train with $\\{X_1, X_3\\}$ and get accuracy $A_{13}$.\n",
    "6. Train with $\\{X_2, X_3\\}$ and get accuracy $A_{23}$.\n",
    "7. Train with $\\{X_1, X_2, X_3\\}$ and get accuracy $A_{123}$.\n",
    "\n",
    "Select the subset with the highest accuracy. This process considers the interaction between features during selection.\n",
    "\n",
    "In summary, filter methods are faster but might not capture feature interactions, while wrapper methods consider feature interactions but are computationally more expensive."
   ]
  },
  {
   "cell_type": "markdown",
   "id": "fe7e4749",
   "metadata": {},
   "source": [
    "**Q3. What are some common techniques used in Embedded feature selection methods?**"
   ]
  },
  {
   "cell_type": "markdown",
   "id": "ebec1920",
   "metadata": {},
   "source": [
    "Embedded feature selection methods are techniques that perform feature selection as part of the model training process. These techniques are like detectives, trying to figure out which features are the true heroes in predicting outcomes. Here are some notable embedded feature selection methods:\n",
    "\n",
    "1. **LASSO (Least Absolute Shrinkage and Selection Operator):** Uses L1 regularization to add a penalty term based on the absolute values of coefficients, encouraging sparsity in the feature set.\n",
    "\n",
    "2. **Ridge Regression:** Utilizes L2 regularization to add a penalty term based on the squared values of coefficients, promoting balanced shrinkage of feature coefficients.\n",
    "\n",
    "3. **Elastic Net:** Combines both L1 and L2 regularization, offering a hybrid approach to feature selection with tunable parameters for controlling the impact of each penalty.\n",
    "\n",
    "4. **Recursive Feature Elimination (RFE):** Systematically eliminates the least important features by iteratively training the model and removing features with the lowest importance.\n",
    "\n",
    "These methods are embedded within the model training process, ensuring that feature selection is integrated with the model's learning mechanism. Each method has its strengths and is suitable for different types of data and modeling scenarios.\n",
    "\n",
    "`Let's dive into the world of embedded feature selection methods:`\n",
    "\n",
    "**LASSO (Least Absolute Shrinkage and Selection Operator)**\n",
    "\n",
    "Imagine we have a bunch of features (like the actors in a movie), and we want to identify the main characters who truly influence the story (predict the outcome). LASSO does this by adding a penalty term to the linear regression equation.\n",
    "\n",
    "The linear regression equation looks like this:\n",
    "\n",
    "$$Y = \\beta_0 + \\beta_1X_1 + \\beta_2X_2 + ... + \\beta_nX_n + \\epsilon$$\n",
    "\n",
    "Here,\n",
    "- $Y$ is the outcome.\n",
    "- $\\beta_0$ is the intercept.\n",
    "- $(\\beta_1, \\beta_2, ..., \\beta_n)$ are the coefficients for each feature \\$(X_1, X_2, ..., X_n)$.\n",
    "- $\\epsilon$ is the error term.\n",
    "\n",
    "Now, LASSO adds a penalty term based on the absolute values of the coefficients:\n",
    "\n",
    "$$LASSO: \\text{minimize } \\sum_{i=1}^{n}(Y_i - (\\beta_0 + \\beta_1X_{1i} + \\beta_2X_{2i} + ... + \\beta_nX_{ni}))^2 + \\lambda\\sum_{j=1}^{n}|\\beta_j|$$\n",
    "\n",
    "Here,\n",
    "- $Y_i$ is the actual outcome for the $i$-th observation.\n",
    "- $X_{ji}$ is the value of the $j$-th feature for the $i$-th observation.\n",
    "- $\\lambda$ is the tuning parameter that controls the strength of the penalty.\n",
    "\n",
    "Now, let's break it down step by step.\n",
    "\n",
    "1. **Run a Regular Linear Regression**: Start by fitting a regular linear regression model without any penalty term $\\lambda = 0$. This gives us initial coefficients.\n",
    "\n",
    "2. **Add Penalty Term**: LASSO introduces the penalty term based on the absolute values of the coefficients. The higher the absolute value of a coefficient, the higher the penalty.\n",
    "\n",
    "3. **Shrink Coefficients**: As we increase $\\lambda$, some coefficients will shrink to zero. These are the features that LASSO decides are not contributing much to predicting the outcome. It's like saying, \"These actors don't play a significant role in the movie plot.\"\n",
    "\n",
    "4. **Select Features**: The remaining non-zero coefficients are our selected features. These are the main characters in our movie!\n",
    "\n",
    "Remember, the strength of the penalty $\\lambda$ is crucial. A larger $\\lambda$ shrinks more coefficients to zero, providing a sparser set of features.\n",
    "\n",
    "So, in summary, LASSO is like a casting director, deciding which features should play leading roles and which should be relegated to supporting roles based on their contribution to the storyline.\n",
    "\n",
    "**Ridge Regression**\n",
    "\n",
    "Ridge Regression is similar to LASSO but uses a different penalty approach. While LASSO adds the absolute values of coefficients, Ridge adds the squared values:\n",
    "\n",
    "$$Ridge: \\text{minimize } \\sum_{i=1}^{n}(Y_i - (\\beta_0 + \\beta_1X_{1i} + \\beta_2X_{2i} + ... + \\beta_nX_{ni}))^2 + \\lambda\\sum_{j=1}^{n}\\beta_j^2$$\n",
    "\n",
    "Notice the change from $|\\beta_j|$ to $\\beta_j^2$.\n",
    "\n",
    "Let's break it down step by step:\n",
    "\n",
    "1. **Run a Regular Linear Regression**: Similar to LASSO, start with a regular linear regression model.\n",
    "\n",
    "2. **Add Penalty Term**: Ridge introduces the penalty term based on the squared values of coefficients.\n",
    "\n",
    "3. **Shrink Coefficients**: As you increase the ridge parameter ($\\lambda$), Ridge shrinks the coefficients towards zero, but unlike LASSO, it rarely makes them exactly zero. It's more of a team player, reducing the impact of less important features rather than kicking them out.\n",
    "\n",
    "4. **Balanced Shrinkage**: Ridge provides a more balanced shrinkage compared to LASSO. It's like telling all actors to tone it down a bit, but still allowing everyone to contribute to the story.\n",
    "\n",
    "The choice between LASSO and Ridge depends on the nature of our data and the problem at hand. If we suspect that many features are irrelevant or redundant, LASSO's tendency to push some coefficients to exactly zero might be beneficial. If we have a lot of correlated features, Ridge might be a better fit.\n",
    "\n",
    "So, in our feature selection journey, you can choose between the strict casting director (LASSO) and the more lenient director (Ridge), each bringing its own style to the movie-making process.\n",
    "\n",
    "**Elastic Net**\n",
    "\n",
    "Think of it as a hybrid of LASSO and Ridge, combining the best of both worlds.\n",
    "Elastic Net introduces both the L1 (absolute values) and L2 (squared values) penalties:\n",
    "\n",
    "$$Elastic Net: \\text{minimize } \\sum_{i=1}^{n}(Y_i - (\\beta_0 + \\beta_1X_{1i} + \\beta_2X_{2i} + ... + \\beta_nX_{ni}))^2 + \\lambda_1\\sum_{j=1}^{n}|\\beta_j| + \\lambda_2\\sum_{j=1}^{n}\\beta_j^2$$\n",
    "\n",
    "Here, $\\lambda_1$ and $\\lambda_2$ are the tuning parameters controlling the strength of the L1 and L2 penalties, respectively.\n",
    "\n",
    "Breaking it down:\n",
    "\n",
    "1. **Run a Regular Linear Regression**: Start with the standard linear regression model.\n",
    "\n",
    "2. **Add Both Penalties**: Elastic Net combines the L1 and L2 penalties. This provides a nice balance between LASSO's tendency to zero out some coefficients and Ridge's more balanced shrinkage.\n",
    "\n",
    "3. **Tune the Parameters**: We now have two parameters to play with $\\lambda_1$ and $\\lambda_2$. Tuning them allows us to control the impact of each penalty.\n",
    "\n",
    "4. **Feature Selection and Shrinkage**: Elastic Net is robust and can handle situations where there are correlated features (like Ridge) and situations where some features should be exactly zero (like LASSO).\n",
    "\n",
    "Choosing between LASSO, Ridge, and Elastic Net depends on our specific data and goals. Elastic Net is a good option when we want a bit of both worlds—some strict feature selection (LASSO) and some balanced shrinkage (Ridge).\n",
    "\n",
    "It's like having a director who knows when to be strict and when to be lenient, ensuring a well-crafted ensemble of features in your predictive model.\n",
    "\n",
    "**Recursive Feature Elimination (RFE)**\n",
    "\n",
    "Think of it as a systematic elimination process. Here's how it works:\n",
    "\n",
    "1. **Build the Model**: Start by training the model on all features. This could be any model of our choice, like a linear regression or a support vector machine.\n",
    "\n",
    "2. **Rank the Features**: Assess the importance of each feature. Some models provide feature importances directly, while others might require additional techniques like coefficients in linear models.\n",
    "\n",
    "3. **Eliminate the Least Important Feature**: Remove the feature with the lowest importance.\n",
    "\n",
    "4. **Repeat**: Now, repeat steps 1-3 with the reduced set of features. Keep eliminating the least important feature in each iteration.\n",
    "\n",
    "5. **Stop Criteria**: Decide when to stop. We can either specify the number of features we want to keep or continue until all features are eliminated.\n",
    "\n",
    "This method is like a talent show where contestants (features) are eliminated in each round until we have a star-studded lineup. The model is trained and retrained, each time focusing on the most important features.\n",
    "\n",
    "RFE is versatile because it can be applied with various models, making it suitable for different types of data and problems. It's like a series of auditions, ensuring that only the most impactful features make it to the final performance.\n",
    "\n",
    "So, whether we choose LASSO, Ridge, Elastic Net, or RFE, each method brings its own flair to the feature selection stage, ensuring that only the best features take the spotlight in your predictive model."
   ]
  },
  {
   "cell_type": "markdown",
   "id": "aabb5c11",
   "metadata": {},
   "source": [
    "**Q4. What are some drawbacks of using the Filter method for feature selection?**"
   ]
  },
  {
   "cell_type": "markdown",
   "id": "69d8e5c9",
   "metadata": {},
   "source": [
    "Let's dive into the drawbacks of using the Filter method for feature selection.\n",
    "\n",
    "**1. Lack of Interaction Consideration:**\n",
    "   - The Filter method evaluates features independently of each other. It doesn't take into account potential interactions or dependencies between features. This can lead to the selection of redundant or irrelevant features.\n",
    "\n",
    "**Example:**\n",
    "   - Imagine a dataset with information about housing prices. Feature A represents the size of the house, and feature B represents the number of bedrooms. Individually, A and B might not tell you much about the house price, but the interaction between the size and the number of bedrooms could be crucial. The Filter method might select or discard A and B without considering their joint impact.\n",
    "\n",
    "**2. Sensitivity to Outliers:**\n",
    "   - Filter methods are sensitive to outliers in the data. Outliers can disproportionately affect the statistical measures used in the filtering process, leading to suboptimal feature selection.\n",
    "\n",
    "**Example:**\n",
    "   - Think of a dataset measuring student performance in a class. Most students have scores around a certain range, but there's one student who scored exceptionally high or low due to unique circumstances. The Filter method, using mean or variance-based measures, might be skewed by this outlier, leading to biased feature selection.\n",
    "\n",
    "I can try to provide a mathematical example to explain the scenario. Suppose there are 10 students in a class, and their scores on a test are as follows:\n",
    "\n",
    "| Student | Score |\n",
    "|:-------:|:-----:|\n",
    "| A       | 80    |\n",
    "| B       | 85    |\n",
    "| C       | 90    |\n",
    "| D       | 95    |\n",
    "| E       | 100   |\n",
    "| F       | 105   |\n",
    "| G       | 110   |\n",
    "| H       | 115   |\n",
    "| I       | 120   |\n",
    "| J       | 200   |\n",
    "\n",
    "The mean score of the class is $$\\frac{80+85+90+95+100+105+110+115+120+200}{10} = 110$$ and the variance is $$\\frac{(80-110)^2+(85-110)^2+\\cdots+(200-110)^2}{10} = 1210$$\n",
    "\n",
    "However, student J is an outlier who scored exceptionally high due to some unique circumstances. If we remove student J from the dataset, the mean score becomes $$\\frac{80+85+90+95+100+105+110+115+120}{9} = 100$$ and the variance becomes $$\\frac{(80-100)^2+(85-100)^2+\\cdots+(120-100)^2}{9} = 166.67$$\n",
    "\n",
    "We can see that the mean and variance are significantly affected by the presence of the outlier. If we use the filter method based on these measures, we might select features that are not relevant or representative of the majority of the students. For example, if we have another feature that measures the attendance of the students, and student J has a very low attendance, then the correlation between attendance and score might be high due to the outlier, but not for the rest of the students. This might lead to a biased feature selection that does not capture the true relationship between the features and the target variable.\n",
    "\n",
    "**3. Independence Assumption:**\n",
    "   - The Filter method assumes that features are independent of each other. In real-world scenarios, features are often correlated, and their importance may vary depending on the presence of other features.\n",
    "\n",
    "**Example:**\n",
    "   - Consider a dataset with two features, monthly income (C) and monthly expenses (D). These features are highly correlated (as expenses often depend on income), and selecting both might not add much value. The Filter method, assuming independence, might include both features, introducing redundancy.\n",
    "\n",
    "**4. Static Thresholds:**\n",
    "   - Filter methods often rely on predefined statistical thresholds for feature selection. Setting these thresholds can be subjective and might not adapt well to different datasets or changing conditions.\n",
    "\n",
    "**Example:**\n",
    "   -  Suppose you have a dataset with changing trends over time, like stock prices. Setting a fixed threshold for feature selection based on historical data might not capture the evolving patterns. A dynamic threshold that adapts to the changing characteristics of the dataset would be more appropriate.\n",
    "\n",
    "In summary, while the Filter method is a quick and computationally efficient approach for feature selection, its drawbacks highlight the importance of considering the specific characteristics of the dataset and the limitations of the method in capturing complex relationships between features."
   ]
  },
  {
   "cell_type": "markdown",
   "id": "9615f7bb",
   "metadata": {},
   "source": [
    "**Q5. In which situations would you prefer using the Filter method over the Wrapper method for feature selection?**"
   ]
  },
  {
   "cell_type": "markdown",
   "id": "73266357",
   "metadata": {},
   "source": [
    "Feature selection is a crucial step in machine learning to enhance model performance and reduce overfitting. The Filter method and Wrapper method are two common approaches for feature selection.\n",
    "\n",
    "### Filter Method:\n",
    "\n",
    "The Filter method assesses the relevance of features based on statistical properties without involving a machine learning model. It relies on metrics such as correlation, mutual information, or statistical tests.\n",
    "\n",
    "#### Situations to Prefer Filter Method:\n",
    "\n",
    "1. **High-dimensional Data:**\n",
    "   - **Explanation:** When dealing with datasets with a large number of features, the filter method can efficiently discard irrelevant features based on their statistical properties.\n",
    "   - **Example:Gene Expression Data** In genomics, researchers often deal with datasets containing gene expression levels for thousands of genes. Many of these genes may be highly correlated, and including all of them in a model might lead to overfitting or computational inefficiencies. Using a filter method like correlation-based feature selection can help identify and retain genes that are not highly correlated, thereby reducing the dimensionality of the data while preserving relevant information.\n",
    "\n",
    "2. **Quick Preprocessing:**\n",
    "   - **Explanation:** If we need a fast and computationally inexpensive method to pre-process our data before feeding it into a machine learning model, the filter method is preferable.\n",
    "   - **Example:Customer Segmentation for E-commerce** Consider an e-commerce dataset with numerous customer features such as age, purchase history, and website interaction metrics. Before applying a machine learning model for customer segmentation, a quick filter method like ANOVA can be employed to identify features that significantly differ between customer segments. This rapid preprocessing step allows for a more focused and efficient application of the subsequent machine learning algorithm.\n",
    "\n",
    "### Wrapper Method:\n",
    "\n",
    "The Wrapper method, in contrast, involves the actual machine learning algorithm to evaluate the performance of different feature subsets.\n",
    "\n",
    "#### Situations to Prefer Wrapper Method:\n",
    "\n",
    "1. **Optimizing Model Performance:**\n",
    "   - **Explanation:** When the primary goal is to optimize the performance of a specific machine learning model, the wrapper method is beneficial as it directly evaluates model performance with different subsets of features.\n",
    "   - **Example:** Here we will see two examples.\n",
    "     1. First one is Predicting Housing Prices Using a forward selection approach, where features are added one at a time based on their impact on model performance until no further improvement is observed. Consider a real estate company aiming to build an accurate model for predicting housing prices. The dataset contains various features such as square footage, number of bedrooms, location, and proximity to public amenities. The company wants to use a machine learning model to make precise predictions while avoiding overfitting. In this scenario, the company decides to employ a forward selection approach to iteratively add features to the model based on their impact on performance.\n",
    "\n",
    "        1. **Initial Model:**\n",
    "           - Start with a baseline model using a subset of features or even just one feature.\n",
    "           - For instance, begin with a model that predicts housing prices based only on square footage.\n",
    "\n",
    "        2. **Iteration 1:**\n",
    "           - Add the most impactful feature: Include the number of bedrooms and assess the model's performance.\n",
    "           - If the model performance improves significantly, keep the added feature.\n",
    "\n",
    "        3. **Iteration 2:**\n",
    "           - Continue the process by adding another feature, such as location or proximity to public amenities.\n",
    "           - Evaluate the impact on model performance.\n",
    "\n",
    "        4. **Subsequent Iterations:**\n",
    "           - Repeat the process, adding one feature at a time and evaluating model performance until no further improvement is observed.\n",
    "           - This means that the addition of additional features does not substantially enhance the model's predictive accuracy.\n",
    "\n",
    "           **Result:** By the end of this process, the real estate company has a model that incorporates a subset of features, carefully selected based on their individual impact on improving predictive accuracy. This approach helps avoid overfitting and ensures that only the most relevant features are included in the final model. This real-world example demonstrates how a forward selection approach can be applied in the context of predicting housing prices to iteratively build a model with the most impactful features, thereby optimizing its performance.\n",
    "\n",
    "       2. Another example is Credit Scoring for Loan Approval. In the domain of credit scoring, where the goal is to predict whether a customer is likely to default on a loan, wrapper methods can be beneficial. A wrapper method such as recursive feature elimination (RFE) could be employed with a classifier. The algorithm evaluates different subsets of features by iteratively training the model and removing the least important features. This process continues until the model's performance plateaus, optimizing the feature set for accurate credit scoring.\n",
    "\n",
    "2. **Interaction Effects:**\n",
    "   - **Explanation:** If the relationship between features is complex and depends on the presence of other features, wrapper methods, which consider combinations of features, may outperform filter methods.\n",
    "   - **Example:Drug Response Prediction in Medicine** In medical research, predicting a patient's response to a particular drug might involve considering interactions between various patient characteristics. Wrapper methods, such as forward selection or backward elimination, can be used to systematically evaluate combinations of features to capture complex interactions. For instance, the effectiveness of a drug may depend not only on a patient's age but also on other factors like genetic markers or existing health conditions.\n",
    "\n",
    "### Conclusion:\n",
    "\n",
    "In summary, choose the filter method when dealing with high-dimensional data and for quick preprocessing steps. On the other hand, opt for the wrapper method when the goal is to optimize the performance of a specific machine learning model or when there are complex interactions between features that need to be considered. The choice between these methods often depends on the specific characteristics and goals of your machine learning task."
   ]
  },
  {
   "cell_type": "markdown",
   "id": "c7a112f1",
   "metadata": {},
   "source": [
    "**Q6. In a telecom company, you are working on a project to develop a predictive model for customer churn. You are unsure of which features to include in the model because the dataset contains several different ones. Describe how you would choose the most pertinent attributes for the model using the Filter Method.**"
   ]
  },
  {
   "cell_type": "markdown",
   "id": "54a8243e",
   "metadata": {},
   "source": [
    "When working on a predictive model for customer churn in a telecom company, it's crucial to select the most relevant features to ensure the model's accuracy and efficiency. The Filter Method is one approach to achieve this by evaluating the statistical properties of each feature. Here's a step-by-step explanation:\n",
    "\n",
    "1. Understand the Dataset\n",
    "Start by understanding the dataset and the features it contains. In the context of telecom customer churn, features might include call duration, monthly charges, contract length, customer satisfaction scores, etc.\n",
    "\n",
    "In the context of a telecom company and customer churn prediction, the variable $Y$ typically represents the target variable, often referred to as the dependent variable. In this scenario, $Y$ would represent whether a customer has churned or not.\n",
    "\n",
    "Here, $Y$ is a binary variable, commonly encoded as 0 or 1, where:\n",
    "- $(Y = 0)$ indicates that the customer has not churned (i.e., the customer is still with the telecom company).\n",
    "- $(Y = 1)$ indicates that the customer has churned (i.e., the customer has terminated their services with the telecom company).\n",
    "\n",
    "The goal of the predictive model is to use various features (such as monthly charges, contract length, customer satisfaction, etc.) to predict or estimate the likelihood of customer churn, which is reflected in the values of $Y$. This prediction can then be used to take proactive measures, such as targeted marketing or customer retention strategies, to reduce churn.\n",
    "\n",
    "2. Calculate Correlation Coefficients\n",
    "Calculate the correlation coefficients between each feature and the target variable (churn). The correlation coefficient measures the strength and direction of a linear relationship between two variables. For example, the Pearson correlation coefficient (\\( \\rho \\)) can be calculated as:\n",
    "\n",
    "$$\\rho_{X,Y} = \\frac{cov(X,Y)}{\\sigma_X \\sigma_Y}$$\n",
    "\n",
    "where:\n",
    "- $cov(X,Y)$ is the covariance between X and Y.\n",
    "- $\\sigma_X$ and $\\sigma_Y$ are the standard deviations of X and Y, respectively.\n",
    "\n",
    "3. Rank Features\n",
    "Rank the features based on their correlation coefficients. Features with higher absolute correlation coefficients are more likely to be relevant for predicting churn.\n",
    "\n",
    "4. Select Top Features\n",
    "Choose a threshold for the correlation coefficient, and select the top N features that meet or exceed this threshold. This will be your set of pertinent attributes.\n",
    "\n",
    "`Example:`\n",
    "\n",
    "Let's say we have a simplified dataset with three features: Monthly Charges $X_1$, Contract Length $X_2$, and Customer Satisfaction $X_3$, and the target variable is Churn $Y$.\n",
    "\n",
    "| Customer | Monthly Charges $X_1$ | Contract Length $X_2$ | Customer Satisfaction $X_3$ | Churn $Y$ |\n",
    "|----------|--------------------------|---------------------------|----------------------------------|---------------|\n",
    "| 1        | 50                       | 6                        | 8                                | 0             |\n",
    "| 2        | 75                       | 12                         | 5                                | 1             |\n",
    "| 3        | 60                       | 24                        | 9                                | 0             |\n",
    "\n",
    "`Calculations:`\n",
    "\n",
    "1. Calculate Pearson correlation coefficients:\n",
    "   - $\\rho_{X_1,Y}$, $\\rho_{X_2,Y}$, $\\rho_{X_3,Y}$\n",
    "\n",
    "2. Rank features based on absolute correlation coefficients.\n",
    "\n",
    "3. Select the top features based on the chosen threshold.\n",
    "\n",
    "`To calculate the Pearson correlation coefficients, we need to use the formula:`\n",
    "\n",
    "$$\\rho_{X,Y} = \\frac{cov(X,Y)}{\\sigma_X \\sigma_Y}$$\n",
    "\n",
    "where:\n",
    "- $cov(X,Y)$ is the covariance between X and Y, which measures how much they vary together.\n",
    "- $\\sigma_X$ and $\\sigma_Y$ are the standard deviations of X and Y, which measure how much they vary individually.\n",
    "\n",
    "`We can use a simple Python code to compute these values for each feature and the target variable. Here is the code:`"
   ]
  },
  {
   "cell_type": "code",
   "execution_count": 6,
   "id": "12e3e439",
   "metadata": {},
   "outputs": [
    {
     "name": "stdout",
     "output_type": "stream",
     "text": [
      "                       Monthly Charges  Contract Length  \\\n",
      "Monthly Charges               1.000000         0.216777   \n",
      "Contract Length               0.216777         1.000000   \n",
      "Customer Satisfaction        -0.795356         0.419314   \n",
      "Churn                         0.917663        -0.188982   \n",
      "\n",
      "                       Customer Satisfaction     Churn  \n",
      "Monthly Charges                    -0.795356  0.917663  \n",
      "Contract Length                     0.419314 -0.188982  \n",
      "Customer Satisfaction               1.000000 -0.970725  \n",
      "Churn                              -0.970725  1.000000  \n"
     ]
    }
   ],
   "source": [
    "# Import pandas library for data manipulation\n",
    "import pandas as pd\n",
    "\n",
    "# Create a dataframe from the dataset\n",
    "df = pd.DataFrame({\n",
    "    'Monthly Charges': [50, 75, 60],\n",
    "    'Contract Length': [6, 12, 24],\n",
    "    'Customer Satisfaction': [8, 5, 9],\n",
    "    'Churn': [0, 1, 0]\n",
    "})\n",
    "\n",
    "# Calculate the correlation coefficients\n",
    "corr = df.corr()\n",
    "\n",
    "# Print the correlation coefficients\n",
    "print(corr)"
   ]
  },
  {
   "cell_type": "markdown",
   "id": "bd6b52e8",
   "metadata": {},
   "source": [
    "The correlation coefficients are the values in the table, where each row and column represents a variable. \n",
    "- For example, the correlation coefficient between Monthly Charges and Churn is 0.917663, which means they have a strong positive linear relationship. \n",
    "- The correlation coefficient between Customer Satisfaction and Churn is -0.970725, which means they have a strong negative linear relationship. \n",
    "- The correlation coefficient between churn and churn is 1.000000, which means they have a perfect positive linear relationship.\n",
    "\n",
    "To rank the features based on their correlation coefficients, we need to look at the absolute values of the coefficients, which ignore the sign and only focus on the magnitude. The higher the absolute value, the stronger the relationship. For example, the absolute value of -0.970725 is 0.970725, which is higher than the absolute value of 0.500000.\n",
    "\n",
    "`We can use another Python code to sort the features by their absolute correlation coefficients with the target variable (Churn). Here is the code:`"
   ]
  },
  {
   "cell_type": "code",
   "execution_count": 7,
   "id": "cd11e882",
   "metadata": {},
   "outputs": [
    {
     "name": "stdout",
     "output_type": "stream",
     "text": [
      "Churn                    1.000000\n",
      "Customer Satisfaction    0.970725\n",
      "Monthly Charges          0.917663\n",
      "Contract Length          0.188982\n",
      "Name: Churn, dtype: float64\n"
     ]
    }
   ],
   "source": [
    "# Sort the features by their absolute correlation coefficients with Churn\n",
    "sorted_features = corr['Churn'].abs().sort_values(ascending=False)\n",
    "\n",
    "# Print the sorted features\n",
    "print(sorted_features)"
   ]
  },
  {
   "cell_type": "markdown",
   "id": "a7920492",
   "metadata": {},
   "source": [
    "- For example, the feature with the highest absolute correlation coefficient with Churn is Churn, which has a value of 1.000000. \n",
    "- The feature with the lowest absolute correlation coefficient with Churn is Contract Length, which has a value of 0.755929.\n",
    "\n",
    "To select the top features based on the chosen threshold, we need to decide how many features we want to keep and how strong the relationship with Churn should be. This depends on the context and the objective of the analysis, and there is no definitive answer. However, a common rule of thumb is to select features that have an absolute correlation coefficient of at least 0.5 with the target variable.\n",
    "\n",
    "`We can use another Python code to filter the features that meet or exceed this threshold. Here is the code:`"
   ]
  },
  {
   "cell_type": "code",
   "execution_count": 8,
   "id": "4e70e59d",
   "metadata": {},
   "outputs": [
    {
     "name": "stdout",
     "output_type": "stream",
     "text": [
      "Churn                    1.000000\n",
      "Customer Satisfaction    0.970725\n",
      "Monthly Charges          0.917663\n",
      "Name: Churn, dtype: float64\n"
     ]
    }
   ],
   "source": [
    "# Set the threshold for the absolute correlation coefficient\n",
    "threshold = 0.5\n",
    "\n",
    "# Filter the features that meet or exceed the threshold\n",
    "selected_features = sorted_features[sorted_features >= threshold]\n",
    "\n",
    "# Print the selected features\n",
    "print(selected_features)"
   ]
  },
  {
   "cell_type": "markdown",
   "id": "df41e9ea",
   "metadata": {},
   "source": [
    "- The feature Contract Length has an absolute correlation coefficient of 0.500000 with Churn, which is equal to the threshold of 0.5, but it is not included in the selected features because it has a lower rank than the other features.\n",
    "- This means that our set of pertinent attributes for predicting customer churn are Customer Satisfaction and Monthly Charges, which have the strongest linear relationships with Churn."
   ]
  },
  {
   "cell_type": "markdown",
   "id": "1ef4d0bb",
   "metadata": {},
   "source": [
    "**Q7. You are working on a project to predict the outcome of a soccer match. You have a large dataset with many features, including player statistics and team rankings. Explain how you would use the Embedded method to select the most relevant features for the model.**"
   ]
  },
  {
   "cell_type": "markdown",
   "id": "5f632828",
   "metadata": {},
   "source": [
    "**Step 1: Importing Libraries**\n",
    "\n",
    "I start by importing the libraries I need to work with data and create visualizations. Here are the libraries I import:\n",
    "- `pandas` (as `pd`): This library is like a Swiss Army knife for data manipulation and analysis. It allows me to work with structured data in tables.\n",
    "- `numpy` (as `np`): This library provides support for mathematical operations on arrays and matrices. It's often used for numerical calculations.\n",
    "- `StandardScaler` from `sklearn.preprocessing`: This is a function from scikit-learn (a powerful machine learning library) that I'll use to standardize or scale my data.\n",
    "- `Lasso` from `sklearn.linear_model`: This is another function from scikit-learn that I'll use to perform Lasso Regression, a technique for feature selection in machine learning.\n",
    "- `matplotlib.pyplot` (as `plt`): This library helps me create data visualizations, like plots and charts."
   ]
  },
  {
   "cell_type": "code",
   "execution_count": 50,
   "id": "9f4032a2",
   "metadata": {},
   "outputs": [],
   "source": [
    "import pandas as pd\n",
    "import numpy as np\n",
    "from sklearn.preprocessing import StandardScaler\n",
    "from sklearn.linear_model import Lasso\n",
    "import matplotlib.pyplot as plt"
   ]
  },
  {
   "cell_type": "markdown",
   "id": "b2130f29",
   "metadata": {},
   "source": [
    "**Step 2: Creating a Sample Dataset**\n",
    "\n",
    "I create a simple dataset that represents the performance of ten football (soccer) teams in their last match. For each team, I collect data on various statistics from that match, such as the number of goals scored, assists made, tackles, and more. The dataset also includes information about fan support and the outcome of the match (win, draw, or loss).\n",
    "\n",
    "This dataset is stored in a Python dictionary named `data`."
   ]
  },
  {
   "cell_type": "code",
   "execution_count": 51,
   "id": "57d2fb08",
   "metadata": {},
   "outputs": [],
   "source": [
    "# Create a sample dataset with 10 teams and 10 features\n",
    "# Features:\n",
    "# 1. GoalsScored: Number of goals scored by the team in the last match.\n",
    "# 2. Assists: Number of assists made by the team in the last match.\n",
    "# 3. Tackles: Total tackles made by the team in the last match.\n",
    "# 4. Possession: Percentage of possession in the last match.\n",
    "# 5. PassCompletion: Pass completion percentage in the last match.\n",
    "# 6. Corners: Number of corners won by the team in the last match.\n",
    "# 7. YellowCards: Number of yellow cards received by the team in the last match.\n",
    "# 8. RedCards: Number of red cards received by the team in the last match.\n",
    "# 9. TeamRanking: Current ranking of the team in the league.\n",
    "# 10. FanSupport: Level of fan support (e.g., high, medium, low).\n",
    "\n",
    "# Outcome (Target variable):\n",
    "# - \"Win\": The team won the match.\n",
    "# - \"Draw\": The match ended in a draw.\n",
    "# - \"Loss\": The team lost the match.\n",
    "\n",
    "data = {\n",
    "    'Team': ['Arsenal', 'Chelsea', 'Liverpool', 'ManUnited', 'ManCity', 'Tottenham', 'Leicester', 'Everton', 'WestHam', 'Newcastle'],\n",
    "    'GoalsScored': [3, 2, 1, 2, 4, 0, 2, 3, 1, 2],\n",
    "    'Assists': [2, 1, 2, 1, 3, 0, 1, 2, 2, 1],\n",
    "    'Tackles': [5, 3, 4, 2, 6, 4, 3, 2, 5, 4],\n",
    "    'Possession': [54, 47, 52, 49, 58, 45, 51, 53, 50, 48],\n",
    "    'PassCompletion': [82, 78, 79, 76, 85, 77, 80, 81, 79, 78],\n",
    "    'Corners': [6, 4, 5, 4, 7, 3, 4, 6, 5, 4],\n",
    "    'YellowCards': [1, 2, 0, 3, 1, 2, 1, 2, 1, 0],\n",
    "    'RedCards': [0, 1, 0, 1, 0, 1, 0, 0, 1, 1],\n",
    "    'TeamRanking': [3, 4, 2, 5, 1, 7, 6, 8, 9, 10],\n",
    "    'FanSupport': ['High', 'Medium', 'Low', 'High', 'High', 'Low', 'Medium', 'Medium', 'High', 'Low'],\n",
    "    'Outcome': ['Win', 'Draw', 'Draw', 'Win', 'Draw', 'Loss', 'Draw', 'Win', 'Loss', 'Win']\n",
    "}"
   ]
  },
  {
   "cell_type": "markdown",
   "id": "478c2e0d",
   "metadata": {},
   "source": [
    "**Step 3: Creating a DataFrame**\n",
    "\n",
    "I convert the dictionary of data into a pandas DataFrame. Think of a DataFrame like a spreadsheet where you can organize and analyze your data."
   ]
  },
  {
   "cell_type": "code",
   "execution_count": 52,
   "id": "b97c6808",
   "metadata": {},
   "outputs": [],
   "source": [
    "# Create a DataFrame\n",
    "df = pd.DataFrame(data)"
   ]
  },
  {
   "cell_type": "markdown",
   "id": "0a206494",
   "metadata": {},
   "source": [
    "**Step 4: One-Hot Encoding**\n",
    "\n",
    "In the dataset, I have a column called \"FanSupport\" that contains categories like \"High,\" \"Medium,\" and \"Low.\" Machine learning algorithms work better with numbers, so I use one-hot encoding to convert these categories into numerical values (0 or 1) that the algorithm can understand."
   ]
  },
  {
   "cell_type": "code",
   "execution_count": 53,
   "id": "11037845",
   "metadata": {},
   "outputs": [],
   "source": [
    "# One-hot encode the \"FanSupport\" column\n",
    "df = pd.get_dummies(df, columns=['FanSupport'], prefix=['FanSupport'])"
   ]
  },
  {
   "cell_type": "markdown",
   "id": "51484ffc",
   "metadata": {},
   "source": [
    "**Step 5: Mapping Outcome Labels**\n",
    "\n",
    "The \"Outcome\" column contains labels like \"Win,\" \"Draw,\" and \"Loss.\" Machine learning models work with numbers, so I create a mapping (a dictionary called `outcome_mapping`) to convert these labels into numbers. For example, \"Win\" becomes 1, \"Draw\" becomes 0, and \"Loss\" becomes -1."
   ]
  },
  {
   "cell_type": "code",
   "execution_count": 54,
   "id": "85108ca9",
   "metadata": {},
   "outputs": [
    {
     "name": "stdout",
     "output_type": "stream",
     "text": [
      "        Team  GoalsScored  Assists  Tackles  Possession  PassCompletion  \\\n",
      "0    Arsenal            3        2        5          54              82   \n",
      "1    Chelsea            2        1        3          47              78   \n",
      "2  Liverpool            1        2        4          52              79   \n",
      "3  ManUnited            2        1        2          49              76   \n",
      "4    ManCity            4        3        6          58              85   \n",
      "5  Tottenham            0        0        4          45              77   \n",
      "6  Leicester            2        1        3          51              80   \n",
      "7    Everton            3        2        2          53              81   \n",
      "8    WestHam            1        2        5          50              79   \n",
      "9  Newcastle            2        1        4          48              78   \n",
      "\n",
      "   Corners  YellowCards  RedCards  TeamRanking  Outcome  FanSupport_High  \\\n",
      "0        6            1         0            3        1                1   \n",
      "1        4            2         1            4        0                0   \n",
      "2        5            0         0            2        0                0   \n",
      "3        4            3         1            5        1                1   \n",
      "4        7            1         0            1        0                1   \n",
      "5        3            2         1            7       -1                0   \n",
      "6        4            1         0            6        0                0   \n",
      "7        6            2         0            8        1                0   \n",
      "8        5            1         1            9       -1                1   \n",
      "9        4            0         1           10        1                0   \n",
      "\n",
      "   FanSupport_Low  FanSupport_Medium  \n",
      "0               0                  0  \n",
      "1               0                  1  \n",
      "2               1                  0  \n",
      "3               0                  0  \n",
      "4               0                  0  \n",
      "5               1                  0  \n",
      "6               0                  1  \n",
      "7               0                  1  \n",
      "8               0                  0  \n",
      "9               1                  0  \n"
     ]
    }
   ],
   "source": [
    "# Mapping of categorical labels to integers\n",
    "outcome_mapping = {'Win': 1, 'Draw': 0, 'Loss': -1}\n",
    "# Apply the mapping to convert \"Outcome\" to integers\n",
    "df['Outcome'] = df['Outcome'].map(outcome_mapping)\n",
    "# Show the dataframe\n",
    "print(df)"
   ]
  },
  {
   "cell_type": "markdown",
   "id": "ac8faf8c",
   "metadata": {},
   "source": [
    "**Step 6: Separating Features and Target**\n",
    "\n",
    "To build a machine learning model, I need to separate the data into two parts: features (X) and the target variable (y). The features are the columns that help me make predictions, and the target variable is what I want to predict. In this case, I remove the \"Team\" column (because team names don't help predict outcomes) and separate the \"Outcome\" column as the target variable."
   ]
  },
  {
   "cell_type": "code",
   "execution_count": 55,
   "id": "ae768ab5",
   "metadata": {},
   "outputs": [],
   "source": [
    "# Separate features (X) and target (y)\n",
    "X = df.drop(['Team', 'Outcome'], axis=1)\n",
    "y = df['Outcome']"
   ]
  },
  {
   "cell_type": "markdown",
   "id": "ed90d12a",
   "metadata": {},
   "source": [
    "**Step 7: Feature Scaling**\n",
    "\n",
    "Feature scaling is important in machine learning. It ensures that all features have similar scales, so no single feature dominates the model just because it has a larger magnitude. I use `StandardScaler` to scale the features."
   ]
  },
  {
   "cell_type": "code",
   "execution_count": 56,
   "id": "618ad756",
   "metadata": {},
   "outputs": [],
   "source": [
    "# Feature Scaling\n",
    "scaler = StandardScaler()\n",
    "X_scaled = scaler.fit_transform(X)"
   ]
  },
  {
   "cell_type": "markdown",
   "id": "8d9cab20",
   "metadata": {},
   "source": [
    "**Step 8: Lasso Regression**\n",
    "\n",
    "Now, it's time to apply Lasso Regression. Lasso Regression is a technique that not only helps in making predictions but also performs feature selection. It does this by assigning different importance scores (coefficients) to each feature. In the code, I create a Lasso Regression model with a specific alpha value and fit it to the scaled features."
   ]
  },
  {
   "cell_type": "code",
   "execution_count": 57,
   "id": "a5a9ff9a",
   "metadata": {},
   "outputs": [
    {
     "data": {
      "text/html": [
       "<style>#sk-container-id-2 {color: black;}#sk-container-id-2 pre{padding: 0;}#sk-container-id-2 div.sk-toggleable {background-color: white;}#sk-container-id-2 label.sk-toggleable__label {cursor: pointer;display: block;width: 100%;margin-bottom: 0;padding: 0.3em;box-sizing: border-box;text-align: center;}#sk-container-id-2 label.sk-toggleable__label-arrow:before {content: \"▸\";float: left;margin-right: 0.25em;color: #696969;}#sk-container-id-2 label.sk-toggleable__label-arrow:hover:before {color: black;}#sk-container-id-2 div.sk-estimator:hover label.sk-toggleable__label-arrow:before {color: black;}#sk-container-id-2 div.sk-toggleable__content {max-height: 0;max-width: 0;overflow: hidden;text-align: left;background-color: #f0f8ff;}#sk-container-id-2 div.sk-toggleable__content pre {margin: 0.2em;color: black;border-radius: 0.25em;background-color: #f0f8ff;}#sk-container-id-2 input.sk-toggleable__control:checked~div.sk-toggleable__content {max-height: 200px;max-width: 100%;overflow: auto;}#sk-container-id-2 input.sk-toggleable__control:checked~label.sk-toggleable__label-arrow:before {content: \"▾\";}#sk-container-id-2 div.sk-estimator input.sk-toggleable__control:checked~label.sk-toggleable__label {background-color: #d4ebff;}#sk-container-id-2 div.sk-label input.sk-toggleable__control:checked~label.sk-toggleable__label {background-color: #d4ebff;}#sk-container-id-2 input.sk-hidden--visually {border: 0;clip: rect(1px 1px 1px 1px);clip: rect(1px, 1px, 1px, 1px);height: 1px;margin: -1px;overflow: hidden;padding: 0;position: absolute;width: 1px;}#sk-container-id-2 div.sk-estimator {font-family: monospace;background-color: #f0f8ff;border: 1px dotted black;border-radius: 0.25em;box-sizing: border-box;margin-bottom: 0.5em;}#sk-container-id-2 div.sk-estimator:hover {background-color: #d4ebff;}#sk-container-id-2 div.sk-parallel-item::after {content: \"\";width: 100%;border-bottom: 1px solid gray;flex-grow: 1;}#sk-container-id-2 div.sk-label:hover label.sk-toggleable__label {background-color: #d4ebff;}#sk-container-id-2 div.sk-serial::before {content: \"\";position: absolute;border-left: 1px solid gray;box-sizing: border-box;top: 0;bottom: 0;left: 50%;z-index: 0;}#sk-container-id-2 div.sk-serial {display: flex;flex-direction: column;align-items: center;background-color: white;padding-right: 0.2em;padding-left: 0.2em;position: relative;}#sk-container-id-2 div.sk-item {position: relative;z-index: 1;}#sk-container-id-2 div.sk-parallel {display: flex;align-items: stretch;justify-content: center;background-color: white;position: relative;}#sk-container-id-2 div.sk-item::before, #sk-container-id-2 div.sk-parallel-item::before {content: \"\";position: absolute;border-left: 1px solid gray;box-sizing: border-box;top: 0;bottom: 0;left: 50%;z-index: -1;}#sk-container-id-2 div.sk-parallel-item {display: flex;flex-direction: column;z-index: 1;position: relative;background-color: white;}#sk-container-id-2 div.sk-parallel-item:first-child::after {align-self: flex-end;width: 50%;}#sk-container-id-2 div.sk-parallel-item:last-child::after {align-self: flex-start;width: 50%;}#sk-container-id-2 div.sk-parallel-item:only-child::after {width: 0;}#sk-container-id-2 div.sk-dashed-wrapped {border: 1px dashed gray;margin: 0 0.4em 0.5em 0.4em;box-sizing: border-box;padding-bottom: 0.4em;background-color: white;}#sk-container-id-2 div.sk-label label {font-family: monospace;font-weight: bold;display: inline-block;line-height: 1.2em;}#sk-container-id-2 div.sk-label-container {text-align: center;}#sk-container-id-2 div.sk-container {/* jupyter's `normalize.less` sets `[hidden] { display: none; }` but bootstrap.min.css set `[hidden] { display: none !important; }` so we also need the `!important` here to be able to override the default hidden behavior on the sphinx rendered scikit-learn.org. See: https://github.com/scikit-learn/scikit-learn/issues/21755 */display: inline-block !important;position: relative;}#sk-container-id-2 div.sk-text-repr-fallback {display: none;}</style><div id=\"sk-container-id-2\" class=\"sk-top-container\"><div class=\"sk-text-repr-fallback\"><pre>Lasso(alpha=0.02)</pre><b>In a Jupyter environment, please rerun this cell to show the HTML representation or trust the notebook. <br />On GitHub, the HTML representation is unable to render, please try loading this page with nbviewer.org.</b></div><div class=\"sk-container\" hidden><div class=\"sk-item\"><div class=\"sk-estimator sk-toggleable\"><input class=\"sk-toggleable__control sk-hidden--visually\" id=\"sk-estimator-id-2\" type=\"checkbox\" checked><label for=\"sk-estimator-id-2\" class=\"sk-toggleable__label sk-toggleable__label-arrow\">Lasso</label><div class=\"sk-toggleable__content\"><pre>Lasso(alpha=0.02)</pre></div></div></div></div></div>"
      ],
      "text/plain": [
       "Lasso(alpha=0.02)"
      ]
     },
     "execution_count": 57,
     "metadata": {},
     "output_type": "execute_result"
    }
   ],
   "source": [
    "# Lasso Regression\n",
    "lasso_model = Lasso(alpha=0.02)\n",
    "lasso_model.fit(X_scaled, y)"
   ]
  },
  {
   "cell_type": "markdown",
   "id": "5ac8d615",
   "metadata": {},
   "source": [
    "**Step 9: Feature Selection**\n",
    "\n",
    "After training the Lasso model, I obtain the coefficients assigned to each feature. These coefficients represent how much each feature contributes to the model's predictions."
   ]
  },
  {
   "cell_type": "code",
   "execution_count": 58,
   "id": "19ca2e74",
   "metadata": {},
   "outputs": [],
   "source": [
    "# Step 4: Feature Selection\n",
    "feature_coefficients = lasso_model.coef_"
   ]
  },
  {
   "cell_type": "markdown",
   "id": "b917847a",
   "metadata": {},
   "source": [
    "**Step 10: Review and Select Features**\n",
    "\n",
    "I sort the feature coefficients in descending order, so the most important features come first. Then, I select the top 5 features with the highest absolute coefficients. These are the features that the Lasso model found most useful for predicting match outcomes."
   ]
  },
  {
   "cell_type": "code",
   "execution_count": 59,
   "id": "ec0c4f7c",
   "metadata": {},
   "outputs": [
    {
     "name": "stdout",
     "output_type": "stream",
     "text": [
      "Selected Features: Index(['GoalsScored', 'Tackles', 'FanSupport_Medium', 'YellowCards',\n",
      "       'Assists'],\n",
      "      dtype='object')\n"
     ]
    }
   ],
   "source": [
    "# Review and Select Features\n",
    "sorted_coefficients = np.argsort(np.abs(feature_coefficients))[::-1]\n",
    "# Select the top 5 features\n",
    "top_features = sorted_coefficients[:5]  \n",
    "# Display the selected features\n",
    "selected_features = X.columns[top_features]\n",
    "print(\"Selected Features:\", selected_features)"
   ]
  },
  {
   "cell_type": "markdown",
   "id": "90fc0b05",
   "metadata": {},
   "source": [
    "**Step 11: Visualize the Lasso Coefficients**\n",
    "\n",
    "To better understand the importance of these selected features, I create a bar plot using `matplotlib`. This plot shows the Lasso coefficients for each feature. The features with higher absolute coefficients are considered more important in predicting match outcomes. The bar plot provides a visual representation of this importance."
   ]
  },
  {
   "cell_type": "code",
   "execution_count": 49,
   "id": "69c96930",
   "metadata": {},
   "outputs": [
    {
     "data": {
      "image/png": "[encoded data removed]",
      "text/plain": [
       "<Figure size 1000x600 with 1 Axes>"
      ]
     },
     "metadata": {},
     "output_type": "display_data"
    }
   ],
   "source": [
    "# Visualize the Lasso coefficients\n",
    "plt.figure(figsize=(10, 6))\n",
    "plt.barh(range(len(feature_coefficients)), feature_coefficients)\n",
    "plt.yticks(range(len(feature_coefficients)), X.columns)\n",
    "plt.xlabel(\"Lasso Coefficient\")\n",
    "plt.title(\"Lasso Coefficients for Feature Selection\")\n",
    "plt.show()"
   ]
  },
  {
   "cell_type": "markdown",
   "id": "50515eb2",
   "metadata": {},
   "source": [
    "- In the visualization, if a feature has no bar displayed, it means that the Lasso Regression model has effectively eliminated or set the coefficient for that feature to zero by setting a high value of alpha. Lasso Regression is a regularization technique that encourages sparsity in the model, which means it tends to select a subset of the most important features while setting the coefficients of less important features to zero.\n",
    "- In our code, when you visualize the Lasso coefficients, we are looking at the feature importance. Features with non-zero coefficients have an impact on the model's predictions, while features with coefficients equal to zero are effectively excluded from the model.\n",
    "- So, we see no bar for a particular feature, like \"FanSupport_Low\" or \"FanSupport_High\", or \"Assists\". it suggests that these features are not considered important by the Lasso model for predicting match outcomes, and their coefficients are reduced to zero during the feature selection process."
   ]
  },
  {
   "cell_type": "markdown",
   "id": "ccf7d8ac",
   "metadata": {},
   "source": [
    "**Q8. You are working on a project to predict the price of a house based on its features, such as size, location, and age. You have a limited number of features, and you want to ensure that you select the most important ones for the model. Explain how you would use the Wrapper method to select the best set of features for the predictor.**"
   ]
  },
  {
   "cell_type": "markdown",
   "id": "3bb5a5f8",
   "metadata": {},
   "source": [
    "The Wrapper method is an approach used to select the best set of features for a machine learning model by evaluating different combinations of features through the actual model's performance. It essentially uses a model (e.g., linear regression, decision tree, or any other appropriate model) to assess how well a subset of features predicts the target variable. This is typically done through techniques like forward selection, backward elimination, or recursive feature elimination. I'll explain this method step by step and provide a Python code example using a DataFrame dataset and visualizing the results with matplotlib.\n",
    "\n",
    "Let's assume we have a dataset with house prices and a few features. Our goal is to select the best set of features to predict the house prices.\n",
    "\n",
    "Here's a step-by-step explanation of how to use the Wrapper method:\n",
    "\n",
    "1. **Import Libraries**: Import the necessary Python libraries."
   ]
  },
  {
   "cell_type": "code",
   "execution_count": 14,
   "id": "6c1511df",
   "metadata": {},
   "outputs": [],
   "source": [
    "import pandas as pd\n",
    "import numpy as np\n",
    "from sklearn.model_selection import train_test_split\n",
    "from sklearn.linear_model import LinearRegression\n",
    "from sklearn.metrics import mean_squared_error\n",
    "import matplotlib.pyplot as plt"
   ]
  },
  {
   "cell_type": "markdown",
   "id": "febd4cde",
   "metadata": {},
   "source": [
    "2. **Load and Prepare the Dataset**: Load your dataset into a DataFrame. Make sure to split it into features (X) and the target variable (y)."
   ]
  },
  {
   "cell_type": "code",
   "execution_count": 15,
   "id": "ceddebe3",
   "metadata": {},
   "outputs": [
    {
     "name": "stdout",
     "output_type": "stream",
     "text": [
      "      price  area  bedrooms  bathrooms  stories mainroad guestroom basement  \\\n",
      "0  13300000  7420         4          2        3      yes        no       no   \n",
      "1  12250000  8960         4          4        4      yes        no       no   \n",
      "2  12250000  9960         3          2        2      yes        no      yes   \n",
      "3  12215000  7500         4          2        2      yes        no      yes   \n",
      "4  11410000  7420         4          1        2      yes       yes      yes   \n",
      "\n",
      "  hotwaterheating airconditioning  parking prefarea furnishingstatus  \n",
      "0              no             yes        2      yes        furnished  \n",
      "1              no             yes        3       no        furnished  \n",
      "2              no              no        2      yes   semi-furnished  \n",
      "3              no             yes        3      yes        furnished  \n",
      "4              no             yes        2       no        furnished  \n"
     ]
    }
   ],
   "source": [
    "# Load our dataset from the \"datasets\" folder\n",
    "df = pd.read_csv('datasets/house_dataset.csv')\n",
    "# Show the datframe\n",
    "print(df.head())"
   ]
  },
  {
   "cell_type": "code",
   "execution_count": 16,
   "id": "bc0f3e37",
   "metadata": {},
   "outputs": [],
   "source": [
    "# Split the data into features (X) and the target variable (y)\n",
    "X = df[['area', 'bedrooms', 'bathrooms', 'stories', 'parking']]\n",
    "y = df['price']"
   ]
  },
  {
   "cell_type": "markdown",
   "id": "613913dd",
   "metadata": {},
   "source": [
    "3. Divide the Dataset: Split the dataset into a training set and a test set. We will use the training set to select the best set of features and the test set to evaluate the model's performance."
   ]
  },
  {
   "cell_type": "code",
   "execution_count": 17,
   "id": "d4b13434",
   "metadata": {},
   "outputs": [],
   "source": [
    "X_train, X_test, y_train, y_test = train_test_split(X, y, test_size=0.2, random_state=42)"
   ]
  },
  {
   "cell_type": "markdown",
   "id": "5aa81814",
   "metadata": {},
   "source": [
    "4. Create a Function for Model Evaluation: We'll create a function to evaluate the model's performance. For this example, we'll use a simple linear regression model."
   ]
  },
  {
   "cell_type": "code",
   "execution_count": 18,
   "id": "50f4fda1",
   "metadata": {},
   "outputs": [],
   "source": [
    "def evaluate_features(features):\n",
    "    model = LinearRegression()\n",
    "    model.fit(X_train[features], y_train)\n",
    "    y_pred = model.predict(X_test[features])\n",
    "    mse = mean_squared_error(y_test, y_pred)\n",
    "    return mse"
   ]
  },
  {
   "cell_type": "markdown",
   "id": "331fdbbf",
   "metadata": {},
   "source": [
    "5. Forward Selection: We will start with an empty set of features and iteratively add features to find the best subset."
   ]
  },
  {
   "cell_type": "code",
   "execution_count": 19,
   "id": "ad964fa9",
   "metadata": {},
   "outputs": [
    {
     "name": "stdout",
     "output_type": "stream",
     "text": [
      "Selected Features: ['area'], MSE: 3675286604768.185\n",
      "Selected Features: ['area', 'stories'], MSE: 2862779375984.7827\n",
      "Selected Features: ['area', 'stories', 'bathrooms'], MSE: 2486259122944.889\n",
      "Selected Features: ['area', 'stories', 'bathrooms', 'parking'], MSE: 2311440019916.0796\n",
      "Selected Features: ['area', 'stories', 'bathrooms', 'parking', 'bedrooms'], MSE: 2292721545725.361\n"
     ]
    }
   ],
   "source": [
    "selected_features = []\n",
    "remaining_features = list(X_train.columns)\n",
    "\n",
    "while remaining_features:\n",
    "    mse_scores = []\n",
    "    for feature in remaining_features:\n",
    "        mse = evaluate_features(selected_features + [feature])\n",
    "        mse_scores.append((feature, mse))\n",
    "    \n",
    "    best_feature, best_mse = min(mse_scores, key=lambda x: x[1])\n",
    "    selected_features.append(best_feature)\n",
    "    remaining_features.remove(best_feature)\n",
    "    print(f\"Selected Features: {selected_features}, MSE: {best_mse}\")"
   ]
  },
  {
   "cell_type": "markdown",
   "id": "fb0f06c3",
   "metadata": {},
   "source": [
    "6. Visualize the Results: We can plot the mean squared error (MSE) against the number of features to see how the performance changes with the number of selected features."
   ]
  },
  {
   "cell_type": "code",
   "execution_count": 20,
   "id": "da66a433",
   "metadata": {},
   "outputs": [
    {
     "data": {
      "image/png": "[encoded data removed]",
      "text/plain": [
       "<Figure size 640x480 with 1 Axes>"
      ]
     },
     "metadata": {},
     "output_type": "display_data"
    }
   ],
   "source": [
    "mse_values = [evaluate_features(selected_features[:i]) for i in range(1, len(selected_features) + 1)]\n",
    "\n",
    "plt.plot(range(1, len(selected_features) + 1), mse_values, marker='o')\n",
    "plt.xlabel('Number of Features')\n",
    "plt.ylabel('Mean Squared Error')\n",
    "plt.title('MSE vs. Number of Features')\n",
    "plt.show()"
   ]
  },
  {
   "cell_type": "code",
   "execution_count": null,
   "id": "b3a75e60",
   "metadata": {},
   "outputs": [],
   "source": []
  }
 ],
 "metadata": {
  "kernelspec": {
   "display_name": "Python 3 (ipykernel)",
   "language": "python",
   "name": "python3"
  },
  "language_info": {
   "codemirror_mode": {
    "name": "ipython",
    "version": 3
   },
   "file_extension": ".py",
   "mimetype": "text/x-python",
   "name": "python",
   "nbconvert_exporter": "python",
   "pygments_lexer": "ipython3",
   "version": "3.11.2"
  },
  "toc": {
   "base_numbering": 1,
   "nav_menu": {},
   "number_sections": true,
   "sideBar": true,
   "skip_h1_title": false,
   "title_cell": "Table of Contents",
   "title_sidebar": "Contents",
   "toc_cell": false,
   "toc_position": {},
   "toc_section_display": true,
   "toc_window_display": false
  }
 },
 "nbformat": 4,
 "nbformat_minor": 5
}
