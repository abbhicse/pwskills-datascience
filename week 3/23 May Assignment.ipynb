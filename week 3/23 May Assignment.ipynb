{
 "cells": [
  {
   "cell_type": "markdown",
   "id": "887d8984",
   "metadata": {},
   "source": [
    "**Q1. Create a python program to sort the given list of tuples based on integer value using a lambda function.**\n",
    "\n",
    "`[('Sachin Tendulkar', 34357), ('Ricky Ponting', 27483), ('Jack Kallis', 25534), ('Virat Kohli', 24936)]`"
   ]
  },
  {
   "cell_type": "code",
   "execution_count": 1,
   "id": "102cef35",
   "metadata": {},
   "outputs": [
    {
     "name": "stdout",
     "output_type": "stream",
     "text": [
      "Given_List:  [('Sachin Tendulkar', 34357), ('Ricky Ponting', 27483), ('Jack Kallis', 25534), ('Virat Kohli', 24936)]\n",
      "\t\n",
      "Output_List:  [('Virat Kohli', 24936), ('Jack Kallis', 25534), ('Ricky Ponting', 27483), ('Sachin Tendulkar', 34357)]\n"
     ]
    }
   ],
   "source": [
    "# Sorting the given list of tuples based on integer value using a lambda function\n",
    "data = [('Sachin Tendulkar', 34357), ('Ricky Ponting', 27483), ('Jack Kallis', 25534), ('Virat Kohli', 24936)]\n",
    "\n",
    "sorted_data = sorted(data, key = lambda data: data[1])\n",
    "\n",
    "print(\"Given_List: \", data)\n",
    "print(\"\\t\")\n",
    "print(\"Output_List: \", sorted_data)"
   ]
  },
  {
   "cell_type": "markdown",
   "id": "2eb8df9e",
   "metadata": {},
   "source": [
    "This code `sorts` the `list of tuples` based on the `second element (integer value)` of each `tuple` using a `lambda function.` The `sorted()` function is used with the `key` parameter set to the `lambda` function, which extracts the `second` element of each `tuple(x[1]).` The resulting `sorted` list is then printed. Or we can also write like this:"
   ]
  },
  {
   "cell_type": "code",
   "execution_count": 2,
   "id": "19c582d3",
   "metadata": {},
   "outputs": [
    {
     "name": "stdout",
     "output_type": "stream",
     "text": [
      "Given_List:  [('Sachin Tendulkar', 34357), ('Ricky Ponting', 27483), ('Jack Kallis', 25534), ('Virat Kohli', 24936)]\n",
      "\t\n",
      "Output:  [('Virat Kohli', 24936), ('Jack Kallis', 25534), ('Ricky Ponting', 27483), ('Sachin Tendulkar', 34357)]\n"
     ]
    }
   ],
   "source": [
    "# Sorting the given list of tuples based on integer value using a lambda function\n",
    "data = [('Sachin Tendulkar', 34357), ('Ricky Ponting', 27483), ('Jack Kallis', 25534), ('Virat Kohli', 24936)]\n",
    "\n",
    "sorted_data = sorted(data, key = lambda x: x[1])\n",
    "\n",
    "print(\"Given_List: \", data)\n",
    "print(\"\\t\")\n",
    "print(\"Output: \", sorted_data)"
   ]
  },
  {
   "cell_type": "markdown",
   "id": "31e01858",
   "metadata": {},
   "source": [
    "**Q2. Write a Python Program to find the squares of all the numbers in the given list of integers using lambda and map functions.**\n",
    "\n",
    "`[1, 2, 3, 4, 5, 6, 7, 8, 9, 10]`"
   ]
  },
  {
   "cell_type": "code",
   "execution_count": 3,
   "id": "a6ba3dee",
   "metadata": {},
   "outputs": [
    {
     "name": "stdout",
     "output_type": "stream",
     "text": [
      "Given_List:  [1, 2, 3, 4, 5, 6, 7, 8, 9, 10]\n",
      "\t\n",
      "Output_List:  [1, 4, 9, 16, 25, 36, 49, 64, 81, 100]\n"
     ]
    }
   ],
   "source": [
    "numbers = [1, 2, 3, 4, 5, 6, 7, 8, 9, 10]\n",
    "\n",
    "squared_numbers = list(map(lambda x: x**2, numbers))\n",
    "\n",
    "print(\"Given_List: \", numbers)\n",
    "print(\"\\t\")\n",
    "print(\"Output_List: \", squared_numbers)"
   ]
  },
  {
   "cell_type": "markdown",
   "id": "840343aa",
   "metadata": {},
   "source": [
    "In the code above, the `map()` function is used with a `lambda` function to apply the `square operation (x**2`) to each `element` in the `numbers list.` The result is converted back to a `list` using the `list()` function, and then printed.\n",
    "\n",
    "This code will output the `squares` of all the numbers in the given list: `[1, 4, 9, 16, 25, 36, 49, 64, 81, 100].`"
   ]
  },
  {
   "cell_type": "markdown",
   "id": "971c7bf9",
   "metadata": {},
   "source": [
    "**Q3. Write a python program to convert the given list of integers into a tuple of strings. Use map and lambda functions**\n",
    "\n",
    "\n",
    "`Given String: [1, 2, 3, 4, 5, 6, 7, 8, 9, 10]`\n",
    "\n",
    "`Expected output: ('1', '2', '3', '4', '5', '6', '7', '8', '9', '10')`"
   ]
  },
  {
   "cell_type": "code",
   "execution_count": 4,
   "id": "d4a75353",
   "metadata": {},
   "outputs": [
    {
     "name": "stdout",
     "output_type": "stream",
     "text": [
      "Given_List:  [1, 2, 3, 4, 5, 6, 7, 8, 9, 10]\n",
      "\t\n",
      "Output:  ('1', '2', '3', '4', '5', '6', '7', '8', '9', '10')\n"
     ]
    }
   ],
   "source": [
    "given_list = [1, 2, 3, 4, 5, 6, 7, 8, 9, 10]\n",
    "\n",
    "tuple_of_strings = tuple(map(lambda x: str(x), given_list))\n",
    "\n",
    "print(\"Given_List: \", given_list)\n",
    "print(\"\\t\")\n",
    "print(\"Output: \", tuple_of_strings)"
   ]
  },
  {
   "cell_type": "markdown",
   "id": "d9ce5725",
   "metadata": {},
   "source": [
    "The code takes the given `list of integers` and uses the `map()` function with a `lambda` function to convert each `element` to a `string (str(x)).` The resulting `mapped values` are then converted into a `tuple` using the `tuple()` function. Finally, the `tuple of string` is printed."
   ]
  },
  {
   "cell_type": "markdown",
   "id": "44b9d5ee",
   "metadata": {},
   "source": [
    "**Q4. Write a python program using reduce function to compute the product of a list containing numbers from 1 to 25.**"
   ]
  },
  {
   "cell_type": "code",
   "execution_count": 5,
   "id": "0d6ee5f1",
   "metadata": {},
   "outputs": [
    {
     "name": "stdout",
     "output_type": "stream",
     "text": [
      "Given_List:  [1, 2, 3, 4, 5, 6, 7, 8, 9, 10, 11, 12, 13, 14, 15, 16, 17, 18, 19, 20, 21, 22, 23, 24, 25]\n",
      "\t\n",
      "Product_Output:  15511210043330985984000000\n"
     ]
    }
   ],
   "source": [
    "from functools import reduce\n",
    "\n",
    "# Create a list of numbers from 1 to 25\n",
    "numbers = list(range(1, 26))\n",
    "print(\"Given_List: \", numbers)\n",
    "print(\"\\t\")\n",
    "\n",
    "# Compute the product using the reduce() function\n",
    "product = reduce(lambda x, y: x * y, numbers)\n",
    "\n",
    "print(\"Product_Output: \", product)"
   ]
  },
  {
   "cell_type": "markdown",
   "id": "9d2eb7e2",
   "metadata": {},
   "source": [
    "This code `imports` the `reduce(`) function from the `functools module.` It creates a `list` of numbers from `1 to 25` using the `range()` function and `list()` function. Then, it uses the `reduce()` function with a `lambda` function to `multiply` each element in the `list` together, starting from the `left.` Finally, the `product` is printed."
   ]
  },
  {
   "cell_type": "markdown",
   "id": "a89073b0",
   "metadata": {},
   "source": [
    "**Q5. Write a python program to filter the numbers in a given list that are divisible by 2 and 3 using the filter function.**\n",
    "\n",
    "`[2, 3, 6, 9, 27, 60, 90, 120, 55, 46]`"
   ]
  },
  {
   "cell_type": "code",
   "execution_count": 6,
   "id": "92b87a67",
   "metadata": {},
   "outputs": [
    {
     "name": "stdout",
     "output_type": "stream",
     "text": [
      "Given_List:  [2, 3, 6, 9, 27, 60, 90, 120, 55, 46]\n",
      "\t\n",
      "Output_List:  [6, 60, 90, 120]\n"
     ]
    }
   ],
   "source": [
    "numbers = [2, 3, 6, 9, 27, 60, 90, 120, 55, 46]\n",
    "\n",
    "divisible_by_2_and_3 = list(filter(lambda x: x % 2 == 0 and x % 3 == 0, numbers))\n",
    "\n",
    "print(\"Given_List: \", numbers)\n",
    "print(\"\\t\")\n",
    "print(\"Output_List: \", divisible_by_2_and_3)"
   ]
  },
  {
   "cell_type": "markdown",
   "id": "e8296190",
   "metadata": {},
   "source": [
    "In this code, the given `list` of numbers is filtered using the `filter()` function with a `lambda` function. The `lambda` function checks if a `number` is `divisible` by both `2` and `3` using the `modulo operator (%).` The `filtered` numbers that satisfy the condition are stored in the `divisible_by_2_and_3` list, which is then printed."
   ]
  },
  {
   "cell_type": "markdown",
   "id": "768eb5c0",
   "metadata": {},
   "source": [
    "**Q6. Write a python program to find palindromes in the given list of strings using lambda and filter function.**\n",
    "\n",
    "`['python', 'php', 'aba', 'radar', 'level']`"
   ]
  },
  {
   "cell_type": "code",
   "execution_count": 7,
   "id": "4183c15d",
   "metadata": {},
   "outputs": [
    {
     "name": "stdout",
     "output_type": "stream",
     "text": [
      "Given_List:  ['python', 'php', 'aba', 'radar', 'level']\n",
      "\t\n",
      "Output_List:  ['php', 'aba', 'radar', 'level']\n"
     ]
    }
   ],
   "source": [
    "strings = ['python', 'php', 'aba', 'radar', 'level']\n",
    "\n",
    "palindromes = list(filter(lambda x: x == x[::-1], strings))\n",
    "\n",
    "print(\"Given_List: \", strings)\n",
    "print(\"\\t\")\n",
    "print(\"Output_List: \", palindromes)"
   ]
  },
  {
   "cell_type": "markdown",
   "id": "acae39fc",
   "metadata": {},
   "source": [
    "In the given code, a `list of strings` is provided. To find `palindromes` in the `list`, the `filter()` function is used with a `lambda` function. The `lambda` function checks if a string is `equal` to its `reversed version (x == x[::-1]).` The `filtered palindromes` are stored in the `palindromes list`, which is then printed."
   ]
  },
  {
   "cell_type": "code",
   "execution_count": null,
   "id": "4e9f1b19",
   "metadata": {},
   "outputs": [],
   "source": []
  }
 ],
 "metadata": {
  "kernelspec": {
   "display_name": "Python 3 (ipykernel)",
   "language": "python",
   "name": "python3"
  },
  "language_info": {
   "codemirror_mode": {
    "name": "ipython",
    "version": 3
   },
   "file_extension": ".py",
   "mimetype": "text/x-python",
   "name": "python",
   "nbconvert_exporter": "python",
   "pygments_lexer": "ipython3",
   "version": "3.9.12"
  },
  "toc": {
   "base_numbering": 1,
   "nav_menu": {},
   "number_sections": true,
   "sideBar": true,
   "skip_h1_title": false,
   "title_cell": "Table of Contents",
   "title_sidebar": "Contents",
   "toc_cell": false,
   "toc_position": {},
   "toc_section_display": true,
   "toc_window_display": false
  }
 },
 "nbformat": 4,
 "nbformat_minor": 5
}
