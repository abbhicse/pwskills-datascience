{
 "cells": [
  {
   "cell_type": "markdown",
   "id": "454a35f7",
   "metadata": {},
   "source": [
    "**Q1. Which keyword is used to create a function? Create a function to return a list of odd numbers in the\n",
    "range of 1 to 25.**"
   ]
  },
  {
   "cell_type": "markdown",
   "id": "36e38d7b",
   "metadata": {},
   "source": [
    "`def` keyword is used to create a function in python."
   ]
  },
  {
   "cell_type": "code",
   "execution_count": 1,
   "id": "0bb5483b",
   "metadata": {},
   "outputs": [],
   "source": [
    "def get_odd_numbers():\n",
    "    # create an empty list to store odd numbers\n",
    "    odd_numbers = []\n",
    "    for number in range(1, 26):\n",
    "        if number % 2 != 0:\n",
    "            odd_numbers.append(number)\n",
    "    return odd_numbers"
   ]
  },
  {
   "cell_type": "code",
   "execution_count": 2,
   "id": "419c4eb0",
   "metadata": {},
   "outputs": [
    {
     "name": "stdout",
     "output_type": "stream",
     "text": [
      "[1, 3, 5, 7, 9, 11, 13, 15, 17, 19, 21, 23, 25]\n"
     ]
    }
   ],
   "source": [
    "# Call the function to get the list of odd numbers\n",
    "odd_numbers_list = get_odd_numbers()\n",
    "print(odd_numbers_list)"
   ]
  },
  {
   "cell_type": "markdown",
   "id": "37c57c50",
   "metadata": {},
   "source": [
    "Q2. Why `*args` and `**kwargs` is used in some functions? Create a function each for `*args` and `**kwargs` to demonstrate their use."
   ]
  },
  {
   "cell_type": "markdown",
   "id": "14b57297",
   "metadata": {},
   "source": [
    "`*args` and `**kwargs` are used in Python functions to handle `variable-length` arguments.\n",
    "\n",
    "`*args` is used to pass a `variable` number of `non-keyword` arguments to a `function.` It allows you to pass any number of `positional` arguments, and the `function` treats them as a `tuple.`\n",
    "\n",
    "Here's an example function that demonstrates the use of `*args:`"
   ]
  },
  {
   "cell_type": "code",
   "execution_count": 3,
   "id": "5dd669b8",
   "metadata": {},
   "outputs": [
    {
     "name": "stdout",
     "output_type": "stream",
     "text": [
      "1 <class 'tuple'>\n",
      "2 <class 'tuple'>\n",
      "3 <class 'tuple'>\n",
      "4 <class 'tuple'>\n",
      "5 <class 'tuple'>\n"
     ]
    }
   ],
   "source": [
    "def print_args(*args):\n",
    "    for arg in args:\n",
    "        print(arg, type(args))\n",
    "\n",
    "# Call the function with multiple arguments\n",
    "print_args(1, 2, 3, 4, 5)"
   ]
  },
  {
   "cell_type": "markdown",
   "id": "0b2a9935",
   "metadata": {},
   "source": [
    "`**kwargs` is used to pass a `variable` number of `keyword arguments` to a `function.` It allows you to pass any number of `keyword arguments`, and the `function` treats them as a `dictionary.`\n",
    "\n",
    "Here's an example function that demonstrates the use of `**kwargs:`"
   ]
  },
  {
   "cell_type": "code",
   "execution_count": 4,
   "id": "f234fbe8",
   "metadata": {},
   "outputs": [
    {
     "name": "stdout",
     "output_type": "stream",
     "text": [
      "name = John <class 'dict_items'>\n",
      "age = 25 <class 'dict_items'>\n",
      "city = New York <class 'dict_items'>\n"
     ]
    }
   ],
   "source": [
    "def print_kwargs(**kwargs):\n",
    "    for key, value in kwargs.items():\n",
    "        print(key, \"=\", value, type(kwargs.items()))\n",
    "\n",
    "# Call the function with multiple keyword arguments\n",
    "print_kwargs(name=\"John\", age=25, city=\"New York\")"
   ]
  },
  {
   "cell_type": "markdown",
   "id": "2b054f93",
   "metadata": {},
   "source": [
    "**Q3. What is an iterator in python? Name the method used to initialise the iterator object and the method used for iteration. Use these methods to print the first five elements of the given list [2, 4, 6, 8, 10, 12, 14,16, 18, 20].**"
   ]
  },
  {
   "cell_type": "markdown",
   "id": "034539e2",
   "metadata": {},
   "source": [
    "In Python, an `iterator` is an object that implements the `iterator` protocol, which consists of the `__iter__()` and `__next__()` methods.\n",
    "\n",
    "- The `__iter__()` method returns the `iterator` object itself.\n",
    "- The `__next__()` method returns the `next element` from the `iterator.`"
   ]
  },
  {
   "cell_type": "code",
   "execution_count": 5,
   "id": "6ded7d7b",
   "metadata": {},
   "outputs": [
    {
     "name": "stdout",
     "output_type": "stream",
     "text": [
      "2\n",
      "4\n",
      "6\n",
      "8\n",
      "10\n"
     ]
    }
   ],
   "source": [
    "# Define the list\n",
    "my_list = [2, 4, 6, 8, 10, 12, 14, 16, 18, 20]\n",
    "\n",
    "# Initialize the iterator object\n",
    "my_iterator = iter(my_list)\n",
    "\n",
    "# Print the first five elements\n",
    "for i in range(5):\n",
    "    element = next(my_iterator)\n",
    "    print(element)\n"
   ]
  },
  {
   "cell_type": "markdown",
   "id": "2e391a12",
   "metadata": {},
   "source": [
    "This code initializes the `iterator` object using `iter(my_list).` Then, in the `for loop`, we use `next(my_iterator)` to retrieve the `next` element from the `iterator` and `print` it. The `loop` runs `five` times to print the `first five` elements of the `list.`"
   ]
  },
  {
   "cell_type": "markdown",
   "id": "6f616627",
   "metadata": {},
   "source": [
    "**Q4. What is a generator function in python? Why yield keyword is used? Give an example of a generator function.**"
   ]
  },
  {
   "cell_type": "markdown",
   "id": "fa9db6db",
   "metadata": {},
   "source": [
    "In Python, a `generator` function is a special type of function that generates a sequence of values using the` yield` keyword. The `yield` keyword is used to `pause` the `function` and return a value to the `caller.` It allows the `function` to retain its `state` and `resume` execution from where it left off when `next()` is called on the `generator object.`"
   ]
  },
  {
   "cell_type": "code",
   "execution_count": 6,
   "id": "7882ccb1",
   "metadata": {},
   "outputs": [
    {
     "name": "stdout",
     "output_type": "stream",
     "text": [
      "1\n",
      "8\n",
      "27\n",
      "64\n",
      "125\n"
     ]
    }
   ],
   "source": [
    "def generator_function():\n",
    "    x = 1\n",
    "    while True:\n",
    "        num = x ** 3\n",
    "        yield num\n",
    "        x += 1\n",
    "\n",
    "# Create a generator object\n",
    "my_generator = generator_function()\n",
    "\n",
    "# Print the first five elements\n",
    "for i in range(5):\n",
    "    element = next(my_generator)\n",
    "    print(element)\n"
   ]
  },
  {
   "cell_type": "markdown",
   "id": "db02f9dc",
   "metadata": {},
   "source": [
    "In the example above, we define a `generator` function `generator_function()` that `yields` the `cube` values of the numbers from `1` to `5.` We create a `generator` object `my_generator` by calling the `generator` function. Then, in the for `loop`, we use `next()` to retrieve the `next` value from the `generator` and print it."
   ]
  },
  {
   "cell_type": "markdown",
   "id": "9a70e3d2",
   "metadata": {},
   "source": [
    "**Q5. Create a generator function for prime numbers less than 1000. Use the next() method to print the first 20 prime numbers.**"
   ]
  },
  {
   "cell_type": "markdown",
   "id": "a1ce5a5a",
   "metadata": {},
   "source": [
    "Use a separate `function` to check if a `number` is `prime.` This will make your code more `modular` and easier to understand. You can call this `function` within your `generator function` to determine if a `number` is `prime` or not."
   ]
  },
  {
   "cell_type": "code",
   "execution_count": 7,
   "id": "f943058f",
   "metadata": {},
   "outputs": [],
   "source": [
    "def is_prime(number):\n",
    "    if number < 2:\n",
    "        return False\n",
    "    for i in range(2, int(number ** 0.5) + 1):\n",
    "        if number % i == 0:\n",
    "            return False\n",
    "    return True"
   ]
  },
  {
   "cell_type": "markdown",
   "id": "1642f0d7",
   "metadata": {},
   "source": [
    "Modify your `generator` function to `generate` `prime` numbers less than `1000.` You can use a `while loop` and yield the `prime numbers` one by one."
   ]
  },
  {
   "cell_type": "code",
   "execution_count": 8,
   "id": "c977f412",
   "metadata": {},
   "outputs": [],
   "source": [
    "def prime_generator():\n",
    "    number = 2\n",
    "    count = 0\n",
    "    while number < 1000:\n",
    "        if is_prime(number):\n",
    "            yield number\n",
    "            count += 1\n",
    "        number += 1\n",
    "    print(\"Total Prime Numbers Less Than 1000: \", count)    "
   ]
  },
  {
   "cell_type": "markdown",
   "id": "48e9d59f",
   "metadata": {},
   "source": [
    "Create a generator object and use the next() method to print the first 20 prime numbers."
   ]
  },
  {
   "cell_type": "code",
   "execution_count": 9,
   "id": "ec398a15",
   "metadata": {},
   "outputs": [
    {
     "name": "stdout",
     "output_type": "stream",
     "text": [
      "2\n",
      "3\n",
      "5\n",
      "7\n",
      "11\n",
      "13\n",
      "17\n",
      "19\n",
      "23\n",
      "29\n",
      "31\n",
      "37\n",
      "41\n",
      "43\n",
      "47\n",
      "53\n",
      "59\n",
      "61\n",
      "67\n",
      "71\n"
     ]
    }
   ],
   "source": [
    "my_generator = prime_generator()\n",
    "\n",
    "for i in range(20):\n",
    "    prime_number = next(my_generator)\n",
    "    print(prime_number)"
   ]
  },
  {
   "cell_type": "markdown",
   "id": "a63f128f",
   "metadata": {},
   "source": [
    "How many total `prime` numbers exist less than `1000` ?"
   ]
  },
  {
   "cell_type": "code",
   "execution_count": 10,
   "id": "dfbad2d3",
   "metadata": {},
   "outputs": [
    {
     "name": "stdout",
     "output_type": "stream",
     "text": [
      "2\n",
      "3\n",
      "5\n",
      "7\n",
      "11\n",
      "13\n",
      "17\n",
      "19\n",
      "23\n",
      "29\n",
      "31\n",
      "37\n",
      "41\n",
      "43\n",
      "47\n",
      "53\n",
      "59\n",
      "61\n",
      "67\n",
      "71\n",
      "73\n",
      "79\n",
      "83\n",
      "89\n",
      "97\n",
      "101\n",
      "103\n",
      "107\n",
      "109\n",
      "113\n",
      "127\n",
      "131\n",
      "137\n",
      "139\n",
      "149\n",
      "151\n",
      "157\n",
      "163\n",
      "167\n",
      "173\n",
      "179\n",
      "181\n",
      "191\n",
      "193\n",
      "197\n",
      "199\n",
      "211\n",
      "223\n",
      "227\n",
      "229\n",
      "233\n",
      "239\n",
      "241\n",
      "251\n",
      "257\n",
      "263\n",
      "269\n",
      "271\n",
      "277\n",
      "281\n",
      "283\n",
      "293\n",
      "307\n",
      "311\n",
      "313\n",
      "317\n",
      "331\n",
      "337\n",
      "347\n",
      "349\n",
      "353\n",
      "359\n",
      "367\n",
      "373\n",
      "379\n",
      "383\n",
      "389\n",
      "397\n",
      "401\n",
      "409\n",
      "419\n",
      "421\n",
      "431\n",
      "433\n",
      "439\n",
      "443\n",
      "449\n",
      "457\n",
      "461\n",
      "463\n",
      "467\n",
      "479\n",
      "487\n",
      "491\n",
      "499\n",
      "503\n",
      "509\n",
      "521\n",
      "523\n",
      "541\n",
      "547\n",
      "557\n",
      "563\n",
      "569\n",
      "571\n",
      "577\n",
      "587\n",
      "593\n",
      "599\n",
      "601\n",
      "607\n",
      "613\n",
      "617\n",
      "619\n",
      "631\n",
      "641\n",
      "643\n",
      "647\n",
      "653\n",
      "659\n",
      "661\n",
      "673\n",
      "677\n",
      "683\n",
      "691\n",
      "701\n",
      "709\n",
      "719\n",
      "727\n",
      "733\n",
      "739\n",
      "743\n",
      "751\n",
      "757\n",
      "761\n",
      "769\n",
      "773\n",
      "787\n",
      "797\n",
      "809\n",
      "811\n",
      "821\n",
      "823\n",
      "827\n",
      "829\n",
      "839\n",
      "853\n",
      "857\n",
      "859\n",
      "863\n",
      "877\n",
      "881\n",
      "883\n",
      "887\n",
      "907\n",
      "911\n",
      "919\n",
      "929\n",
      "937\n",
      "941\n",
      "947\n",
      "953\n",
      "967\n",
      "971\n",
      "977\n",
      "983\n",
      "991\n",
      "997\n",
      "Total Prime Numbers Less Than 1000:  168\n"
     ]
    },
    {
     "ename": "StopIteration",
     "evalue": "",
     "output_type": "error",
     "traceback": [
      "\u001b[1;31m---------------------------------------------------------------------------\u001b[0m",
      "\u001b[1;31mStopIteration\u001b[0m                             Traceback (most recent call last)",
      "Input \u001b[1;32mIn [10]\u001b[0m, in \u001b[0;36m<cell line: 3>\u001b[1;34m()\u001b[0m\n\u001b[0;32m      1\u001b[0m my_generator \u001b[38;5;241m=\u001b[39m prime_generator()\n\u001b[0;32m      3\u001b[0m \u001b[38;5;28;01mfor\u001b[39;00m i \u001b[38;5;129;01min\u001b[39;00m \u001b[38;5;28mrange\u001b[39m(\u001b[38;5;241m169\u001b[39m):\n\u001b[1;32m----> 4\u001b[0m     prime_number \u001b[38;5;241m=\u001b[39m \u001b[38;5;28;43mnext\u001b[39;49m\u001b[43m(\u001b[49m\u001b[43mmy_generator\u001b[49m\u001b[43m)\u001b[49m\n\u001b[0;32m      5\u001b[0m     \u001b[38;5;28mprint\u001b[39m(prime_number)\n",
      "\u001b[1;31mStopIteration\u001b[0m: "
     ]
    }
   ],
   "source": [
    "my_generator = prime_generator()\n",
    "\n",
    "for i in range(169):\n",
    "    prime_number = next(my_generator)\n",
    "    print(prime_number)"
   ]
  },
  {
   "cell_type": "markdown",
   "id": "5ea08ea4",
   "metadata": {},
   "source": [
    "**Q6. Write a python program to print the first 10 Fibonacci numbers using a while loop.**"
   ]
  },
  {
   "cell_type": "code",
   "execution_count": 11,
   "id": "322d0fb1",
   "metadata": {},
   "outputs": [
    {
     "name": "stdout",
     "output_type": "stream",
     "text": [
      "0\n",
      "1\n",
      "1\n",
      "2\n",
      "3\n",
      "5\n",
      "8\n",
      "13\n",
      "21\n",
      "34\n"
     ]
    }
   ],
   "source": [
    "# Initialize variables for the first two Fibonacci numbers\n",
    "fibonacci_1 = 0\n",
    "fibonacci_2 = 1\n",
    "\n",
    "# Print the first two Fibonacci numbers\n",
    "print(fibonacci_1)\n",
    "print(fibonacci_2)\n",
    "\n",
    "# Use a while loop to generate and print the next 8 Fibonacci numbers\n",
    "count = 2\n",
    "while count < 10:\n",
    "    fibonacci_next = fibonacci_1 + fibonacci_2\n",
    "    print(fibonacci_next)\n",
    "    fibonacci_1 = fibonacci_2\n",
    "    fibonacci_2 = fibonacci_next\n",
    "    count += 1\n"
   ]
  },
  {
   "cell_type": "markdown",
   "id": "84f8d432",
   "metadata": {},
   "source": [
    "**Q7. Write a List Comprehension to iterate through the given string: ‘pwskills’.\n",
    "Expected output: ['p', 'w', 's', 'k', 'i', 'l', 'l', 's']**"
   ]
  },
  {
   "cell_type": "markdown",
   "id": "bdd69130",
   "metadata": {},
   "source": [
    "List comprehension is a concise way to create lists in Python. It allows you to combine a for loop, an optional if statement, and an expression to generate a new list based on an existing one or other iterables.\n",
    "\n",
    "The basic syntax for list comprehension is as follows:\n",
    "\n",
    "```python\n",
    "new_list = [expression for item in iterable if condition]\n",
    "```"
   ]
  },
  {
   "cell_type": "markdown",
   "id": "3961567c",
   "metadata": {},
   "source": [
    "Here's a breakdown of the components:\n",
    "\n",
    "- `expression:` The `expression` that is evaluated for each item in the `iterable.`\n",
    "- `item:` A variable that represents each element in the `iterable.`\n",
    "- `iterable:` An `iterable object (e.g., a list, tuple, or string)` that you want to `iterate` over.\n",
    "- `condition (optional):` An `optional condition` that `filters` the elements. Only `elements` that satisfy the `condition` will be included in the `new list.`"
   ]
  },
  {
   "cell_type": "code",
   "execution_count": 12,
   "id": "50d88fb5",
   "metadata": {},
   "outputs": [
    {
     "name": "stdout",
     "output_type": "stream",
     "text": [
      "['p', 'w', 's', 'k', 'i', 'l', 'l', 's']\n"
     ]
    }
   ],
   "source": [
    "string = 'pwskills'\n",
    "result = [char for char in string]\n",
    "print(result)     "
   ]
  },
  {
   "cell_type": "markdown",
   "id": "1e8227ce",
   "metadata": {},
   "source": [
    "**Q8. Write a python program to check whether a given number is Palindrome or not using a while loop.**"
   ]
  },
  {
   "cell_type": "code",
   "execution_count": 13,
   "id": "f6b8f226",
   "metadata": {},
   "outputs": [],
   "source": [
    "def is_palindrome(number):\n",
    "    temp = number\n",
    "    reverse = 0\n",
    "\n",
    "    while temp > 0:\n",
    "        remainder = temp % 10\n",
    "        reverse = reverse * 10 + remainder\n",
    "        temp = temp // 10\n",
    "\n",
    "    if number == reverse:\n",
    "        return True\n",
    "    else:\n",
    "        return False"
   ]
  },
  {
   "cell_type": "code",
   "execution_count": 14,
   "id": "d16098f4",
   "metadata": {},
   "outputs": [
    {
     "name": "stdout",
     "output_type": "stream",
     "text": [
      "Enter a number: 4664\n",
      "4664 is a palindrome.\n"
     ]
    }
   ],
   "source": [
    "# Test the function\n",
    "number = int(input(\"Enter a number: \"))\n",
    "\n",
    "if is_palindrome(number):\n",
    "    print(number, \"is a palindrome.\")\n",
    "else:\n",
    "    print(number, \"is not a palindrome.\")"
   ]
  },
  {
   "cell_type": "markdown",
   "id": "40feec75",
   "metadata": {},
   "source": [
    "**Q9. Write a code to print odd numbers from 1 to 100 using list comprehension.**\n",
    "\n",
    "`Note: Use a list comprehension to create a list from 1 to 100 and use another List comprehension to filter out odd numbers.`"
   ]
  },
  {
   "cell_type": "markdown",
   "id": "9f96004e",
   "metadata": {},
   "source": [
    "There are `two` ways to do that. `First` one is:"
   ]
  },
  {
   "cell_type": "code",
   "execution_count": 15,
   "id": "b572ab76",
   "metadata": {},
   "outputs": [
    {
     "name": "stdout",
     "output_type": "stream",
     "text": [
      "[1, 2, 3, 4, 5, 6, 7, 8, 9, 10, 11, 12, 13, 14, 15, 16, 17, 18, 19, 20, 21, 22, 23, 24, 25, 26, 27, 28, 29, 30, 31, 32, 33, 34, 35, 36, 37, 38, 39, 40, 41, 42, 43, 44, 45, 46, 47, 48, 49, 50, 51, 52, 53, 54, 55, 56, 57, 58, 59, 60, 61, 62, 63, 64, 65, 66, 67, 68, 69, 70, 71, 72, 73, 74, 75, 76, 77, 78, 79, 80, 81, 82, 83, 84, 85, 86, 87, 88, 89, 90, 91, 92, 93, 94, 95, 96, 97, 98, 99, 100]\n",
      "\t\n",
      "[1, 3, 5, 7, 9, 11, 13, 15, 17, 19, 21, 23, 25, 27, 29, 31, 33, 35, 37, 39, 41, 43, 45, 47, 49, 51, 53, 55, 57, 59, 61, 63, 65, 67, 69, 71, 73, 75, 77, 79, 81, 83, 85, 87, 89, 91, 93, 95, 97, 99]\n"
     ]
    }
   ],
   "source": [
    "numbers = [num for num in range(1, 101)]\n",
    "print(numbers)\n",
    "print(\"\\t\")\n",
    "odd_numbers = [num for num in numbers if num % 2 != 0]\n",
    "print(odd_numbers)"
   ]
  },
  {
   "cell_type": "markdown",
   "id": "9f5c6f90",
   "metadata": {},
   "source": [
    "This code uses a `list comprehension` to create a `list` of numbers from `1` to `100`, and then `filters` out the `even` numbers using another `list comprehension`. The resulting `list` contains only the `odd numbers` from `1` to `100.`\n",
    "\n",
    "`Second way` to do the same thing:"
   ]
  },
  {
   "cell_type": "code",
   "execution_count": 16,
   "id": "e531ede4",
   "metadata": {},
   "outputs": [
    {
     "name": "stdout",
     "output_type": "stream",
     "text": [
      "[1, 3, 5, 7, 9, 11, 13, 15, 17, 19, 21, 23, 25, 27, 29, 31, 33, 35, 37, 39, 41, 43, 45, 47, 49, 51, 53, 55, 57, 59, 61, 63, 65, 67, 69, 71, 73, 75, 77, 79, 81, 83, 85, 87, 89, 91, 93, 95, 97, 99]\n"
     ]
    }
   ],
   "source": [
    "odd_numbers = [num for num in range(1, 101) if num % 2 != 0]\n",
    "print(odd_numbers)"
   ]
  },
  {
   "cell_type": "code",
   "execution_count": null,
   "id": "bbc202cb",
   "metadata": {},
   "outputs": [],
   "source": []
  }
 ],
 "metadata": {
  "kernelspec": {
   "display_name": "Python 3 (ipykernel)",
   "language": "python",
   "name": "python3"
  },
  "language_info": {
   "codemirror_mode": {
    "name": "ipython",
    "version": 3
   },
   "file_extension": ".py",
   "mimetype": "text/x-python",
   "name": "python",
   "nbconvert_exporter": "python",
   "pygments_lexer": "ipython3",
   "version": "3.9.12"
  },
  "toc": {
   "base_numbering": 1,
   "nav_menu": {},
   "number_sections": true,
   "sideBar": true,
   "skip_h1_title": false,
   "title_cell": "Table of Contents",
   "title_sidebar": "Contents",
   "toc_cell": false,
   "toc_position": {},
   "toc_section_display": true,
   "toc_window_display": false
  }
 },
 "nbformat": 4,
 "nbformat_minor": 5
}
