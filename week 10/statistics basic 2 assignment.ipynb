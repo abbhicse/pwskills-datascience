{
 "cells": [
  {
   "cell_type": "markdown",
   "id": "c5a7d423",
   "metadata": {},
   "source": [
    "**Q1. What are the three measures of central tendency?**"
   ]
  },
  {
   "cell_type": "markdown",
   "id": "244984b6",
   "metadata": {},
   "source": [
    "`The three measures of central tendency are:`\n",
    "- Mean\n",
    "- Median\n",
    "- Mode"
   ]
  },
  {
   "cell_type": "markdown",
   "id": "7620085e",
   "metadata": {},
   "source": [
    "**Q2. What is the difference between the mean, median, and mode? How are they used to measure the central tendency of a dataset?**"
   ]
  },
  {
   "cell_type": "markdown",
   "id": "8517ebcd",
   "metadata": {},
   "source": [
    "- **Mean:** The mean, also known as the average, is calculated by summing up all the values in a dataset and then dividing by the total number of values. It provides a measure of the center of the data, balancing the contributions of all values.\n",
    "\n",
    "- **Median:** The median is the middle value in a dataset when it's ordered. If there's an even number of data points, the median is the average of the two middle values. It's a robust measure that's not affected by extreme outliers.\n",
    "\n",
    "- **Mode:** The mode is the value that appears most frequently in a dataset. It identifies the most common value and can be used for categorical or discrete data.\n",
    "\n",
    "These measures help to describe the central tendency of a dataset, providing insight into the typical or representative value. The mean is sensitive to outliers, the median is robust to outliers, and the mode is suitable for identifying the most frequent category or value.\n"
   ]
  },
  {
   "cell_type": "code",
   "execution_count": 1,
   "id": "40bc31f3",
   "metadata": {},
   "outputs": [
    {
     "name": "stdout",
     "output_type": "stream",
     "text": [
      "mean_symmetric: 20.285714285714285\n",
      "median_symmetric: 22.0\n",
      "mean_skewed: 42.75\n",
      "median_skewed: 23.5\n"
     ]
    }
   ],
   "source": [
    "# Explanation of the effect of outliers on mean and median in skewed distributed data\n",
    "\n",
    "import numpy as np\n",
    "\n",
    "# First take a symetric distribution\n",
    "symmetric_data = [5, 10, 15, 22, 25, 30,35]\n",
    "# Let's create an example dataset with extreme outliers\n",
    "skewed_data = [5, 10, 15, 22, 25, 30,35, 200]  # Extreme outlier is 200\n",
    "\n",
    "# Calculate the mean and median\n",
    "mean_symmetric = np.mean(symmetric_data)\n",
    "median_symmetric = np.median(symmetric_data)\n",
    "mean_skewed = np.mean(skewed_data)\n",
    "median_skewed = np.median(skewed_data)\n",
    "\n",
    "# The mean is affected by extreme outliers\n",
    "# The mean is significantly higher due to the extreme outlier (200).\n",
    "\n",
    "# The median is not affected by extreme outliers\n",
    "# It remains close to the central tendency or median of the non-outlier data points.\n",
    "\n",
    "# In skewed distributed data, the mean is sensitive to extreme values\n",
    "# and can be pulled towards them, while the median remains robust and\n",
    "# represents the central value of the majority of the data.\n",
    "\n",
    "print(f\"mean_symmetric: {mean_symmetric}\")\n",
    "print(f\"median_symmetric: {median_symmetric}\")\n",
    "print(f\"mean_skewed: {mean_skewed}\")\n",
    "print(f\"median_skewed: {median_skewed}\")\n"
   ]
  },
  {
   "cell_type": "markdown",
   "id": "7a184434",
   "metadata": {},
   "source": [
    "**Q3. Measure the three measures of central tendency for the given height data:**\n",
    "\n",
    "[178,177,176,177,178.2,178,175,179,180,175,178.9,176.2,177,172.5,178,176.5]"
   ]
  },
  {
   "cell_type": "code",
   "execution_count": 2,
   "id": "b7acbdc5",
   "metadata": {},
   "outputs": [
    {
     "name": "stdout",
     "output_type": "stream",
     "text": [
      "Mean: 177.01875, Median: 177.0, Mode: 178\n"
     ]
    }
   ],
   "source": [
    "import statistics\n",
    "\n",
    "height_data = [178, 177, 176, 177, 178.2, 178, 175, 179, 180, 175, 178.9, 176.2, 177, 172.5, 178, 176.5]\n",
    "\n",
    "mean_height = statistics.mean(height_data)\n",
    "median_height = statistics.median(height_data)\n",
    "mode_height = statistics.mode(height_data)\n",
    "\n",
    "print(f\"Mean: {mean_height}, Median: {median_height}, Mode: {mode_height}\")"
   ]
  },
  {
   "cell_type": "markdown",
   "id": "d9d72a62",
   "metadata": {},
   "source": [
    "**Q4. Find the standard deviation for the given data:**\n",
    "\n",
    "[178,177,176,177,178.2,178,175,179,180,175,178.9,176.2,177,172.5,178,176.5]"
   ]
  },
  {
   "cell_type": "code",
   "execution_count": 3,
   "id": "3590dd84",
   "metadata": {},
   "outputs": [
    {
     "name": "stdout",
     "output_type": "stream",
     "text": [
      "Standard Deviation: 1.8472389305844188\n"
     ]
    }
   ],
   "source": [
    "import statistics\n",
    "\n",
    "height_data = [178, 177, 176, 177, 178.2, 178, 175, 179, 180, 175, 178.9, 176.2, 177, 172.5, 178, 176.5]\n",
    "\n",
    "standard_deviation = statistics.stdev(height_data)\n",
    "\n",
    "print(f\"Standard Deviation: {standard_deviation}\")"
   ]
  },
  {
   "cell_type": "markdown",
   "id": "c58a0ae9",
   "metadata": {},
   "source": [
    "**Q5. How are measures of dispersion such as range, variance, and standard deviation used to describe the spread of a dataset? Provide an example.**"
   ]
  },
  {
   "cell_type": "code",
   "execution_count": 4,
   "id": "80f3445a",
   "metadata": {},
   "outputs": [
    {
     "name": "stdout",
     "output_type": "stream",
     "text": [
      "Data Range: 20\n",
      "Data Variance: 50.0\n",
      "Data Standard Deviation: 7.0710678118654755\n"
     ]
    }
   ],
   "source": [
    "# Explanation of measures of dispersion: range, variance, and standard deviation\n",
    "\n",
    "import numpy as np\n",
    "\n",
    "# Let's take a dataset as an example\n",
    "data = [10, 15, 20, 25, 30]\n",
    "\n",
    "# Calculate the range\n",
    "# the difference between the maximum and minimum values\n",
    "data_range = np.ptp(data)  # ptp() calculates the range\n",
    "# Calculate the variance\n",
    "# the spread or dispersion of data points from the mean.\n",
    "# It quantifies how much individual data points deviate from the average.\n",
    "data_variance = np.var(data)\n",
    "# Calculate the standard deviation\n",
    "# the square root of the variance \n",
    "# and provides a measure of how spread out the data is\n",
    "data_std_deviation = np.std(data)\n",
    "\n",
    "print(f\"Data Range: {data_range}\")\n",
    "print(f\"Data Variance: {data_variance}\")\n",
    "print(f\"Data Standard Deviation: {data_std_deviation}\")"
   ]
  },
  {
   "cell_type": "markdown",
   "id": "6e80befc",
   "metadata": {},
   "source": [
    "**Q6. What is a Venn diagram?** "
   ]
  },
  {
   "cell_type": "markdown",
   "id": "c9f14bf3",
   "metadata": {},
   "source": [
    "A `Venn diagram` is a graphical representation that illustrates the relationships and commonalities between different sets. It consists of `overlapping circles`, each representing a `set`, and the areas where the circles intersect show the elements that are common to those sets. The `non-overlapping` parts of the circles represent the elements `unique` to each set. `Venn diagrams` are often used to compare and contrast sets, analyze data, and visualize the intersection and union of various groups or categories."
   ]
  },
  {
   "cell_type": "code",
   "execution_count": 5,
   "id": "97dfa172",
   "metadata": {},
   "outputs": [
    {
     "name": "stdout",
     "output_type": "stream",
     "text": [
      "Requirement already satisfied: matplotlib-venn in c:\\users\\lenovo\\anaconda3\\lib\\site-packages (0.11.9)\n",
      "Requirement already satisfied: matplotlib in c:\\users\\lenovo\\appdata\\roaming\\python\\python311\\site-packages (from matplotlib-venn) (3.7.0)\n",
      "Requirement already satisfied: numpy in c:\\users\\lenovo\\appdata\\roaming\\python\\python311\\site-packages (from matplotlib-venn) (1.24.2)\n",
      "Requirement already satisfied: scipy in c:\\users\\lenovo\\anaconda3\\lib\\site-packages (from matplotlib-venn) (1.10.1)\n",
      "Requirement already satisfied: contourpy>=1.0.1 in c:\\users\\lenovo\\appdata\\roaming\\python\\python311\\site-packages (from matplotlib->matplotlib-venn) (1.0.7)\n",
      "Requirement already satisfied: cycler>=0.10 in c:\\users\\lenovo\\appdata\\roaming\\python\\python311\\site-packages (from matplotlib->matplotlib-venn) (0.11.0)\n",
      "Requirement already satisfied: fonttools>=4.22.0 in c:\\users\\lenovo\\appdata\\roaming\\python\\python311\\site-packages (from matplotlib->matplotlib-venn) (4.38.0)\n",
      "Requirement already satisfied: kiwisolver>=1.0.1 in c:\\users\\lenovo\\appdata\\roaming\\python\\python311\\site-packages (from matplotlib->matplotlib-venn) (1.4.4)\n",
      "Requirement already satisfied: packaging>=20.0 in c:\\users\\lenovo\\appdata\\roaming\\python\\python311\\site-packages (from matplotlib->matplotlib-venn) (23.0)\n",
      "Requirement already satisfied: pillow>=6.2.0 in c:\\users\\lenovo\\appdata\\roaming\\python\\python311\\site-packages (from matplotlib->matplotlib-venn) (9.4.0)\n",
      "Requirement already satisfied: pyparsing>=2.3.1 in c:\\users\\lenovo\\appdata\\roaming\\python\\python311\\site-packages (from matplotlib->matplotlib-venn) (3.0.9)\n",
      "Requirement already satisfied: python-dateutil>=2.7 in c:\\users\\lenovo\\appdata\\roaming\\python\\python311\\site-packages (from matplotlib->matplotlib-venn) (2.8.2)\n",
      "Requirement already satisfied: six>=1.5 in c:\\users\\lenovo\\anaconda3\\lib\\site-packages (from python-dateutil>=2.7->matplotlib->matplotlib-venn) (1.16.0)\n"
     ]
    }
   ],
   "source": [
    "!pip install matplotlib-venn"
   ]
  },
  {
   "cell_type": "markdown",
   "id": "1a249533",
   "metadata": {},
   "source": [
    "**Q7. For the two given sets A = (2,3,4,5,6,7) & B = (0,2,6,8,10). Find:**\n",
    "\n",
    "(i) A union B\n",
    "\n",
    "(ii) A intersection B"
   ]
  },
  {
   "cell_type": "code",
   "execution_count": 6,
   "id": "04adcb5f",
   "metadata": {},
   "outputs": [
    {
     "data": {
      "image/png": "[encoded data removed]",
      "text/plain": [
       "<Figure size 640x480 with 1 Axes>"
      ]
     },
     "metadata": {},
     "output_type": "display_data"
    },
    {
     "name": "stdout",
     "output_type": "stream",
     "text": [
      "Union:  {0, 2, 3, 4, 5, 6, 7, 8, 10}\n",
      "Differences between two sets:\n",
      "Set A - Set B:  {3, 4, 5, 7}\n",
      "Set B - Set A:  {0, 8, 10}\n",
      "Intersection:  {2, 6}\n",
      "Set A is a subset of Set B:  False\n",
      "Set A is a superset of Set B:  False\n"
     ]
    }
   ],
   "source": [
    "import matplotlib.pyplot as plt\n",
    "from matplotlib_venn import venn2\n",
    "\n",
    "# Data for the Venn diagram\n",
    "setA = {2, 3, 4, 5, 6, 7}\n",
    "setB = {0, 2, 6, 8, 10}\n",
    "\n",
    "# Create Venn diagram\n",
    "venn = venn2([setA, setB], set_labels=('Set A', 'Set B'))\n",
    "\n",
    "# Set labels for the individual sets\n",
    "venn.get_label_by_id('10').set_text('\\n'.join(map(str, setA - setB)))  # Set A - Set B\n",
    "venn.get_label_by_id('01').set_text('\\n'.join(map(str, setB - setA)))  # Set B - Set A\n",
    "venn.get_label_by_id('11').set_text('\\n'.join(map(str, setA & setB)))  # Intersection\n",
    "\n",
    "# Union, Difference, Superset, and Subset operations\n",
    "union = setA.union(setB)\n",
    "difference1 = setA.difference(setB)\n",
    "difference2 = setB.difference(setA)\n",
    "intersection = setA.intersection(setB)\n",
    "is_subset = setA.issubset(setB)\n",
    "is_superset = setA.issuperset(setB)\n",
    "\n",
    "# Display the diagram\n",
    "plt.title(\"Venn Diagram with Set Operations\")\n",
    "plt.show()\n",
    "\n",
    "# Print the results\n",
    "print(\"Union: \", union)\n",
    "print(\"Differences between two sets:\")\n",
    "print(\"Set A - Set B: \", difference1)\n",
    "print(\"Set B - Set A: \", difference2)\n",
    "print(\"Intersection: \", intersection)\n",
    "print(\"Set A is a subset of Set B: \", is_subset)\n",
    "print(\"Set A is a superset of Set B: \", is_superset)"
   ]
  },
  {
   "cell_type": "markdown",
   "id": "a2dcc3d1",
   "metadata": {},
   "source": [
    "**Q8. What do you understand about skewness in data?**"
   ]
  },
  {
   "cell_type": "markdown",
   "id": "ed71800f",
   "metadata": {},
   "source": [
    "`Skewness` is a statistical measure that describes the asymmetry of a probability distribution of a dataset. In simpler terms, it indicates whether the data is skewed to the `left (negatively skewed)`, skewed to the `right (positively skewed)`, or has a relatively `symmetric` distribution."
   ]
  },
  {
   "cell_type": "code",
   "execution_count": 7,
   "id": "cd897345",
   "metadata": {},
   "outputs": [
    {
     "data": {
      "image/png": "[encoded data removed]",
      "text/plain": [
       "<Figure size 640x480 with 1 Axes>"
      ]
     },
     "metadata": {},
     "output_type": "display_data"
    }
   ],
   "source": [
    "import matplotlib.pyplot as plt\n",
    "import numpy as np\n",
    "import scipy.stats as stats\n",
    "\n",
    "# Your dataset\n",
    "data = [12, 15, 15, 17, 18, 20, 21, 23, 25, 28, 30, 32, 40, 45, 50]\n",
    "\n",
    "# Calculate skewness\n",
    "skewness = stats.skew(data)\n",
    "\n",
    "# Interpret the skewness value\n",
    "if skewness > 0:\n",
    "    skew_type = \"positively skewed\"\n",
    "elif skewness < 0:\n",
    "    skew_type = \"negatively skewed\"\n",
    "else:\n",
    "    skew_type = \"approximately symmetric\"\n",
    "\n",
    "# Create a histogram to visualize the data distribution\n",
    "plt.hist(data, bins=10, color='lightblue', edgecolor='black')\n",
    "plt.title(f\"Data Skewness: {skew_type} (Skewness = {skewness:.2f})\")\n",
    "plt.xlabel(\"Data Values\")\n",
    "plt.ylabel(\"Frequency\")\n",
    "plt.show()"
   ]
  },
  {
   "cell_type": "markdown",
   "id": "9dc4e6da",
   "metadata": {},
   "source": [
    "**Q9. If a data is right skewed then what will be the position of median with respect to mean?**"
   ]
  },
  {
   "cell_type": "markdown",
   "id": "f825b426",
   "metadata": {},
   "source": [
    "In a `right-skewed (positively skewed)` dataset, the `median` will be positioned to the left of the mean. The median represents the `middle` value when the data is ordered from smallest to largest, while the `mean` is influenced by the presence of larger values on the `right` side of the distribution.\n",
    "\n",
    "Here's a code snippet to visualize the position of the median with respect to the mean in a `right-skewed` dataset:"
   ]
  },
  {
   "cell_type": "code",
   "execution_count": 8,
   "id": "9882ca91",
   "metadata": {},
   "outputs": [
    {
     "data": {
      "image/png": "[encoded data removed]",
      "text/plain": [
       "<Figure size 640x480 with 1 Axes>"
      ]
     },
     "metadata": {},
     "output_type": "display_data"
    },
    {
     "name": "stdout",
     "output_type": "stream",
     "text": [
      "The median is to the left of the mean.\n"
     ]
    }
   ],
   "source": [
    "import matplotlib.pyplot as plt\n",
    "import numpy as np\n",
    "from scipy.stats import skew, norm\n",
    "\n",
    "# Generate a right-skewed dataset\n",
    "data = np.random.gamma(2, scale=1, size=1000)\n",
    "\n",
    "# Calculate skewness\n",
    "skewness = skew(data)\n",
    "\n",
    "# Calculate mean and median\n",
    "mean = np.mean(data)\n",
    "median = np.median(data)\n",
    "\n",
    "# Create a histogram to visualize the data distribution\n",
    "plt.hist(data, bins=30, color='lightblue', edgecolor='black', density=True)\n",
    "plt.title(f\"Right-Skewed Data (Skewness = {skewness:.2f})\")\n",
    "plt.xlabel(\"Data Values\")\n",
    "plt.ylabel(\"Density\")\n",
    "\n",
    "# Plot mean and median lines\n",
    "plt.axvline(mean, color='red', linestyle='dashed', linewidth=2, label=\"Mean\")\n",
    "plt.axvline(median, color='green', linestyle='dashed', linewidth=2, label=\"Median\")\n",
    "plt.legend()\n",
    "\n",
    "plt.show()\n",
    "\n",
    "# Print the position of median with respect to mean\n",
    "if median < mean:\n",
    "    position = \"to the left of\"\n",
    "elif median > mean:\n",
    "    position = \"to the right of\"\n",
    "else:\n",
    "    position = \"at the same position as\"\n",
    "\n",
    "print(f\"The median is {position} the mean.\")\n"
   ]
  },
  {
   "cell_type": "markdown",
   "id": "206890c4",
   "metadata": {},
   "source": [
    "**Q10. Explain the difference between covariance and correlation. How are these measures used in statistical analysis?**"
   ]
  },
  {
   "cell_type": "markdown",
   "id": "9a89915e",
   "metadata": {},
   "source": [
    "`Covariance` is a measure of how two variables change together. It indicates the direction of the linear relationship between two variables. A `positive covariance` means that as one variable increases, the other tends to increase as well, and a `negative` covariance means that as one variable increases, the other tends to decrease.\n",
    "\n",
    "`Covariance formula for two variables X and Y:`\n",
    "\n",
    "`cov(X, Y) = Σ((X_i - mean(X)) * (Y_i - mean(Y))) / (n - 1)`\n",
    "\n",
    "However, covariance doesn't provide a standardized measure, so it's hard to compare the strength of relationships between different pairs of variables.\n",
    "\n",
    "`Correlation`, on the other hand, is a standardized measure of the `strength` and `direction` of the linear relationship between two variables. It always ranges between `-1` and `1.` A correlation of `1` represents a perfect `positive` relationship, `-1` a perfect `negative` relationship, and `0` indicates no linear relationship.\n",
    "\n",
    "`Pearson Correlation Coefficient formula:`\n",
    "\n",
    "`corr(X, Y) = cov(X, Y) / (std(X) * std(Y))`\n",
    "\n",
    "Correlation is widely used in statistical analysis to:\n",
    "1. Understand the strength and direction of relationships between variables.\n",
    "2. Select variables for predictive modeling since strongly correlated variables may not provide additional information.\n",
    "3. Detect multicollinearity, which can affect the reliability of regression models.\n",
    "4. Assess the performance of models by examining the correlation between predicted and actual values.\n",
    "\n",
    "In summary, covariance measures the joint variability of two variables, while correlation provides a standardized measure of their linear relationship, making it a valuable tool in statistical analysis."
   ]
  },
  {
   "cell_type": "markdown",
   "id": "f92acd53",
   "metadata": {},
   "source": [
    "Another correlation is `Spearman rank correlation` with the formula:\n",
    "\n",
    "`corr(X, Y) = cov(Rank(X), Rank(Y)) / (std(Rank(X)) * std(Rank(Y))`\n",
    "\n",
    "Advantages of `Spearman rank correlation` over Pearson Correlation Coefficient:\n",
    "\n",
    "- `Non-linearity:` Spearman rank correlation can capture non-linear relationships between variables, unlike Pearson, which assumes linearity.\n",
    "- `Identical values:` Some time multiple data values are same. But we convert them to ranks then no two ranks are the same or identical. In that case, we can clearly determine the correlation better.\n",
    "- `Robustness:` It is less sensitive to outliers, as it relies on the ranks of values rather than their actual magnitudes.\n",
    "- `No distribution assumption:` Spearman does not assume that the variables are normally distributed, making it suitable for both continuous and discrete data.\n",
    "- `Monotonicity:` It assesses the monotonic relationship, which is a more general and less strict condition than linearity.\n",
    "- `Ordinal data:` It can be used with ordinal data, where the distance between values might not be meaningful."
   ]
  },
  {
   "cell_type": "markdown",
   "id": "1ddb98e3",
   "metadata": {},
   "source": [
    "**Q11. What is the formula for calculating the sample mean? Provide an example calculation for a dataset.**"
   ]
  },
  {
   "cell_type": "markdown",
   "id": "1d4a0054",
   "metadata": {},
   "source": [
    "To calculate the `sample mean` of a dataset, you can use the following formula:\n",
    "    \n",
    "`mean(X) = Σ(X_i) / n`   \n",
    "\n",
    "Where:\n",
    "\n",
    "- `mean(X)` is the sample mean of the dataset X.\n",
    "- `Σ(X_i)` represents the sum of all the values in the dataset.\n",
    "- `n` is the number of data points in the dataset.\n",
    "\n",
    "Here's an example calculation for a dataset X:"
   ]
  },
  {
   "cell_type": "code",
   "execution_count": 9,
   "id": "89e9f467",
   "metadata": {},
   "outputs": [
    {
     "name": "stdout",
     "output_type": "stream",
     "text": [
      "Sample mean of X: 29.125\n"
     ]
    }
   ],
   "source": [
    "# Example dataset X\n",
    "X = [5, 10, 15, 20, 25, 45, 46, 67]\n",
    "\n",
    "# Calculate the sample mean\n",
    "mean_X = sum(X) / len(X)\n",
    "\n",
    "# Print the result\n",
    "print(\"Sample mean of X:\", mean_X)"
   ]
  },
  {
   "cell_type": "markdown",
   "id": "ff8d624f",
   "metadata": {},
   "source": [
    "**Q12. For a normal distribution data what is the relationship between its measure of central tendency?**"
   ]
  },
  {
   "cell_type": "markdown",
   "id": "13c88027",
   "metadata": {},
   "source": [
    "In a `normal distribution`, the relationship between its measures of central tendency is as follows:\n",
    "\n",
    "- `Mean (Average):` The mean, median, and mode of a normal distribution are all equal. They are located at the center of the distribution, and this is a key characteristic of a normal distribution.\n",
    "- `Median:` The median is the value that separates the higher half from the lower half of the data. In a normal distribution, it is equal to the mean, so it's also located at the center.\n",
    "- `Mode:` The mode is the value that occurs most frequently in the data. In a normal distribution, like the mean and median, the mode is also located at the center of the distribution.\n",
    "\n",
    "These three measures of central tendency coincide and are all located at the peak of the `symmetric bell-shaped` curve of a normal distribution."
   ]
  },
  {
   "cell_type": "code",
   "execution_count": 10,
   "id": "6c46cb9c",
   "metadata": {},
   "outputs": [
    {
     "data": {
      "image/png": "[encoded data removed]",
      "text/plain": [
       "<Figure size 640x480 with 1 Axes>"
      ]
     },
     "metadata": {},
     "output_type": "display_data"
    }
   ],
   "source": [
    "import numpy as np\n",
    "import matplotlib.pyplot as plt\n",
    "import scipy.stats as stats\n",
    "\n",
    "# Generate random data following a normal distribution\n",
    "data = np.random.normal(loc=0, scale=1, size=10000)\n",
    "\n",
    "# Calculate the mean and median\n",
    "mean_value = np.mean(data)\n",
    "median_value = np.median(data)\n",
    "\n",
    "# Create a histogram with adjusted parameters\n",
    "plt.hist(data, bins=50, color='lightblue', edgecolor='black', density=True, range=(-4, 4))\n",
    "\n",
    "# Plot mean and median\n",
    "plt.axvline(mean_value, color='b', linestyle='dashed', linewidth=2, label=f'Mean: {mean_value:.2f}')\n",
    "plt.axvline(median_value, color='r', linestyle='dashed', linewidth=2, label=f'Median: {median_value:.2f}')\n",
    "\n",
    "# Use KDE to estimate the mode\n",
    "# Create a kernel density estimation (KDE) object for the data\n",
    "kde = stats.gaussian_kde(data)\n",
    "# Generate a range of x values from -4 to 4 to evaluate the KDE\n",
    "x_vals = np.linspace(-4, 4, 1000)\n",
    "# Compute the KDE values at each x value\n",
    "y_vals = kde(x_vals)\n",
    "# Find the index of the maximum KDE value, representing the mode\n",
    "mode_index = np.argmax(y_vals)\n",
    "# Retrieve the corresponding x value for the mode\n",
    "mode_value = x_vals[mode_index]\n",
    "# Plot a vertical dashed line at the mode with a yellow color and label\n",
    "plt.axvline(mode_value, color='y', linestyle='dashed', linewidth=2, label=f'Mode: {mode_value:.2f}')\n",
    "\n",
    "# Add legend and title to the plot\n",
    "plt.legend()\n",
    "plt.title('Mean, Median, and Mode in Normal Distribution')\n",
    "# Display the plot\n",
    "plt.show()"
   ]
  },
  {
   "cell_type": "markdown",
   "id": "6469fce0",
   "metadata": {},
   "source": [
    "**Q13. How is covariance different from correlation?**"
   ]
  },
  {
   "cell_type": "markdown",
   "id": "d4c93f8e",
   "metadata": {},
   "source": [
    "`Covariance` and `correlation` are both measures of the relationship between two variables:\n",
    "\n",
    "`Covariance:`\n",
    "- It measures how two variables change together.\n",
    "- A positive covariance indicates that as one variable increases, the other tends to increase.\n",
    "- A negative covariance indicates that as one variable increases, the other tends to decrease.\n",
    "- The magnitude of covariance is not standardized and can be influenced by the scale of the variables.\n",
    "\n",
    "`Correlation:`\n",
    "- It is a standardized measure of the strength and direction of the linear relationship between two variables.\n",
    "- Correlation values are always between -1 and 1.\n",
    "- A correlation of 1 means a perfect positive linear relationship, -1 means a perfect negative linear relationship, and 0 means no linear relationship."
   ]
  },
  {
   "cell_type": "markdown",
   "id": "616c3292",
   "metadata": {},
   "source": [
    "**Q14. How do outliers affect measures of central tendency and dispersion? Provide an example.**"
   ]
  },
  {
   "cell_type": "markdown",
   "id": "5ade0344",
   "metadata": {},
   "source": [
    "`Outliers` can significantly affect measures of central tendency `(mean, median, mode)` and dispersion `(variance, standard deviation, and range)` in a dataset. Suppose we have a dataset representing the incomes of people in a small town:"
   ]
  },
  {
   "cell_type": "code",
   "execution_count": 11,
   "id": "783a3684",
   "metadata": {},
   "outputs": [
    {
     "name": "stdout",
     "output_type": "stream",
     "text": [
      "mean_without_outlier:  37.142857142857146\n",
      "median_without_outlier:  35.0\n",
      "mode_without_outlier:  35\n",
      "var_without_outlier:  63.26530612244898\n",
      "std_without_outlier:  7.953949089757175\n",
      "range_without_outlier:  25\n",
      "\t\n",
      "mean_with_outlier:  157.5\n",
      "median_with_outlier:  37.5\n",
      "mode_with_outlier:  35\n",
      "var_with_outlier:  101456.25\n",
      "std_with_outlier:  318.52197726373606\n",
      "range_with_outlier:  975\n"
     ]
    },
    {
     "name": "stderr",
     "output_type": "stream",
     "text": [
      "C:\\Users\\Lenovo\\AppData\\Local\\Temp\\ipykernel_14888\\641152824.py:10: FutureWarning: Unlike other reduction functions (e.g. `skew`, `kurtosis`), the default behavior of `mode` typically preserves the axis it acts along. In SciPy 1.11.0, this behavior will change: the default value of `keepdims` will become False, the `axis` over which the statistic is taken will be eliminated, and the value None will no longer be accepted. Set `keepdims` to True or False to avoid this warning.\n",
      "  mode_without_outlier = stats.mode(incomes[:-1]).mode[0]\n",
      "C:\\Users\\Lenovo\\AppData\\Local\\Temp\\ipykernel_14888\\641152824.py:18: FutureWarning: Unlike other reduction functions (e.g. `skew`, `kurtosis`), the default behavior of `mode` typically preserves the axis it acts along. In SciPy 1.11.0, this behavior will change: the default value of `keepdims` will become False, the `axis` over which the statistic is taken will be eliminated, and the value None will no longer be accepted. Set `keepdims` to True or False to avoid this warning.\n",
      "  mode_with_outlier = stats.mode(incomes).mode[0]\n"
     ]
    }
   ],
   "source": [
    "import numpy as np\n",
    "from scipy import stats \n",
    "\n",
    "# Incomes in thousands of dollars\n",
    "incomes = np.array([25, 30, 35, 40, 35, 45, 50, 1000])\n",
    "\n",
    "# Calculate measures without the outlier 1000\n",
    "mean_without_outlier = np.mean(incomes[:-1])\n",
    "median_without_outlier = np.median(incomes[:-1])\n",
    "mode_without_outlier = stats.mode(incomes[:-1]).mode[0]\n",
    "var_without_outlier = np.var(incomes[:-1])\n",
    "std_without_outlier = np.std(incomes[:-1])\n",
    "range_without_outlier = np.ptp(incomes[:-1])\n",
    "\n",
    "# Calculate measures with the outlier 1000\n",
    "mean_with_outlier = np.mean(incomes)\n",
    "median_with_outlier = np.median(incomes)\n",
    "mode_with_outlier = stats.mode(incomes).mode[0]\n",
    "var_with_outlier = np.var(incomes)\n",
    "std_with_outlier = np.std(incomes)\n",
    "range_with_outlier = np.ptp(incomes)\n",
    "\n",
    "# print the values of mesaures\n",
    "print(\"mean_without_outlier: \", mean_without_outlier)\n",
    "print(\"median_without_outlier: \", median_without_outlier)\n",
    "print(\"mode_without_outlier: \", mode_without_outlier)\n",
    "print(\"var_without_outlier: \", var_without_outlier)\n",
    "print(\"std_without_outlier: \", std_without_outlier)\n",
    "print(\"range_without_outlier: \", range_without_outlier)\n",
    "print(\"\\t\")\n",
    "print(\"mean_with_outlier: \", mean_with_outlier)\n",
    "print(\"median_with_outlier: \", median_with_outlier)\n",
    "print(\"mode_with_outlier: \", mode_with_outlier)\n",
    "print(\"var_with_outlier: \", var_with_outlier)\n",
    "print(\"std_with_outlier: \", std_with_outlier)\n",
    "print(\"range_with_outlier: \", range_with_outlier)"
   ]
  },
  {
   "cell_type": "markdown",
   "id": "614e6e33",
   "metadata": {},
   "source": [
    "As we can see, the presence of the `outlier (1000)` greatly influences the `mean`, increasing it significantly, while the `median` remains relatively unchanged and `mode` also remains unchanged. The mesures of dispersion like `variance`, `standard deviation` and `range` is also heavily impacted by the outlier, increasing thier value substantially.\n",
    "\n",
    "This example demonstrates how outliers can distort central tendency measures like the mean, making them less representative of the majority of the data, and how they can affect measures of dispersion like the standard deviation."
   ]
  },
  {
   "cell_type": "code",
   "execution_count": null,
   "id": "1578ad0b",
   "metadata": {},
   "outputs": [],
   "source": []
  }
 ],
 "metadata": {
  "kernelspec": {
   "display_name": "Python 3 (ipykernel)",
   "language": "python",
   "name": "python3"
  },
  "language_info": {
   "codemirror_mode": {
    "name": "ipython",
    "version": 3
   },
   "file_extension": ".py",
   "mimetype": "text/x-python",
   "name": "python",
   "nbconvert_exporter": "python",
   "pygments_lexer": "ipython3",
   "version": "3.11.3"
  },
  "toc": {
   "base_numbering": 1,
   "nav_menu": {},
   "number_sections": true,
   "sideBar": true,
   "skip_h1_title": false,
   "title_cell": "Table of Contents",
   "title_sidebar": "Contents",
   "toc_cell": false,
   "toc_position": {},
   "toc_section_display": true,
   "toc_window_display": false
  }
 },
 "nbformat": 4,
 "nbformat_minor": 5
}
