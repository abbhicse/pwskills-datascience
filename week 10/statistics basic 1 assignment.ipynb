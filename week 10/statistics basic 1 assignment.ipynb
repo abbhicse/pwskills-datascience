{
 "cells": [
  {
   "cell_type": "markdown",
   "id": "48ced1d2",
   "metadata": {},
   "source": [
    "**Q1. What is Statistics?**"
   ]
  },
  {
   "cell_type": "markdown",
   "id": "765a1b82",
   "metadata": {},
   "source": [
    "`Statistics` is a branch of mathematics that deals with collecting, analyzing, interpreting, presenting, and organizing data. It encompasses various techniques and methods for summarizing and drawing conclusions from data. `Statistics` is widely used in fields such as science, economics, business, and social sciences to make informed decisions, identify trends, and make predictions based on data.\n",
    "\n",
    "In Python, we can utilize libraries like `NumPy` and `Pandas` to perform statistical operations on data sets efficiently. For instance, we can calculate measures of `central tendency (mean, median, mode)`, measures of `dispersion (variance, standard deviation, range)`, and perform hypothesis testing, regression analysis, and data visualization using tools like `Matplotlib` and `Seaborn.`"
   ]
  },
  {
   "cell_type": "markdown",
   "id": "220ebad3",
   "metadata": {},
   "source": [
    "**Q2. Define the different types of statistics and give an example of when each type might be used.**"
   ]
  },
  {
   "cell_type": "markdown",
   "id": "0b121b5e",
   "metadata": {},
   "source": [
    "`Statistics` can be broadly categorized into two main types: \n",
    "\n",
    "1. **Descriptive Statistics:** Descriptive statistics are used to summarize and describe data. They provide a way to understand the main characteristics of a dataset without making inferences or predictions. Examples of descriptive statistics include:\n",
    "   - **Mean (Average):** This is used to find the central value of a dataset. For example, calculating the average age of students in a class.\n",
    "   - **Median:** It represents the middle value in a dataset and is less affected by outliers. It's useful when dealing with income data to find the middle income.\n",
    "   - **Mode:** The mode identifies the most frequently occurring value in a dataset, which can be handy in market research to find the most popular product.\n",
    "\n",
    "2. **Inferential Statistics:** Inferential statistics are used to make predictions or draw conclusions about a population based on a sample of data. Examples include:\n",
    "   - **Hypothesis Testing:** To determine if there's a significant difference between two groups, like testing a new drug's effectiveness compared to a placebo.\n",
    "   - **Regression Analysis:** Used to predict one variable based on the relationship with one or more other variables, like predicting house prices based on square footage, location, and number of bedrooms.\n",
    "   - **Confidence Intervals:** To estimate a range within which a population parameter is likely to fall, like estimating the average height of people in a city.\n",
    "\n",
    "These types of statistics are crucial for various fields such as economics, healthcare, marketing, and social sciences, enabling data-driven decision-making and insights from data analysis."
   ]
  },
  {
   "cell_type": "markdown",
   "id": "23e7b9fd",
   "metadata": {},
   "source": [
    "**Q3. What are the different types of data and how do they differ from each other? Provide an example of each type of data.**"
   ]
  },
  {
   "cell_type": "markdown",
   "id": "2da07a76",
   "metadata": {},
   "source": [
    "Data can be broadly categorized into two main types: `quantitative` data and `qualitative data`, each with subtypes.\n",
    "\n",
    "1. **Quantitative Data:** Quantitative data represents information that can be measured and expressed with numbers. There are two main subtypes:\n",
    "\n",
    "   - **Discrete Data:** Discrete data consists of separate, distinct values that can be counted. These values are typically whole numbers. An example of discrete data is the number of students in a class. You can't have half a student.\n",
    "\n",
    "   - **Continuous Data:** Continuous data includes values that can take any real number within a certain range. It can have infinite possibilities. An example of continuous data is the height of individuals in a population because it can vary continuously within a range.\n",
    "\n",
    "2. **Qualitative Data:** Qualitative data represents information that cannot be measured numerically and is typically categorized into different groups. There are two main subtypes:\n",
    "\n",
    "   - **Nominal Data:** Nominal data consists of categories or labels that have no inherent order. These categories are distinct from each other. An example of nominal data is the type of fruit in a basket, such as apples, oranges, or bananas.\n",
    "\n",
    "   - **Ordinal Data:** Ordinal data consists of categories that have a meaningful order or rank, but the intervals between them are not uniform or meaningful. An example of ordinal data is a survey question with response options like \"poor,\" \"fair,\" \"good,\" and \"excellent.\" While you can rank them, the difference between \"poor\" and \"fair\" may not be the same as between \"good\" and \"excellent.\"\n",
    "\n",
    "Understanding the type of data you're working with is essential for selecting appropriate statistical methods and drawing meaningful insights from your data analysis.\n"
   ]
  },
  {
   "cell_type": "markdown",
   "id": "0486abc2",
   "metadata": {},
   "source": [
    "**Q4. Categorise the following datasets with respect to quantitative and qualitative data types:**\n",
    "\n",
    "(i) Grading in exam: A+, A, B+, B, C+, C, D, E\n",
    "\n",
    "(ii) Colour of mangoes: yellow, green, orange, red\n",
    "\n",
    "(iii) Height data of a class: [178.9, 179, 179.5, 176, 177.2, 178.3, 175.8,...]\n",
    "\n",
    "(iv) Number of mangoes exported by a farm: [500, 600, 478, 672, …]"
   ]
  },
  {
   "cell_type": "markdown",
   "id": "886697c7",
   "metadata": {},
   "source": [
    "`The answer will be following:`\n",
    "\n",
    "(i) Grading in exam: A+, A, B+, B, C+, C, D, E\n",
    "- Qualitative (Ordinal) Data\n",
    "\n",
    "(ii) Colour of mangoes: yellow, green, orange, red\n",
    "- Qualitative (Nominal) Data\n",
    "\n",
    "(iii) Height data of a class: [178.9, 179, 179.5, 176, 177.2, 178.3, 175.8,...]\n",
    "- Quantitative (Continuous) Data`\n",
    "\n",
    "(iv) Number of mangoes exported by a farm: [500, 600, 478, 672, ...]**\n",
    "- Quantitative (Discrete) Data"
   ]
  },
  {
   "cell_type": "markdown",
   "id": "a33fbc88",
   "metadata": {},
   "source": [
    "**Q5. Explain the concept of levels of measurement and give an example of a variable for each level.**"
   ]
  },
  {
   "cell_type": "markdown",
   "id": "e92e6604",
   "metadata": {},
   "source": [
    "1. **Nominal Data:** Nominal data consists of categories or labels without any specific order. It represents distinct categories and can be used for classification. Example: Colors (e.g., red, blue, green).\n",
    "\n",
    "2. **Ordinal Data:** Ordinal data also consists of categories, but these categories have a specific order or rank. However, the intervals between them are not uniform. Example: Education levels (e.g., high school, bachelor's, master's).\n",
    "\n",
    "3. **Interval Data:** Interval data has ordered categories with uniform intervals between them. It doesn't have a true zero point and can have negative values. Example: Temperature in Celsius or Fahrenheit.\n",
    "\n",
    "4. **Ratio Data:** Ratio data is similar to interval data but has a true zero point, which means meaningful ratios can be calculated. Example: Height, weight, income.\n",
    "\n",
    "**Example:**\n",
    "\n",
    "Let's consider a dataset of students' exam scores:\n",
    "\n",
    "- Nominal Data: Student names (e.g., John, Sarah, Emily).\n",
    "- Ordinal Data: Grade levels (e.g., A, B, C).\n",
    "- Interval Data: Temperature during the exam (e.g., 25°C, 30°C).\n",
    "- Ratio Data: Number of correct answers (e.g., 85, 92).\n",
    "\n",
    "**Note:** A `true zero` point in data refers to a point on the measurement scale where the value represents the complete absence of the quantity being measured. In other words, it's a point where the value of `zero` indicates that there is none of the attribute being measured.\n",
    "\n",
    "For example, in the case of `Ratio` Data, which includes attributes like `height`, `weight`, and `income`, a true zero point exists. If someone's `height` is measured as `0 cm`, it means they have no `height` or, more accurately, their height is nonexistent. Similarly, if someone's `weight` is measured as `0 kg`, it means they have no `weight`, and if their `income` is measured as `0 dollars`, it means they have no `income.`\n",
    "\n",
    "In contrast, `Interval Data`, like `temperature` in `Celsius` or `Fahrenheit`, does not have a `true zero` point. A temperature of `0°C` or `0°F` does not mean the absence of `temperature`; it simply represents a point on the scale, and negative values are meaningful in this context.    "
   ]
  },
  {
   "cell_type": "markdown",
   "id": "d13a73ac",
   "metadata": {},
   "source": [
    "**Q6. Why is it important to understand the level of measurement when analyzing data? Provide an example to illustrate your answer.**"
   ]
  },
  {
   "cell_type": "markdown",
   "id": "8db57e17",
   "metadata": {},
   "source": [
    "Understanding the `level of measurement` is crucial when analyzing data because it determines the types of statistical analyses and operations that can be performed on the data. It helps in choosing appropriate summary statistics and drawing meaningful conclusions from the data.\n",
    "\n",
    "For example, consider a scenario where we have data on the ages of people in a survey:\n",
    "\n",
    "- If the age data is `Nominal (categories without order)`, we can only count the number of people in each category, like age groups (e.g., 20-30, 31-40), but we can't calculate `averages` or perform meaningful `arithmetic` operations. \n",
    "\n",
    "- If the age data is `Ordinal (ordered categories without uniform intervals)`, we can determine which age group is `most frequent` or which one is `ranked higher`, but we can't calculate precise measures like the `average age.`\n",
    "\n",
    "- If the age data is `Interval (ordered categories with uniform intervals but no true zero point)`, we can calculate the `mean` age, `standard deviation`, and perform operations like `adding` or `subtracting` ages. However, we can't say that someone with twice the age has \"twice\" as much age as another person because there's no `true zero` age.\n",
    "\n",
    "- If the age data is `Ratio (ordered categories with uniform intervals and a true zero point)`, we can confidently calculate `ratios`, such as someone being twice as old as another when their ages are in ratio form."
   ]
  },
  {
   "cell_type": "markdown",
   "id": "5e1ea196",
   "metadata": {},
   "source": [
    "Specific examples of age data for different `levels of measurement:`\n",
    "\n",
    "`Nominal (categories without order):`\n",
    "- nominal_age_data = [\"20-30\", \"31-40\", \"41-50\", \"51-60\", \"60+\"]\n",
    "\n",
    "`Ordinal (ordered categories without uniform intervals):`\n",
    "- ordinal_age_data = [\"Child\", \"Teenager\", \"Young Adult\", \"Middle-aged\", \"Senior\"]\n",
    "\n",
    "`Interval (ordered categories with uniform intervals but no true zero point):`\n",
    "- interval_age_data = [25, 35, 45, 55, 65]\n",
    "\n",
    "`Ratio (ordered categories with uniform intervals and a true zero point):`\n",
    "- ratio_age_data = [18, 30, 42, 60, 0]  \n",
    "\n",
    "`Here, 0 represents a true zero age (birth).`\n",
    "\n",
    "In summary, understanding the level of measurement helps in choosing appropriate statistical techniques and in making meaningful interpretations of data."
   ]
  },
  {
   "cell_type": "markdown",
   "id": "1907522b",
   "metadata": {},
   "source": [
    "**Q7. How nominal data type is different from ordinal data type.**"
   ]
  },
  {
   "cell_type": "markdown",
   "id": "154ccadc",
   "metadata": {},
   "source": [
    "`Nominal Data:`\n",
    "\n",
    "- Nominal data consists of categories or labels without any inherent order or ranking.\n",
    "- In nominal data, the categories are distinct, but there is no logical order or ranking among them.\n",
    "- Nominal data is typically used to represent qualitative or categorical variables where the values have no numerical significance.\n",
    "- Examples of nominal data include colors, genders, and types of fruits.\n",
    "- We can perform operations like counting the frequency of each category, but we cannot establish any meaningful order or ranking.\n",
    "\n",
    "`Ordinal Data:`\n",
    "\n",
    "- Ordinal data also consists of categories or labels, but unlike nominal data, there is a clear order or ranking among these categories.\n",
    "- In ordinal data, the categories have a logical order, but the intervals between them may not be uniform or meaningful.\n",
    "- Ordinal data is often used to represent variables with ordered categories, such as education levels (e.g., high school, college, graduate).\n",
    "- We can determine which category is ranked higher or lower, but we cannot perform precise mathematical operations like addition or subtraction between the categories."
   ]
  },
  {
   "cell_type": "markdown",
   "id": "6bb5464a",
   "metadata": {},
   "source": [
    "**Q8. Which type of plot can be used to display data in terms of range?**"
   ]
  },
  {
   "cell_type": "markdown",
   "id": "ec352eae",
   "metadata": {},
   "source": [
    "We can use a `box plot (also known as a box-and-whisker plot)` to display data in terms of range. It provides a visual representation of the data's spread and range, including the `minimum`, `first quartile`, `median`, `third quartile`, and `maximum` values. This plot is especially useful for displaying the distribution and variability of data, making it easy to identify `outliers` and the overall spread of values.\n",
    "\n",
    "Here's a brief example of how to create a box plot in Python using the matplotlib library:"
   ]
  },
  {
   "cell_type": "code",
   "execution_count": 1,
   "id": "7a52ba1b",
   "metadata": {},
   "outputs": [
    {
     "data": {
      "image/png": "[encoded data removed]",
      "text/plain": [
       "<Figure size 640x480 with 1 Axes>"
      ]
     },
     "metadata": {},
     "output_type": "display_data"
    }
   ],
   "source": [
    "import matplotlib.pyplot as plt\n",
    "\n",
    "# Your data to be displayed in the box plot\n",
    "data = [10, 35, 20, 15, 15, 15, 30, 30, 25, 40, 70]\n",
    "\n",
    "# Create a box plot\n",
    "plt.boxplot(data)\n",
    "\n",
    "# Add labels and a title\n",
    "plt.xlabel('Data')\n",
    "plt.ylabel('Values')\n",
    "plt.title('Box Plot of Data')\n",
    "\n",
    "# Display the plot\n",
    "plt.show()"
   ]
  },
  {
   "cell_type": "markdown",
   "id": "a9285d70",
   "metadata": {},
   "source": [
    "**Q9. Describe the difference between descriptive and inferential statistics. Give an example of each type of statistics and explain how they are used.**"
   ]
  },
  {
   "cell_type": "markdown",
   "id": "3cd7ae4f",
   "metadata": {},
   "source": [
    "Descriptive statistics involve summarizing and describing data to provide a clear and concise overview of its characteristics. They do not involve making predictions or drawing conclusions about a larger population based on a sample. Descriptive statistics are used to organize and present data in a meaningful way.\n",
    "\n",
    "Example of descriptive statistics: Calculating the mean, median, and mode of a dataset. These measures provide insights into the central tendency and distribution of data."
   ]
  },
  {
   "cell_type": "code",
   "execution_count": 2,
   "id": "35f2df2c",
   "metadata": {},
   "outputs": [
    {
     "name": "stdout",
     "output_type": "stream",
     "text": [
      "Mean: 27.454545454545453, Median: 25.0, Mode: 12\n"
     ]
    }
   ],
   "source": [
    "# Example of calculating descriptive statistics\n",
    "import numpy as np\n",
    "\n",
    "data = [12, 15, 18, 20, 25, 12, 30, 35, 40, 45, 50]\n",
    "\n",
    "mean = np.mean(data)  # Calculate the mean\n",
    "median = np.median(data)  # Calculate the median\n",
    "mode = np.argmax(np.bincount(data))  # Calculate the mode\n",
    "\n",
    "print(f\"Mean: {mean}, Median: {median}, Mode: {mode}\")"
   ]
  },
  {
   "cell_type": "markdown",
   "id": "1d15e253",
   "metadata": {},
   "source": [
    "Inferential statistics, on the other hand, involve making predictions, inferences, or generalizations about a larger population based on a sample of data. Inferential statistics use probability theory to draw conclusions about the population parameters.\n",
    "\n",
    "Example of inferential statistics: Conducting a hypothesis test to determine if a new drug is more effective than an existing one. This involves taking a sample of patients and using the results to make inferences about the effectiveness of the drug for the entire population."
   ]
  },
  {
   "cell_type": "code",
   "execution_count": 3,
   "id": "35cb134b",
   "metadata": {},
   "outputs": [
    {
     "name": "stdout",
     "output_type": "stream",
     "text": [
      "There is no statistically significant difference between the two groups.\n"
     ]
    }
   ],
   "source": [
    "# Example of conducting an inferential statistical test\n",
    "import scipy.stats as stats\n",
    "\n",
    "# Sample data from two groups (e.g., new drug and existing drug)\n",
    "group1 = [82, 85, 88, 90, 92]\n",
    "group2 = [78, 80, 83, 86, 89]\n",
    "\n",
    "# Perform a t-test to compare the means of the two groups\n",
    "t_stat, p_value = stats.ttest_ind(group1, group2)\n",
    "\n",
    "if p_value < 0.05:\n",
    "    print(\"There is a statistically significant difference between the two groups.\")\n",
    "else:\n",
    "    print(\"There is no statistically significant difference between the two groups.\")\n"
   ]
  },
  {
   "cell_type": "markdown",
   "id": "2c686d0c",
   "metadata": {},
   "source": [
    "**Q10. What are some common measures of central tendency and variability used in statistics? Explain how each measure can be used to describe a dataset.**\n",
    "\n",
    "Please do not write code. Give just the explanation with good example."
   ]
  },
  {
   "cell_type": "markdown",
   "id": "9b0af2f8",
   "metadata": {},
   "source": [
    "**Measures of Central Tendency:**\n",
    "\n",
    "`a. Mean:` The mean, often referred to as the average, is calculated by summing up all the values in a dataset and dividing by the number of data points. It represents the typical or central value of the data.\n",
    "\n",
    "- Example: In a class of 10 students, the ages are [18, 19, 20, 21, 22, 23, 24, 25, 26, 27]. The mean age is calculated as (18 + 19 + 20 + 21 + 22 + 23 + 24 + 25 + 26 + 27) / 10 = 22.5.\n",
    "\n",
    "`b. Median:` The median is the middle value when the data is sorted. If there is an even number of data points, it's the average of the two middle values. The median is less affected by extreme values (outliers) than the mean.\n",
    "\n",
    "- Example: In a set of exam scores [85, 90, 92, 78, 65], the median score is 85.\n",
    "\n",
    "`c. Mode:` The mode is the value that appears most frequently in a dataset. A dataset can have multiple modes or be \"multimodal\" if more than one value occurs with the highest frequency.\n",
    "\n",
    "- Example: In a list of colors chosen by people (Red, Blue, Green, Blue, Red), the mode is both \"Red\" and \"Blue.\"\n",
    "\n",
    "**Measures of Variability:**\n",
    "\n",
    "`a. Range:` The range is the difference between the maximum and minimum values in a dataset. It provides a simple measure of the spread of data.\n",
    "\n",
    "- Example: In a dataset of daily high temperatures (in Fahrenheit) for a week [68, 72, 74, 79, 63, 82, 70], the range is 82 - 63 = 19.\n",
    "\n",
    "`b. Variance:` Variance measures how much individual data points deviate from the mean. It's calculated by averaging the squared differences between each data point and the mean.\n",
    "\n",
    "- Example: Consider a dataset of exam scores [85, 90, 92, 78, 65], the variance is calculated as [(85-84.0)^2 + (90-84.0)^2 + (92-84.0)^2 + (78-84.0)^2 + (65-84.0)^2] / 5 ≈ 59.2.\n",
    "\n",
    "`c. Standard Deviation:` The standard deviation is the square root of the variance. It quantifies the average amount of variation or dispersion in the dataset. A smaller standard deviation indicates less spread.\n",
    "\n",
    "- Example: Using the variance example above, the standard deviation is approximately √59.2 ≈ 7.69.\n",
    "\n",
    "These measures help statisticians and data analysts understand the central tendencies and spread of data, making it easier to interpret and draw meaningful conclusions from datasets."
   ]
  },
  {
   "cell_type": "code",
   "execution_count": null,
   "id": "04c9d7bd",
   "metadata": {},
   "outputs": [],
   "source": []
  }
 ],
 "metadata": {
  "kernelspec": {
   "display_name": "Python 3 (ipykernel)",
   "language": "python",
   "name": "python3"
  },
  "language_info": {
   "codemirror_mode": {
    "name": "ipython",
    "version": 3
   },
   "file_extension": ".py",
   "mimetype": "text/x-python",
   "name": "python",
   "nbconvert_exporter": "python",
   "pygments_lexer": "ipython3",
   "version": "3.11.3"
  },
  "toc": {
   "base_numbering": 1,
   "nav_menu": {},
   "number_sections": true,
   "sideBar": true,
   "skip_h1_title": false,
   "title_cell": "Table of Contents",
   "title_sidebar": "Contents",
   "toc_cell": false,
   "toc_position": {},
   "toc_section_display": true,
   "toc_window_display": false
  }
 },
 "nbformat": 4,
 "nbformat_minor": 5
}
