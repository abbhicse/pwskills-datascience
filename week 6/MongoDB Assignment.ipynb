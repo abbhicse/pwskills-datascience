{
 "cells": [
  {
   "cell_type": "markdown",
   "id": "a5531872",
   "metadata": {},
   "source": [
    "**Q1. What is MongoDB? Explain non-relational databases in short. In which scenarios it is preferred to use MongoDB over SQL databases?**"
   ]
  },
  {
   "cell_type": "markdown",
   "id": "5d1e6d7c",
   "metadata": {},
   "source": [
    "`MongoDB` is a popular `document-oriented NoSQ` database that provides `high performance`, `scalability`, and `flexibility` for handling `large` volumes of data. `Non-relational` databases, like `MongoDB`, store data in a format other than `tabular` relations used in `relational databases (SQL)`. Instead of using `fixed` schemas, `non-relational` databases allow for `dynamic` and `flexible data` models.\n",
    "\n",
    "`MongoDB` is preferred over `SQ`L databases in scenarios where:\n",
    "\n",
    "- **Scalability:** `MongoDB` can easily handle `large` amounts of data and scale `horizontally` across `multiple servers`, making it suitable for applications that require `high scalability.`\n",
    "\n",
    "- **Flexibility:** Its `flexible` schema allows for `dynamic` changes to the data structure without `requiring downtime` or `complex migrations.` This means that we can modify the structure of the data `on-the-fly`, `adding` or `removing` fields as needed, without `disrupting` the application or requiring `complex migration` processes.\n",
    "\n",
    "- **Complex data:** `MongoDB` excels in handling `complex` and `hierarchical` data structures, such as `nested documents` or `arrays.`\n",
    "\n",
    "- **Unstructured data:** If our data doesn't fit well into a `tabular` structure or requires `frequent modifications`, `MongoDB's` document-based model provides better `flexibility.`\n",
    "\n",
    "- **Real-time analytics:** `MongoDB's` query capabilities, including its `aggregation` framework, make it well-suited for `real-time` analytics and `data processing`.\n",
    "\n",
    "It's important to note that the choice between `MongoDB` and `SQL` databases depends on `specific project` requirements, `data structure`, and the need for `scalability` and `flexibility.`"
   ]
  },
  {
   "cell_type": "markdown",
   "id": "e92858f5",
   "metadata": {},
   "source": [
    "**Q2. State and Explain the features of MongoDB.**"
   ]
  },
  {
   "cell_type": "markdown",
   "id": "cad4ceec",
   "metadata": {},
   "source": [
    "**Features of MongoDB:**\n",
    "\n",
    "- **Scalability:** MongoDB is designed to handle `large` amounts of data and can scale `horizontally` across `multiple servers`. It provides `sharing`, which allows data to be `distributed` across `multiple` machines, enabling high `scalability.`\n",
    "\n",
    "- **Flexibility:** MongoDB offers a `flexible` schema, allowing for `dynamic` changes to the data structure without requiring `downtime` or `complex` migrations. This means that you can easily `add` or `remove` fields as needed, making it suitable for `evolving` data requirements.\n",
    "\n",
    "- **Complex Data Handling:** MongoDB excels in handling `complex` and `hierarchical` data structures. It supports `nested` documents and `arrays`, making it ideal for `storing` and `querying` data with rich relationships.\n",
    "\n",
    "- **Unstructured Data Support:** If your data doesn't fit well into a `tabular` structure or requires `frequent` modifications, MongoDB's `document-based` model provides better `flexibility`. You can `store` data with `varying` structures within the `same` collection.\n",
    "\n",
    "- **Real-time Analytics:** MongoDB provides powerful query capabilities, including its `aggregation` framework, which allows you to perform `complex analytics` and `data processing` tasks in `real-time.` This makes it well-suited for applications that require` real-time` insights.\n",
    "\n",
    "- **High Performance:** MongoDB is designed for high performance. It uses `memory-mapped` storage, indexes, and `automatic` data partitioning to optimize query execution and improve `read` and `write` operations.\n",
    "\n",
    "- **Replication and Fault Tolerance:** MongoDB supports `replica sets`, which provide `high availability` and `fault tolerance`. `Replica sets` maintain `multiple` copies of data across `different servers`, ensuring data `redundancy` and `automatic failover.`\n",
    "\n",
    "- **Rich Query Language:** MongoDB's query language supports a wide range of operators and features, allowing you to perform `advanced` queries, `filtering`, `sorting`, and `aggregation` operations.\n",
    "\n",
    "Overall, `MongoDB` offers a robust set of features that make it a popular choice for handling `large` volumes of data, providing `scalability`, `flexibility`, and` efficient` data manipulation."
   ]
  },
  {
   "cell_type": "markdown",
   "id": "70cd3659",
   "metadata": {},
   "source": [
    "**Q3. Write a code to connect MongoDB to Python. Also, create a database and a collection in MongoDB.**"
   ]
  },
  {
   "cell_type": "code",
   "execution_count": 1,
   "id": "d3c9340d",
   "metadata": {},
   "outputs": [
    {
     "name": "stdout",
     "output_type": "stream",
     "text": [
      "Requirement already satisfied: pymongo in c:\\users\\lenovo\\anaconda3\\lib\\site-packages (4.3.3)\n",
      "Requirement already satisfied: dnspython<3.0.0,>=1.16.0 in c:\\users\\lenovo\\anaconda3\\lib\\site-packages (from pymongo) (2.3.0)\n"
     ]
    }
   ],
   "source": [
    "# Install the PyMongo library\n",
    "!pip install pymongo"
   ]
  },
  {
   "cell_type": "code",
   "execution_count": 2,
   "id": "88d34f6a",
   "metadata": {},
   "outputs": [],
   "source": [
    "# Import the required modules\n",
    "from pymongo import MongoClient\n",
    "\n",
    "# Create a connection to MongoDB\n",
    "client = MongoClient('mongodb://localhost:27017/')\n",
    "\n",
    "# Create or access a database\n",
    "database = client['myNewDB']\n",
    "\n",
    "# Create or access a collection within the database\n",
    "collection = database['myNewCollection']"
   ]
  },
  {
   "cell_type": "code",
   "execution_count": 3,
   "id": "94c37a8a",
   "metadata": {},
   "outputs": [
    {
     "data": {
      "text/plain": [
       "Collection(Database(MongoClient(host=['localhost:27017'], document_class=dict, tz_aware=False, connect=True), 'myNewDB'), 'myNewCollection')"
      ]
     },
     "execution_count": 3,
     "metadata": {},
     "output_type": "execute_result"
    }
   ],
   "source": [
    "# Display the newly created collection\n",
    "collection"
   ]
  },
  {
   "cell_type": "markdown",
   "id": "8a731e30",
   "metadata": {},
   "source": [
    "**Q4. Using the database and the collection created in question number 3, write a code to insert one record, and insert many records. Use the find() and find_one() methods to print the inserted record.**"
   ]
  },
  {
   "cell_type": "code",
   "execution_count": 4,
   "id": "d49c5193",
   "metadata": {},
   "outputs": [
    {
     "name": "stdout",
     "output_type": "stream",
     "text": [
      "Inserted record: {'_id': ObjectId('6492eb2778a616bd41cf5b93'), 'name': 'John', 'age': 25, 'city': 'New York'}\n",
      "\t\n",
      "All inserted records:\n",
      "{'_id': ObjectId('6492eb2778a616bd41cf5b93'), 'name': 'John', 'age': 25, 'city': 'New York'}\n",
      "{'_id': ObjectId('6492eb2778a616bd41cf5b94'), 'name': 'Alice', 'age': 30, 'city': 'London'}\n",
      "{'_id': ObjectId('6492eb2778a616bd41cf5b95'), 'name': 'Bob', 'age': 35, 'city': 'Paris'}\n",
      "{'_id': ObjectId('6492eb2778a616bd41cf5b96'), 'name': 'Emily', 'age': 28, 'city': 'Berlin'}\n",
      "{'_id': ObjectId('6492eb2778a616bd41cf5b97'), 'name': 'Smith', 'age': 29, 'city': 'London'}\n",
      "{'_id': ObjectId('6492eb2778a616bd41cf5b98'), 'name': 'Bailey', 'age': 26, 'city': 'London'}\n",
      "{'_id': ObjectId('6492eb2778a616bd41cf5b99'), 'name': 'Harry', 'age': 33, 'city': 'London'}\n"
     ]
    }
   ],
   "source": [
    "# Insert one record\n",
    "record1 = {\"name\": \"John\", \"age\": 25, \"city\": \"New York\"}\n",
    "collection.insert_one(record1)\n",
    "\n",
    "# Insert many records\n",
    "records = [\n",
    "    {\"name\": \"Alice\", \"age\": 30, \"city\": \"London\"},\n",
    "    {\"name\": \"Bob\", \"age\": 35, \"city\": \"Paris\"},\n",
    "    {\"name\": \"Emily\", \"age\": 28, \"city\": \"Berlin\"},\n",
    "    {\"name\": \"Smith\", \"age\": 29, \"city\": \"London\"},\n",
    "    {\"name\": \"Bailey\", \"age\": 26, \"city\": \"London\"},\n",
    "    {\"name\": \"Harry\", \"age\": 33, \"city\": \"London\"},\n",
    "]\n",
    "collection.insert_many(records)\n",
    "\n",
    "# Find and print the inserted record using find_one()\n",
    "inserted_record = collection.find_one({\"name\": \"John\"})\n",
    "print(\"Inserted record:\", inserted_record)\n",
    "print(\"\\t\")\n",
    "\n",
    "# Find and print all inserted records using find()\n",
    "inserted_records = collection.find()\n",
    "print(\"All inserted records:\")\n",
    "for record in inserted_records:\n",
    "    print(record)\n"
   ]
  },
  {
   "cell_type": "markdown",
   "id": "ac3edd8e",
   "metadata": {},
   "source": [
    "**Q5. Explain how you can use the find() method to query the MongoDB database. Write a simple code to demonstrate this.**"
   ]
  },
  {
   "cell_type": "markdown",
   "id": "4eabde8e",
   "metadata": {},
   "source": [
    "To use the `find()` method to query the MongoDB database, you can provide a query `filter` as an argument to the `find()` method. The query `filter` is a document that specifies the criteria for the documents you want to retrieve.\n",
    "\n",
    "Here's a simple code example that demonstrates the usage of `find():`"
   ]
  },
  {
   "cell_type": "code",
   "execution_count": 5,
   "id": "dcad9f11",
   "metadata": {},
   "outputs": [
    {
     "name": "stdout",
     "output_type": "stream",
     "text": [
      "{'_id': ObjectId('6492eb2778a616bd41cf5b94'), 'name': 'Alice', 'age': 30, 'city': 'London'}\n",
      "{'_id': ObjectId('6492eb2778a616bd41cf5b97'), 'name': 'Smith', 'age': 29, 'city': 'London'}\n",
      "{'_id': ObjectId('6492eb2778a616bd41cf5b98'), 'name': 'Bailey', 'age': 26, 'city': 'London'}\n",
      "{'_id': ObjectId('6492eb2778a616bd41cf5b99'), 'name': 'Harry', 'age': 33, 'city': 'London'}\n"
     ]
    }
   ],
   "source": [
    "# Assuming you already have the required modules imported and a connection to MongoDB\n",
    "\n",
    "# Access the desired collection\n",
    "collection = database['myNewCollection']\n",
    "\n",
    "# Perform a query using the find() method\n",
    "query = {\"city\": \"London\"}  # Query filter to retrieve documents where \"city\" is \"London\"\n",
    "results = collection.find(query)\n",
    "\n",
    "# Print the retrieved documents\n",
    "for document in results:\n",
    "    print(document)\n"
   ]
  },
  {
   "cell_type": "markdown",
   "id": "c38c6f7e",
   "metadata": {},
   "source": [
    "In this example, we're querying the` myNewCollection` collection for documents where the `city` field has a value of `London.` The `find()` method returns a `cursor` object that can be iterated to access the `retrieved` documents. Each document is a `dictionary` representing a `record` in the collection.\n",
    "\n",
    "The code above demonstrates a simple query, but you can construct more `complex queries` using various operators like `$gt`, `$lt`, `$in`, etc., to perform `range searches`, `logical operations`, and more."
   ]
  },
  {
   "cell_type": "markdown",
   "id": "0a58d21f",
   "metadata": {},
   "source": [
    "**Q6. Explain the sort() method. Give an example to demonstrate sorting in MongoDB.**"
   ]
  },
  {
   "cell_type": "code",
   "execution_count": 6,
   "id": "e6e7f547",
   "metadata": {},
   "outputs": [
    {
     "name": "stdout",
     "output_type": "stream",
     "text": [
      "{'_id': ObjectId('6492eb2778a616bd41cf5b94'), 'name': 'Alice', 'age': 30, 'city': 'London'}\n",
      "{'_id': ObjectId('6492eb2778a616bd41cf5b98'), 'name': 'Bailey', 'age': 26, 'city': 'London'}\n",
      "{'_id': ObjectId('6492eb2778a616bd41cf5b99'), 'name': 'Harry', 'age': 33, 'city': 'London'}\n",
      "{'_id': ObjectId('6492eb2778a616bd41cf5b97'), 'name': 'Smith', 'age': 29, 'city': 'London'}\n"
     ]
    }
   ],
   "source": [
    "# Assuming you already have the required modules imported and a connection to MongoDB\n",
    "\n",
    "# Access the desired collection\n",
    "collection = database['myNewCollection']\n",
    "\n",
    "# Perform a query using the find() method\n",
    "query = {\"city\": \"London\"}  # Query filter to retrieve documents where \"city\" is \"London\"\n",
    "results = collection.find(query)\n",
    "\n",
    "# Sort the results in ascending order based on the \"name\" field\n",
    "sorted_results = results.sort(\"name\", 1)  # 1 for ascending order, -1 for descending order\n",
    "\n",
    "# Print the sorted documents\n",
    "for document in sorted_results:\n",
    "    print(document)\n"
   ]
  },
  {
   "cell_type": "markdown",
   "id": "17c5f3aa",
   "metadata": {},
   "source": [
    "In the provided code, we use the `sort()` method to sort the results in `ascending order` based on the `name` field. The `sort()` method is called on the `cursor` object returned by the `find()` method. We pass the `field name (\"name\")` as the first argument and specify `1` as the second argument to indicate `ascending` order. If you want `descending` order, you can use `-1` instead."
   ]
  },
  {
   "cell_type": "markdown",
   "id": "a9410b7f",
   "metadata": {},
   "source": [
    "**Q7. Explain why delete_one(), delete_many(), and drop() is used.**"
   ]
  },
  {
   "cell_type": "markdown",
   "id": "cbb75868",
   "metadata": {},
   "source": [
    "- **delete_one()** method is used to `delete` a `single` document that matches the `specified filter`. It `deletes` the `first` document that matches the `filter.`\n",
    "\n",
    "- **delete_many()** method is used to `delete` `multiple` documents that match the `specified filter.` It deletes `all` the documents that match the `filter.`\n",
    "\n",
    "- **drop()** method is used to `delete` an `entire collection` from the database. It removes `all the documents` and `indexes` associated with the collection.\n",
    "\n",
    "Here's an example to demonstrate the usage of these methods:"
   ]
  },
  {
   "cell_type": "code",
   "execution_count": 7,
   "id": "f223adf3",
   "metadata": {},
   "outputs": [
    {
     "name": "stdout",
     "output_type": "stream",
     "text": [
      "After the deletion of one record:\n",
      "{'_id': ObjectId('6492eb2778a616bd41cf5b94'), 'name': 'Alice', 'age': 30, 'city': 'London'}\n",
      "{'_id': ObjectId('6492eb2778a616bd41cf5b95'), 'name': 'Bob', 'age': 35, 'city': 'Paris'}\n",
      "{'_id': ObjectId('6492eb2778a616bd41cf5b96'), 'name': 'Emily', 'age': 28, 'city': 'Berlin'}\n",
      "{'_id': ObjectId('6492eb2778a616bd41cf5b97'), 'name': 'Smith', 'age': 29, 'city': 'London'}\n",
      "{'_id': ObjectId('6492eb2778a616bd41cf5b98'), 'name': 'Bailey', 'age': 26, 'city': 'London'}\n",
      "{'_id': ObjectId('6492eb2778a616bd41cf5b99'), 'name': 'Harry', 'age': 33, 'city': 'London'}\n",
      "\t\n",
      "After the deletion of multiple records:\n",
      "{'_id': ObjectId('6492eb2778a616bd41cf5b96'), 'name': 'Emily', 'age': 28, 'city': 'Berlin'}\n",
      "{'_id': ObjectId('6492eb2778a616bd41cf5b97'), 'name': 'Smith', 'age': 29, 'city': 'London'}\n",
      "{'_id': ObjectId('6492eb2778a616bd41cf5b98'), 'name': 'Bailey', 'age': 26, 'city': 'London'}\n"
     ]
    }
   ],
   "source": [
    "# Assuming you already have the required modules imported and a connection to MongoDB\n",
    "\n",
    "# Access the desired collection\n",
    "collection = database['myNewCollection']\n",
    "\n",
    "# Delete a single document\n",
    "delete_result = collection.delete_one({\"name\": \"John\"})\n",
    "# Find and print all records using find()\n",
    "records = collection.find()\n",
    "print(\"After the deletion of one record:\")\n",
    "for record in records:\n",
    "    print(record)\n",
    "\n",
    "# Delete multiple documents\n",
    "delete_result = collection.delete_many({\"age\": {\"$gte\": 30}})\n",
    "# Find and print all records using find()\n",
    "records = collection.find()\n",
    "print(\"\\t\")\n",
    "print(\"After the deletion of multiple records:\")\n",
    "for record in records:\n",
    "    print(record)\n",
    "\n"
   ]
  },
  {
   "cell_type": "code",
   "execution_count": 8,
   "id": "20193fb4",
   "metadata": {},
   "outputs": [
    {
     "name": "stdout",
     "output_type": "stream",
     "text": [
      "Now all the records are:\n"
     ]
    }
   ],
   "source": [
    "# Drop the entire collection\n",
    "collection.drop()\n",
    "# Find and print all records using find()\n",
    "records = collection.find()\n",
    "print(\"Now all the records are:\")\n",
    "for record in records:\n",
    "    print(record)"
   ]
  },
  {
   "cell_type": "markdown",
   "id": "9d47a88e",
   "metadata": {},
   "source": [
    "In the code above, we first use `delete_one()` method to `delete` a document where the `name` field is `John.` Then, we use `delete_many()` method to delete `all `documents where the `age` field is `greater` than or `equal` to `30.`\n",
    "\n",
    "Finally, we use `drop()` method to delete the entire collection named `myCollection` from the database."
   ]
  },
  {
   "cell_type": "code",
   "execution_count": null,
   "id": "cbfc4503",
   "metadata": {},
   "outputs": [],
   "source": []
  }
 ],
 "metadata": {
  "kernelspec": {
   "display_name": "Python 3 (ipykernel)",
   "language": "python",
   "name": "python3"
  },
  "language_info": {
   "codemirror_mode": {
    "name": "ipython",
    "version": 3
   },
   "file_extension": ".py",
   "mimetype": "text/x-python",
   "name": "python",
   "nbconvert_exporter": "python",
   "pygments_lexer": "ipython3",
   "version": "3.10.9"
  },
  "toc": {
   "base_numbering": 1,
   "nav_menu": {},
   "number_sections": true,
   "sideBar": true,
   "skip_h1_title": false,
   "title_cell": "Table of Contents",
   "title_sidebar": "Contents",
   "toc_cell": false,
   "toc_position": {},
   "toc_section_display": true,
   "toc_window_display": false
  }
 },
 "nbformat": 4,
 "nbformat_minor": 5
}
