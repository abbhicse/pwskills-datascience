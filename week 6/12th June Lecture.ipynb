{
 "cells": [
  {
   "cell_type": "markdown",
   "id": "005f96e5",
   "metadata": {},
   "source": [
    "## MySQL"
   ]
  },
  {
   "cell_type": "code",
   "execution_count": 1,
   "id": "d9f1289d",
   "metadata": {},
   "outputs": [
    {
     "name": "stdout",
     "output_type": "stream",
     "text": [
      "Requirement already satisfied: ipython-sql in c:\\users\\lenovo\\anaconda3\\lib\\site-packages (0.5.0)\n",
      "Requirement already satisfied: prettytable in c:\\users\\lenovo\\anaconda3\\lib\\site-packages (from ipython-sql) (3.8.0)\n",
      "Requirement already satisfied: ipython in c:\\users\\lenovo\\anaconda3\\lib\\site-packages (from ipython-sql) (8.12.0)\n",
      "Requirement already satisfied: sqlalchemy>=2.0 in c:\\users\\lenovo\\anaconda3\\lib\\site-packages (from ipython-sql) (2.0.19)\n",
      "Requirement already satisfied: sqlparse in c:\\users\\lenovo\\anaconda3\\lib\\site-packages (from ipython-sql) (0.4.4)\n",
      "Requirement already satisfied: six in c:\\users\\lenovo\\appdata\\roaming\\python\\python311\\site-packages (from ipython-sql) (1.16.0)\n",
      "Requirement already satisfied: ipython-genutils in c:\\users\\lenovo\\anaconda3\\lib\\site-packages (from ipython-sql) (0.2.0)\n",
      "Requirement already satisfied: typing-extensions>=4.2.0 in c:\\users\\lenovo\\anaconda3\\lib\\site-packages (from sqlalchemy>=2.0->ipython-sql) (4.6.3)\n",
      "Requirement already satisfied: greenlet!=0.4.17 in c:\\users\\lenovo\\anaconda3\\lib\\site-packages (from sqlalchemy>=2.0->ipython-sql) (2.0.1)\n",
      "Requirement already satisfied: backcall in c:\\users\\lenovo\\anaconda3\\lib\\site-packages (from ipython->ipython-sql) (0.2.0)\n",
      "Requirement already satisfied: decorator in c:\\users\\lenovo\\anaconda3\\lib\\site-packages (from ipython->ipython-sql) (5.1.1)\n",
      "Requirement already satisfied: jedi>=0.16 in c:\\users\\lenovo\\anaconda3\\lib\\site-packages (from ipython->ipython-sql) (0.18.1)\n",
      "Requirement already satisfied: matplotlib-inline in c:\\users\\lenovo\\anaconda3\\lib\\site-packages (from ipython->ipython-sql) (0.1.6)\n",
      "Requirement already satisfied: pickleshare in c:\\users\\lenovo\\anaconda3\\lib\\site-packages (from ipython->ipython-sql) (0.7.5)\n",
      "Requirement already satisfied: prompt-toolkit!=3.0.37,<3.1.0,>=3.0.30 in c:\\users\\lenovo\\anaconda3\\lib\\site-packages (from ipython->ipython-sql) (3.0.36)\n",
      "Requirement already satisfied: pygments>=2.4.0 in c:\\users\\lenovo\\anaconda3\\lib\\site-packages (from ipython->ipython-sql) (2.15.1)\n",
      "Requirement already satisfied: stack-data in c:\\users\\lenovo\\anaconda3\\lib\\site-packages (from ipython->ipython-sql) (0.2.0)\n",
      "Requirement already satisfied: traitlets>=5 in c:\\users\\lenovo\\anaconda3\\lib\\site-packages (from ipython->ipython-sql) (5.7.1)\n",
      "Requirement already satisfied: colorama in c:\\users\\lenovo\\anaconda3\\lib\\site-packages (from ipython->ipython-sql) (0.4.6)\n",
      "Requirement already satisfied: wcwidth in c:\\users\\lenovo\\anaconda3\\lib\\site-packages (from prettytable->ipython-sql) (0.2.5)\n",
      "Requirement already satisfied: parso<0.9.0,>=0.8.0 in c:\\users\\lenovo\\anaconda3\\lib\\site-packages (from jedi>=0.16->ipython->ipython-sql) (0.8.3)\n",
      "Requirement already satisfied: executing in c:\\users\\lenovo\\anaconda3\\lib\\site-packages (from stack-data->ipython->ipython-sql) (0.8.3)\n",
      "Requirement already satisfied: asttokens in c:\\users\\lenovo\\anaconda3\\lib\\site-packages (from stack-data->ipython->ipython-sql) (2.0.5)\n",
      "Requirement already satisfied: pure-eval in c:\\users\\lenovo\\anaconda3\\lib\\site-packages (from stack-data->ipython->ipython-sql) (0.2.2)\n",
      "Requirement already satisfied: mysqlclient in c:\\users\\lenovo\\anaconda3\\lib\\site-packages (2.2.0)\n",
      "Requirement already satisfied: mysql-connector in c:\\users\\lenovo\\anaconda3\\lib\\site-packages (2.2.9)\n",
      "Requirement already satisfied: mysql-connector-python in c:\\users\\lenovo\\anaconda3\\lib\\site-packages (8.1.0)\n",
      "Requirement already satisfied: protobuf<=4.21.12,>=4.21.1 in c:\\users\\lenovo\\anaconda3\\lib\\site-packages (from mysql-connector-python) (4.21.12)\n"
     ]
    }
   ],
   "source": [
    "# Need to install some driver and packages for database connection \n",
    "!pip3 install ipython-sql\n",
    "!pip3 install mysqlclient\n",
    "!pip3 install mysql-connector\n",
    "!pip3 install mysql-connector-python"
   ]
  },
  {
   "cell_type": "code",
   "execution_count": 2,
   "id": "2799ab11",
   "metadata": {},
   "outputs": [
    {
     "name": "stdout",
     "output_type": "stream",
     "text": [
      "<mysql.connector.connection.MySQLConnection object at 0x0000022414601310>\n"
     ]
    }
   ],
   "source": [
    "# Create a database\n",
    "# Import the required library for database connection\n",
    "import mysql.connector as sql\n",
    "\n",
    "# Connect to the MySQL server with the provided credentials\n",
    "# Change the 'host', 'user', 'password' as needed for your MySQL server\n",
    "mydb = sql.connect(\n",
    "    host=\"localhost\",\n",
    "    user=\"root\",\n",
    "    password=\"abbhicse\",\n",
    "    use_pure=True\n",
    ")\n",
    "\n",
    "# Print the connection object to check if the connection is successful\n",
    "# Note: This step is optional and can be removed if not needed\n",
    "print(mydb)\n",
    "\n",
    "# Create a cursor object to interact with the database\n",
    "mycursor = mydb.cursor()\n",
    "\n",
    "# Execute a SQL query to create a new database named 'test2' if it doesn't exist\n",
    "mycursor.execute(\"CREATE DATABASE IF NOT EXISTS test2\")\n",
    "\n",
    "# Close the database connection\n",
    "mydb.close()"
   ]
  },
  {
   "cell_type": "code",
   "execution_count": 3,
   "id": "e4dfb2f0",
   "metadata": {},
   "outputs": [],
   "source": [
    "# Create a table in the database\n",
    "# Import the required library for database connection\n",
    "import mysql.connector as sql\n",
    "\n",
    "# Connect to the MySQL server with the provided credentials\n",
    "# Change the 'host', 'user', 'password' as needed for your MySQL server\n",
    "mydb = sql.connect(\n",
    "  host=\"localhost\",\n",
    "  user=\"root\",\n",
    "  password=\"abbhicse\",\n",
    "  use_pure = True  \n",
    ")\n",
    "\n",
    "# Create a cursor object to interact with the database\n",
    "mycursor = mydb.cursor()\n",
    "\n",
    "# Execute a SQL query to create a new table named 'test_table' in the 'test2' database if it doesn't exist\n",
    "mycursor.execute(\"CREATE TABLE if not exists  test2.test_table(c1 INT , c2 VARCHAR(50) , c3 FLOAT , c4 INT , c5 VARCHAR(30))\")\n",
    "\n",
    "# Close the database connection\n",
    "mydb.close()"
   ]
  },
  {
   "cell_type": "code",
   "execution_count": 4,
   "id": "14688a6c",
   "metadata": {},
   "outputs": [],
   "source": [
    "# Insert multiple datas in the table\n",
    "# Import the required library for database connection\n",
    "import mysql.connector as sql\n",
    "\n",
    "# Connect to the MySQL server with the provided credentials\n",
    "# Change the 'host', 'user', 'password' as needed for your MySQL server\n",
    "mydb = sql.connect(\n",
    "  host=\"localhost\",\n",
    "  user=\"root\",\n",
    "  password=\"abbhicse\",\n",
    "  use_pure = True  \n",
    ")\n",
    "\n",
    "# Create a cursor object to interact with the database\n",
    "mycursor = mydb.cursor()\n",
    "\n",
    "# Execute queries for individual rows\n",
    "mycursor.execute(\"insert into test2.test_table values(123 , 'sudh' , 234.45,234 ,'kumar')\")\n",
    "mycursor.execute(\"insert into test2.test_table values(123 , 'sudh' , 234.45,234 ,'kumar')\")\n",
    "mycursor.execute(\"insert into test2.test_table values(123 , 'sudh' , 234.45,234 ,'kumar')\")\n",
    "mycursor.execute(\"insert into test2.test_table values(123 , 'sudh' , 234.45,234 ,'kumar')\")\n",
    "mycursor.execute(\"insert into test2.test_table values(123 , 'sudh' , 234.45,234 ,'kumar')\")\n",
    "mycursor.execute(\"insert into test2.test_table values(123 , 'sudh' , 234.45,234 ,'kumar')\")\n",
    "mycursor.execute(\"insert into test2.test_table values(123 , 'sudh' , 234.45,234 ,'kumar')\")\n",
    "mycursor.execute(\"insert into test2.test_table values(123 , 'sudh' , 234.45,234 ,'kumar')\")\n",
    "mycursor.execute(\"insert into test2.test_table values(123 , 'sudh' , 234.45,234 ,'kumar')\")\n",
    "mycursor.execute(\"insert into test2.test_table values(123 , 'sudh' , 234.45,234 ,'kumar')\")\n",
    "mycursor.execute(\"insert into test2.test_table values(123 , 'sudh' , 234.45,234 ,'kumar')\")\n",
    "mycursor.execute(\"insert into test2.test_table values(123 , 'sudh' , 234.45,234 ,'kumar')\")\n",
    "mycursor.execute(\"insert into test2.test_table values(123 , 'sudh' , 234.45,234 ,'kumar')\")\n",
    "mycursor.execute(\"insert into test2.test_table values(123 , 'sudh' , 234.45,234 ,'kumar')\")\n",
    "\n",
    "# Commit the changes to the database to make them permanent\n",
    "mydb.commit()\n",
    "\n",
    "# Close the database connection\n",
    "mydb.close()"
   ]
  },
  {
   "cell_type": "markdown",
   "id": "af308ce3",
   "metadata": {},
   "source": [
    "Also, we can write this way:"
   ]
  },
  {
   "cell_type": "code",
   "execution_count": 5,
   "id": "244beeef",
   "metadata": {},
   "outputs": [],
   "source": [
    "# Insert multiple datas in the table\n",
    "# Import the required library for database connection\n",
    "import mysql.connector as sql\n",
    "\n",
    "# Connect to the MySQL server with the provided credentials\n",
    "# Change the 'host', 'user', 'password' as needed for your MySQL server\n",
    "mydb = sql.connect(\n",
    "    host=\"localhost\",\n",
    "    user=\"root\",\n",
    "    password=\"abbhicse\",\n",
    "    use_pure=True\n",
    ")\n",
    "\n",
    "# Create a cursor object to interact with the database\n",
    "mycursor = mydb.cursor()\n",
    "\n",
    "# Execute a SQL query to insert multiple rows of data into the 'test_table' table in the 'test2' database\n",
    "data_values = [\n",
    "    (123, 'sudh', 234.45, 234, 'kumar'),\n",
    "    (456, 'john', 456.78, 567, 'smith'),\n",
    "    (789, 'alice', 789.01, 890, 'jones'),\n",
    "    # Add more rows of data as needed\n",
    "]\n",
    "\n",
    "# Use executemany() method to insert multiple rows in a single query, which is more efficient than executing individual queries for each row\n",
    "mycursor.executemany(\"INSERT INTO test2.test_table (c1, c2, c3, c4, c5) VALUES (%s, %s, %s, %s, %s)\", data_values)\n",
    "\n",
    "# Commit the changes to the database to make them permanent\n",
    "mydb.commit()\n",
    "\n",
    "# Close the database connection\n",
    "mydb.close()\n"
   ]
  },
  {
   "cell_type": "code",
   "execution_count": 6,
   "id": "a79cd43e",
   "metadata": {},
   "outputs": [
    {
     "name": "stdout",
     "output_type": "stream",
     "text": [
      "<mysql.connector.connection.MySQLConnection object at 0x00000224146009D0>\n",
      "('information_schema',)\n",
      "('my_schema',)\n",
      "('mysql',)\n",
      "('performance_schema',)\n",
      "('sakila',)\n",
      "('sys',)\n",
      "('test2',)\n",
      "('world',)\n"
     ]
    }
   ],
   "source": [
    "# Show a database\n",
    "# Import the required library for database connection\n",
    "import mysql.connector as sql\n",
    "\n",
    "# Connect to the MySQL server with the provided credentials\n",
    "# Change the 'host', 'user', 'password' as needed for your MySQL server\n",
    "mydb = sql.connect(\n",
    "  host=\"localhost\",\n",
    "  user=\"root\",\n",
    "  password=\"abbhicse\",\n",
    "  use_pure = True  \n",
    ")\n",
    "\n",
    "# Print the connection object to check if the connection is successful\n",
    "# Note: This step is optional and can be removed if not needed\n",
    "print(mydb)\n",
    "\n",
    "# Create a cursor object to interact with the database\n",
    "mycursor = mydb.cursor()\n",
    "\n",
    "# Execute a query to show the MySQL database related informations\n",
    "# Print the informations using a for loop\n",
    "mycursor.execute(\"SHOW DATABASES\")\n",
    "for x in mycursor:\n",
    "    print(x)"
   ]
  },
  {
   "cell_type": "code",
   "execution_count": 7,
   "id": "4f613882",
   "metadata": {},
   "outputs": [
    {
     "name": "stdout",
     "output_type": "stream",
     "text": [
      "(123, 'kumar')\n",
      "(123, 'kumar')\n",
      "(123, 'kumar')\n",
      "(123, 'kumar')\n",
      "(123, 'kumar')\n",
      "(123, 'kumar')\n",
      "(123, 'kumar')\n",
      "(123, 'kumar')\n",
      "(123, 'kumar')\n",
      "(123, 'kumar')\n",
      "(123, 'kumar')\n",
      "(123, 'kumar')\n",
      "(123, 'kumar')\n",
      "(123, 'kumar')\n",
      "(123, 'kumar')\n",
      "(456, 'smith')\n",
      "(789, 'jones')\n"
     ]
    }
   ],
   "source": [
    "# Execute a query on the database to show specific columns in test_table\n",
    "# Import the required library for database connection\n",
    "import mysql.connector as sql\n",
    "\n",
    "# Connect to the MySQL server with the provided credentials\n",
    "# Change the 'host', 'user', 'password' as needed for your MySQL server\n",
    "mydb = sql.connect(\n",
    "  host=\"localhost\",\n",
    "  user=\"root\",\n",
    "  password=\"abbhicse\",\n",
    "  use_pure = True  \n",
    ")\n",
    "\n",
    "# Create a cursor object to interact with the database\n",
    "mycursor = mydb.cursor()\n",
    "\n",
    "#mycursor.execute(\"select * from test2.test_table\")\n",
    "# Print the informations using a for loop\n",
    "mycursor.execute(\"select c1 , c5 from test2.test_table\")\n",
    "for i in mycursor.fetchall() : \n",
    "    print(i)\n",
    "\n",
    "# Close the database connection    \n",
    "mydb.close()"
   ]
  },
  {
   "cell_type": "code",
   "execution_count": null,
   "id": "f417095a",
   "metadata": {},
   "outputs": [],
   "source": []
  },
  {
   "cell_type": "markdown",
   "id": "5174d099",
   "metadata": {},
   "source": [
    "## MongoDb"
   ]
  },
  {
   "cell_type": "code",
   "execution_count": 1,
   "id": "751b96a7",
   "metadata": {},
   "outputs": [
    {
     "name": "stdout",
     "output_type": "stream",
     "text": [
      "Requirement already satisfied: pymongo in c:\\users\\lenovo\\anaconda3\\lib\\site-packages (4.4.1)\n",
      "Requirement already satisfied: dnspython<3.0.0,>=1.16.0 in c:\\users\\lenovo\\anaconda3\\lib\\site-packages (from pymongo) (2.4.1)\n"
     ]
    }
   ],
   "source": [
    "!pip install pymongo"
   ]
  },
  {
   "cell_type": "code",
   "execution_count": 2,
   "id": "a292ffac",
   "metadata": {},
   "outputs": [],
   "source": [
    "# Import the required modules\n",
    "from pymongo import MongoClient\n",
    "\n",
    "# Create a connection to MongoDB\n",
    "client = MongoClient('mongodb://localhost:27017/')\n",
    "\n",
    "# Access a specific database in MongoDB with name \"test\"\n",
    "db = client.test"
   ]
  },
  {
   "cell_type": "code",
   "execution_count": 3,
   "id": "7113b957",
   "metadata": {},
   "outputs": [
    {
     "data": {
      "text/plain": [
       "Database(MongoClient(host=['localhost:27017'], document_class=dict, tz_aware=False, connect=True), 'test')"
      ]
     },
     "execution_count": 3,
     "metadata": {},
     "output_type": "execute_result"
    }
   ],
   "source": [
    "# The variable 'db' can now be used to interact with collections and perform operations on the database.\n",
    "db"
   ]
  },
  {
   "cell_type": "code",
   "execution_count": 4,
   "id": "bd21a6e9",
   "metadata": {},
   "outputs": [],
   "source": [
    "# MongoDB - Connecting to a specific database named 'pwskills'\n",
    "db = client['pwskills']\n",
    "# The variable 'db' is now assigned to the 'pwskills' database in MongoDB, and you can use it to interact with collections and perform various operations on the database.\n",
    "\n",
    "# For example, you can now query data from a collection within the 'pwskills' database using the 'db' variable like this:\n",
    "# result = db.collection_name.find(query)\n",
    "# Where 'collection_name' is the name of the collection you want to query and 'query' is the query you want to execute.\n",
    "\n",
    "# Remember to handle errors and close the MongoDB connection when you're done working with the database using:\n",
    "# client.close()"
   ]
  },
  {
   "cell_type": "code",
   "execution_count": 5,
   "id": "12cd815a",
   "metadata": {},
   "outputs": [],
   "source": [
    "# Define a dictionary named 'data' with three key-value pairs\n",
    "# The keys are \"name\", \"class\", and \"time\", and the corresponding values are \"sudh\", \"data science masters\", and \"flexi\" respectively\n",
    "data = {\"name\" : \"sudh\" , \n",
    "        \"class\" :\"data science masters \" ,\n",
    "        \"time\" : \"flexi\"}"
   ]
  },
  {
   "cell_type": "code",
   "execution_count": 6,
   "id": "ba4e9327",
   "metadata": {},
   "outputs": [],
   "source": [
    "# We have already connected to the MongoDB database named 'pwskills' and assigned it to the variable 'db'.\n",
    "# Now, we want to access a specific collection within the 'pwskills' database.\n",
    "# A collection in MongoDB is similar to a table in relational databases.\n",
    "# Let's create a collection named 'my_record' within the 'pwskills' database and assign it to the variable 'coll_pwskills'.\n",
    "coll_pwskills = db[\"my_record\"]"
   ]
  },
  {
   "cell_type": "code",
   "execution_count": 7,
   "id": "80d9e105",
   "metadata": {},
   "outputs": [
    {
     "data": {
      "text/plain": [
       "<pymongo.results.InsertOneResult at 0x1f9d8435570>"
      ]
     },
     "execution_count": 7,
     "metadata": {},
     "output_type": "execute_result"
    }
   ],
   "source": [
    "# We are inserting the dictionary 'data' into the 'my_record' collection in the 'pwskills' database\n",
    "coll_pwskills.insert_one(data)"
   ]
  },
  {
   "cell_type": "code",
   "execution_count": 8,
   "id": "992d76f3",
   "metadata": {},
   "outputs": [],
   "source": [
    "# Define a new dictionary named 'data1' with three key-value pairs\n",
    "# The keys are \"mail_id\", \"phone_number\", and \"addr\", and the corresponding values are \"sudh@gmail.com\", 2323424324, and \"bangalore\" respectively\n",
    "data1 = {\"mail_id\" : \"sudh@gmail.com\",\n",
    "         \"phone_number \" : 2323424324,\n",
    "         \"addr\" : \"bangalore\"\n",
    "}"
   ]
  },
  {
   "cell_type": "code",
   "execution_count": 9,
   "id": "58de44b4",
   "metadata": {},
   "outputs": [
    {
     "data": {
      "text/plain": [
       "<pymongo.results.InsertOneResult at 0x1f9d86f9120>"
      ]
     },
     "execution_count": 9,
     "metadata": {},
     "output_type": "execute_result"
    }
   ],
   "source": [
    "# We are inserting the dictionary 'data1' into the 'my_record' collection in the 'pwskills' database\n",
    "coll_pwskills.insert_one(data1)"
   ]
  },
  {
   "cell_type": "code",
   "execution_count": 10,
   "id": "affb6270",
   "metadata": {},
   "outputs": [],
   "source": [
    "# Define a list of dictionaries named 'data2' with each dictionary representing a person's information\n",
    "# Each dictionary has two key-value pairs: \"name\" and \"address\"\n",
    "data2 = [\n",
    "  { \"name\": \"Amy\", \"address\": \"Apple st 652\" },\n",
    "  { \"name\": \"Hannah\", \"address\": \"Mountain 21\" },\n",
    "  { \"name\": \"Michael\", \"address\": \"Valley 345\" },\n",
    "  { \"name\": \"Sandy\", \"address\": \"Ocean blvd 2\" },\n",
    "  { \"name\": \"Betty\", \"address\": \"Green Grass 1\" },\n",
    "  { \"name\": \"Richard\", \"address\": \"Sky st 331\" },\n",
    "  { \"name\": \"Susan\", \"address\": \"One way 98\" },\n",
    "  { \"name\": \"Vicky\", \"address\": \"Yellow Garden 2\" },\n",
    "  { \"name\": \"Ben\", \"address\": \"Park Lane 38\" },\n",
    "  { \"name\": \"William\", \"address\": \"Central st 954\" },\n",
    "  { \"name\": \"Chuck\", \"address\": \"Main Road 989\" },\n",
    "  { \"name\": \"Viola\", \"address\": \"Sideway 1633\" }\n",
    "]"
   ]
  },
  {
   "cell_type": "code",
   "execution_count": 11,
   "id": "4a5008da",
   "metadata": {},
   "outputs": [
    {
     "data": {
      "text/plain": [
       "<pymongo.results.InsertManyResult at 0x1f9d8435210>"
      ]
     },
     "execution_count": 11,
     "metadata": {},
     "output_type": "execute_result"
    }
   ],
   "source": [
    "# Insert the list of dictionaries 'data2' into the 'my_record' collection in the 'pwskills' database\n",
    "coll_pwskills.insert_many(data2)"
   ]
  },
  {
   "cell_type": "code",
   "execution_count": 12,
   "id": "1b0c33ef",
   "metadata": {},
   "outputs": [],
   "source": [
    "# Define a new dictionary named 'data3' representing information about a notebook\n",
    "# The dictionary has several key-value pairs\n",
    "data3 = {\n",
    " \"name\": \"notebook\",\n",
    " \"qty\": 50,\n",
    " \"rating\": [ { \"score\": 8 }, { \"score\": 9 } ],\n",
    " \"size\": { \"height\": 11, \"width\": 8.5, \"unit\": \"in\" },\n",
    " \"status\": \"A\",\n",
    " \"tags\": [ \"college-ruled\", \"perforated\"]\n",
    "}"
   ]
  },
  {
   "cell_type": "code",
   "execution_count": 13,
   "id": "fa26f6a5",
   "metadata": {},
   "outputs": [
    {
     "data": {
      "text/plain": [
       "<pymongo.results.InsertOneResult at 0x1f9d8435b10>"
      ]
     },
     "execution_count": 13,
     "metadata": {},
     "output_type": "execute_result"
    }
   ],
   "source": [
    "# Insert the dictionary 'data3' into the 'my_record' collection\n",
    "coll_pwskills.insert_one(data3)"
   ]
  },
  {
   "cell_type": "code",
   "execution_count": 14,
   "id": "474e5a8a",
   "metadata": {},
   "outputs": [],
   "source": [
    "# Define a list of dictionaries named 'list_of_records' representing information about different courses offered by the company 'iNeuron'\n",
    "# Each dictionary has three key-value pairs: \"companyName\", \"product\", and \"courseOffered\"\n",
    "list_of_records = [\n",
    "    {'companyName': 'iNeuron',\n",
    "     'product': 'Affordable AI',\n",
    "     'courseOffered': 'Machine Learning with Deployment'},\n",
    "    \n",
    "    {'companyName': 'iNeuron',\n",
    "     'product': 'Affordable AI',\n",
    "     'courseOffered': 'Deep Learning for NLP and Computer vision'},\n",
    "    \n",
    "    {'companyName': 'iNeuron',\n",
    "     'product': 'Master Program',\n",
    "     'courseOffered': 'Data Science Masters Program'}\n",
    "]"
   ]
  },
  {
   "cell_type": "code",
   "execution_count": 15,
   "id": "b0e420ac",
   "metadata": {},
   "outputs": [
    {
     "data": {
      "text/plain": [
       "<pymongo.results.InsertManyResult at 0x1f9d92874c0>"
      ]
     },
     "execution_count": 15,
     "metadata": {},
     "output_type": "execute_result"
    }
   ],
   "source": [
    "# Insert the list of dictionaries 'list_of_records' into the 'my_record' collection in the 'pwskills' database\n",
    "coll_pwskills.insert_many(list_of_records)"
   ]
  },
  {
   "cell_type": "code",
   "execution_count": 16,
   "id": "d1833f34",
   "metadata": {},
   "outputs": [
    {
     "data": {
      "text/plain": [
       "{'_id': ObjectId('64c67c5221a638145e8d2391'),\n",
       " 'name': 'sudh',\n",
       " 'class': 'data science masters ',\n",
       " 'time': 'flexi'}"
      ]
     },
     "execution_count": 16,
     "metadata": {},
     "output_type": "execute_result"
    }
   ],
   "source": [
    "# Use the `find_one()` method to retrieve a single document from the 'my_record' collection in the 'pwskills' database\n",
    "# The `find_one()` method returns the first matching document found\n",
    "# If no documents match the query criteria, it returns None\n",
    "coll_pwskills.find_one()"
   ]
  },
  {
   "cell_type": "code",
   "execution_count": 17,
   "id": "fb32dbb7",
   "metadata": {},
   "outputs": [
    {
     "name": "stdout",
     "output_type": "stream",
     "text": [
      "{'_id': ObjectId('64c67c5221a638145e8d2391'), 'name': 'sudh', 'class': 'data science masters ', 'time': 'flexi'}\n",
      "{'_id': ObjectId('64c67c6321a638145e8d2392'), 'mail_id': 'sudh@gmail.com', 'phone_number ': 2323424324, 'addr': 'bangalore'}\n",
      "{'_id': ObjectId('64c67c7321a638145e8d2393'), 'name': 'Amy', 'address': 'Apple st 652'}\n",
      "{'_id': ObjectId('64c67c7321a638145e8d2394'), 'name': 'Hannah', 'address': 'Mountain 21'}\n",
      "{'_id': ObjectId('64c67c7321a638145e8d2395'), 'name': 'Michael', 'address': 'Valley 345'}\n",
      "{'_id': ObjectId('64c67c7321a638145e8d2396'), 'name': 'Sandy', 'address': 'Ocean blvd 2'}\n",
      "{'_id': ObjectId('64c67c7321a638145e8d2397'), 'name': 'Betty', 'address': 'Green Grass 1'}\n",
      "{'_id': ObjectId('64c67c7321a638145e8d2398'), 'name': 'Richard', 'address': 'Sky st 331'}\n",
      "{'_id': ObjectId('64c67c7321a638145e8d2399'), 'name': 'Susan', 'address': 'One way 98'}\n",
      "{'_id': ObjectId('64c67c7321a638145e8d239a'), 'name': 'Vicky', 'address': 'Yellow Garden 2'}\n",
      "{'_id': ObjectId('64c67c7321a638145e8d239b'), 'name': 'Ben', 'address': 'Park Lane 38'}\n",
      "{'_id': ObjectId('64c67c7321a638145e8d239c'), 'name': 'William', 'address': 'Central st 954'}\n",
      "{'_id': ObjectId('64c67c7321a638145e8d239d'), 'name': 'Chuck', 'address': 'Main Road 989'}\n",
      "{'_id': ObjectId('64c67c7321a638145e8d239e'), 'name': 'Viola', 'address': 'Sideway 1633'}\n",
      "{'_id': ObjectId('64c67c7f21a638145e8d239f'), 'name': 'notebook', 'qty': 50, 'rating': [{'score': 8}, {'score': 9}], 'size': {'height': 11, 'width': 8.5, 'unit': 'in'}, 'status': 'A', 'tags': ['college-ruled', 'perforated']}\n",
      "{'_id': ObjectId('64c67c8e21a638145e8d23a0'), 'companyName': 'iNeuron', 'product': 'Affordable AI', 'courseOffered': 'Machine Learning with Deployment'}\n",
      "{'_id': ObjectId('64c67c8e21a638145e8d23a1'), 'companyName': 'iNeuron', 'product': 'Affordable AI', 'courseOffered': 'Deep Learning for NLP and Computer vision'}\n",
      "{'_id': ObjectId('64c67c8e21a638145e8d23a2'), 'companyName': 'iNeuron', 'product': 'Master Program', 'courseOffered': 'Data Science Masters Program'}\n"
     ]
    }
   ],
   "source": [
    "# Loop through all documents in the 'my_record' collection of the 'pwskills' database and retrieve each document\n",
    "# The `find()` method with an empty query parameter returns all documents in the collection\n",
    "for i in coll_pwskills.find():\n",
    "    print(i)"
   ]
  },
  {
   "cell_type": "code",
   "execution_count": 18,
   "id": "d72da12e",
   "metadata": {},
   "outputs": [
    {
     "name": "stdout",
     "output_type": "stream",
     "text": [
      "{'_id': ObjectId('64c67c5221a638145e8d2391'), 'name': 'sudh', 'class': 'data science masters ', 'time': 'flexi'}\n"
     ]
    }
   ],
   "source": [
    "# Loop through all documents in the 'coll_pwskills' collection of the 'pwskills' database \n",
    "# where the value of the key 'name' is equal to 'sudh'\n",
    "# The `find()` method with the query parameter {'name': 'sudh'} returns all documents in the collection \n",
    "# that match the specified criteria\n",
    "for i in coll_pwskills.find({'name': 'sudh'}):\n",
    "    print(i)"
   ]
  },
  {
   "cell_type": "code",
   "execution_count": 19,
   "id": "b0e6ba2e",
   "metadata": {},
   "outputs": [
    {
     "name": "stdout",
     "output_type": "stream",
     "text": [
      "{'_id': ObjectId('64c67c8e21a638145e8d23a0'), 'companyName': 'iNeuron', 'product': 'Affordable AI', 'courseOffered': 'Machine Learning with Deployment'}\n",
      "{'_id': ObjectId('64c67c8e21a638145e8d23a1'), 'companyName': 'iNeuron', 'product': 'Affordable AI', 'courseOffered': 'Deep Learning for NLP and Computer vision'}\n",
      "{'_id': ObjectId('64c67c8e21a638145e8d23a2'), 'companyName': 'iNeuron', 'product': 'Master Program', 'courseOffered': 'Data Science Masters Program'}\n"
     ]
    }
   ],
   "source": [
    "# Loop through all documents in the 'coll_pwskills' collection of the 'pwskills' database \n",
    "# where the value of the key 'companyName' is equal to 'iNeuron'\n",
    "# The `find()` method with the query parameter {'companyName': 'iNeuron'} returns all documents in the collection \n",
    "# that match the specified criteria\n",
    "for i in coll_pwskills.find({'companyName': 'iNeuron'}):\n",
    "    print(i)"
   ]
  },
  {
   "cell_type": "code",
   "execution_count": 20,
   "id": "61ca0066",
   "metadata": {},
   "outputs": [],
   "source": [
    "# List of dictionaries containing random data\n",
    "random_data = [\n",
    "    {'_id': '3', 'companyName': 'iNeuron', 'Faculty': 'XYZ'},\n",
    "    {'_id': '4', 'companyName': 'iNeuron', 'Faculty': 'ABC'},\n",
    "    {'_id': '5', 'companyName': 'iNeuron', 'Faculty': 'PQR'},\n",
    "]"
   ]
  },
  {
   "cell_type": "code",
   "execution_count": 21,
   "id": "b563d559",
   "metadata": {},
   "outputs": [
    {
     "data": {
      "text/plain": [
       "<pymongo.results.InsertManyResult at 0x1f9d84352d0>"
      ]
     },
     "execution_count": 21,
     "metadata": {},
     "output_type": "execute_result"
    }
   ],
   "source": [
    "# Insert the list of dictionaries 'random_data' into the 'my_record' collection in the 'pwskills' database\n",
    "coll_pwskills.insert_many(random_data)"
   ]
  },
  {
   "cell_type": "code",
   "execution_count": 22,
   "id": "dc70c7df",
   "metadata": {},
   "outputs": [
    {
     "name": "stdout",
     "output_type": "stream",
     "text": [
      "{'_id': ObjectId('64c67c5221a638145e8d2391'), 'name': 'sudh', 'class': 'data science masters ', 'time': 'flexi'}\n",
      "{'_id': ObjectId('64c67c6321a638145e8d2392'), 'mail_id': 'sudh@gmail.com', 'phone_number ': 2323424324, 'addr': 'bangalore'}\n",
      "{'_id': ObjectId('64c67c7321a638145e8d2393'), 'name': 'Amy', 'address': 'Apple st 652'}\n",
      "{'_id': ObjectId('64c67c7321a638145e8d2394'), 'name': 'Hannah', 'address': 'Mountain 21'}\n",
      "{'_id': ObjectId('64c67c7321a638145e8d2395'), 'name': 'Michael', 'address': 'Valley 345'}\n",
      "{'_id': ObjectId('64c67c7321a638145e8d2396'), 'name': 'Sandy', 'address': 'Ocean blvd 2'}\n",
      "{'_id': ObjectId('64c67c7321a638145e8d2397'), 'name': 'Betty', 'address': 'Green Grass 1'}\n",
      "{'_id': ObjectId('64c67c7321a638145e8d2398'), 'name': 'Richard', 'address': 'Sky st 331'}\n",
      "{'_id': ObjectId('64c67c7321a638145e8d2399'), 'name': 'Susan', 'address': 'One way 98'}\n",
      "{'_id': ObjectId('64c67c7321a638145e8d239a'), 'name': 'Vicky', 'address': 'Yellow Garden 2'}\n",
      "{'_id': ObjectId('64c67c7321a638145e8d239b'), 'name': 'Ben', 'address': 'Park Lane 38'}\n",
      "{'_id': ObjectId('64c67c7321a638145e8d239c'), 'name': 'William', 'address': 'Central st 954'}\n",
      "{'_id': ObjectId('64c67c7321a638145e8d239d'), 'name': 'Chuck', 'address': 'Main Road 989'}\n",
      "{'_id': ObjectId('64c67c7321a638145e8d239e'), 'name': 'Viola', 'address': 'Sideway 1633'}\n",
      "{'_id': ObjectId('64c67c7f21a638145e8d239f'), 'name': 'notebook', 'qty': 50, 'rating': [{'score': 8}, {'score': 9}], 'size': {'height': 11, 'width': 8.5, 'unit': 'in'}, 'status': 'A', 'tags': ['college-ruled', 'perforated']}\n",
      "{'_id': ObjectId('64c67c8e21a638145e8d23a0'), 'companyName': 'iNeuron', 'product': 'Affordable AI', 'courseOffered': 'Machine Learning with Deployment'}\n",
      "{'_id': ObjectId('64c67c8e21a638145e8d23a1'), 'companyName': 'iNeuron', 'product': 'Affordable AI', 'courseOffered': 'Deep Learning for NLP and Computer vision'}\n",
      "{'_id': ObjectId('64c67c8e21a638145e8d23a2'), 'companyName': 'iNeuron', 'product': 'Master Program', 'courseOffered': 'Data Science Masters Program'}\n",
      "{'_id': '3', 'companyName': 'iNeuron', 'Faculty': 'XYZ'}\n",
      "{'_id': '4', 'companyName': 'iNeuron', 'Faculty': 'ABC'}\n",
      "{'_id': '5', 'companyName': 'iNeuron', 'Faculty': 'PQR'}\n"
     ]
    }
   ],
   "source": [
    "# Loop through all documents in the 'my_record' collection of the 'pwskills' database and retrieve each document\n",
    "# The `find()` method with an empty query parameter returns all documents in the collection\n",
    "for i in  coll_pwskills.find():\n",
    "    print(i)"
   ]
  },
  {
   "cell_type": "code",
   "execution_count": 23,
   "id": "35852df5",
   "metadata": {},
   "outputs": [
    {
     "name": "stdout",
     "output_type": "stream",
     "text": [
      "{'_id': '4', 'companyName': 'iNeuron', 'Faculty': 'ABC'}\n",
      "{'_id': '5', 'companyName': 'iNeuron', 'Faculty': 'PQR'}\n"
     ]
    }
   ],
   "source": [
    "# Loop through all documents in the 'coll_pwskills' collection of the 'pwskills' database \n",
    "# where the value of the key '_id' is greater than or equal to '4'\n",
    "# The `find()` method with the query parameter {\"_id\" :{\"$gte\" : '4'}} returns all documents in the collection \n",
    "# that have an '_id' greater than or equal to '4'\n",
    "for i in coll_pwskills.find({\"_id\" :{\"$gte\" : '4'}}):\n",
    "    print(i)"
   ]
  },
  {
   "cell_type": "code",
   "execution_count": 24,
   "id": "dbaa3de4",
   "metadata": {},
   "outputs": [
    {
     "data": {
      "text/plain": [
       "<pymongo.results.UpdateResult at 0x1f9d8435600>"
      ]
     },
     "execution_count": 24,
     "metadata": {},
     "output_type": "execute_result"
    }
   ],
   "source": [
    "# Update the 'companyName' field in all documents of the 'coll_pwskills' collection in the 'pwskills' database\n",
    "# where the value of the 'companyName' key is equal to 'iNeuron'.\n",
    "# The `update_many()` method with the filter parameter {'companyName': 'iNeuron'} and the update parameter\n",
    "# {\"$set\" : {'companyName': 'pwskills'}} will update all matching documents by setting the 'companyName' to 'pwskills'.\n",
    "coll_pwskills.update_many({'companyName': 'iNeuron'} , {\"$set\" : {'companyName': 'pwskills'}})"
   ]
  },
  {
   "cell_type": "code",
   "execution_count": 25,
   "id": "363d9d77",
   "metadata": {},
   "outputs": [
    {
     "name": "stdout",
     "output_type": "stream",
     "text": [
      "{'_id': ObjectId('64c67c5221a638145e8d2391'), 'name': 'sudh', 'class': 'data science masters ', 'time': 'flexi'}\n",
      "{'_id': ObjectId('64c67c6321a638145e8d2392'), 'mail_id': 'sudh@gmail.com', 'phone_number ': 2323424324, 'addr': 'bangalore'}\n",
      "{'_id': ObjectId('64c67c7321a638145e8d2393'), 'name': 'Amy', 'address': 'Apple st 652'}\n",
      "{'_id': ObjectId('64c67c7321a638145e8d2394'), 'name': 'Hannah', 'address': 'Mountain 21'}\n",
      "{'_id': ObjectId('64c67c7321a638145e8d2395'), 'name': 'Michael', 'address': 'Valley 345'}\n",
      "{'_id': ObjectId('64c67c7321a638145e8d2396'), 'name': 'Sandy', 'address': 'Ocean blvd 2'}\n",
      "{'_id': ObjectId('64c67c7321a638145e8d2397'), 'name': 'Betty', 'address': 'Green Grass 1'}\n",
      "{'_id': ObjectId('64c67c7321a638145e8d2398'), 'name': 'Richard', 'address': 'Sky st 331'}\n",
      "{'_id': ObjectId('64c67c7321a638145e8d2399'), 'name': 'Susan', 'address': 'One way 98'}\n",
      "{'_id': ObjectId('64c67c7321a638145e8d239a'), 'name': 'Vicky', 'address': 'Yellow Garden 2'}\n",
      "{'_id': ObjectId('64c67c7321a638145e8d239b'), 'name': 'Ben', 'address': 'Park Lane 38'}\n",
      "{'_id': ObjectId('64c67c7321a638145e8d239c'), 'name': 'William', 'address': 'Central st 954'}\n",
      "{'_id': ObjectId('64c67c7321a638145e8d239d'), 'name': 'Chuck', 'address': 'Main Road 989'}\n",
      "{'_id': ObjectId('64c67c7321a638145e8d239e'), 'name': 'Viola', 'address': 'Sideway 1633'}\n",
      "{'_id': ObjectId('64c67c7f21a638145e8d239f'), 'name': 'notebook', 'qty': 50, 'rating': [{'score': 8}, {'score': 9}], 'size': {'height': 11, 'width': 8.5, 'unit': 'in'}, 'status': 'A', 'tags': ['college-ruled', 'perforated']}\n",
      "{'_id': ObjectId('64c67c8e21a638145e8d23a0'), 'companyName': 'pwskills', 'product': 'Affordable AI', 'courseOffered': 'Machine Learning with Deployment'}\n",
      "{'_id': ObjectId('64c67c8e21a638145e8d23a1'), 'companyName': 'pwskills', 'product': 'Affordable AI', 'courseOffered': 'Deep Learning for NLP and Computer vision'}\n",
      "{'_id': ObjectId('64c67c8e21a638145e8d23a2'), 'companyName': 'pwskills', 'product': 'Master Program', 'courseOffered': 'Data Science Masters Program'}\n",
      "{'_id': '3', 'companyName': 'pwskills', 'Faculty': 'XYZ'}\n",
      "{'_id': '4', 'companyName': 'pwskills', 'Faculty': 'ABC'}\n",
      "{'_id': '5', 'companyName': 'pwskills', 'Faculty': 'PQR'}\n"
     ]
    }
   ],
   "source": [
    "# Loop through all documents in the 'coll_pwskills' collection of the 'pwskills' database\n",
    "# and retrieve each document\n",
    "# The `find()` method with an empty query parameter returns all documents in the colle\n",
    "for i in  coll_pwskills.find():\n",
    "    print(i)"
   ]
  },
  {
   "cell_type": "code",
   "execution_count": null,
   "id": "141ae98d",
   "metadata": {},
   "outputs": [],
   "source": []
  },
  {
   "cell_type": "markdown",
   "id": "525051c3",
   "metadata": {},
   "source": [
    "## Web API Assignment"
   ]
  },
  {
   "cell_type": "markdown",
   "id": "ec99ac42",
   "metadata": {},
   "source": [
    "**Q1. What is an API? Give an example, where an API is used in real life.**"
   ]
  },
  {
   "cell_type": "markdown",
   "id": "9c92a00d",
   "metadata": {},
   "source": [
    "An `API (Application Programming Interface)` is a set of `rules` and `protocols` that allows different software applications to `communicate` with each other. It defines how different software components should `interact` and `exchange` data.\n",
    "\n",
    "One example of an `API `being used in real life is the `Google Maps API.` It provides a set of `functions` and `data` that developers can use to integrate `Google Maps` into their own applications. With the `Google Maps API`, developers can `retrieve map data`, `get directions`, and perform other `location-based` tasks within their own software."
   ]
  },
  {
   "cell_type": "markdown",
   "id": "46819483",
   "metadata": {},
   "source": [
    "**Q2. Give advantages and disadvantages of using API.**"
   ]
  },
  {
   "cell_type": "markdown",
   "id": "67441810",
   "metadata": {},
   "source": [
    "**Advantages of using APIs:**\n",
    "\n",
    "- `Reusability:` APIs allow developers to reuse existing code and functionalities, saving time and effort in development.\n",
    "- `Scalability:` APIs facilitate the scaling of applications by providing a standardized way to integrate new features and services.\n",
    "- `Efficiency:` APIs enable communication and data exchange between different systems or applications, streamlining processes and reducing manual work.\n",
    "- `Ecosystem integration:` APIs foster the creation of a larger ecosystem where different services and applications can interact and complement each other.\n",
    "- `Innovation:` APIs encourage innovation by allowing developers to build new applications and services on top of existing ones, leveraging their functionalities.\n",
    "\n",
    "**Disadvantages of using APIs:**\n",
    "\n",
    "- `Dependency:` When relying on external APIs, if the API becomes unavailable or undergoes changes, it can disrupt the functionality of the dependent application.\n",
    "- `Lack of control:` Developers have limited control over the functionality, performance, and security of the API, as it is maintained by a third party.\n",
    "- `Compatibility issues:` Different APIs may have varying protocols, data formats, or version dependencies, requiring additional effort for integration and maintenance.\n",
    "- `Security risks:` Integrating external APIs introduces potential security vulnerabilities, such as unauthorized access to data or injection attacks if proper security measures are not implemented.\n",
    "- `Performance concerns:` Depending on the design and implementation of the API, performance issues like latency or limited throughput can impact the responsiveness of the application."
   ]
  },
  {
   "cell_type": "markdown",
   "id": "0aae1229",
   "metadata": {},
   "source": [
    "**Q3. What is a Web API? Differentiate between API and Web API.**"
   ]
  },
  {
   "cell_type": "markdown",
   "id": "39cc8b5a",
   "metadata": {},
   "source": [
    "A `Web API`, or `Application Programming Interface`, is a set of `rules` and `protocols` that allows different software applications to `communicate` with each other over the `internet.` It enables one application to `access` and `interact` with the `functionalities` and `data` of another `application` or `service.`\n",
    "\n",
    "Here's a differentiation between `API` and `Web API:`\n",
    "\n",
    "**API (Application Programming Interface):**\n",
    "\n",
    "An `API` is a general term that encompasses different types of `interfaces` used for software development. It defines a set of `rules` and `protocols` that specify how different software components should `interact` with each other.\n",
    "`APIs` can be used for various purposes, including accessing `hardware features`, `operating system functions`, or `libraries` within an application.\n",
    "\n",
    "**Web API:**\n",
    "\n",
    "A `Web API` specifically refers to an `API` that is designed to be accessed over the `web` using standard `web protocols`, such as `HTTP.` `Web APIs` are typically used to enable `communication` and `data exchange` between `web-based applications` or services. They allow developers to `access` and `manipulate data` or perform specific operations on a `remote server` using `HTTP` requests. `Web API`s often use standardized data formats like `JSON` or `XML` for data exchange.\n",
    "\n",
    "In summary, while `API` is a `broader` term that encompasses various types of `interface`s, a `Web API` specifically refers to an `API` that is accessed over the `web` using `web protocols` like `HTTP.` It provides a standardized way for `web-based` applications to `communicate` and `exchange` data."
   ]
  },
  {
   "cell_type": "markdown",
   "id": "ed8ac327",
   "metadata": {},
   "source": [
    "**Q4. Explain REST and SOAP Architecture. Mention shortcomings of SOAP.**"
   ]
  },
  {
   "cell_type": "markdown",
   "id": "046a35b3",
   "metadata": {},
   "source": [
    "REST (Representational State Transfer) and SOAP (Simple Object Access Protocol) are architectural styles used in web services.\n",
    "\n",
    "**REST (Representational State Transfer):** REST is an architectural style that is based on a set of principles and constraints for designing networked applications. It is commonly used in web services development.\n",
    "\n",
    "`Key features of REST:`\n",
    "\n",
    "- REST is stateless, meaning each request from a client to a server contains all the necessary information to understand and process the request.\n",
    "- RESTful services use standard HTTP methods such as GET, POST, PUT, DELETE, etc., to perform operations on resources.\n",
    "- Resources in a RESTful architecture are identified by unique URIs (Uniform Resource Identifiers).\n",
    "- RESTful services often use JSON (JavaScript Object Notation) or XML (eXtensible Markup Language) as the data format for request and response payloads.\n",
    "\n",
    "**SOAP (Simple Object Access Protocol):** SOAP is a protocol that defines a set of rules for structuring messages between web services. It is based on XML and is primarily used in enterprise-level applications.\n",
    "\n",
    "`Key features of SOAP:`\n",
    "\n",
    "- SOAP provides a standardized way to exchange structured information between web services using XML.\n",
    "- SOAP messages are typically transported over protocols like HTTP, SMTP, or others.\n",
    "- SOAP supports more complex messaging patterns and features, such as security, transaction handling, and reliable messaging.\n",
    "\n",
    "`Shortcomings of SOAP:`\n",
    "\n",
    "- Complexity: SOAP is known for its complexity compared to REST. It requires a more extensive set of specifications and tooling.\n",
    "- Performance: SOAP messages are typically larger in size due to the XML-based structure, which can impact performance and consume more bandwidth.\n",
    "- Development and Maintenance: SOAP requires specific toolkits and libraries for implementation, which can increase development and maintenance efforts.\n",
    "- Platform Dependency: SOAP services may have platform-specific dependencies, making it more challenging to integrate different systems.\n",
    "\n",
    "In summary, `REST` is a `lightweight`, `stateless` architectural style commonly used in `web services`, while `SOAP` is a `protocol` that provides a more `complex` and `feature-rich messaging format.` `SOAP` has certain shortcomings such as `complexity`, `performance impact`, `development efforts`, and `platform dependencies.`"
   ]
  },
  {
   "cell_type": "markdown",
   "id": "b5fdfb70",
   "metadata": {},
   "source": [
    "**Q5. Differentiate between REST and SOAP**"
   ]
  },
  {
   "cell_type": "markdown",
   "id": "216a330b",
   "metadata": {},
   "source": [
    "The main differences between REST and SOAP are as follows:\n",
    "\n",
    "- `Architecture Style:` REST (Representational State Transfer) is an architectural style, while SOAP (Simple Object Access Protocol) is a protocol.\n",
    "\n",
    "- `Complexity:` REST is generally considered simpler and easier to understand compared to SOAP, which is known for its complexity. REST relies on standard HTTP methods for communication, while SOAP requires a more extensive set of specifications and tooling.\n",
    "\n",
    "- `Statelessness:` REST is stateless, meaning that each request from a client to a server contains all the necessary information to understand and process the request. SOAP, on the other hand, can maintain state between requests.\n",
    "\n",
    "- `Messaging Format:` RESTful services commonly use JSON (JavaScript Object Notation) or XML (eXtensible Markup Language) as the data format for request and response payloads. SOAP, on the other hand, uses XML exclusively for message structure.\n",
    "\n",
    "- `Transport Protocol:` RESTful services typically use standard HTTP protocols such as HTTP/HTTPS. SOAP messages can be transported over various protocols, including HTTP, SMTP, and others.\n",
    "\n",
    "- `Flexibility:` REST allows more flexibility in terms of data formats and provides support for multiple representations of resources. SOAP, on the other hand, is primarily XML-based and enforces a rigid message structure.\n",
    "\n",
    "- `Performance and Bandwidth:` REST generally performs better in terms of performance and bandwidth usage. RESTful messages are typically smaller in size compared to SOAP messages, which can be beneficial, especially in scenarios with limited network resources.\n",
    "\n",
    "- `Features:` SOAP supports more complex messaging patterns and features, such as security, transaction handling, and reliable messaging. REST, being a simpler architectural style, does not have built-in support for these features but can leverage other mechanisms for implementing them.\n",
    "\n",
    "- `Tooling and Development Efforts:` RESTful services can be implemented using standard HTTP libraries and frameworks, which are widely available. SOAP, on the other hand, requires specific toolkits and libraries for implementation, which can increase development and maintenance efforts.\n",
    "\n",
    "- `Platform Dependency:` SOAP services may have platform-specific dependencies, making it more challenging to integrate different systems. REST, being based on standard HTTP protocols, is generally more platform-independent.\n",
    "\n",
    "In summary, REST is a lightweight and simpler architectural style commonly used in web services, while SOAP is a more complex protocol with additional features. REST is stateless, uses standard HTTP methods, and supports flexible data formats. SOAP, on the other hand, is XML-based, supports more complex messaging patterns, and requires specific tooling for implementation. REST generally performs better in terms of performance and bandwidth usage and is more platform-independent compared to SOAP."
   ]
  },
  {
   "cell_type": "markdown",
   "id": "a47616f9",
   "metadata": {},
   "source": [
    "## Flask API"
   ]
  },
  {
   "cell_type": "code",
   "execution_count": 1,
   "id": "569c1f46",
   "metadata": {},
   "outputs": [
    {
     "name": "stdout",
     "output_type": "stream",
     "text": [
      "Requirement already satisfied: flask in c:\\users\\lenovo\\anaconda3\\lib\\site-packages (2.2.2)\n",
      "Requirement already satisfied: Werkzeug>=2.2.2 in c:\\users\\lenovo\\anaconda3\\lib\\site-packages (from flask) (2.2.3)\n",
      "Requirement already satisfied: Jinja2>=3.0 in c:\\users\\lenovo\\anaconda3\\lib\\site-packages (from flask) (3.1.2)\n",
      "Requirement already satisfied: itsdangerous>=2.0 in c:\\users\\lenovo\\anaconda3\\lib\\site-packages (from flask) (2.0.1)\n",
      "Requirement already satisfied: click>=8.0 in c:\\users\\lenovo\\anaconda3\\lib\\site-packages (from flask) (8.0.4)\n",
      "Requirement already satisfied: colorama in c:\\users\\lenovo\\anaconda3\\lib\\site-packages (from click>=8.0->flask) (0.4.6)\n",
      "Requirement already satisfied: MarkupSafe>=2.0 in c:\\users\\lenovo\\anaconda3\\lib\\site-packages (from Jinja2>=3.0->flask) (2.1.1)\n"
     ]
    }
   ],
   "source": [
    "!pip install flask"
   ]
  },
  {
   "cell_type": "code",
   "execution_count": 2,
   "id": "473a2d04",
   "metadata": {},
   "outputs": [
    {
     "name": "stdout",
     "output_type": "stream",
     "text": [
      " * Serving Flask app '__main__'\n",
      " * Debug mode: off\n"
     ]
    },
    {
     "name": "stderr",
     "output_type": "stream",
     "text": [
      "WARNING: This is a development server. Do not use it in a production deployment. Use a production WSGI server instead.\n",
      " * Running on all addresses (0.0.0.0)\n",
      " * Running on http://127.0.0.1:5000\n",
      " * Running on http://192.168.1.2:5000\n",
      "Press CTRL+C to quit\n",
      "127.0.0.1 - - [30/Jul/2023 23:30:23] \"GET / HTTP/1.1\" 200 -\n",
      "127.0.0.1 - - [30/Jul/2023 23:30:23] \"GET /favicon.ico HTTP/1.1\" 404 -\n",
      "192.168.1.2 - - [30/Jul/2023 23:30:28] \"GET / HTTP/1.1\" 200 -\n",
      "192.168.1.2 - - [30/Jul/2023 23:30:28] \"GET /favicon.ico HTTP/1.1\" 404 -\n",
      "192.168.1.2 - - [30/Jul/2023 23:30:49] \"GET / HTTP/1.1\" 200 -\n",
      "127.0.0.1 - - [30/Jul/2023 23:30:53] \"GET / HTTP/1.1\" 200 -\n",
      "127.0.0.1 - - [30/Jul/2023 23:31:17] \"GET /test HTTP/1.1\" 200 -\n",
      "127.0.0.1 - - [30/Jul/2023 23:31:27] \"GET /test2/test2 HTTP/1.1\" 200 -\n"
     ]
    }
   ],
   "source": [
    "# A simple flask based app to show multiple web pages\n",
    "from flask import Flask, request\n",
    "\n",
    "# Create a Flask web application\n",
    "app = Flask(__name__)\n",
    "\n",
    "# Route for the default home page\n",
    "@app.route(\"/\")\n",
    "def hello_world():\n",
    "    return \"<h1>Hello, World!</h1>\"\n",
    "\n",
    "# Route for the /hello_world1 endpoint\n",
    "@app.route(\"/hello_world1\")\n",
    "def hello_world1():\n",
    "    return \"<h1>Hello, World!1</h1>\"\n",
    "\n",
    "# Route for the /hello_world2 endpoint\n",
    "@app.route(\"/hello_world2\")\n",
    "def hello_world2():\n",
    "    return \"<h1>Hello, World!2</h1>\"\n",
    "\n",
    "# Route for the /test endpoint\n",
    "@app.route(\"/test\")\n",
    "def test():\n",
    "    a = 5 + 6 \n",
    "    return \"This is my function to run app {}\".format(a)\n",
    "\n",
    "# Route for the /test2/test2 endpoint\n",
    "@app.route(\"/test2/test2\")\n",
    "def test2():\n",
    "    data = request.args.get('x')\n",
    "    return \"This is a data input from my URL: {}\".format(data)\n",
    "\n",
    "# Run the Flask app when this script is executed directly\n",
    "if __name__ == \"__main__\":\n",
    "    app.run(host=\"0.0.0.0\")\n"
   ]
  },
  {
   "cell_type": "markdown",
   "id": "375cb243",
   "metadata": {},
   "source": [
    "Now, it is time to create a `Flask API` based project. Now we can use `vscode` to create a project folder with name `flask_app_a-main`. Now create a file `app.py` and insert the below code inside it:\n",
    "\n",
    "```python\n",
    "from flask import Flask, request, render_template, jsonify\n",
    "\n",
    "app = Flask(__name__)\n",
    "\n",
    "# Route for the home page (index.html)\n",
    "@app.route('/')\n",
    "def home_page():\n",
    "    return render_template('index.html')\n",
    "\n",
    "# Route for performing math operations based on form data (POST method)\n",
    "@app.route('/math', methods=['POST'])\n",
    "def math_ops():\n",
    "    if request.method == 'POST':\n",
    "        ops = request.form['operation']\n",
    "        num1 = int(request.form['num1'])\n",
    "        num2 = int(request.form['num2'])\n",
    "        \n",
    "        if ops == 'add':\n",
    "            r = num1 + num2\n",
    "            result = \"The sum of \" + str(num1) + ' and ' + str(num2) + \" is \" + str(r)\n",
    "        elif ops == 'subtract':\n",
    "            r = num1 - num2\n",
    "            result = \"The difference of \" + str(num1) + ' and ' + str(num2) + \" is \" + str(r)\n",
    "        elif ops == 'multiply':\n",
    "            r = num1 * num2\n",
    "            result = \"The product of \" + str(num1) + ' and ' + str(num2) + \" is \" + str(r)\n",
    "        elif ops == 'divide':\n",
    "            r = num1 / num2\n",
    "            result = \"The division of \" + str(num1) + ' and ' + str(num2) + \" is \" + str(r)\n",
    "        else:\n",
    "            result = \"Invalid operation\"\n",
    "\n",
    "        return render_template('results.html', result=result)\n",
    "\n",
    "\n",
    "# Route for performing math operations based on JSON data (POST method)\n",
    "@app.route('/postman_action', methods=['POST'])\n",
    "def math_ops1():\n",
    "    if request.method == 'POST':\n",
    "        ops = request.json['operation']\n",
    "        num1 = int(request.json['num1'])\n",
    "        num2 = int(request.json['num2'])\n",
    "        \n",
    "        if ops == 'add':\n",
    "            r = num1 + num2\n",
    "            result = \"The sum of \" + str(num1) + ' and ' + str(num2) + \" is \" + str(r)\n",
    "        elif ops == 'subtract':\n",
    "            r = num1 - num2\n",
    "            result = \"The difference of \" + str(num1) + ' and ' + str(num2) + \" is \" + str(r)\n",
    "        elif ops == 'multiply':\n",
    "            r = num1 * num2\n",
    "            result = \"The product of \" + str(num1) + ' and ' + str(num2) + \" is \" + str(r)\n",
    "        elif ops == 'divide':\n",
    "            r = num1 / num2\n",
    "            result = \"The division of \" + str(num1) + ' and ' + str(num2) + \" is \" + str(r)\n",
    "        else:\n",
    "            result = \"Invalid operation\"\n",
    "\n",
    "        return jsonify(result)\n",
    "\n",
    "\n",
    "if __name__ == \"__main__\":\n",
    "    app.run(host=\"0.0.0.0\")\n",
    "```"
   ]
  },
  {
   "cell_type": "markdown",
   "id": "ca3bb691",
   "metadata": {},
   "source": [
    "This `Flask API` project is designed to perform `math` operations based on user input, which can be either in the form of form `data` or `JSON` data.\n",
    "\n",
    "#### Importing necessary modules: \n",
    "- The code begins by importing the required modules from the `Flask` library `Flask`, `request`, `render_template`, and `jsonify.`\n",
    "\n",
    "#### Creating a Flask web application: \n",
    "- The `Flask` object is created and assigned to the variable app. This will be our web application.\n",
    "#### Defining routes for different endpoints: \n",
    "- The code defines various routes for different endpoints using the `@app.route() decorator.`\n",
    "- The '/' route is mapped to the `home_page()` function, which renders the `index.html` template. This will be the home page of the web application.\n",
    "- The '/math' route is mapped to the `math_ops()` function, which handles `math` operations based on `form data` submitted via the `POST` method.\n",
    "- The '/postman_action' route is mapped to the `math_ops1()` function, which handles math operations based on `JSON` data submitted via the `POST` method.\n",
    "\n",
    "#### Performing `math` operations based on `form data (POST method)`:\n",
    "- Inside the `math_ops()` function, the code first checks if the `request` method is `POST (to ensure the form is submitted).`\n",
    "- It then retrieves the operation type `('add', 'subtract', 'multiply', 'divide')` and the two numbers `(num1 and num2)` from the submitted form data.\n",
    "- The code then performs the corresponding `math operation` based on the operation type and generates the `result message` accordingly.\n",
    "- The `result` message is rendered using the `results.html` template, and the `result` is passed as a parameter.\n",
    "\n",
    "#### Performing `math` operations based on `JSON data (POST method):` \n",
    "- Inside the `math_ops1()` function, the code checks if the `request` method is `POST (to ensure JSON data is sent).`\n",
    "- It retrieves the operation type `('add', 'subtract', 'multiply', 'divide')` and the two numbers `(num1 and num2)` from the submitted `JSON` data.\n",
    "- The code then performs the corresponding `math` operation based on the operation type and generates the `result` message accordingly.\n",
    "- The result message is returned as a `JSON` response using the `jsonify()` function.\n",
    "\n",
    "#### Running the Flask app:\n",
    "- Finally, the script checks if it's being executed directly and runs the Flask app with `app.run()` on the host `0.0.0.0`, which means it will be accessible from any `network interface.`\n",
    "- The `STDOUT` and Result of `focal cell` sections are `empty`, so there is no specific output to display at the moment. However, when you run this `Flask API`, you can interact with it by submitting form data to the `/math` endpoint or sending `JSON` data to the `/postman_action` endpoint, and the server will respond with the `results` of the `math` operations."
   ]
  },
  {
   "cell_type": "markdown",
   "id": "2ead78a0",
   "metadata": {},
   "source": [
    "Now create a folder named `static` and then create a folder with name `css` inside `static` folder. Then, create two files like `main.css` and `style.css` inside the `css` folder. The code of those files are :\n",
    "\n",
    "This code snippet contains CSS styles for the Flask API project's front-end, defining the visual appearance of the web application. It's responsible for styling the HTML elements to provide a visually pleasing user interface.\n",
    "\n",
    "The CSS code is divided into two separate files, main.css and style.css. Let's go through the styles in each file:"
   ]
  },
  {
   "cell_type": "markdown",
   "id": "d2156d89",
   "metadata": {},
   "source": [
    "\n",
    "**main.css**\n",
    "```css\n",
    "/* CSS code for styling the page */\n",
    "\n",
    "/* Set margin and font-family for body and html elements */\n",
    "body, html {\n",
    "    margin: 0;\n",
    "    font-family: sans-serif;\n",
    "}\n",
    "\n",
    "/* Set margin and width for elements with the class \"content\" */\n",
    ".content {\n",
    "    margin: 0 auto; /* Center the element horizontally */\n",
    "    width: 400px;   /* Set the width to 400 pixels */\n",
    "}\n",
    "\n",
    "/* Apply border to table, table cells (td), and table header cells (th) */\n",
    "table, td, th {\n",
    "    border: 1px solid #aaa; /* Set a 1-pixel solid border with color #aaa */\n",
    "}\n",
    "\n",
    "/* Set border-collapse and width for tables */\n",
    "table {\n",
    "    border-collapse: collapse; /* Collapse table borders into a single border */\n",
    "    width: 100%;               /* Set the table width to 100% of its container */\n",
    "}\n",
    "\n",
    "/* Set height for table header cells (th) */\n",
    "th {\n",
    "    height: 30px; /* Set the height of table header cells to 30 pixels */\n",
    "}\n",
    "\n",
    "/* Center text and add padding to table cells (td) */\n",
    "td {\n",
    "    text-align: center; /* Center the text inside table cells */\n",
    "    padding: 5px;       /* Add 5 pixels of padding around the cell content */\n",
    "}\n",
    "\n",
    "/* Apply margin to elements with the class \"form\" */\n",
    ".form {\n",
    "    margin-top: 20px; /* Add a top margin of 20 pixels */\n",
    "}\n",
    "\n",
    "/* Set width for the element with the ID \"content\" */\n",
    "#content {\n",
    "    width: 70%; /* Set the width to 70% of its container */\n",
    "}\n",
    "```"
   ]
  },
  {
   "cell_type": "markdown",
   "id": "1705d4f8",
   "metadata": {},
   "source": [
    "**style.css**\n",
    "```css\n",
    "/* CSS code to style a table and its content */\n",
    "\n",
    "/* Set the background color for the entire page */\n",
    "body {\n",
    "  background-color: #d3db3e;\n",
    "}\n",
    "\n",
    "/* Make sure all elements within the body box model includes padding and border in their total width and height */\n",
    "body * {\n",
    "  box-sizing: border-box;\n",
    "}\n",
    "\n",
    "/* Style for the header section of the table */\n",
    ".header {\n",
    "  background-color: #327a81; /* Header background color */\n",
    "  color: white; /* Header text color */\n",
    "  font-size: 1.5em; /* Header font size */\n",
    "  padding: 1rem; /* Padding around the header content */\n",
    "  text-align: center; /* Center align the header content */\n",
    "  text-transform: uppercase; /* Convert header text to uppercase */\n",
    "}\n",
    "\n",
    "/* Style for the images in the table */\n",
    "img {\n",
    "  border-radius: 50%; /* Rounded border for the image, making it circular */\n",
    "  height: 60px; /* Height of the image */\n",
    "  width: 60px; /* Width of the image */\n",
    "}\n",
    "\n",
    "/* Style for the table that contains user information */\n",
    ".table-users {\n",
    "  border: 1px solid #327a81; /* Table border color */\n",
    "  border-radius: 10px; /* Rounded border for the table */\n",
    "  box-shadow: 3px 3px 0 rgba(0, 0, 0, 0.1); /* Add a subtle shadow effect */\n",
    "  max-width: calc(100% - 2em); /* Set maximum width for the table, adjusted for padding */\n",
    "  margin: 1em auto; /* Center the table on the page */\n",
    "  overflow: hidden; /* Hide any overflowing content */\n",
    "  width: 800px; /* Fixed width for the table */\n",
    "}\n",
    "\n",
    "/* Set the width of the table to 100% */\n",
    "table {\n",
    "  width: 100%;\n",
    "}\n",
    "\n",
    "/* Style for the table cells and headers */\n",
    "table td,\n",
    "table th {\n",
    "  color: #2b686e; /* Text color for cells and headers */\n",
    "  padding: 10px; /* Padding inside each cell */\n",
    "}\n",
    "\n",
    "/* Style for the table cells */\n",
    "table td {\n",
    "  text-align: center; /* Center align the cell content */\n",
    "  vertical-align: middle; /* Center align the cell content vertically */\n",
    "}\n",
    "\n",
    "/* Style for the last cell in each row */\n",
    "table td:last-child {\n",
    "  font-size: 0.95em; /* Font size for the last cell */\n",
    "  line-height: 1.4; /* Line height for the last cell */\n",
    "  text-align: left; /* Left align the content in the last cell */\n",
    "}\n",
    "\n",
    "/* Style for the table headers */\n",
    "table th {\n",
    "  background-color: #daeff1; /* Header background color */\n",
    "  font-weight: 300; /* Header font weight */\n",
    "}\n",
    "\n",
    "/* Style every other row in the table with a different background color */\n",
    "table tr:nth-child(2n) {\n",
    "  background-color: white; /* Background color for even rows */\n",
    "}\n",
    "\n",
    "/* Style every odd row in the table with a different background color */\n",
    "table tr:nth-child(2n+1) {\n",
    "  background-color: #edf7f8; /* Background color for odd rows */\n",
    "}\n",
    "\n",
    "/* Media query for screen width less than 700px */\n",
    "@media screen and (max-width: 700px) {\n",
    "  /* Make the table, table rows, and table cells display as blocks, stacking them vertically */\n",
    "  table,\n",
    "  tr,\n",
    "  td {\n",
    "    display: block;\n",
    "  }\n",
    "\n",
    "  /* Style for the first cell in each row */\n",
    "  td:first-child {\n",
    "    position: absolute; /* Position the first cell absolutely */\n",
    "    top: 50%; /* Align the first cell to the vertical center */\n",
    "    -webkit-transform: translateY(-50%); /* Translate vertically to center */\n",
    "    transform: translateY(-50%); /* Translate vertically to center */\n",
    "    width: 100px; /* Fixed width for the first cell */\n",
    "  }\n",
    "\n",
    "  /* Style for cells other than the first cell */\n",
    "  td:not(:first-child) {\n",
    "    clear: both; /* Clear the float */\n",
    "    margin-left: 100px; /* Set left margin to align with the first cell */\n",
    "    padding: 4px 20px 4px 90px; /* Padding for the cells */\n",
    "    position: relative; /* Position cells relatively */\n",
    "    text-align: left; /* Left align the content in the cells */\n",
    "  }\n",
    "\n",
    "  /* Add a colored bullet before the content in each cell */\n",
    "  td:not(:first-child):before {\n",
    "    color: #91ced4; /* Color for the bullet */\n",
    "    content: ''; /* Empty content */\n",
    "    display: block; /* Display as a block element */\n",
    "    left: 0; /* Position the bullet to the left of the cell content */\n",
    "    position: absolute; /* Position the bullet absolutely */\n",
    "  }\n",
    "\n",
    "  /* Add labels before the content in specific cells */\n",
    "  td:nth-child(2):before {\n",
    "    content: 'Name:'; /* Label for the second cell */\n",
    "  }\n",
    "  td:nth-child(3):before {\n",
    "    content: 'Email:'; /* Label for the third cell */\n",
    "  }\n",
    "  td:nth-child(4):before {\n",
    "    content: 'Phone:'; /* Label for the fourth cell */\n",
    "  }\n",
    "  td:nth-child(5):before {\n",
    "    content: 'Comments:'; /* Label for the fifth cell */\n",
    "  }\n",
    "\n",
    "  /* Style for the table rows */\n",
    "  tr {\n",
    "    padding: 10px 0; /* Padding for the rows */\n",
    "    position: relative; /* Position rows relatively */\n",
    "  }\n",
    "\n",
    "  /* Hide the first row of the table */\n",
    "  tr:first-child {\n",
    "    display: none;\n",
    "  }\n",
    "}\n",
    "\n",
    "/* Media query for screen width less than 500px */\n",
    "@media screen and (max-width: 500px) {\n",
    "  /* Adjust the styles for the first cell in each row */\n",
    "  td:first-child {\n",
    "    width: 100%; /* Full width for the first cell */\n",
    "  }\n",
    "\n",
    "  /* Adjust the styles for cells other than the first cell */\n",
    "  td:not(:first-child) {\n",
    "    margin: 0; /* Remove margins */\n",
    "    padding: 5px 1em; /* Padding for the cells */\n",
    "    width: 100%; /* Full width for cells */\n",
    "  }\n",
    "\n",
    "  /* Adjust the styles for labels before the content in cells */\n",
    "  td:not(:first-child):before {\n",
    "    font-size: .8em; /* Font size for the labels */\n",
    "    padding-top: 0.3em; /* Padding above the labels */\n",
    "    position: relative; /* Position labels relatively */\n",
    "  }\n",
    "\n",
    "  /* Adjust the styles for the last cell in each row */\n",
    "  td:last-child {\n",
    "    padding-bottom: 1rem !important; /* Add extra padding to the last cell */\n",
    "  }\n",
    "\n",
    "  /* Adjust the styles for table rows */\n",
    "  tr {\n",
    "    background-color: white !important; /* Background color for the rows */\n",
    "    border: 1px solid #6cbec6; /* Add a border to the rows */\n",
    "    border-radius: 10px; /* Rounded border for the rows */\n",
    "    box-shadow: 2px 2px 0 rgba(0, 0, 0, 0.1); /* Add a subtle shadow effect */\n",
    "    margin: 0.5rem 0; /* Margin above and below the rows */\n",
    "    padding: 0; /* Remove padding for the rows */\n",
    "  }\n",
    "\n",
    "  /* Remove the border and shadow for the table */\n",
    "  .table-users {\n",
    "    border: none;\n",
    "    box-shadow: none;\n",
    "    overflow: visible; /* Make any overflowing content visible */\n",
    "  }\n",
    "}\n",
    "```"
   ]
  },
  {
   "cell_type": "markdown",
   "id": "01a69da7",
   "metadata": {},
   "source": [
    "Additionally, there are media queries in both `main.css` and `style.css.` These media queries apply specific styles when the `screen size` is less than `700` pixels or `500` pixels wide, respectively. These styles are designed to make the website more responsive on `smaller screens`, such as `mobile devices`, by reformatting the table layout.\n",
    "\n",
    "That's it! These CSS styles will be used to style the `Flask API's` web pages, providing a visually appealing and user-friendly interface for the `math` operations application."
   ]
  },
  {
   "cell_type": "markdown",
   "id": "48dbd81a",
   "metadata": {},
   "source": [
    "Now create a folder named `templates` and create two files named `index.html` , `results.html` inside it:\n",
    "\n",
    "**index.html**\n",
    "```html\n",
    "<!-- This is a template code for a web page that represents a simple calculator application. The code uses HTML and Jinja2 templating language to create dynamic content. Let's go through each line with comments to understand it clearly. -->\n",
    "\n",
    "<!-- The \"head\" block contains metadata for the web page. It's typically used to include CSS, JavaScript, and other resources. -->\n",
    "{% block head %}\n",
    "\n",
    "<!-- The <title> tag sets the title of the web page, which appears in the browser's title bar or tab. In this case, the title is \"Calculator\". -->\n",
    "<title>Calculator</title>\n",
    "\n",
    "<!-- The <link> tag is used to link external resources, such as stylesheets (CSS) or fonts. In this code, the \"href\" attribute is left empty, which means there is no CSS linked. -->\n",
    "<link rel=\"stylesheet\" href=\"{{ url_for('static', filename='css/style.css') }}\">\n",
    "\n",
    "<!-- This tag indicates the end of the \"head\" block. Everything between the \"block head\" and \"endblock\" will be included in the head section of the rendered page. -->\n",
    "{% endblock %}\n",
    "\n",
    "<!-- The \"body\" block contains the main content of the web page. This is where the calculator form will be created. -->\n",
    "{% block body %}\n",
    "\n",
    "<!-- The <div> element with the \"content\" class is used to group elements together. It represents a container for the calculator content. -->\n",
    "<div class=\"content\">\n",
    "\n",
    "    <!-- The <h1> tag defines a top-level heading. It sets the text \"Calculator\" and aligns it to the center using the \"style\" attribute. -->\n",
    "    <h1 style=\"text-align: center\">Calculator</h1>\n",
    "\n",
    "    <!-- The <div> element with the \"form\" class is used to create a container for the calculator form. -->\n",
    "    <div class=\"form\">\n",
    "\n",
    "        <!-- The <form> tag is used to create an HTML form. The \"action\" attribute specifies the URL where the form data will be sent when the user submits it, and the \"method\" attribute sets the HTTP method to POST. -->\n",
    "        <form action=\"/math\" method=\"POST\">\n",
    "\n",
    "            <!-- The <label> tag defines a label for an input element. The \"for\" attribute should match the \"id\" of the related input element. It provides a user-friendly description of what the user should input. -->\n",
    "            <label for=\"operation\">Choose a Mathematical Operation</label>\n",
    "\n",
    "<!-- The <select> tag creates a dropdown (select) menu. The \"id\" attribute is set to \"operation\", and the \"name\" attribute is set to \"operation\". When the user selects an option, its value will be sent as part of the form data. -->\n",
    "<select id=\"operation\" name=\"operation\">\n",
    "\n",
    "    <!-- The <option> tags define individual options in the dropdown menu. The \"value\" attribute specifies the value of the option, which will be sent as part of the form data when selected. The text between the <option> tags is what the user will see in the dropdown. -->\n",
    "    <option value=\"add\">add</option>\n",
    "    <option value=\"subtract\">subtract</option>\n",
    "    <option value=\"multiply\">multiply</option>\n",
    "    <option value=\"divide\">divide</option>\n",
    "    <option value=\"log\">log</option>\n",
    "</select>\n",
    "\n",
    "            <!-- The <input> tag creates an input field for the first number. The \"type\" attribute is set to \"text\", and the \"name\" attribute is set to \"num1\". The \"id\" attribute is set to \"num1\", which associates the label \"for\" attribute with this input field. -->\n",
    "            <input type=\"text\" name=\"num1\" id=\"num1\">\n",
    "\n",
    "            <!-- Another <input> tag for the second number input field. The \"name\" attribute is set to \"num2\", and the \"id\" attribute is set to \"num2\". -->\n",
    "            <input type=\"text\" name=\"num2\" id=\"num2\">\n",
    "\n",
    "            <!-- The final <input> tag creates a submit button. When the user clicks this button, the form data will be submitted to the URL specified in the \"action\" attribute. The \"value\" attribute sets the text displayed on the button, which is \"Calculate\" in this case. -->\n",
    "            <input type=\"submit\" value=\"Calculate\">\n",
    "        </form>\n",
    "    </div>\n",
    "</div>\n",
    "\n",
    "<!-- The tag indicates the end of the \"body\" block. Everything between the \"block body\" and \"endblock\" will be included in the body section of the rendered page. -->\n",
    "{% endblock %}\n",
    "```"
   ]
  },
  {
   "cell_type": "markdown",
   "id": "4bf1c645",
   "metadata": {},
   "source": [
    "**results.html**\n",
    "```html\n",
    "<!DOCTYPE html>\n",
    "<html lang=\"en\" >\n",
    "\n",
    "<head>\n",
    "  <!-- The \"head\" section of the HTML page -->\n",
    "  <meta charset=\"UTF-8\"><!-- Declares the character encoding for the document as UTF-8 -->\n",
    "  <title>Review Page</title><!-- Sets the title of the HTML page shown in the browser tab -->\n",
    "    <link rel=\"stylesheet\" href=\"https://cdnjs.cloudflare.com/ajax/libs/normalize/5.0.0/normalize.min.css\"><!-- Links to the Normalize.css file, which helps in normalizing styles across different browsers -->\n",
    "      <link rel=\"stylesheet\" href=\"./style.css\"><!-- Links to the \"style.css\" file in the same directory to apply additional custom styles -->\n",
    "    <link rel=\"stylesheet\" href=\"{{ url_for('static', filename='css/style.css') }}\"><!-- This link does not have a valid value, so it won't load any additional stylesheet -->\n",
    "</head>\n",
    "<body>\n",
    "  <!-- The \"body\" section of the HTML page -->\n",
    "  <div class=\"table-users\"><!-- A container div for the table -->\n",
    "   <div class=\"header\">Calculation Result</div><!-- A div element with the class \"header\" containing the text \"Calculation Result\" -->\n",
    "   <!-- The table contents will be added here, but it's currently empty -->\n",
    "      {{result}}\n",
    "</div>\n",
    "</body>\n",
    "</html>\n",
    "```"
   ]
  },
  {
   "cell_type": "markdown",
   "id": "25f7c973",
   "metadata": {},
   "source": [
    "Now create a `readme.md` file and copy the below code inside it:\n",
    "\n",
    "```md\n",
    "# lab-flask\n",
    "\n",
    "To run flask application \n",
    "\n",
    "```\n",
    "python app.py\n",
    "```\n",
    "\n",
    "To access your flask application open new tab in and paste the url:\n",
    "```\n",
    "https://{your_url}.pwskills.app:5000/\n",
    "```\n",
    "```"
   ]
  },
  {
   "cell_type": "markdown",
   "id": "381d29e6",
   "metadata": {},
   "source": [
    "Now create a file with name `requirements.txt` and write inside it:\n",
    "    \n",
    "`Flask`\n",
    "\n",
    "Before running the project please execute this to install all the additional packages required to execute this project using a single command:\n",
    "\n",
    "`pip install -r requirements.txt`"
   ]
  },
  {
   "cell_type": "code",
   "execution_count": null,
   "id": "8f39872e",
   "metadata": {},
   "outputs": [],
   "source": []
  }
 ],
 "metadata": {
  "kernelspec": {
   "display_name": "Python 3 (ipykernel)",
   "language": "python",
   "name": "python3"
  },
  "language_info": {
   "codemirror_mode": {
    "name": "ipython",
    "version": 3
   },
   "file_extension": ".py",
   "mimetype": "text/x-python",
   "name": "python",
   "nbconvert_exporter": "python",
   "pygments_lexer": "ipython3",
   "version": "3.11.3"
  },
  "toc": {
   "base_numbering": 1,
   "nav_menu": {},
   "number_sections": true,
   "sideBar": true,
   "skip_h1_title": false,
   "title_cell": "Table of Contents",
   "title_sidebar": "Contents",
   "toc_cell": false,
   "toc_position": {},
   "toc_section_display": true,
   "toc_window_display": false
  }
 },
 "nbformat": 4,
 "nbformat_minor": 5
}
